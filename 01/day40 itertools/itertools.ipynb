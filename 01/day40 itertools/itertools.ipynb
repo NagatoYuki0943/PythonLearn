{
 "cells": [
  {
   "cell_type": "code",
   "execution_count": 33,
   "metadata": {},
   "outputs": [],
   "source": [
    "from itertools import count, cycle, repeat, product, permutations, combinations, combinations_with_replacement, chain, groupby, accumulate"
   ]
  },
  {
   "cell_type": "markdown",
   "metadata": {},
   "source": [
    "https://zhuanlan.zhihu.com/p/51003123"
   ]
  },
  {
   "attachments": {},
   "cell_type": "markdown",
   "metadata": {},
   "source": [
    "# 无限迭代器（Infinite Iterators）"
   ]
  },
  {
   "cell_type": "markdown",
   "metadata": {},
   "source": [
    "## count([start=0, step=1]) 接收两个可选整形参数，第一个指定了迭代开始的值，第二个指定了迭代的步长。此外，start参数默认为0，step参数默认为1，可以根据需要来把这两个指定为其它值，或者使用默认参数"
   ]
  },
  {
   "cell_type": "code",
   "execution_count": 37,
   "metadata": {},
   "outputs": [
    {
     "name": "stdout",
     "output_type": "stream",
     "text": [
      "10\n",
      "12\n",
      "14\n",
      "16\n",
      "18\n",
      "20\n"
     ]
    }
   ],
   "source": [
    "for i in count(10, 2):\n",
    "    if i > 20:\n",
    "        break\n",
    "    print(i)"
   ]
  },
  {
   "cell_type": "markdown",
   "metadata": {},
   "source": [
    "## cycle(iterable) 是用一个可迭代对象中的元素来创建一个迭代器，并且复制自己的值，一直无限的重复下去"
   ]
  },
  {
   "cell_type": "code",
   "execution_count": null,
   "metadata": {},
   "outputs": [],
   "source": [
    "for i in cycle(\"abcd\"):\n",
    "    print(i)    # 具有无限的输出，可以按ctrl+c来停止。"
   ]
  },
  {
   "attachments": {},
   "cell_type": "markdown",
   "metadata": {},
   "source": [
    "## repeat(elem [,n])是将一个元素重复n遍或者无穷多遍，并返回一个迭代器"
   ]
  },
  {
   "cell_type": "code",
   "execution_count": 8,
   "metadata": {},
   "outputs": [
    {
     "name": "stdout",
     "output_type": "stream",
     "text": [
      "0\n",
      "0\n",
      "0\n",
      "0\n",
      "0\n",
      "0\n",
      "0\n",
      "0\n",
      "0\n",
      "0\n"
     ]
    }
   ],
   "source": [
    "for i in repeat(0, 10):\n",
    "    print(i)"
   ]
  },
  {
   "cell_type": "code",
   "execution_count": 9,
   "metadata": {},
   "outputs": [
    {
     "name": "stdout",
     "output_type": "stream",
     "text": [
      "x\n",
      "x\n",
      "x\n",
      "x\n",
      "x\n",
      "x\n",
      "x\n",
      "x\n",
      "x\n",
      "x\n"
     ]
    }
   ],
   "source": [
    "for i in repeat(\"x\", 10):\n",
    "    print(i)"
   ]
  },
  {
   "cell_type": "markdown",
   "metadata": {},
   "source": [
    "# 组合迭代器（Combinatoric Iterators）"
   ]
  },
  {
   "attachments": {},
   "cell_type": "markdown",
   "metadata": {},
   "source": [
    "## product(*iterables, repeat=1) 得到的是可迭代对象的笛卡儿积"
   ]
  },
  {
   "cell_type": "code",
   "execution_count": 4,
   "metadata": {},
   "outputs": [
    {
     "name": "stdout",
     "output_type": "stream",
     "text": [
      "(0, 'a')\n",
      "(0, 'b')\n",
      "(1, 'a')\n",
      "(1, 'b')\n"
     ]
    }
   ],
   "source": [
    "for i in product([0, 1], [\"a\", \"b\"]):\n",
    "    print(i)"
   ]
  },
  {
   "cell_type": "code",
   "execution_count": 5,
   "metadata": {},
   "outputs": [
    {
     "name": "stdout",
     "output_type": "stream",
     "text": [
      "(0, '-', 'a')\n",
      "(0, '-', 'b')\n",
      "(0, '+', 'a')\n",
      "(0, '+', 'b')\n",
      "(0, '*', 'a')\n",
      "(0, '*', 'b')\n",
      "(0, '/', 'a')\n",
      "(0, '/', 'b')\n",
      "(1, '-', 'a')\n",
      "(1, '-', 'b')\n",
      "(1, '+', 'a')\n",
      "(1, '+', 'b')\n",
      "(1, '*', 'a')\n",
      "(1, '*', 'b')\n",
      "(1, '/', 'a')\n",
      "(1, '/', 'b')\n"
     ]
    }
   ],
   "source": [
    "for i in product([0, 1], [\"-\", \"+\", \"*\", \"/\"], [\"a\", \"b\"]):\n",
    "    print(i)"
   ]
  },
  {
   "cell_type": "code",
   "execution_count": 15,
   "metadata": {},
   "outputs": [
    {
     "name": "stdout",
     "output_type": "stream",
     "text": [
      "(0, 'a', 0, 'a')\n",
      "(0, 'a', 0, 'b')\n",
      "(0, 'a', 1, 'a')\n",
      "(0, 'a', 1, 'b')\n",
      "(0, 'b', 0, 'a')\n",
      "(0, 'b', 0, 'b')\n",
      "(0, 'b', 1, 'a')\n",
      "(0, 'b', 1, 'b')\n",
      "(1, 'a', 0, 'a')\n",
      "(1, 'a', 0, 'b')\n",
      "(1, 'a', 1, 'a')\n",
      "(1, 'a', 1, 'b')\n",
      "(1, 'b', 0, 'a')\n",
      "(1, 'b', 0, 'b')\n",
      "(1, 'b', 1, 'a')\n",
      "(1, 'b', 1, 'b')\n"
     ]
    }
   ],
   "source": [
    "# repeat 参数则表示这些可迭代序列重复的次数\n",
    "for i in product([0, 1], [\"a\", \"b\"], repeat=2):\n",
    "    print(i)"
   ]
  },
  {
   "cell_type": "markdown",
   "metadata": {},
   "source": [
    "## permutations(iterable,r=None)返回的是可迭代元素中的一个排列组合，并且是按顺序返回的，且不包含重复的结果"
   ]
  },
  {
   "cell_type": "code",
   "execution_count": 19,
   "metadata": {},
   "outputs": [
    {
     "name": "stdout",
     "output_type": "stream",
     "text": [
      "(0, 1)\n",
      "(1, 0)\n"
     ]
    }
   ],
   "source": [
    "for i in permutations([0, 1]):\n",
    "    print(i)"
   ]
  },
  {
   "cell_type": "code",
   "execution_count": 40,
   "metadata": {},
   "outputs": [
    {
     "name": "stdout",
     "output_type": "stream",
     "text": [
      "(0, 0)\n",
      "(0, 0)\n"
     ]
    }
   ],
   "source": [
    "# 注意：permutations函数当迭代对象出现相同元素时，是会产生重复结果\n",
    "for i in permutations([0, 0]):\n",
    "    print(i)"
   ]
  },
  {
   "cell_type": "code",
   "execution_count": 41,
   "metadata": {},
   "outputs": [
    {
     "name": "stdout",
     "output_type": "stream",
     "text": [
      "(0, 1, 2)\n",
      "(0, 2, 1)\n",
      "(1, 0, 2)\n",
      "(1, 2, 0)\n",
      "(2, 0, 1)\n",
      "(2, 1, 0)\n"
     ]
    }
   ],
   "source": [
    "for i in permutations([0, 1, 2]):\n",
    "    print(i)"
   ]
  },
  {
   "cell_type": "code",
   "execution_count": 42,
   "metadata": {},
   "outputs": [
    {
     "name": "stdout",
     "output_type": "stream",
     "text": [
      "(0,)\n",
      "(1,)\n"
     ]
    }
   ],
   "source": [
    "# 第 2 个参数默认为None，它表示的是返回元组（tuple) 的长度\n",
    "for i in permutations([0, 1], r=1):\n",
    "    print(i)"
   ]
  },
  {
   "cell_type": "code",
   "execution_count": 43,
   "metadata": {},
   "outputs": [
    {
     "name": "stdout",
     "output_type": "stream",
     "text": [
      "(0, 1)\n",
      "(1, 0)\n"
     ]
    }
   ],
   "source": [
    "# 第 2 个参数默认为None，它表示的是返回元组（tuple) 的长度\n",
    "for i in permutations([0, 1], r=2):\n",
    "    print(i)"
   ]
  },
  {
   "attachments": {},
   "cell_type": "markdown",
   "metadata": {},
   "source": [
    "## combinations(iterable,r) 返回的是可迭代对象所有的长度为 r 的子序列，注意这与前一个函数 permutation 不同，permutation 返回的是排列，而 combinations 返回的是组合"
   ]
  },
  {
   "cell_type": "code",
   "execution_count": 29,
   "metadata": {},
   "outputs": [
    {
     "name": "stdout",
     "output_type": "stream",
     "text": [
      "(1, 2)\n",
      "(1, 3)\n",
      "(1, 4)\n",
      "(2, 3)\n",
      "(2, 4)\n",
      "(3, 4)\n"
     ]
    }
   ],
   "source": [
    "for i in combinations([1, 2, 3, 4], 2):\n",
    "    print(i)"
   ]
  },
  {
   "cell_type": "code",
   "execution_count": 30,
   "metadata": {},
   "outputs": [
    {
     "name": "stdout",
     "output_type": "stream",
     "text": [
      "(1, 2, 3)\n",
      "(1, 2, 4)\n",
      "(1, 3, 4)\n",
      "(2, 3, 4)\n"
     ]
    }
   ],
   "source": [
    "for i in combinations([1, 2, 3, 4], 3):\n",
    "    print(i)"
   ]
  },
  {
   "cell_type": "markdown",
   "metadata": {},
   "source": [
    "## combinations_with_replacement(iterable, r) 返回一个可与自身重复的元素组合，用法类似于 combinations "
   ]
  },
  {
   "cell_type": "code",
   "execution_count": 31,
   "metadata": {},
   "outputs": [
    {
     "name": "stdout",
     "output_type": "stream",
     "text": [
      "(1, 1)\n",
      "(1, 2)\n",
      "(1, 3)\n",
      "(1, 4)\n",
      "(2, 2)\n",
      "(2, 3)\n",
      "(2, 4)\n",
      "(3, 3)\n",
      "(3, 4)\n",
      "(4, 4)\n"
     ]
    }
   ],
   "source": [
    "for i in combinations_with_replacement([1, 2, 3, 4], 2):\n",
    "    print(i)"
   ]
  },
  {
   "cell_type": "code",
   "execution_count": 32,
   "metadata": {},
   "outputs": [
    {
     "name": "stdout",
     "output_type": "stream",
     "text": [
      "(1, 1, 1)\n",
      "(1, 1, 2)\n",
      "(1, 1, 3)\n",
      "(1, 1, 4)\n",
      "(1, 2, 2)\n",
      "(1, 2, 3)\n",
      "(1, 2, 4)\n",
      "(1, 3, 3)\n",
      "(1, 3, 4)\n",
      "(1, 4, 4)\n",
      "(2, 2, 2)\n",
      "(2, 2, 3)\n",
      "(2, 2, 4)\n",
      "(2, 3, 3)\n",
      "(2, 3, 4)\n",
      "(2, 4, 4)\n",
      "(3, 3, 3)\n",
      "(3, 3, 4)\n",
      "(3, 4, 4)\n",
      "(4, 4, 4)\n"
     ]
    }
   ],
   "source": [
    "for i in combinations_with_replacement([1, 2, 3, 4], 3):\n",
    "    print(i)"
   ]
  },
  {
   "cell_type": "markdown",
   "metadata": {},
   "source": [
    "# 有限迭代器（Iterators Terminating on the Shortest Input Sequence）"
   ]
  },
  {
   "attachments": {},
   "cell_type": "markdown",
   "metadata": {},
   "source": [
    "## chain(*iterables) 可以把多个可迭代对象组合起来，形成一个更大的迭代器"
   ]
  },
  {
   "cell_type": "code",
   "execution_count": 12,
   "metadata": {},
   "outputs": [
    {
     "name": "stdout",
     "output_type": "stream",
     "text": [
      "1\n",
      "2\n",
      "3\n",
      "A\n",
      "B\n"
     ]
    }
   ],
   "source": [
    "for i in chain([1, 2, 3,], [\"A\", \"B\"]):\n",
    "    print(i)"
   ]
  },
  {
   "cell_type": "code",
   "execution_count": 13,
   "metadata": {},
   "outputs": [
    {
     "name": "stdout",
     "output_type": "stream",
     "text": [
      "g\n",
      "o\n",
      "o\n",
      "d\n",
      "b\n",
      "y\n",
      "e\n"
     ]
    }
   ],
   "source": [
    "for i in chain(\"good\", \"bye\"):\n",
    "    print(i)"
   ]
  },
  {
   "cell_type": "markdown",
   "metadata": {},
   "source": [
    "## groupby(iterable,key=None) 可以把相邻元素按照 key 函数分组，并返回相应的 key 和 groupby，如果key函数为 None，则只有相同的元素才能放在一组"
   ]
  },
  {
   "cell_type": "code",
   "execution_count": 34,
   "metadata": {},
   "outputs": [
    {
     "name": "stdout",
     "output_type": "stream",
     "text": [
      "['A', 'a', 'a']\n",
      "['B', 'B', 'b']\n",
      "['c', 'C']\n",
      "['A', 'A', 'a']\n"
     ]
    }
   ],
   "source": [
    "for key, group in groupby('AaaBBbcCAAa', lambda c: c.upper()):\n",
    "    print(list(group))"
   ]
  },
  {
   "cell_type": "markdown",
   "metadata": {},
   "source": [
    "## accumulate(iterable [,func]) 可以计算出一个迭代器，这个迭代器是由特定的二元函数的累计结果生成的，如果不指定的话，默认函数为求和函数"
   ]
  },
  {
   "cell_type": "code",
   "execution_count": 35,
   "metadata": {},
   "outputs": [
    {
     "name": "stdout",
     "output_type": "stream",
     "text": [
      "0\n",
      "1\n",
      "1\n",
      "2\n",
      "3\n",
      "5\n",
      "8\n",
      "13\n"
     ]
    }
   ],
   "source": [
    "for i in accumulate([0, 1, 0, 1, 1, 2, 3, 5]):\n",
    "    print(i)"
   ]
  },
  {
   "cell_type": "code",
   "execution_count": null,
   "metadata": {},
   "outputs": [],
   "source": []
  }
 ],
 "metadata": {
  "kernelspec": {
   "display_name": "pytorch",
   "language": "python",
   "name": "python3"
  },
  "language_info": {
   "codemirror_mode": {
    "name": "ipython",
    "version": 3
   },
   "file_extension": ".py",
   "mimetype": "text/x-python",
   "name": "python",
   "nbconvert_exporter": "python",
   "pygments_lexer": "ipython3",
   "version": "3.10.9"
  },
  "orig_nbformat": 4
 },
 "nbformat": 4,
 "nbformat_minor": 2
}
