{
 "cells": [
  {
   "attachments": {},
   "cell_type": "markdown",
   "metadata": {},
   "source": [
    "# glob\n",
    "\n",
    "glob中支持的通配符有三种：\n",
    "- \"*\" 匹配0个或多个字符\n",
    "- \"?\" 仅匹配一个字符\n",
    "- \"[]\" 匹配指定范围内的字符，如[0-9]匹配数字"
   ]
  },
  {
   "cell_type": "code",
   "execution_count": 50,
   "metadata": {},
   "outputs": [],
   "source": [
    "from glob import glob"
   ]
  },
  {
   "cell_type": "code",
   "execution_count": 52,
   "metadata": {},
   "outputs": [
    {
     "data": {
      "text/plain": [
       "['dataset\\\\flowers', 'dataset\\\\trees', 'dataset\\\\zoom.txt']"
      ]
     },
     "execution_count": 52,
     "metadata": {},
     "output_type": "execute_result"
    }
   ],
   "source": [
    "glob(\"dataset/*\")"
   ]
  },
  {
   "cell_type": "code",
   "execution_count": 53,
   "metadata": {},
   "outputs": [
    {
     "data": {
      "text/plain": [
       "['dataset\\\\flowers', 'dataset\\\\trees', 'dataset\\\\zoom.txt']"
      ]
     },
     "execution_count": 53,
     "metadata": {},
     "output_type": "execute_result"
    }
   ],
   "source": [
    "glob(\"dataset/**\")"
   ]
  },
  {
   "cell_type": "code",
   "execution_count": 54,
   "metadata": {},
   "outputs": [
    {
     "data": {
      "text/plain": [
       "['dataset\\\\flowers\\\\rose',\n",
       " 'dataset\\\\flowers\\\\violet',\n",
       " 'dataset\\\\trees\\\\poplar',\n",
       " 'dataset\\\\trees\\\\willow']"
      ]
     },
     "execution_count": 54,
     "metadata": {},
     "output_type": "execute_result"
    }
   ],
   "source": [
    "glob(\"dataset/*/*\")"
   ]
  },
  {
   "cell_type": "code",
   "execution_count": 55,
   "metadata": {},
   "outputs": [
    {
     "data": {
      "text/plain": [
       "['dataset\\\\flowers\\\\rose',\n",
       " 'dataset\\\\flowers\\\\violet',\n",
       " 'dataset\\\\trees\\\\poplar',\n",
       " 'dataset\\\\trees\\\\willow']"
      ]
     },
     "execution_count": 55,
     "metadata": {},
     "output_type": "execute_result"
    }
   ],
   "source": [
    "glob(\"dataset/**/**\")"
   ]
  },
  {
   "cell_type": "code",
   "execution_count": 56,
   "metadata": {},
   "outputs": [
    {
     "data": {
      "text/plain": [
       "['dataset\\\\flowers\\\\rose\\\\rose1.txt',\n",
       " 'dataset\\\\flowers\\\\rose\\\\rose2.txt',\n",
       " 'dataset\\\\flowers\\\\violet\\\\violet1.txt',\n",
       " 'dataset\\\\flowers\\\\violet\\\\violet2.txt',\n",
       " 'dataset\\\\trees\\\\poplar\\\\poplar1.txt',\n",
       " 'dataset\\\\trees\\\\poplar\\\\poplar2.txt',\n",
       " 'dataset\\\\trees\\\\willow\\\\willow1.txt',\n",
       " 'dataset\\\\trees\\\\willow\\\\willow2.txt']"
      ]
     },
     "execution_count": 56,
     "metadata": {},
     "output_type": "execute_result"
    }
   ],
   "source": [
    "glob(\"dataset/*/*/*.txt\")"
   ]
  },
  {
   "cell_type": "code",
   "execution_count": 42,
   "metadata": {},
   "outputs": [
    {
     "data": {
      "text/plain": [
       "['dataset\\\\flowers\\\\rose\\\\rose1.txt',\n",
       " 'dataset\\\\flowers\\\\rose\\\\rose2.txt',\n",
       " 'dataset\\\\flowers\\\\violet\\\\violet1.txt',\n",
       " 'dataset\\\\flowers\\\\violet\\\\violet2.txt',\n",
       " 'dataset\\\\trees\\\\poplar\\\\poplar1.txt',\n",
       " 'dataset\\\\trees\\\\poplar\\\\poplar2.txt',\n",
       " 'dataset\\\\trees\\\\willow\\\\willow1.txt',\n",
       " 'dataset\\\\trees\\\\willow\\\\willow2.txt']"
      ]
     },
     "execution_count": 42,
     "metadata": {},
     "output_type": "execute_result"
    }
   ],
   "source": [
    "glob(\"dataset/**/**/*.txt\")"
   ]
  },
  {
   "attachments": {},
   "cell_type": "markdown",
   "metadata": {},
   "source": [
    "# Path.glob"
   ]
  },
  {
   "cell_type": "code",
   "execution_count": 43,
   "metadata": {},
   "outputs": [],
   "source": [
    "from pathlib import Path"
   ]
  },
  {
   "cell_type": "code",
   "execution_count": 44,
   "metadata": {},
   "outputs": [
    {
     "data": {
      "text/plain": [
       "WindowsPath('dataset')"
      ]
     },
     "execution_count": 44,
     "metadata": {},
     "output_type": "execute_result"
    }
   ],
   "source": [
    "path = Path(\"dataset\")\n",
    "path"
   ]
  },
  {
   "cell_type": "code",
   "execution_count": 48,
   "metadata": {},
   "outputs": [
    {
     "name": "stdout",
     "output_type": "stream",
     "text": [
      "dataset\\flowers\\rose\\rose1.txt\n",
      "dataset\\flowers\\rose\\rose2.txt\n",
      "dataset\\flowers\\violet\\violet1.txt\n",
      "dataset\\flowers\\violet\\violet2.txt\n",
      "dataset\\trees\\poplar\\poplar1.txt\n",
      "dataset\\trees\\poplar\\poplar2.txt\n",
      "dataset\\trees\\willow\\willow1.txt\n",
      "dataset\\trees\\willow\\willow2.txt\n"
     ]
    }
   ],
   "source": [
    "gl = path.glob(\"*/*/*.txt\")\n",
    "for g in gl:\n",
    "    print(g)"
   ]
  },
  {
   "cell_type": "code",
   "execution_count": 49,
   "metadata": {},
   "outputs": [
    {
     "name": "stdout",
     "output_type": "stream",
     "text": [
      "dataset\\zoom.txt\n",
      "dataset\\flowers\\rose\\rose1.txt\n",
      "dataset\\flowers\\rose\\rose2.txt\n",
      "dataset\\flowers\\violet\\violet1.txt\n",
      "dataset\\flowers\\violet\\violet2.txt\n",
      "dataset\\trees\\poplar\\poplar1.txt\n",
      "dataset\\trees\\poplar\\poplar2.txt\n",
      "dataset\\trees\\willow\\willow1.txt\n",
      "dataset\\trees\\willow\\willow2.txt\n"
     ]
    }
   ],
   "source": [
    "gl = path.glob(\"**/**/*.txt\")\n",
    "for g in gl:\n",
    "    print(g)\n",
    "# ** 包含不存在的路径"
   ]
  },
  {
   "cell_type": "code",
   "execution_count": null,
   "metadata": {},
   "outputs": [],
   "source": []
  }
 ],
 "metadata": {
  "kernelspec": {
   "display_name": "pytorch",
   "language": "python",
   "name": "python3"
  },
  "language_info": {
   "codemirror_mode": {
    "name": "ipython",
    "version": 3
   },
   "file_extension": ".py",
   "mimetype": "text/x-python",
   "name": "python",
   "nbconvert_exporter": "python",
   "pygments_lexer": "ipython3",
   "version": "3.10.9"
  },
  "orig_nbformat": 4
 },
 "nbformat": 4,
 "nbformat_minor": 2
}
