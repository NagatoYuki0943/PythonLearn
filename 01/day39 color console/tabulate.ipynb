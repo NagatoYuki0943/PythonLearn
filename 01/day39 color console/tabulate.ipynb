{
 "cells": [
  {
   "cell_type": "code",
   "execution_count": 1,
   "metadata": {},
   "outputs": [],
   "source": [
    "from tabulate import tabulate"
   ]
  },
  {
   "cell_type": "markdown",
   "metadata": {},
   "source": [
    "# 使用list生成表格"
   ]
  },
  {
   "cell_type": "code",
   "execution_count": 3,
   "metadata": {},
   "outputs": [],
   "source": [
    "table = [\n",
    "    ['First Name', 'Last Name', 'Age'],\n",
    "    ['John',       'Smith',      39],\n",
    "    ['Mary',       'Jane',       25],\n",
    "    ['Jennifer',   'Doe',        28]\n",
    "]"
   ]
  },
  {
   "cell_type": "markdown",
   "metadata": {},
   "source": [
    "# Basic"
   ]
  },
  {
   "cell_type": "code",
   "execution_count": 4,
   "metadata": {},
   "outputs": [
    {
     "name": "stdout",
     "output_type": "stream",
     "text": [
      "----------  ---------  ---\n",
      "First Name  Last Name  Age\n",
      "John        Smith      39\n",
      "Mary        Jane       25\n",
      "Jennifer    Doe        28\n",
      "----------  ---------  ---\n"
     ]
    }
   ],
   "source": [
    "print(tabulate(table))"
   ]
  },
  {
   "cell_type": "markdown",
   "metadata": {},
   "source": [
    "# 由于上述list中的第一个列表包含每列的名称，我们可以使用以下参数将列名单独显示出来，代码如下"
   ]
  },
  {
   "cell_type": "code",
   "execution_count": 5,
   "metadata": {},
   "outputs": [
    {
     "name": "stdout",
     "output_type": "stream",
     "text": [
      "First Name    Last Name      Age\n",
      "------------  -----------  -----\n",
      "John          Smith           39\n",
      "Mary          Jane            25\n",
      "Jennifer      Doe             28\n"
     ]
    }
   ],
   "source": [
    "print(tabulate(table, headers='firstrow'))"
   ]
  },
  {
   "cell_type": "markdown",
   "metadata": {},
   "source": [
    "# tablefmt 参数，它允许我们进一步改进表格的外观"
   ]
  },
  {
   "cell_type": "code",
   "execution_count": 6,
   "metadata": {},
   "outputs": [
    {
     "name": "stdout",
     "output_type": "stream",
     "text": [
      "+--------------+-------------+-------+\n",
      "| First Name   | Last Name   |   Age |\n",
      "+==============+=============+=======+\n",
      "| John         | Smith       |    39 |\n",
      "+--------------+-------------+-------+\n",
      "| Mary         | Jane        |    25 |\n",
      "+--------------+-------------+-------+\n",
      "| Jennifer     | Doe         |    28 |\n",
      "+--------------+-------------+-------+\n"
     ]
    }
   ],
   "source": [
    "print(tabulate(table, headers='firstrow', tablefmt='grid'))"
   ]
  },
  {
   "cell_type": "code",
   "execution_count": 7,
   "metadata": {},
   "outputs": [
    {
     "name": "stdout",
     "output_type": "stream",
     "text": [
      "╒══════════════╤═════════════╤═══════╕\n",
      "│ First Name   │ Last Name   │   Age │\n",
      "╞══════════════╪═════════════╪═══════╡\n",
      "│ John         │ Smith       │    39 │\n",
      "├──────────────┼─────────────┼───────┤\n",
      "│ Mary         │ Jane        │    25 │\n",
      "├──────────────┼─────────────┼───────┤\n",
      "│ Jennifer     │ Doe         │    28 │\n",
      "╘══════════════╧═════════════╧═══════╛\n"
     ]
    }
   ],
   "source": [
    "print(tabulate(table, headers='firstrow', tablefmt='fancy_grid'))"
   ]
  },
  {
   "attachments": {},
   "cell_type": "markdown",
   "metadata": {},
   "source": [
    "# showindex 参数来向表格中添加索引列"
   ]
  },
  {
   "cell_type": "code",
   "execution_count": 8,
   "metadata": {},
   "outputs": [
    {
     "name": "stdout",
     "output_type": "stream",
     "text": [
      "╒════╤══════════════╤═════════════╤═══════╕\n",
      "│    │ First Name   │ Last Name   │   Age │\n",
      "╞════╪══════════════╪═════════════╪═══════╡\n",
      "│  0 │ John         │ Smith       │    39 │\n",
      "├────┼──────────────┼─────────────┼───────┤\n",
      "│  1 │ Mary         │ Jane        │    25 │\n",
      "├────┼──────────────┼─────────────┼───────┤\n",
      "│  2 │ Jennifer     │ Doe         │    28 │\n",
      "╘════╧══════════════╧═════════════╧═══════╛\n"
     ]
    }
   ],
   "source": [
    "print(tabulate(table, headers='firstrow', tablefmt='fancy_grid', showindex=True))"
   ]
  },
  {
   "cell_type": "code",
   "execution_count": 9,
   "metadata": {},
   "outputs": [
    {
     "name": "stdout",
     "output_type": "stream",
     "text": [
      "╒════╤══════════════╤═════════════╤═══════╕\n",
      "│    │ First Name   │ Last Name   │   Age │\n",
      "╞════╪══════════════╪═════════════╪═══════╡\n",
      "│  1 │ John         │ Smith       │    39 │\n",
      "├────┼──────────────┼─────────────┼───────┤\n",
      "│  2 │ Mary         │ Jane        │    25 │\n",
      "├────┼──────────────┼─────────────┼───────┤\n",
      "│  3 │ Jennifer     │ Doe         │    28 │\n",
      "╘════╧══════════════╧═════════════╧═══════╛\n"
     ]
    }
   ],
   "source": [
    "print(tabulate(table, headers='firstrow', tablefmt='fancy_grid', showindex=range(1, 4)))"
   ]
  },
  {
   "cell_type": "markdown",
   "metadata": {},
   "source": [
    "# 使用dict生成表格"
   ]
  },
  {
   "cell_type": "code",
   "execution_count": 11,
   "metadata": {},
   "outputs": [],
   "source": [
    "info = {\n",
    "    'First Name':   ['John', 'Mary', 'Jennifer'],\n",
    "    'Last Name':    ['Smith', 'Jane', 'Doe'],\n",
    "    'Age':          [39, 25, 28]\n",
    "    }"
   ]
  },
  {
   "cell_type": "code",
   "execution_count": 17,
   "metadata": {},
   "outputs": [
    {
     "name": "stdout",
     "output_type": "stream",
     "text": [
      "--------  -----  --\n",
      "John      Smith  39\n",
      "Mary      Jane   25\n",
      "Jennifer  Doe    28\n",
      "--------  -----  --\n"
     ]
    }
   ],
   "source": [
    "print(tabulate(info))"
   ]
  },
  {
   "cell_type": "code",
   "execution_count": 12,
   "metadata": {},
   "outputs": [
    {
     "name": "stdout",
     "output_type": "stream",
     "text": [
      "First Name    Last Name      Age\n",
      "------------  -----------  -----\n",
      "John          Smith           39\n",
      "Mary          Jane            25\n",
      "Jennifer      Doe             28\n"
     ]
    }
   ],
   "source": [
    "# 使用key作为headers\n",
    "print(tabulate(info, headers='keys'))"
   ]
  },
  {
   "cell_type": "code",
   "execution_count": 14,
   "metadata": {},
   "outputs": [
    {
     "name": "stdout",
     "output_type": "stream",
     "text": [
      "╒════╤══════════════╤═════════════╤═══════╕\n",
      "│    │ First Name   │ Last Name   │   Age │\n",
      "╞════╪══════════════╪═════════════╪═══════╡\n",
      "│  1 │ John         │ Smith       │    39 │\n",
      "├────┼──────────────┼─────────────┼───────┤\n",
      "│  2 │ Mary         │ Jane        │    25 │\n",
      "├────┼──────────────┼─────────────┼───────┤\n",
      "│  3 │ Jennifer     │ Doe         │    28 │\n",
      "╘════╧══════════════╧═════════════╧═══════╛\n"
     ]
    }
   ],
   "source": [
    "print(tabulate(info, headers='keys', tablefmt='fancy_grid', showindex=range(1, 4)))"
   ]
  },
  {
   "cell_type": "markdown",
   "metadata": {},
   "source": [
    "# 缺失值处理"
   ]
  },
  {
   "cell_type": "code",
   "execution_count": 15,
   "metadata": {},
   "outputs": [
    {
     "name": "stdout",
     "output_type": "stream",
     "text": [
      "╒══════════════╤═════════════╤═══════╕\n",
      "│ First Name   │ Last Name   │   Age │\n",
      "╞══════════════╪═════════════╪═══════╡\n",
      "│ John         │ Smith       │    39 │\n",
      "├──────────────┼─────────────┼───────┤\n",
      "│ Mary         │ Jane        │    25 │\n",
      "├──────────────┼─────────────┼───────┤\n",
      "│              │ Doe         │    28 │\n",
      "╘══════════════╧═════════════╧═══════╛\n"
     ]
    }
   ],
   "source": [
    "print(tabulate(\n",
    "    {'First Name': ['John', 'Mary'],\n",
    "    'Last Name': ['Smith', 'Jane', 'Doe'],\n",
    "    'Age': [39, 25, 28]},\n",
    "    headers=\"keys\",\n",
    "    tablefmt='fancy_grid'))"
   ]
  },
  {
   "attachments": {},
   "cell_type": "markdown",
   "metadata": {},
   "source": [
    "## missingval 设置默认值来显示"
   ]
  },
  {
   "cell_type": "code",
   "execution_count": 18,
   "metadata": {},
   "outputs": [
    {
     "name": "stdout",
     "output_type": "stream",
     "text": [
      "╒══════════════╤═════════════╤═══════╕\n",
      "│ First Name   │ Last Name   │   Age │\n",
      "╞══════════════╪═════════════╪═══════╡\n",
      "│ John         │ Smith       │    39 │\n",
      "├──────────────┼─────────────┼───────┤\n",
      "│ Mary         │ Jane        │    25 │\n",
      "├──────────────┼─────────────┼───────┤\n",
      "│ N/A          │ Doe         │    28 │\n",
      "╘══════════════╧═════════════╧═══════╛\n"
     ]
    }
   ],
   "source": [
    "print(tabulate(\n",
    "    {'First Name': ['John', 'Mary'],\n",
    "    'Last Name': ['Smith', 'Jane', 'Doe'],\n",
    "    'Age': [39, 25, 28]},\n",
    "    headers=\"keys\",\n",
    "    tablefmt='fancy_grid',\n",
    "    missingval=\"N/A\"))"
   ]
  },
  {
   "cell_type": "code",
   "execution_count": null,
   "metadata": {},
   "outputs": [],
   "source": []
  }
 ],
 "metadata": {
  "kernelspec": {
   "display_name": "pytorch",
   "language": "python",
   "name": "python3"
  },
  "language_info": {
   "codemirror_mode": {
    "name": "ipython",
    "version": 3
   },
   "file_extension": ".py",
   "mimetype": "text/x-python",
   "name": "python",
   "nbconvert_exporter": "python",
   "pygments_lexer": "ipython3",
   "version": "3.10.9"
  },
  "orig_nbformat": 4
 },
 "nbformat": 4,
 "nbformat_minor": 2
}
