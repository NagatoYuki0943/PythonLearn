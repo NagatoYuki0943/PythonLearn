{
 "cells": [
  {
   "cell_type": "markdown",
   "metadata": {},
   "source": [
    "# 获取系统信息\n",
    "\n",
    "https://psutil.readthedocs.io/en/latest\n",
    "\n",
    "https://zhuanlan.zhihu.com/p/380842937\n",
    "\n",
    "`pip install psutil`"
   ]
  },
  {
   "cell_type": "code",
   "execution_count": 2,
   "metadata": {},
   "outputs": [],
   "source": [
    "import psutil"
   ]
  },
  {
   "cell_type": "markdown",
   "metadata": {},
   "source": [
    "# CPU 相关"
   ]
  },
  {
   "cell_type": "markdown",
   "metadata": {},
   "source": [
    "## cpu_count 获取 CPU 的核心数量"
   ]
  },
  {
   "cell_type": "code",
   "execution_count": 3,
   "metadata": {},
   "outputs": [
    {
     "data": {
      "text/plain": [
       "8"
      ]
     },
     "execution_count": 3,
     "metadata": {},
     "output_type": "execute_result"
    }
   ],
   "source": [
    "# 物理核心\n",
    "psutil.cpu_count(logical=False)"
   ]
  },
  {
   "cell_type": "code",
   "execution_count": 4,
   "metadata": {},
   "outputs": [
    {
     "data": {
      "text/plain": [
       "16"
      ]
     },
     "execution_count": 4,
     "metadata": {},
     "output_type": "execute_result"
    }
   ],
   "source": [
    "# 逻辑核心\n",
    "psutil.cpu_count()"
   ]
  },
  {
   "cell_type": "markdown",
   "metadata": {},
   "source": [
    "## cpu_freq 获取 CPU 频率"
   ]
  },
  {
   "cell_type": "code",
   "execution_count": 5,
   "metadata": {},
   "outputs": [
    {
     "data": {
      "text/plain": [
       "scpufreq(current=2904.0, min=0.0, max=2904.0)"
      ]
     },
     "execution_count": 5,
     "metadata": {},
     "output_type": "execute_result"
    }
   ],
   "source": [
    "psutil.cpu_freq()"
   ]
  },
  {
   "cell_type": "code",
   "execution_count": 6,
   "metadata": {},
   "outputs": [
    {
     "data": {
      "text/plain": [
       "[scpufreq(current=2904.0, min=0.0, max=2904.0)]"
      ]
     },
     "execution_count": 6,
     "metadata": {},
     "output_type": "execute_result"
    }
   ],
   "source": [
    "psutil.cpu_freq(percpu=True)"
   ]
  },
  {
   "cell_type": "markdown",
   "metadata": {},
   "source": [
    "## cpu_percent 获取cpu使用百分比"
   ]
  },
  {
   "cell_type": "code",
   "execution_count": 7,
   "metadata": {},
   "outputs": [
    {
     "data": {
      "text/plain": [
       "75.2"
      ]
     },
     "execution_count": 7,
     "metadata": {},
     "output_type": "execute_result"
    }
   ],
   "source": [
    "psutil.cpu_percent()"
   ]
  },
  {
   "cell_type": "code",
   "execution_count": 8,
   "metadata": {},
   "outputs": [
    {
     "data": {
      "text/plain": [
       "[40.0,\n",
       " 31.2,\n",
       " 31.2,\n",
       " 32.8,\n",
       " 79.7,\n",
       " 79.7,\n",
       " 90.6,\n",
       " 73.4,\n",
       " 46.9,\n",
       " 50.0,\n",
       " 46.9,\n",
       " 48.4,\n",
       " 34.4,\n",
       " 39.1,\n",
       " 35.9,\n",
       " 70.3]"
      ]
     },
     "execution_count": 8,
     "metadata": {},
     "output_type": "execute_result"
    }
   ],
   "source": [
    "psutil.cpu_percent(interval=1, percpu=True)"
   ]
  },
  {
   "cell_type": "markdown",
   "metadata": {},
   "source": [
    "## cpu_times 统计 CPU 的用户／系统／空闲时间"
   ]
  },
  {
   "cell_type": "code",
   "execution_count": 9,
   "metadata": {},
   "outputs": [
    {
     "data": {
      "text/plain": [
       "scputimes(user=215004.24999999997, system=30586.578125, idle=1241944.0625, interrupt=1278.125, dpc=762.296875)"
      ]
     },
     "execution_count": 9,
     "metadata": {},
     "output_type": "execute_result"
    }
   ],
   "source": [
    "psutil.cpu_times()"
   ]
  },
  {
   "cell_type": "code",
   "execution_count": 10,
   "metadata": {},
   "outputs": [
    {
     "data": {
      "text/plain": [
       "[scputimes(user=6350.8125, system=3690.5000000000146, idle=82929.98437499999, interrupt=1113.5, dpc=670.96875),\n",
       " scputimes(user=7574.234374999999, system=1855.03125, idle=83541.65625, interrupt=23.375, dpc=58.84375),\n",
       " scputimes(user=9132.171875, system=2382.09375, idle=81456.65625, interrupt=15.015625, dpc=2.953125),\n",
       " scputimes(user=10802.874999999998, system=1327.8125, idle=80840.234375, interrupt=10.78125, dpc=1.703125),\n",
       " scputimes(user=19016.078125, system=2292.2031249999854, idle=71662.625, interrupt=6.296875, dpc=2.140625),\n",
       " scputimes(user=20616.96875, system=2026.6875, idle=70327.25, interrupt=4.640625, dpc=2.015625),\n",
       " scputimes(user=21423.515625, system=1984.953125, idle=69562.4375, interrupt=4.546875, dpc=2.5625),\n",
       " scputimes(user=22537.656249999996, system=2140.46875, idle=68292.78125, interrupt=3.796875, dpc=2.484375),\n",
       " scputimes(user=10783.624999999998, system=1333.9375, idle=80853.34375, interrupt=11.8125, dpc=2.171875),\n",
       " scputimes(user=12654.093749999998, system=1277.375, idle=79039.4375, interrupt=10.125, dpc=1.828125),\n",
       " scputimes(user=14505.718749999998, system=1586.765625, idle=76878.421875, interrupt=10.5, dpc=2.28125),\n",
       " scputimes(user=14103.203125, system=1383.5624999999854, idle=77484.140625, interrupt=7.5625, dpc=2.25),\n",
       " scputimes(user=9846.5625, system=1624.7031249999854, idle=81499.640625, interrupt=15.921875, dpc=2.953125),\n",
       " scputimes(user=8709.796875, system=1192.1093750000146, idle=83068.98437499999, interrupt=13.515625, dpc=2.5),\n",
       " scputimes(user=9788.84375, system=1667.1874999999854, idle=81514.859375, interrupt=17.046875, dpc=2.1875),\n",
       " scputimes(user=17158.09375, system=2821.1875, idle=72991.609375, interrupt=9.6875, dpc=2.453125)]"
      ]
     },
     "execution_count": 10,
     "metadata": {},
     "output_type": "execute_result"
    }
   ],
   "source": [
    "psutil.cpu_times(percpu=True)"
   ]
  },
  {
   "cell_type": "markdown",
   "metadata": {},
   "source": [
    "## cpu_times_percent 统计 CPU 的用户／系统／空闲时间百分比"
   ]
  },
  {
   "cell_type": "code",
   "execution_count": 11,
   "metadata": {},
   "outputs": [
    {
     "data": {
      "text/plain": [
       "scputimes(user=61.8, system=12.1, idle=25.4, interrupt=0.5, dpc=0.2)"
      ]
     },
     "execution_count": 11,
     "metadata": {},
     "output_type": "execute_result"
    }
   ],
   "source": [
    "psutil.cpu_times_percent()"
   ]
  },
  {
   "cell_type": "code",
   "execution_count": 12,
   "metadata": {},
   "outputs": [
    {
     "data": {
      "text/plain": [
       "[scputimes(user=21.2, system=10.6, idle=65.2, interrupt=3.0, dpc=0.0),\n",
       " scputimes(user=32.8, system=6.2, idle=60.9, interrupt=0.0, dpc=0.0),\n",
       " scputimes(user=42.2, system=3.1, idle=54.7, interrupt=0.0, dpc=0.0),\n",
       " scputimes(user=35.9, system=9.4, idle=54.7, interrupt=0.0, dpc=0.0),\n",
       " scputimes(user=73.4, system=0.0, idle=26.6, interrupt=0.0, dpc=0.0),\n",
       " scputimes(user=65.6, system=1.6, idle=32.8, interrupt=0.0, dpc=0.0),\n",
       " scputimes(user=73.4, system=3.1, idle=23.4, interrupt=0.0, dpc=0.0),\n",
       " scputimes(user=70.3, system=4.7, idle=25.0, interrupt=0.0, dpc=0.0),\n",
       " scputimes(user=20.3, system=3.1, idle=76.6, interrupt=0.0, dpc=0.0),\n",
       " scputimes(user=40.6, system=4.7, idle=54.7, interrupt=0.0, dpc=0.0),\n",
       " scputimes(user=43.8, system=6.2, idle=50.0, interrupt=0.0, dpc=0.0),\n",
       " scputimes(user=51.6, system=4.7, idle=43.8, interrupt=0.0, dpc=0.0),\n",
       " scputimes(user=28.1, system=4.7, idle=67.2, interrupt=0.0, dpc=0.0),\n",
       " scputimes(user=25.0, system=12.5, idle=62.5, interrupt=0.0, dpc=0.0),\n",
       " scputimes(user=34.4, system=1.6, idle=64.1, interrupt=0.0, dpc=0.0),\n",
       " scputimes(user=51.6, system=12.5, idle=35.9, interrupt=0.0, dpc=0.0)]"
      ]
     },
     "execution_count": 12,
     "metadata": {},
     "output_type": "execute_result"
    }
   ],
   "source": [
    "psutil.cpu_times_percent(interval=1, percpu=True)"
   ]
  },
  {
   "cell_type": "markdown",
   "metadata": {},
   "source": [
    "## cpu_stats 查看 CPU 的统计信息，包括上下文切换、中断、软中断，以及系统调用次数等等"
   ]
  },
  {
   "cell_type": "code",
   "execution_count": 13,
   "metadata": {},
   "outputs": [
    {
     "data": {
      "text/plain": [
       "scpustats(ctx_switches=2360129694, interrupts=2393016213, soft_interrupts=0, syscalls=2992165669)"
      ]
     },
     "execution_count": 13,
     "metadata": {},
     "output_type": "execute_result"
    }
   ],
   "source": [
    "psutil.cpu_stats()"
   ]
  },
  {
   "cell_type": "markdown",
   "metadata": {},
   "source": [
    "## getloadavg 获取过去1、5和15分钟的平均系统"
   ]
  },
  {
   "cell_type": "code",
   "execution_count": 14,
   "metadata": {},
   "outputs": [
    {
     "data": {
      "text/plain": [
       "(0.0, 0.0, 0.0)"
      ]
     },
     "execution_count": 14,
     "metadata": {},
     "output_type": "execute_result"
    }
   ],
   "source": [
    "psutil.getloadavg()"
   ]
  },
  {
   "cell_type": "markdown",
   "metadata": {},
   "source": [
    "# 内存相关"
   ]
  },
  {
   "cell_type": "markdown",
   "metadata": {},
   "source": [
    "## virtual_memory 查看内存使用情况"
   ]
  },
  {
   "cell_type": "code",
   "execution_count": 15,
   "metadata": {},
   "outputs": [
    {
     "data": {
      "text/plain": [
       "svmem(total=34265849856, available=16492777472, percent=51.9, used=17773072384, free=16492777472)"
      ]
     },
     "execution_count": 15,
     "metadata": {},
     "output_type": "execute_result"
    }
   ],
   "source": [
    "psutil.virtual_memory()"
   ]
  },
  {
   "cell_type": "markdown",
   "metadata": {},
   "source": [
    "## swap_memory 查看交换内存信息"
   ]
  },
  {
   "cell_type": "code",
   "execution_count": 16,
   "metadata": {},
   "outputs": [
    {
     "data": {
      "text/plain": [
       "sswap(total=32667729920, used=783056896, free=31884673024, percent=2.4, sin=0, sout=0)"
      ]
     },
     "execution_count": 16,
     "metadata": {},
     "output_type": "execute_result"
    }
   ],
   "source": [
    "psutil.swap_memory()"
   ]
  },
  {
   "cell_type": "markdown",
   "metadata": {},
   "source": [
    "# 磁盘相关"
   ]
  },
  {
   "cell_type": "markdown",
   "metadata": {},
   "source": [
    "## disk_partitions 查看磁盘分区、磁盘使用率和磁盘 IO 信息"
   ]
  },
  {
   "cell_type": "code",
   "execution_count": 18,
   "metadata": {},
   "outputs": [
    {
     "data": {
      "text/plain": [
       "[sdiskpart(device='C:\\\\', mountpoint='C:\\\\', fstype='NTFS', opts='rw,fixed', maxfile=255, maxpath=260),\n",
       " sdiskpart(device='D:\\\\', mountpoint='D:\\\\', fstype='NTFS', opts='rw,fixed', maxfile=255, maxpath=260),\n",
       " sdiskpart(device='E:\\\\', mountpoint='E:\\\\', fstype='exFAT', opts='rw,removable', maxfile=255, maxpath=260)]"
      ]
     },
     "execution_count": 18,
     "metadata": {},
     "output_type": "execute_result"
    }
   ],
   "source": [
    "psutil.disk_partitions()"
   ]
  },
  {
   "cell_type": "code",
   "execution_count": 19,
   "metadata": {},
   "outputs": [
    {
     "data": {
      "text/plain": [
       "[sdiskpart(device='C:\\\\', mountpoint='C:\\\\', fstype='NTFS', opts='rw,fixed', maxfile=255, maxpath=260),\n",
       " sdiskpart(device='D:\\\\', mountpoint='D:\\\\', fstype='NTFS', opts='rw,fixed', maxfile=255, maxpath=260),\n",
       " sdiskpart(device='E:\\\\', mountpoint='E:\\\\', fstype='exFAT', opts='rw,removable', maxfile=255, maxpath=260)]"
      ]
     },
     "execution_count": 19,
     "metadata": {},
     "output_type": "execute_result"
    }
   ],
   "source": [
    "psutil.disk_partitions(all=True)"
   ]
  },
  {
   "cell_type": "markdown",
   "metadata": {},
   "source": [
    "## disk_usage 查看某个磁盘使用情况"
   ]
  },
  {
   "cell_type": "code",
   "execution_count": 22,
   "metadata": {},
   "outputs": [
    {
     "data": {
      "text/plain": [
       "sdiskusage(total=214749409280, used=201009348608, free=13740060672, percent=93.6)"
      ]
     },
     "execution_count": 22,
     "metadata": {},
     "output_type": "execute_result"
    }
   ],
   "source": [
    "psutil.disk_usage(\"C:\\\\\")"
   ]
  },
  {
   "cell_type": "code",
   "execution_count": 23,
   "metadata": {},
   "outputs": [
    {
     "data": {
      "text/plain": [
       "sdiskusage(total=296910581760, used=202210254848, free=94700326912, percent=68.1)"
      ]
     },
     "execution_count": 23,
     "metadata": {},
     "output_type": "execute_result"
    }
   ],
   "source": [
    "psutil.disk_usage(\"D:\\\\\")"
   ]
  },
  {
   "cell_type": "markdown",
   "metadata": {},
   "source": [
    "## disk_io_counters 查看磁盘 IO 统计信息\n",
    "\n",
    "- read_count: 读次数\n",
    "- write_count: 写次数\n",
    "- read_bytes: 读的字节数\n",
    "- write_bytes: 写的字节数\n",
    "- read_time: 读时间\n",
    "- write_time: 写时间\n",
    "\n",
    "默认返回的是所有磁盘加起来的统计信息，我们可以指定 perdisk=True，则分别列出每一个磁盘的统计信息。"
   ]
  },
  {
   "cell_type": "code",
   "execution_count": 24,
   "metadata": {},
   "outputs": [
    {
     "data": {
      "text/plain": [
       "sdiskio(read_count=1478651, write_count=2253511, read_bytes=67554948608, write_bytes=361064059904, read_time=1142, write_time=928)"
      ]
     },
     "execution_count": 24,
     "metadata": {},
     "output_type": "execute_result"
    }
   ],
   "source": [
    "psutil.disk_io_counters()"
   ]
  },
  {
   "cell_type": "code",
   "execution_count": 25,
   "metadata": {},
   "outputs": [
    {
     "data": {
      "text/plain": [
       "{'PhysicalDrive0': sdiskio(read_count=1478536, write_count=2253560, read_bytes=67554491904, write_bytes=361005524480, read_time=1142, write_time=919),\n",
       " 'PhysicalDrive1': sdiskio(read_count=116, write_count=92, read_bytes=460800, write_bytes=73104896, read_time=0, write_time=10)}"
      ]
     },
     "execution_count": 25,
     "metadata": {},
     "output_type": "execute_result"
    }
   ],
   "source": [
    "psutil.disk_io_counters(perdisk=True)"
   ]
  },
  {
   "cell_type": "markdown",
   "metadata": {},
   "source": [
    "# 网络相关"
   ]
  },
  {
   "cell_type": "markdown",
   "metadata": {},
   "source": [
    "## net_io_counters 查看网卡的网络 IO 统计信息\n",
    "\n",
    "- bytes_sent: 发送的字节数\n",
    "- bytes_recv: 接收的字节数\n",
    "- packets_sent: 发送的包数据量\n",
    "- packets_recv: 接收的包数据量\n",
    "- errin: 接收包时, 出错的次数\n",
    "- errout: 发送包时, 出错的次数\n",
    "- dropin: 接收包时, 丢弃的次数\n",
    "- dropout: 发送包时, 丢弃的次数"
   ]
  },
  {
   "cell_type": "code",
   "execution_count": 26,
   "metadata": {},
   "outputs": [
    {
     "data": {
      "text/plain": [
       "snetio(bytes_sent=274470220, bytes_recv=5667479094, packets_sent=2559480, packets_recv=4584999, errin=0, errout=0, dropin=0, dropout=0)"
      ]
     },
     "execution_count": 26,
     "metadata": {},
     "output_type": "execute_result"
    }
   ],
   "source": [
    "psutil.net_io_counters()"
   ]
  },
  {
   "cell_type": "markdown",
   "metadata": {},
   "source": [
    "## net_connections 查看当前机器的网络连接\n",
    "\n",
    "里面接受一个参数, 默认是 \"inet\", 当然我们也可以指定为其它, 比如 \"tcp\""
   ]
  },
  {
   "cell_type": "code",
   "execution_count": 27,
   "metadata": {},
   "outputs": [
    {
     "data": {
      "text/plain": [
       "[sconn(fd=-1, family=<AddressFamily.AF_INET: 2>, type=<SocketKind.SOCK_STREAM: 1>, laddr=addr(ip='127.0.0.1', port=64397), raddr=addr(ip='127.0.0.1', port=64396), status='ESTABLISHED', pid=7688),\n",
       " sconn(fd=-1, family=<AddressFamily.AF_INET: 2>, type=<SocketKind.SOCK_STREAM: 1>, laddr=addr(ip='127.0.0.1', port=64416), raddr=addr(ip='127.0.0.1', port=64417), status='ESTABLISHED', pid=7688),\n",
       " sconn(fd=-1, family=<AddressFamily.AF_INET6: 23>, type=<SocketKind.SOCK_STREAM: 1>, laddr=addr(ip='::', port=49673), raddr=(), status='LISTEN', pid=3928),\n",
       " sconn(fd=-1, family=<AddressFamily.AF_INET: 2>, type=<SocketKind.SOCK_STREAM: 1>, laddr=addr(ip='127.0.0.1', port=64377), raddr=addr(ip='127.0.0.1', port=64378), status='ESTABLISHED', pid=7688),\n",
       " sconn(fd=-1, family=<AddressFamily.AF_INET6: 23>, type=<SocketKind.SOCK_DGRAM: 2>, laddr=addr(ip='::', port=5353), raddr=(), status='NONE', pid=3396),\n",
       " sconn(fd=-1, family=<AddressFamily.AF_INET: 2>, type=<SocketKind.SOCK_STREAM: 1>, laddr=addr(ip='127.0.0.1', port=51110), raddr=addr(ip='127.0.0.1', port=51111), status='ESTABLISHED', pid=11944),\n",
       " sconn(fd=-1, family=<AddressFamily.AF_INET6: 23>, type=<SocketKind.SOCK_STREAM: 1>, laddr=addr(ip='::', port=5357), raddr=(), status='LISTEN', pid=4),\n",
       " sconn(fd=-1, family=<AddressFamily.AF_INET: 2>, type=<SocketKind.SOCK_DGRAM: 2>, laddr=addr(ip='192.168.1.52', port=59945), raddr=(), status='NONE', pid=12992),\n",
       " sconn(fd=-1, family=<AddressFamily.AF_INET: 2>, type=<SocketKind.SOCK_STREAM: 1>, laddr=addr(ip='192.168.0.64', port=64640), raddr=addr(ip='13.107.6.158', port=443), status='ESTABLISHED', pid=2076),\n",
       " sconn(fd=-1, family=<AddressFamily.AF_INET: 2>, type=<SocketKind.SOCK_DGRAM: 2>, laddr=addr(ip='0.0.0.0', port=56932), raddr=(), status='NONE', pid=10768),\n",
       " sconn(fd=-1, family=<AddressFamily.AF_INET6: 23>, type=<SocketKind.SOCK_STREAM: 1>, laddr=addr(ip='::', port=64972), raddr=(), status='LISTEN', pid=1028),\n",
       " sconn(fd=-1, family=<AddressFamily.AF_INET: 2>, type=<SocketKind.SOCK_STREAM: 1>, laddr=addr(ip='127.0.0.1', port=64385), raddr=addr(ip='127.0.0.1', port=64386), status='ESTABLISHED', pid=7688),\n",
       " sconn(fd=-1, family=<AddressFamily.AF_INET: 2>, type=<SocketKind.SOCK_DGRAM: 2>, laddr=addr(ip='127.0.0.1', port=58718), raddr=(), status='NONE', pid=12992),\n",
       " sconn(fd=-1, family=<AddressFamily.AF_INET: 2>, type=<SocketKind.SOCK_STREAM: 1>, laddr=addr(ip='127.0.0.1', port=64417), raddr=addr(ip='127.0.0.1', port=64416), status='ESTABLISHED', pid=7688),\n",
       " sconn(fd=-1, family=<AddressFamily.AF_INET: 2>, type=<SocketKind.SOCK_DGRAM: 2>, laddr=addr(ip='169.254.250.60', port=1900), raddr=(), status='NONE', pid=1536),\n",
       " sconn(fd=-1, family=<AddressFamily.AF_INET: 2>, type=<SocketKind.SOCK_STREAM: 1>, laddr=addr(ip='127.0.0.1', port=64405), raddr=addr(ip='127.0.0.1', port=64404), status='ESTABLISHED', pid=7688),\n",
       " sconn(fd=-1, family=<AddressFamily.AF_INET: 2>, type=<SocketKind.SOCK_STREAM: 1>, laddr=addr(ip='127.0.0.1', port=64375), raddr=addr(ip='127.0.0.1', port=64376), status='ESTABLISHED', pid=7688),\n",
       " sconn(fd=-1, family=<AddressFamily.AF_INET: 2>, type=<SocketKind.SOCK_STREAM: 1>, laddr=addr(ip='192.168.0.64', port=64653), raddr=addr(ip='42.81.102.235', port=443), status='TIME_WAIT', pid=0),\n",
       " sconn(fd=-1, family=<AddressFamily.AF_INET: 2>, type=<SocketKind.SOCK_STREAM: 1>, laddr=addr(ip='127.0.0.1', port=8440), raddr=(), status='LISTEN', pid=11944),\n",
       " sconn(fd=-1, family=<AddressFamily.AF_INET: 2>, type=<SocketKind.SOCK_DGRAM: 2>, laddr=addr(ip='192.168.0.64', port=138), raddr=(), status='NONE', pid=4),\n",
       " sconn(fd=-1, family=<AddressFamily.AF_INET: 2>, type=<SocketKind.SOCK_STREAM: 1>, laddr=addr(ip='127.0.0.1', port=7890), raddr=addr(ip='127.0.0.1', port=64574), status='ESTABLISHED', pid=2076),\n",
       " sconn(fd=-1, family=<AddressFamily.AF_INET6: 23>, type=<SocketKind.SOCK_STREAM: 1>, laddr=addr(ip='fd00:7860:5bfc:4524:f5c3:7c0d:ec59:1d44', port=64380), raddr=addr(ip='2402:4e00:8030:1::71', port=443), status='CLOSE_WAIT', pid=9692),\n",
       " sconn(fd=-1, family=<AddressFamily.AF_INET: 2>, type=<SocketKind.SOCK_STREAM: 1>, laddr=addr(ip='127.0.0.1', port=64393), raddr=(), status='LISTEN', pid=7688),\n",
       " sconn(fd=-1, family=<AddressFamily.AF_INET: 2>, type=<SocketKind.SOCK_STREAM: 1>, laddr=addr(ip='127.0.0.1', port=33331), raddr=(), status='LISTEN', pid=21856),\n",
       " sconn(fd=-1, family=<AddressFamily.AF_INET: 2>, type=<SocketKind.SOCK_STREAM: 1>, laddr=addr(ip='127.0.0.1', port=7890), raddr=(), status='LISTEN', pid=2076),\n",
       " sconn(fd=-1, family=<AddressFamily.AF_INET6: 23>, type=<SocketKind.SOCK_STREAM: 1>, laddr=addr(ip='fd00:7860:5bfc:4524:446e:ec92:f5d9:f582', port=64624), raddr=addr(ip='240e:97c:2f:2::5c', port=443), status='TIME_WAIT', pid=0),\n",
       " sconn(fd=-1, family=<AddressFamily.AF_INET: 2>, type=<SocketKind.SOCK_DGRAM: 2>, laddr=addr(ip='0.0.0.0', port=4000), raddr=(), status='NONE', pid=9692),\n",
       " sconn(fd=-1, family=<AddressFamily.AF_INET: 2>, type=<SocketKind.SOCK_STREAM: 1>, laddr=addr(ip='127.0.0.1', port=64367), raddr=addr(ip='127.0.0.1', port=64368), status='ESTABLISHED', pid=7688),\n",
       " sconn(fd=-1, family=<AddressFamily.AF_INET6: 23>, type=<SocketKind.SOCK_DGRAM: 2>, laddr=addr(ip='::1', port=1900), raddr=(), status='NONE', pid=1536),\n",
       " sconn(fd=-1, family=<AddressFamily.AF_INET6: 23>, type=<SocketKind.SOCK_DGRAM: 2>, laddr=addr(ip='::', port=4500), raddr=(), status='NONE', pid=3920),\n",
       " sconn(fd=-1, family=<AddressFamily.AF_INET: 2>, type=<SocketKind.SOCK_STREAM: 1>, laddr=addr(ip='127.0.0.1', port=49295), raddr=addr(ip='127.0.0.1', port=7890), status='ESTABLISHED', pid=11944),\n",
       " sconn(fd=-1, family=<AddressFamily.AF_INET: 2>, type=<SocketKind.SOCK_STREAM: 1>, laddr=addr(ip='127.0.0.1', port=64376), raddr=addr(ip='127.0.0.1', port=64375), status='ESTABLISHED', pid=7688),\n",
       " sconn(fd=-1, family=<AddressFamily.AF_INET: 2>, type=<SocketKind.SOCK_DGRAM: 2>, laddr=addr(ip='192.168.1.52', port=5657), raddr=(), status='NONE', pid=12992),\n",
       " sconn(fd=-1, family=<AddressFamily.AF_INET: 2>, type=<SocketKind.SOCK_STREAM: 1>, laddr=addr(ip='127.0.0.1', port=64392), raddr=addr(ip='127.0.0.1', port=64391), status='ESTABLISHED', pid=7688),\n",
       " sconn(fd=-1, family=<AddressFamily.AF_INET: 2>, type=<SocketKind.SOCK_STREAM: 1>, laddr=addr(ip='127.0.0.1', port=64382), raddr=addr(ip='127.0.0.1', port=64383), status='ESTABLISHED', pid=7688),\n",
       " sconn(fd=-1, family=<AddressFamily.AF_INET: 2>, type=<SocketKind.SOCK_STREAM: 1>, laddr=addr(ip='0.0.0.0', port=80), raddr=(), status='LISTEN', pid=4),\n",
       " sconn(fd=-1, family=<AddressFamily.AF_INET: 2>, type=<SocketKind.SOCK_STREAM: 1>, laddr=addr(ip='192.168.0.64', port=57810), raddr=addr(ip='221.238.80.29', port=443), status='CLOSE_WAIT', pid=9692),\n",
       " sconn(fd=-1, family=<AddressFamily.AF_INET: 2>, type=<SocketKind.SOCK_STREAM: 1>, laddr=addr(ip='127.0.0.1', port=9002), raddr=addr(ip='127.0.0.1', port=64411), status='ESTABLISHED', pid=7688),\n",
       " sconn(fd=-1, family=<AddressFamily.AF_INET: 2>, type=<SocketKind.SOCK_DGRAM: 2>, laddr=addr(ip='127.0.0.1', port=60274), raddr=(), status='NONE', pid=5192),\n",
       " sconn(fd=-1, family=<AddressFamily.AF_INET: 2>, type=<SocketKind.SOCK_STREAM: 1>, laddr=addr(ip='0.0.0.0', port=5357), raddr=(), status='LISTEN', pid=4),\n",
       " sconn(fd=-1, family=<AddressFamily.AF_INET6: 23>, type=<SocketKind.SOCK_DGRAM: 2>, laddr=addr(ip='::1', port=62178), raddr=(), status='NONE', pid=1536),\n",
       " sconn(fd=-1, family=<AddressFamily.AF_INET: 2>, type=<SocketKind.SOCK_DGRAM: 2>, laddr=addr(ip='127.0.0.1', port=55742), raddr=(), status='NONE', pid=4512),\n",
       " sconn(fd=-1, family=<AddressFamily.AF_INET: 2>, type=<SocketKind.SOCK_DGRAM: 2>, laddr=addr(ip='192.168.0.64', port=137), raddr=(), status='NONE', pid=4),\n",
       " sconn(fd=-1, family=<AddressFamily.AF_INET: 2>, type=<SocketKind.SOCK_STREAM: 1>, laddr=addr(ip='0.0.0.0', port=49665), raddr=(), status='LISTEN', pid=728),\n",
       " sconn(fd=-1, family=<AddressFamily.AF_INET6: 23>, type=<SocketKind.SOCK_DGRAM: 2>, laddr=addr(ip='::', port=3389), raddr=(), status='NONE', pid=1724),\n",
       " sconn(fd=-1, family=<AddressFamily.AF_INET6: 23>, type=<SocketKind.SOCK_STREAM: 1>, laddr=addr(ip='::', port=135), raddr=(), status='LISTEN', pid=1416),\n",
       " sconn(fd=-1, family=<AddressFamily.AF_INET: 2>, type=<SocketKind.SOCK_DGRAM: 2>, laddr=addr(ip='169.254.250.60', port=62179), raddr=(), status='NONE', pid=1536),\n",
       " sconn(fd=-1, family=<AddressFamily.AF_INET: 2>, type=<SocketKind.SOCK_DGRAM: 2>, laddr=addr(ip='192.168.0.64', port=1900), raddr=(), status='NONE', pid=1536),\n",
       " sconn(fd=-1, family=<AddressFamily.AF_INET: 2>, type=<SocketKind.SOCK_STREAM: 1>, laddr=addr(ip='127.0.0.1', port=64383), raddr=addr(ip='127.0.0.1', port=64382), status='ESTABLISHED', pid=7688),\n",
       " sconn(fd=-1, family=<AddressFamily.AF_INET: 2>, type=<SocketKind.SOCK_STREAM: 1>, laddr=addr(ip='192.168.0.64', port=57808), raddr=addr(ip='221.238.80.29', port=443), status='CLOSE_WAIT', pid=9692),\n",
       " sconn(fd=-1, family=<AddressFamily.AF_INET: 2>, type=<SocketKind.SOCK_DGRAM: 2>, laddr=addr(ip='127.0.0.1', port=64359), raddr=(), status='NONE', pid=9692),\n",
       " sconn(fd=-1, family=<AddressFamily.AF_INET: 2>, type=<SocketKind.SOCK_STREAM: 1>, laddr=addr(ip='127.0.0.1', port=7890), raddr=addr(ip='127.0.0.1', port=64639), status='ESTABLISHED', pid=2076),\n",
       " sconn(fd=-1, family=<AddressFamily.AF_INET: 2>, type=<SocketKind.SOCK_STREAM: 1>, laddr=addr(ip='127.0.0.1', port=64378), raddr=addr(ip='127.0.0.1', port=64377), status='ESTABLISHED', pid=7688),\n",
       " sconn(fd=-1, family=<AddressFamily.AF_INET6: 23>, type=<SocketKind.SOCK_DGRAM: 2>, laddr=addr(ip='::', port=500), raddr=(), status='NONE', pid=3920),\n",
       " sconn(fd=-1, family=<AddressFamily.AF_INET: 2>, type=<SocketKind.SOCK_STREAM: 1>, laddr=addr(ip='0.0.0.0', port=49674), raddr=(), status='LISTEN', pid=5488),\n",
       " sconn(fd=-1, family=<AddressFamily.AF_INET6: 23>, type=<SocketKind.SOCK_STREAM: 1>, laddr=addr(ip='::', port=49666), raddr=(), status='LISTEN', pid=1872),\n",
       " sconn(fd=-1, family=<AddressFamily.AF_INET: 2>, type=<SocketKind.SOCK_STREAM: 1>, laddr=addr(ip='169.254.250.60', port=139), raddr=(), status='LISTEN', pid=4),\n",
       " sconn(fd=-1, family=<AddressFamily.AF_INET: 2>, type=<SocketKind.SOCK_DGRAM: 2>, laddr=addr(ip='127.0.0.1', port=60438), raddr=(), status='NONE', pid=9692),\n",
       " sconn(fd=-1, family=<AddressFamily.AF_INET: 2>, type=<SocketKind.SOCK_STREAM: 1>, laddr=addr(ip='127.0.0.1', port=64295), raddr=(), status='LISTEN', pid=14756),\n",
       " sconn(fd=-1, family=<AddressFamily.AF_INET: 2>, type=<SocketKind.SOCK_STREAM: 1>, laddr=addr(ip='127.0.0.1', port=51111), raddr=addr(ip='127.0.0.1', port=51110), status='ESTABLISHED', pid=11944),\n",
       " sconn(fd=-1, family=<AddressFamily.AF_INET: 2>, type=<SocketKind.SOCK_STREAM: 1>, laddr=addr(ip='127.0.0.1', port=9001), raddr=addr(ip='127.0.0.1', port=64412), status='ESTABLISHED', pid=7688),\n",
       " sconn(fd=-1, family=<AddressFamily.AF_INET: 2>, type=<SocketKind.SOCK_STREAM: 1>, laddr=addr(ip='127.0.0.1', port=9000), raddr=(), status='LISTEN', pid=7688),\n",
       " sconn(fd=-1, family=<AddressFamily.AF_INET: 2>, type=<SocketKind.SOCK_STREAM: 1>, laddr=addr(ip='127.0.0.1', port=64601), raddr=addr(ip='127.0.0.1', port=7890), status='TIME_WAIT', pid=0),\n",
       " sconn(fd=-1, family=<AddressFamily.AF_INET6: 23>, type=<SocketKind.SOCK_STREAM: 1>, laddr=addr(ip='fd00:7860:5bfc:4524:446e:ec92:f5d9:f582', port=57813), raddr=addr(ip='240e:928:1400:10::47', port=443), status='CLOSE_WAIT', pid=9692),\n",
       " sconn(fd=-1, family=<AddressFamily.AF_INET: 2>, type=<SocketKind.SOCK_STREAM: 1>, laddr=addr(ip='127.0.0.1', port=9003), raddr=addr(ip='127.0.0.1', port=64413), status='ESTABLISHED', pid=7688),\n",
       " sconn(fd=-1, family=<AddressFamily.AF_INET: 2>, type=<SocketKind.SOCK_STREAM: 1>, laddr=addr(ip='0.0.0.0', port=49673), raddr=(), status='LISTEN', pid=3928),\n",
       " sconn(fd=-1, family=<AddressFamily.AF_INET: 2>, type=<SocketKind.SOCK_STREAM: 1>, laddr=addr(ip='0.0.0.0', port=912), raddr=(), status='LISTEN', pid=5128),\n",
       " sconn(fd=-1, family=<AddressFamily.AF_INET6: 23>, type=<SocketKind.SOCK_DGRAM: 2>, laddr=addr(ip='fe80::b2ca:b1a0:7a:8cd4', port=1900), raddr=(), status='NONE', pid=1536),\n",
       " sconn(fd=-1, family=<AddressFamily.AF_INET: 2>, type=<SocketKind.SOCK_STREAM: 1>, laddr=addr(ip='192.168.0.64', port=49308), raddr=addr(ip='59.82.31.169', port=443), status='ESTABLISHED', pid=2076),\n",
       " sconn(fd=-1, family=<AddressFamily.AF_INET: 2>, type=<SocketKind.SOCK_STREAM: 1>, laddr=addr(ip='0.0.0.0', port=64972), raddr=(), status='LISTEN', pid=1028),\n",
       " sconn(fd=-1, family=<AddressFamily.AF_INET6: 23>, type=<SocketKind.SOCK_DGRAM: 2>, laddr=addr(ip='fe80::6e41:2b22:ff77:95c4', port=62176), raddr=(), status='NONE', pid=1536),\n",
       " sconn(fd=-1, family=<AddressFamily.AF_INET: 2>, type=<SocketKind.SOCK_STREAM: 1>, laddr=addr(ip='127.0.0.1', port=64388), raddr=addr(ip='127.0.0.1', port=64387), status='ESTABLISHED', pid=7688),\n",
       " sconn(fd=-1, family=<AddressFamily.AF_INET: 2>, type=<SocketKind.SOCK_STREAM: 1>, laddr=addr(ip='127.0.0.1', port=64625), raddr=addr(ip='127.0.0.1', port=7890), status='ESTABLISHED', pid=20768),\n",
       " sconn(fd=-1, family=<AddressFamily.AF_INET: 2>, type=<SocketKind.SOCK_STREAM: 1>, laddr=addr(ip='127.0.0.1', port=64639), raddr=addr(ip='127.0.0.1', port=7890), status='ESTABLISHED', pid=20768),\n",
       " sconn(fd=-1, family=<AddressFamily.AF_INET: 2>, type=<SocketKind.SOCK_STREAM: 1>, laddr=addr(ip='127.0.0.1', port=6007), raddr=(), status='LISTEN', pid=16792),\n",
       " sconn(fd=-1, family=<AddressFamily.AF_INET: 2>, type=<SocketKind.SOCK_STREAM: 1>, laddr=addr(ip='127.0.0.1', port=9004), raddr=addr(ip='127.0.0.1', port=64410), status='ESTABLISHED', pid=7688),\n",
       " sconn(fd=-1, family=<AddressFamily.AF_INET: 2>, type=<SocketKind.SOCK_STREAM: 1>, laddr=addr(ip='192.168.0.64', port=64650), raddr=addr(ip='223.5.5.5', port=443), status='TIME_WAIT', pid=0),\n",
       " sconn(fd=-1, family=<AddressFamily.AF_INET6: 23>, type=<SocketKind.SOCK_STREAM: 1>, laddr=addr(ip='::', port=49668), raddr=(), status='LISTEN', pid=3420),\n",
       " sconn(fd=-1, family=<AddressFamily.AF_INET: 2>, type=<SocketKind.SOCK_DGRAM: 2>, laddr=addr(ip='169.254.250.60', port=138), raddr=(), status='NONE', pid=4),\n",
       " sconn(fd=-1, family=<AddressFamily.AF_INET: 2>, type=<SocketKind.SOCK_DGRAM: 2>, laddr=addr(ip='0.0.0.0', port=3702), raddr=(), status='NONE', pid=10768),\n",
       " sconn(fd=-1, family=<AddressFamily.AF_INET: 2>, type=<SocketKind.SOCK_STREAM: 1>, laddr=addr(ip='0.0.0.0', port=2107), raddr=(), status='LISTEN', pid=5488),\n",
       " sconn(fd=-1, family=<AddressFamily.AF_INET: 2>, type=<SocketKind.SOCK_DGRAM: 2>, laddr=addr(ip='127.0.0.1', port=64357), raddr=(), status='NONE', pid=9692),\n",
       " sconn(fd=-1, family=<AddressFamily.AF_INET6: 23>, type=<SocketKind.SOCK_DGRAM: 2>, laddr=addr(ip='::', port=5353), raddr=(), status='NONE', pid=17896),\n",
       " sconn(fd=-1, family=<AddressFamily.AF_INET: 2>, type=<SocketKind.SOCK_STREAM: 1>, laddr=addr(ip='127.0.0.1', port=64386), raddr=addr(ip='127.0.0.1', port=64385), status='ESTABLISHED', pid=7688),\n",
       " sconn(fd=-1, family=<AddressFamily.AF_INET: 2>, type=<SocketKind.SOCK_STREAM: 1>, laddr=addr(ip='127.0.0.1', port=9003), raddr=(), status='LISTEN', pid=7688),\n",
       " sconn(fd=-1, family=<AddressFamily.AF_INET: 2>, type=<SocketKind.SOCK_STREAM: 1>, laddr=addr(ip='0.0.0.0', port=49668), raddr=(), status='LISTEN', pid=3420),\n",
       " sconn(fd=-1, family=<AddressFamily.AF_INET: 2>, type=<SocketKind.SOCK_STREAM: 1>, laddr=addr(ip='127.0.0.1', port=64389), raddr=addr(ip='127.0.0.1', port=64390), status='ESTABLISHED', pid=7688),\n",
       " sconn(fd=-1, family=<AddressFamily.AF_INET: 2>, type=<SocketKind.SOCK_DGRAM: 2>, laddr=addr(ip='0.0.0.0', port=54145), raddr=(), status='NONE', pid=9692),\n",
       " sconn(fd=-1, family=<AddressFamily.AF_INET: 2>, type=<SocketKind.SOCK_STREAM: 1>, laddr=addr(ip='127.0.0.1', port=64384), raddr=addr(ip='127.0.0.1', port=9002), status='ESTABLISHED', pid=7688),\n",
       " sconn(fd=-1, family=<AddressFamily.AF_INET6: 23>, type=<SocketKind.SOCK_STREAM: 1>, laddr=addr(ip='fd00:7860:5bfc:4524:f5c3:7c0d:ec59:1d44', port=55665), raddr=addr(ip='240e:ff:f100:8019::129', port=443), status='ESTABLISHED', pid=11164),\n",
       " sconn(fd=-1, family=<AddressFamily.AF_INET: 2>, type=<SocketKind.SOCK_DGRAM: 2>, laddr=addr(ip='192.168.47.1', port=1900), raddr=(), status='NONE', pid=1536),\n",
       " sconn(fd=-1, family=<AddressFamily.AF_INET: 2>, type=<SocketKind.SOCK_STREAM: 1>, laddr=addr(ip='127.0.0.1', port=64395), raddr=addr(ip='127.0.0.1', port=64394), status='ESTABLISHED', pid=7688),\n",
       " sconn(fd=-1, family=<AddressFamily.AF_INET: 2>, type=<SocketKind.SOCK_STREAM: 1>, laddr=addr(ip='192.168.0.64', port=64308), raddr=addr(ip='49.7.253.177', port=14000), status='ESTABLISHED', pid=9692),\n",
       " sconn(fd=-1, family=<AddressFamily.AF_INET: 2>, type=<SocketKind.SOCK_DGRAM: 2>, laddr=addr(ip='127.0.0.1', port=64356), raddr=(), status='NONE', pid=9692),\n",
       " sconn(fd=-1, family=<AddressFamily.AF_INET: 2>, type=<SocketKind.SOCK_STREAM: 1>, laddr=addr(ip='0.0.0.0', port=49667), raddr=(), status='LISTEN', pid=2424),\n",
       " sconn(fd=-1, family=<AddressFamily.AF_INET6: 23>, type=<SocketKind.SOCK_DGRAM: 2>, laddr=addr(ip='fe80::b2ca:b1a0:7a:8cd4', port=62175), raddr=(), status='NONE', pid=1536),\n",
       " sconn(fd=-1, family=<AddressFamily.AF_INET: 2>, type=<SocketKind.SOCK_DGRAM: 2>, laddr=addr(ip='192.168.47.1', port=62180), raddr=(), status='NONE', pid=1536),\n",
       " sconn(fd=-1, family=<AddressFamily.AF_INET: 2>, type=<SocketKind.SOCK_DGRAM: 2>, laddr=addr(ip='127.0.0.1', port=64360), raddr=(), status='NONE', pid=9692),\n",
       " sconn(fd=-1, family=<AddressFamily.AF_INET: 2>, type=<SocketKind.SOCK_STREAM: 1>, laddr=addr(ip='127.0.0.1', port=61726), raddr=(), status='LISTEN', pid=5192),\n",
       " sconn(fd=-1, family=<AddressFamily.AF_INET: 2>, type=<SocketKind.SOCK_STREAM: 1>, laddr=addr(ip='127.0.0.1', port=64369), raddr=addr(ip='127.0.0.1', port=64370), status='ESTABLISHED', pid=7688),\n",
       " sconn(fd=-1, family=<AddressFamily.AF_INET6: 23>, type=<SocketKind.SOCK_STREAM: 1>, laddr=addr(ip='::', port=49664), raddr=(), status='LISTEN', pid=1056),\n",
       " sconn(fd=-1, family=<AddressFamily.AF_INET: 2>, type=<SocketKind.SOCK_DGRAM: 2>, laddr=addr(ip='127.0.0.1', port=60437), raddr=(), status='NONE', pid=9692),\n",
       " sconn(fd=-1, family=<AddressFamily.AF_INET: 2>, type=<SocketKind.SOCK_STREAM: 1>, laddr=addr(ip='127.0.0.1', port=64387), raddr=addr(ip='127.0.0.1', port=64388), status='ESTABLISHED', pid=7688),\n",
       " sconn(fd=-1, family=<AddressFamily.AF_INET: 2>, type=<SocketKind.SOCK_STREAM: 1>, laddr=addr(ip='127.0.0.1', port=64374), raddr=addr(ip='127.0.0.1', port=64373), status='ESTABLISHED', pid=7688),\n",
       " sconn(fd=-1, family=<AddressFamily.AF_INET: 2>, type=<SocketKind.SOCK_STREAM: 1>, laddr=addr(ip='127.0.0.1', port=64400), raddr=addr(ip='127.0.0.1', port=64401), status='ESTABLISHED', pid=7688),\n",
       " sconn(fd=-1, family=<AddressFamily.AF_INET: 2>, type=<SocketKind.SOCK_DGRAM: 2>, laddr=addr(ip='0.0.0.0', port=3389), raddr=(), status='NONE', pid=1724),\n",
       " sconn(fd=-1, family=<AddressFamily.AF_INET6: 23>, type=<SocketKind.SOCK_STREAM: 1>, laddr=addr(ip='::', port=2103), raddr=(), status='LISTEN', pid=5488),\n",
       " sconn(fd=-1, family=<AddressFamily.AF_INET: 2>, type=<SocketKind.SOCK_STREAM: 1>, laddr=addr(ip='192.168.0.64', port=63032), raddr=addr(ip='221.238.80.28', port=443), status='CLOSE_WAIT', pid=9692),\n",
       " sconn(fd=-1, family=<AddressFamily.AF_INET: 2>, type=<SocketKind.SOCK_STREAM: 1>, laddr=addr(ip='127.0.0.1', port=64304), raddr=addr(ip='127.0.0.1', port=7890), status='ESTABLISHED', pid=1676),\n",
       " sconn(fd=-1, family=<AddressFamily.AF_INET: 2>, type=<SocketKind.SOCK_STREAM: 1>, laddr=addr(ip='127.0.0.1', port=64574), raddr=addr(ip='127.0.0.1', port=7890), status='ESTABLISHED', pid=20768),\n",
       " sconn(fd=-1, family=<AddressFamily.AF_INET: 2>, type=<SocketKind.SOCK_DGRAM: 2>, laddr=addr(ip='0.0.0.0', port=5050), raddr=(), status='NONE', pid=5376),\n",
       " sconn(fd=-1, family=<AddressFamily.AF_INET6: 23>, type=<SocketKind.SOCK_STREAM: 1>, laddr=addr(ip='fd00:7860:5bfc:4524:f5c3:7c0d:ec59:1d44', port=55410), raddr=addr(ip='240e:928:1400:10::47', port=443), status='CLOSE_WAIT', pid=9692),\n",
       " sconn(fd=-1, family=<AddressFamily.AF_INET: 2>, type=<SocketKind.SOCK_STREAM: 1>, laddr=addr(ip='127.0.0.1', port=64411), raddr=addr(ip='127.0.0.1', port=9002), status='ESTABLISHED', pid=14756),\n",
       " sconn(fd=-1, family=<AddressFamily.AF_INET: 2>, type=<SocketKind.SOCK_STREAM: 1>, laddr=addr(ip='127.0.0.1', port=7890), raddr=addr(ip='127.0.0.1', port=63806), status='ESTABLISHED', pid=2076),\n",
       " sconn(fd=-1, family=<AddressFamily.AF_INET: 2>, type=<SocketKind.SOCK_STREAM: 1>, laddr=addr(ip='192.168.0.64', port=139), raddr=(), status='LISTEN', pid=4),\n",
       " sconn(fd=-1, family=<AddressFamily.AF_INET: 2>, type=<SocketKind.SOCK_STREAM: 1>, laddr=addr(ip='127.0.0.1', port=64391), raddr=addr(ip='127.0.0.1', port=64392), status='ESTABLISHED', pid=7688),\n",
       " sconn(fd=-1, family=<AddressFamily.AF_INET: 2>, type=<SocketKind.SOCK_STREAM: 1>, laddr=addr(ip='127.0.0.1', port=9090), raddr=(), status='LISTEN', pid=2076),\n",
       " sconn(fd=-1, family=<AddressFamily.AF_INET: 2>, type=<SocketKind.SOCK_STREAM: 1>, laddr=addr(ip='0.0.0.0', port=135), raddr=(), status='LISTEN', pid=1416),\n",
       " sconn(fd=-1, family=<AddressFamily.AF_INET: 2>, type=<SocketKind.SOCK_STREAM: 1>, laddr=addr(ip='127.0.0.1', port=64414), raddr=addr(ip='127.0.0.1', port=64415), status='ESTABLISHED', pid=7688),\n",
       " sconn(fd=-1, family=<AddressFamily.AF_INET: 2>, type=<SocketKind.SOCK_STREAM: 1>, laddr=addr(ip='127.0.0.1', port=64370), raddr=addr(ip='127.0.0.1', port=64369), status='ESTABLISHED', pid=7688),\n",
       " sconn(fd=-1, family=<AddressFamily.AF_INET: 2>, type=<SocketKind.SOCK_STREAM: 1>, laddr=addr(ip='127.0.0.1', port=4301), raddr=(), status='LISTEN', pid=9692),\n",
       " sconn(fd=-1, family=<AddressFamily.AF_INET6: 23>, type=<SocketKind.SOCK_DGRAM: 2>, laddr=addr(ip='fe80::e936:c23a:3b2c:4e8c', port=62177), raddr=(), status='NONE', pid=1536),\n",
       " sconn(fd=-1, family=<AddressFamily.AF_INET: 2>, type=<SocketKind.SOCK_STREAM: 1>, laddr=addr(ip='192.168.0.64', port=60301), raddr=addr(ip='221.238.80.29', port=443), status='CLOSE_WAIT', pid=9692),\n",
       " sconn(fd=-1, family=<AddressFamily.AF_INET: 2>, type=<SocketKind.SOCK_STREAM: 1>, laddr=addr(ip='127.0.0.1', port=63806), raddr=addr(ip='127.0.0.1', port=7890), status='ESTABLISHED', pid=20768),\n",
       " sconn(fd=-1, family=<AddressFamily.AF_INET: 2>, type=<SocketKind.SOCK_STREAM: 1>, laddr=addr(ip='192.168.0.64', port=64575), raddr=addr(ip='36.227.229.211', port=21600), status='ESTABLISHED', pid=2076),\n",
       " sconn(fd=-1, family=<AddressFamily.AF_INET: 2>, type=<SocketKind.SOCK_STREAM: 1>, laddr=addr(ip='192.168.0.64', port=53621), raddr=addr(ip='121.40.176.120', port=443), status='ESTABLISHED', pid=5192),\n",
       " sconn(fd=-1, family=<AddressFamily.AF_INET6: 23>, type=<SocketKind.SOCK_DGRAM: 2>, laddr=addr(ip='::', port=3702), raddr=(), status='NONE', pid=2492),\n",
       " sconn(fd=-1, family=<AddressFamily.AF_INET: 2>, type=<SocketKind.SOCK_STREAM: 1>, laddr=addr(ip='127.0.0.1', port=64401), raddr=addr(ip='127.0.0.1', port=64400), status='ESTABLISHED', pid=7688),\n",
       " sconn(fd=-1, family=<AddressFamily.AF_INET6: 23>, type=<SocketKind.SOCK_STREAM: 1>, laddr=addr(ip='::', port=445), raddr=(), status='LISTEN', pid=4),\n",
       " sconn(fd=-1, family=<AddressFamily.AF_INET: 2>, type=<SocketKind.SOCK_STREAM: 1>, laddr=addr(ip='0.0.0.0', port=49664), raddr=(), status='LISTEN', pid=1056),\n",
       " sconn(fd=-1, family=<AddressFamily.AF_INET: 2>, type=<SocketKind.SOCK_DGRAM: 2>, laddr=addr(ip='127.0.0.1', port=62182), raddr=(), status='NONE', pid=1536),\n",
       " sconn(fd=-1, family=<AddressFamily.AF_INET: 2>, type=<SocketKind.SOCK_DGRAM: 2>, laddr=addr(ip='0.0.0.0', port=5353), raddr=(), status='NONE', pid=20768),\n",
       " sconn(fd=-1, family=<AddressFamily.AF_INET: 2>, type=<SocketKind.SOCK_STREAM: 1>, laddr=addr(ip='192.168.0.64', port=64641), raddr=addr(ip='223.6.6.6', port=443), status='TIME_WAIT', pid=0),\n",
       " sconn(fd=-1, family=<AddressFamily.AF_INET6: 23>, type=<SocketKind.SOCK_STREAM: 1>, laddr=addr(ip='::', port=49674), raddr=(), status='LISTEN', pid=5488),\n",
       " sconn(fd=-1, family=<AddressFamily.AF_INET: 2>, type=<SocketKind.SOCK_STREAM: 1>, laddr=addr(ip='0.0.0.0', port=445), raddr=(), status='LISTEN', pid=4),\n",
       " sconn(fd=-1, family=<AddressFamily.AF_INET: 2>, type=<SocketKind.SOCK_STREAM: 1>, laddr=addr(ip='192.168.0.64', port=65502), raddr=addr(ip='20.197.71.89', port=443), status='ESTABLISHED', pid=4520),\n",
       " sconn(fd=-1, family=<AddressFamily.AF_INET6: 23>, type=<SocketKind.SOCK_DGRAM: 2>, laddr=addr(ip='::', port=56103), raddr=(), status='NONE', pid=2492),\n",
       " sconn(fd=-1, family=<AddressFamily.AF_INET: 2>, type=<SocketKind.SOCK_STREAM: 1>, laddr=addr(ip='127.0.0.1', port=64402), raddr=addr(ip='127.0.0.1', port=64403), status='ESTABLISHED', pid=7688),\n",
       " sconn(fd=-1, family=<AddressFamily.AF_INET: 2>, type=<SocketKind.SOCK_DGRAM: 2>, laddr=addr(ip='0.0.0.0', port=5353), raddr=(), status='NONE', pid=3396),\n",
       " sconn(fd=-1, family=<AddressFamily.AF_INET6: 23>, type=<SocketKind.SOCK_DGRAM: 2>, laddr=addr(ip='::', port=5355), raddr=(), status='NONE', pid=3396),\n",
       " sconn(fd=-1, family=<AddressFamily.AF_INET: 2>, type=<SocketKind.SOCK_STREAM: 1>, laddr=addr(ip='127.0.0.1', port=9004), raddr=(), status='LISTEN', pid=7688),\n",
       " sconn(fd=-1, family=<AddressFamily.AF_INET: 2>, type=<SocketKind.SOCK_STREAM: 1>, laddr=addr(ip='192.168.0.64', port=64320), raddr=addr(ip='221.238.80.29', port=443), status='CLOSE_WAIT', pid=9692),\n",
       " sconn(fd=-1, family=<AddressFamily.AF_INET6: 23>, type=<SocketKind.SOCK_STREAM: 1>, laddr=addr(ip='::', port=49667), raddr=(), status='LISTEN', pid=2424),\n",
       " sconn(fd=-1, family=<AddressFamily.AF_INET: 2>, type=<SocketKind.SOCK_STREAM: 1>, laddr=addr(ip='0.0.0.0', port=49669), raddr=(), status='LISTEN', pid=4764),\n",
       " sconn(fd=-1, family=<AddressFamily.AF_INET6: 23>, type=<SocketKind.SOCK_DGRAM: 2>, laddr=addr(ip='fe80::6e41:2b22:ff77:95c4', port=1900), raddr=(), status='NONE', pid=1536),\n",
       " sconn(fd=-1, family=<AddressFamily.AF_INET: 2>, type=<SocketKind.SOCK_STREAM: 1>, laddr=addr(ip='192.168.0.64', port=64199), raddr=addr(ip='47.98.113.99', port=443), status='ESTABLISHED', pid=12992),\n",
       " sconn(fd=-1, family=<AddressFamily.AF_INET: 2>, type=<SocketKind.SOCK_STREAM: 1>, laddr=addr(ip='127.0.0.1', port=64415), raddr=addr(ip='127.0.0.1', port=64414), status='ESTABLISHED', pid=7688),\n",
       " sconn(fd=-1, family=<AddressFamily.AF_INET6: 23>, type=<SocketKind.SOCK_STREAM: 1>, laddr=addr(ip='::', port=2105), raddr=(), status='LISTEN', pid=5488),\n",
       " sconn(fd=-1, family=<AddressFamily.AF_INET: 2>, type=<SocketKind.SOCK_STREAM: 1>, laddr=addr(ip='127.0.0.1', port=64412), raddr=addr(ip='127.0.0.1', port=9001), status='ESTABLISHED', pid=14756),\n",
       " sconn(fd=-1, family=<AddressFamily.AF_INET: 2>, type=<SocketKind.SOCK_DGRAM: 2>, laddr=addr(ip='0.0.0.0', port=500), raddr=(), status='NONE', pid=3920),\n",
       " sconn(fd=-1, family=<AddressFamily.AF_INET: 2>, type=<SocketKind.SOCK_STREAM: 1>, laddr=addr(ip='127.0.0.1', port=64398), raddr=addr(ip='127.0.0.1', port=64399), status='ESTABLISHED', pid=7688),\n",
       " sconn(fd=-1, family=<AddressFamily.AF_INET6: 23>, type=<SocketKind.SOCK_DGRAM: 2>, laddr=addr(ip='fe80::e936:c23a:3b2c:4e8c', port=1900), raddr=(), status='NONE', pid=1536),\n",
       " sconn(fd=-1, family=<AddressFamily.AF_INET: 2>, type=<SocketKind.SOCK_DGRAM: 2>, laddr=addr(ip='0.0.0.0', port=4500), raddr=(), status='NONE', pid=3920),\n",
       " sconn(fd=-1, family=<AddressFamily.AF_INET: 2>, type=<SocketKind.SOCK_STREAM: 1>, laddr=addr(ip='127.0.0.1', port=64379), raddr=addr(ip='127.0.0.1', port=64381), status='ESTABLISHED', pid=7688),\n",
       " sconn(fd=-1, family=<AddressFamily.AF_INET: 2>, type=<SocketKind.SOCK_STREAM: 1>, laddr=addr(ip='127.0.0.1', port=8680), raddr=(), status='LISTEN', pid=11164),\n",
       " sconn(fd=-1, family=<AddressFamily.AF_INET: 2>, type=<SocketKind.SOCK_DGRAM: 2>, laddr=addr(ip='127.0.0.1', port=64358), raddr=(), status='NONE', pid=9692),\n",
       " sconn(fd=-1, family=<AddressFamily.AF_INET: 2>, type=<SocketKind.SOCK_STREAM: 1>, laddr=addr(ip='127.0.0.1', port=9002), raddr=addr(ip='127.0.0.1', port=64384), status='ESTABLISHED', pid=7688),\n",
       " sconn(fd=-1, family=<AddressFamily.AF_INET: 2>, type=<SocketKind.SOCK_DGRAM: 2>, laddr=addr(ip='127.0.0.1', port=1900), raddr=(), status='NONE', pid=1536),\n",
       " sconn(fd=-1, family=<AddressFamily.AF_INET: 2>, type=<SocketKind.SOCK_STREAM: 1>, laddr=addr(ip='127.0.0.1', port=64410), raddr=addr(ip='127.0.0.1', port=9004), status='ESTABLISHED', pid=14756),\n",
       " sconn(fd=-1, family=<AddressFamily.AF_INET: 2>, type=<SocketKind.SOCK_STREAM: 1>, laddr=addr(ip='192.168.0.64', port=64626), raddr=addr(ip='36.227.229.211', port=21600), status='ESTABLISHED', pid=2076),\n",
       " sconn(fd=-1, family=<AddressFamily.AF_INET: 2>, type=<SocketKind.SOCK_DGRAM: 2>, laddr=addr(ip='0.0.0.0', port=5355), raddr=(), status='NONE', pid=3396),\n",
       " sconn(fd=-1, family=<AddressFamily.AF_INET: 2>, type=<SocketKind.SOCK_DGRAM: 2>, laddr=addr(ip='127.0.0.1', port=7890), raddr=(), status='NONE', pid=2076),\n",
       " sconn(fd=-1, family=<AddressFamily.AF_INET: 2>, type=<SocketKind.SOCK_DGRAM: 2>, laddr=addr(ip='192.168.47.1', port=138), raddr=(), status='NONE', pid=4),\n",
       " sconn(fd=-1, family=<AddressFamily.AF_INET6: 23>, type=<SocketKind.SOCK_DGRAM: 2>, laddr=addr(ip='::', port=5353), raddr=(), status='NONE', pid=20768),\n",
       " sconn(fd=-1, family=<AddressFamily.AF_INET: 2>, type=<SocketKind.SOCK_STREAM: 1>, laddr=addr(ip='127.0.0.1', port=9001), raddr=(), status='LISTEN', pid=7688),\n",
       " sconn(fd=-1, family=<AddressFamily.AF_INET: 2>, type=<SocketKind.SOCK_STREAM: 1>, laddr=addr(ip='0.0.0.0', port=5040), raddr=(), status='LISTEN', pid=5376),\n",
       " sconn(fd=-1, family=<AddressFamily.AF_INET: 2>, type=<SocketKind.SOCK_STREAM: 1>, laddr=addr(ip='127.0.0.1', port=64399), raddr=addr(ip='127.0.0.1', port=64398), status='ESTABLISHED', pid=7688),\n",
       " sconn(fd=-1, family=<AddressFamily.AF_INET: 2>, type=<SocketKind.SOCK_STREAM: 1>, laddr=addr(ip='0.0.0.0', port=2105), raddr=(), status='LISTEN', pid=5488),\n",
       " sconn(fd=-1, family=<AddressFamily.AF_INET: 2>, type=<SocketKind.SOCK_DGRAM: 2>, laddr=addr(ip='192.168.0.64', port=62181), raddr=(), status='NONE', pid=1536),\n",
       " sconn(fd=-1, family=<AddressFamily.AF_INET: 2>, type=<SocketKind.SOCK_STREAM: 1>, laddr=addr(ip='127.0.0.1', port=64413), raddr=addr(ip='127.0.0.1', port=9003), status='ESTABLISHED', pid=14756),\n",
       " sconn(fd=-1, family=<AddressFamily.AF_INET6: 23>, type=<SocketKind.SOCK_STREAM: 1>, laddr=addr(ip='::', port=49665), raddr=(), status='LISTEN', pid=728),\n",
       " sconn(fd=-1, family=<AddressFamily.AF_INET6: 23>, type=<SocketKind.SOCK_STREAM: 1>, laddr=addr(ip='::', port=1801), raddr=(), status='LISTEN', pid=5488),\n",
       " sconn(fd=-1, family=<AddressFamily.AF_INET: 2>, type=<SocketKind.SOCK_STREAM: 1>, laddr=addr(ip='127.0.0.1', port=7890), raddr=addr(ip='127.0.0.1', port=64625), status='ESTABLISHED', pid=2076),\n",
       " sconn(fd=-1, family=<AddressFamily.AF_INET: 2>, type=<SocketKind.SOCK_STREAM: 1>, laddr=addr(ip='192.168.0.64', port=64310), raddr=addr(ip='49.7.253.214', port=14000), status='ESTABLISHED', pid=12972),\n",
       " sconn(fd=-1, family=<AddressFamily.AF_INET: 2>, type=<SocketKind.SOCK_STREAM: 1>, laddr=addr(ip='127.0.0.1', port=64368), raddr=addr(ip='127.0.0.1', port=64367), status='ESTABLISHED', pid=7688),\n",
       " sconn(fd=-1, family=<AddressFamily.AF_INET6: 23>, type=<SocketKind.SOCK_STREAM: 1>, laddr=addr(ip='fd00:7860:5bfc:4524:f5c3:7c0d:ec59:1d44', port=60239), raddr=addr(ip='240e:928:1400:10::49', port=443), status='CLOSE_WAIT', pid=9692),\n",
       " sconn(fd=-1, family=<AddressFamily.AF_INET: 2>, type=<SocketKind.SOCK_DGRAM: 2>, laddr=addr(ip='192.168.47.1', port=137), raddr=(), status='NONE', pid=4),\n",
       " sconn(fd=-1, family=<AddressFamily.AF_INET: 2>, type=<SocketKind.SOCK_DGRAM: 2>, laddr=addr(ip='0.0.0.0', port=56102), raddr=(), status='NONE', pid=2492),\n",
       " sconn(fd=-1, family=<AddressFamily.AF_INET: 2>, type=<SocketKind.SOCK_STREAM: 1>, laddr=addr(ip='0.0.0.0', port=902), raddr=(), status='LISTEN', pid=5128),\n",
       " sconn(fd=-1, family=<AddressFamily.AF_INET: 2>, type=<SocketKind.SOCK_STREAM: 1>, laddr=addr(ip='127.0.0.1', port=64396), raddr=addr(ip='127.0.0.1', port=64397), status='ESTABLISHED', pid=7688),\n",
       " sconn(fd=-1, family=<AddressFamily.AF_INET: 2>, type=<SocketKind.SOCK_STREAM: 1>, laddr=addr(ip='127.0.0.1', port=9210), raddr=(), status='LISTEN', pid=12972),\n",
       " sconn(fd=-1, family=<AddressFamily.AF_INET6: 23>, type=<SocketKind.SOCK_STREAM: 1>, laddr=addr(ip='fd00:7860:5bfc:4524:446e:ec92:f5d9:f582', port=64550), raddr=addr(ip='240e:928:1400:10::47', port=443), status='CLOSE_WAIT', pid=9692),\n",
       " sconn(fd=-1, family=<AddressFamily.AF_INET: 2>, type=<SocketKind.SOCK_STREAM: 1>, laddr=addr(ip='0.0.0.0', port=3389), raddr=(), status='LISTEN', pid=1724),\n",
       " sconn(fd=-1, family=<AddressFamily.AF_INET: 2>, type=<SocketKind.SOCK_STREAM: 1>, laddr=addr(ip='192.168.0.64', port=57804), raddr=addr(ip='221.238.80.29', port=443), status='CLOSE_WAIT', pid=9692),\n",
       " sconn(fd=-1, family=<AddressFamily.AF_INET6: 23>, type=<SocketKind.SOCK_STREAM: 1>, laddr=addr(ip='fd00:7860:5bfc:4524:446e:ec92:f5d9:f582', port=64319), raddr=addr(ip='240e:928:1400:10::47', port=443), status='CLOSE_WAIT', pid=9692),\n",
       " sconn(fd=-1, family=<AddressFamily.AF_INET: 2>, type=<SocketKind.SOCK_STREAM: 1>, laddr=addr(ip='192.168.47.1', port=139), raddr=(), status='LISTEN', pid=4),\n",
       " sconn(fd=-1, family=<AddressFamily.AF_INET: 2>, type=<SocketKind.SOCK_STREAM: 1>, laddr=addr(ip='0.0.0.0', port=2103), raddr=(), status='LISTEN', pid=5488),\n",
       " sconn(fd=-1, family=<AddressFamily.AF_INET: 2>, type=<SocketKind.SOCK_STREAM: 1>, laddr=addr(ip='127.0.0.1', port=64371), raddr=addr(ip='127.0.0.1', port=64372), status='ESTABLISHED', pid=7688),\n",
       " sconn(fd=-1, family=<AddressFamily.AF_INET6: 23>, type=<SocketKind.SOCK_STREAM: 1>, laddr=addr(ip='::', port=2107), raddr=(), status='LISTEN', pid=5488),\n",
       " sconn(fd=-1, family=<AddressFamily.AF_INET6: 23>, type=<SocketKind.SOCK_DGRAM: 2>, laddr=addr(ip='::', port=3702), raddr=(), status='NONE', pid=10768),\n",
       " sconn(fd=-1, family=<AddressFamily.AF_INET: 2>, type=<SocketKind.SOCK_STREAM: 1>, laddr=addr(ip='127.0.0.1', port=64372), raddr=addr(ip='127.0.0.1', port=64371), status='ESTABLISHED', pid=7688),\n",
       " sconn(fd=-1, family=<AddressFamily.AF_INET: 2>, type=<SocketKind.SOCK_DGRAM: 2>, laddr=addr(ip='169.254.250.60', port=137), raddr=(), status='NONE', pid=4),\n",
       " sconn(fd=-1, family=<AddressFamily.AF_INET: 2>, type=<SocketKind.SOCK_STREAM: 1>, laddr=addr(ip='0.0.0.0', port=49666), raddr=(), status='LISTEN', pid=1872),\n",
       " sconn(fd=-1, family=<AddressFamily.AF_INET: 2>, type=<SocketKind.SOCK_STREAM: 1>, laddr=addr(ip='127.0.0.1', port=64381), raddr=addr(ip='127.0.0.1', port=64379), status='ESTABLISHED', pid=7688),\n",
       " sconn(fd=-1, family=<AddressFamily.AF_INET6: 23>, type=<SocketKind.SOCK_STREAM: 1>, laddr=addr(ip='::1', port=49671), raddr=(), status='LISTEN', pid=5816),\n",
       " sconn(fd=-1, family=<AddressFamily.AF_INET: 2>, type=<SocketKind.SOCK_STREAM: 1>, laddr=addr(ip='192.168.0.64', port=63686), raddr=addr(ip='1.12.12.12', port=443), status='ESTABLISHED', pid=2076),\n",
       " sconn(fd=-1, family=<AddressFamily.AF_INET: 2>, type=<SocketKind.SOCK_DGRAM: 2>, laddr=addr(ip='127.0.0.1', port=64355), raddr=(), status='NONE', pid=9692),\n",
       " sconn(fd=-1, family=<AddressFamily.AF_INET: 2>, type=<SocketKind.SOCK_STREAM: 1>, laddr=addr(ip='127.0.0.1', port=7890), raddr=addr(ip='127.0.0.1', port=64304), status='ESTABLISHED', pid=2076),\n",
       " sconn(fd=-1, family=<AddressFamily.AF_INET: 2>, type=<SocketKind.SOCK_DGRAM: 2>, laddr=addr(ip='127.0.0.1', port=59589), raddr=(), status='NONE', pid=5192),\n",
       " sconn(fd=-1, family=<AddressFamily.AF_INET: 2>, type=<SocketKind.SOCK_STREAM: 1>, laddr=addr(ip='127.0.0.1', port=64373), raddr=addr(ip='127.0.0.1', port=64374), status='ESTABLISHED', pid=7688),\n",
       " sconn(fd=-1, family=<AddressFamily.AF_INET: 2>, type=<SocketKind.SOCK_DGRAM: 2>, laddr=addr(ip='0.0.0.0', port=5353), raddr=(), status='NONE', pid=17896),\n",
       " sconn(fd=-1, family=<AddressFamily.AF_INET: 2>, type=<SocketKind.SOCK_STREAM: 1>, laddr=addr(ip='127.0.0.1', port=9002), raddr=(), status='LISTEN', pid=7688),\n",
       " sconn(fd=-1, family=<AddressFamily.AF_INET6: 23>, type=<SocketKind.SOCK_DGRAM: 2>, laddr=addr(ip='::', port=56933), raddr=(), status='NONE', pid=10768),\n",
       " sconn(fd=-1, family=<AddressFamily.AF_INET: 2>, type=<SocketKind.SOCK_STREAM: 1>, laddr=addr(ip='0.0.0.0', port=1801), raddr=(), status='LISTEN', pid=5488),\n",
       " sconn(fd=-1, family=<AddressFamily.AF_INET: 2>, type=<SocketKind.SOCK_STREAM: 1>, laddr=addr(ip='127.0.0.1', port=64394), raddr=addr(ip='127.0.0.1', port=64395), status='ESTABLISHED', pid=7688),\n",
       " sconn(fd=-1, family=<AddressFamily.AF_INET6: 23>, type=<SocketKind.SOCK_STREAM: 1>, laddr=addr(ip='::', port=49669), raddr=(), status='LISTEN', pid=4764),\n",
       " sconn(fd=-1, family=<AddressFamily.AF_INET: 2>, type=<SocketKind.SOCK_STREAM: 1>, laddr=addr(ip='192.168.0.64', port=64305), raddr=addr(ip='20.189.173.7', port=443), status='ESTABLISHED', pid=2076),\n",
       " sconn(fd=-1, family=<AddressFamily.AF_INET: 2>, type=<SocketKind.SOCK_STREAM: 1>, laddr=addr(ip='192.168.0.64', port=64631), raddr=addr(ip='49.79.227.129', port=443), status='TIME_WAIT', pid=0),\n",
       " sconn(fd=-1, family=<AddressFamily.AF_INET: 2>, type=<SocketKind.SOCK_STREAM: 1>, laddr=addr(ip='127.0.0.1', port=7890), raddr=addr(ip='127.0.0.1', port=49295), status='ESTABLISHED', pid=2076),\n",
       " sconn(fd=-1, family=<AddressFamily.AF_INET: 2>, type=<SocketKind.SOCK_STREAM: 1>, laddr=addr(ip='127.0.0.1', port=64403), raddr=addr(ip='127.0.0.1', port=64402), status='ESTABLISHED', pid=7688),\n",
       " sconn(fd=-1, family=<AddressFamily.AF_INET6: 23>, type=<SocketKind.SOCK_STREAM: 1>, laddr=addr(ip='::', port=3389), raddr=(), status='LISTEN', pid=1724),\n",
       " sconn(fd=-1, family=<AddressFamily.AF_INET: 2>, type=<SocketKind.SOCK_STREAM: 1>, laddr=addr(ip='127.0.0.1', port=64404), raddr=addr(ip='127.0.0.1', port=64405), status='ESTABLISHED', pid=7688),\n",
       " sconn(fd=-1, family=<AddressFamily.AF_INET6: 23>, type=<SocketKind.SOCK_STREAM: 1>, laddr=addr(ip='::', port=80), raddr=(), status='LISTEN', pid=4),\n",
       " sconn(fd=-1, family=<AddressFamily.AF_INET: 2>, type=<SocketKind.SOCK_DGRAM: 2>, laddr=addr(ip='0.0.0.0', port=3702), raddr=(), status='NONE', pid=2492),\n",
       " sconn(fd=-1, family=<AddressFamily.AF_INET: 2>, type=<SocketKind.SOCK_STREAM: 1>, laddr=addr(ip='127.0.0.1', port=64390), raddr=addr(ip='127.0.0.1', port=64389), status='ESTABLISHED', pid=7688),\n",
       " sconn(fd=-1, family=<AddressFamily.AF_INET: 2>, type=<SocketKind.SOCK_STREAM: 1>, laddr=addr(ip='127.0.0.1', port=61910), raddr=(), status='LISTEN', pid=11944),\n",
       " sconn(fd=-1, family=<AddressFamily.AF_INET: 2>, type=<SocketKind.SOCK_STREAM: 1>, laddr=addr(ip='192.168.0.64', port=63807), raddr=addr(ip='120.92.107.6', port=443), status='ESTABLISHED', pid=2076)]"
      ]
     },
     "execution_count": 27,
     "metadata": {},
     "output_type": "execute_result"
    }
   ],
   "source": [
    "psutil.net_connections()"
   ]
  },
  {
   "cell_type": "markdown",
   "metadata": {},
   "source": [
    "## net_if_addrs 查看网络接口信息"
   ]
  },
  {
   "cell_type": "code",
   "execution_count": 29,
   "metadata": {},
   "outputs": [
    {
     "data": {
      "text/plain": [
       "{'SSTAP 1': [snicaddr(family=<AddressFamily.AF_LINK: -1>, address='00-FF-1E-E8-C8-CF', netmask=None, broadcast=None, ptp=None),\n",
       "  snicaddr(family=<AddressFamily.AF_INET: 2>, address='169.254.215.150', netmask='255.255.0.0', broadcast=None, ptp=None),\n",
       "  snicaddr(family=<AddressFamily.AF_INET6: 23>, address='fe80::492e:9aff:3ecf:4210', netmask=None, broadcast=None, ptp=None)],\n",
       " '以太网': [snicaddr(family=<AddressFamily.AF_LINK: -1>, address='F0-2F-74-B1-12-22', netmask=None, broadcast=None, ptp=None),\n",
       "  snicaddr(family=<AddressFamily.AF_INET: 2>, address='169.254.154.12', netmask='255.255.0.0', broadcast=None, ptp=None),\n",
       "  snicaddr(family=<AddressFamily.AF_INET6: 23>, address='fe80::73f5:98c5:fd74:2fbc', netmask=None, broadcast=None, ptp=None)],\n",
       " '本地连接* 9': [snicaddr(family=<AddressFamily.AF_LINK: -1>, address='92-DE-80-22-1A-14', netmask=None, broadcast=None, ptp=None),\n",
       "  snicaddr(family=<AddressFamily.AF_INET: 2>, address='169.254.73.171', netmask='255.255.0.0', broadcast=None, ptp=None),\n",
       "  snicaddr(family=<AddressFamily.AF_INET6: 23>, address='fe80::8b47:3bf3:da59:b800', netmask=None, broadcast=None, ptp=None)],\n",
       " '本地连接* 10': [snicaddr(family=<AddressFamily.AF_LINK: -1>, address='90-DE-80-22-1A-14', netmask=None, broadcast=None, ptp=None),\n",
       "  snicaddr(family=<AddressFamily.AF_INET: 2>, address='169.254.189.255', netmask='255.255.0.0', broadcast=None, ptp=None),\n",
       "  snicaddr(family=<AddressFamily.AF_INET6: 23>, address='fe80::9345:952a:8362:925d', netmask=None, broadcast=None, ptp=None)],\n",
       " 'VMware Network Adapter VMnet1': [snicaddr(family=<AddressFamily.AF_LINK: -1>, address='00-50-56-C0-00-01', netmask=None, broadcast=None, ptp=None),\n",
       "  snicaddr(family=<AddressFamily.AF_INET: 2>, address='169.254.250.60', netmask='255.255.0.0', broadcast=None, ptp=None),\n",
       "  snicaddr(family=<AddressFamily.AF_INET6: 23>, address='fe80::b2ca:b1a0:7a:8cd4', netmask=None, broadcast=None, ptp=None)],\n",
       " 'VMware Network Adapter VMnet8': [snicaddr(family=<AddressFamily.AF_LINK: -1>, address='00-50-56-C0-00-08', netmask=None, broadcast=None, ptp=None),\n",
       "  snicaddr(family=<AddressFamily.AF_INET: 2>, address='192.168.47.1', netmask='255.255.255.0', broadcast=None, ptp=None),\n",
       "  snicaddr(family=<AddressFamily.AF_INET6: 23>, address='fe80::6e41:2b22:ff77:95c4', netmask=None, broadcast=None, ptp=None)],\n",
       " 'WLAN': [snicaddr(family=<AddressFamily.AF_LINK: -1>, address='90-DE-80-22-1A-14', netmask=None, broadcast=None, ptp=None),\n",
       "  snicaddr(family=<AddressFamily.AF_INET: 2>, address='192.168.0.64', netmask='255.255.255.0', broadcast=None, ptp=None),\n",
       "  snicaddr(family=<AddressFamily.AF_INET6: 23>, address='fd00:7860:5bfc:4524::100b', netmask=None, broadcast=None, ptp=None),\n",
       "  snicaddr(family=<AddressFamily.AF_INET6: 23>, address='fd00:7860:5bfc:4524:a7e3:aed7:f41:d850', netmask=None, broadcast=None, ptp=None),\n",
       "  snicaddr(family=<AddressFamily.AF_INET6: 23>, address='fd00:7860:5bfc:4524:446e:ec92:f5d9:f582', netmask=None, broadcast=None, ptp=None),\n",
       "  snicaddr(family=<AddressFamily.AF_INET6: 23>, address='fd00:7860:5bfc:4524:f5c3:7c0d:ec59:1d44', netmask=None, broadcast=None, ptp=None),\n",
       "  snicaddr(family=<AddressFamily.AF_INET6: 23>, address='fe80::e936:c23a:3b2c:4e8c', netmask=None, broadcast=None, ptp=None)],\n",
       " 'Loopback Pseudo-Interface 1': [snicaddr(family=<AddressFamily.AF_INET: 2>, address='127.0.0.1', netmask='255.0.0.0', broadcast=None, ptp=None),\n",
       "  snicaddr(family=<AddressFamily.AF_INET6: 23>, address='::1', netmask=None, broadcast=None, ptp=None)]}"
      ]
     },
     "execution_count": 29,
     "metadata": {},
     "output_type": "execute_result"
    }
   ],
   "source": [
    "psutil.net_if_addrs()"
   ]
  },
  {
   "cell_type": "markdown",
   "metadata": {},
   "source": [
    "## net_if_stats 查看网卡的详细信息, 包括是否启动、通信类型、传输速度、mtu"
   ]
  },
  {
   "cell_type": "code",
   "execution_count": 30,
   "metadata": {},
   "outputs": [
    {
     "data": {
      "text/plain": [
       "{'以太网': snicstats(isup=False, duplex=<NicDuplex.NIC_DUPLEX_FULL: 2>, speed=0, mtu=1500, flags=''),\n",
       " 'SSTAP 1': snicstats(isup=False, duplex=<NicDuplex.NIC_DUPLEX_FULL: 2>, speed=100, mtu=1500, flags=''),\n",
       " 'VMware Network Adapter VMnet1': snicstats(isup=True, duplex=<NicDuplex.NIC_DUPLEX_FULL: 2>, speed=100, mtu=1500, flags=''),\n",
       " 'VMware Network Adapter VMnet8': snicstats(isup=True, duplex=<NicDuplex.NIC_DUPLEX_FULL: 2>, speed=100, mtu=1500, flags=''),\n",
       " 'Loopback Pseudo-Interface 1': snicstats(isup=True, duplex=<NicDuplex.NIC_DUPLEX_FULL: 2>, speed=1073, mtu=1500, flags=''),\n",
       " 'WLAN': snicstats(isup=True, duplex=<NicDuplex.NIC_DUPLEX_FULL: 2>, speed=433, mtu=1500, flags=''),\n",
       " '本地连接* 9': snicstats(isup=False, duplex=<NicDuplex.NIC_DUPLEX_FULL: 2>, speed=0, mtu=1500, flags=''),\n",
       " '本地连接* 10': snicstats(isup=False, duplex=<NicDuplex.NIC_DUPLEX_FULL: 2>, speed=0, mtu=1500, flags='')}"
      ]
     },
     "execution_count": 30,
     "metadata": {},
     "output_type": "execute_result"
    }
   ],
   "source": [
    "psutil.net_if_stats()"
   ]
  },
  {
   "cell_type": "markdown",
   "metadata": {},
   "source": [
    "# 传感器"
   ]
  },
  {
   "cell_type": "markdown",
   "metadata": {},
   "source": [
    "## sensors_temperatures 查看传感器温度(Linux, macOS)"
   ]
  },
  {
   "cell_type": "code",
   "execution_count": 35,
   "metadata": {},
   "outputs": [
    {
     "ename": "AttributeError",
     "evalue": "module 'psutil' has no attribute 'sensors_temperatures'",
     "output_type": "error",
     "traceback": [
      "\u001b[1;31m---------------------------------------------------------------------------\u001b[0m",
      "\u001b[1;31mAttributeError\u001b[0m                            Traceback (most recent call last)",
      "\u001b[1;32md:\\ml\\code\\test\\psutil_test\\psutil.ipynb 单元格 49\u001b[0m line \u001b[0;36m1\n\u001b[1;32m----> <a href='vscode-notebook-cell:/d%3A/ml/code/test/psutil_test/psutil.ipynb#Y123sZmlsZQ%3D%3D?line=0'>1</a>\u001b[0m psutil\u001b[39m.\u001b[39;49msensors_temperatures()\n",
      "\u001b[1;31mAttributeError\u001b[0m: module 'psutil' has no attribute 'sensors_temperatures'"
     ]
    }
   ],
   "source": [
    "psutil.sensors_temperatures()"
   ]
  },
  {
   "cell_type": "markdown",
   "metadata": {},
   "source": [
    "## sensors_fans 查看风扇转速(Linux, macOS)"
   ]
  },
  {
   "cell_type": "code",
   "execution_count": 36,
   "metadata": {},
   "outputs": [
    {
     "ename": "AttributeError",
     "evalue": "module 'psutil' has no attribute 'sensors_fans'",
     "output_type": "error",
     "traceback": [
      "\u001b[1;31m---------------------------------------------------------------------------\u001b[0m",
      "\u001b[1;31mAttributeError\u001b[0m                            Traceback (most recent call last)",
      "\u001b[1;32md:\\ml\\code\\test\\psutil_test\\psutil.ipynb 单元格 51\u001b[0m line \u001b[0;36m1\n\u001b[1;32m----> <a href='vscode-notebook-cell:/d%3A/ml/code/test/psutil_test/psutil.ipynb#Y122sZmlsZQ%3D%3D?line=0'>1</a>\u001b[0m psutil\u001b[39m.\u001b[39;49msensors_fans()\n",
      "\u001b[1;31mAttributeError\u001b[0m: module 'psutil' has no attribute 'sensors_fans'"
     ]
    }
   ],
   "source": [
    "psutil.sensors_fans()"
   ]
  },
  {
   "cell_type": "markdown",
   "metadata": {},
   "source": [
    "## sensors_battery 查看电池信息"
   ]
  },
  {
   "cell_type": "code",
   "execution_count": 34,
   "metadata": {},
   "outputs": [],
   "source": [
    "psutil.sensors_battery()"
   ]
  },
  {
   "cell_type": "markdown",
   "metadata": {},
   "source": [
    "# 其他系统信息"
   ]
  },
  {
   "cell_type": "markdown",
   "metadata": {},
   "source": [
    "## 查看系统的启动时间"
   ]
  },
  {
   "cell_type": "code",
   "execution_count": 37,
   "metadata": {},
   "outputs": [
    {
     "data": {
      "text/plain": [
       "1697502307.9373183"
      ]
     },
     "execution_count": 37,
     "metadata": {},
     "output_type": "execute_result"
    }
   ],
   "source": [
    "psutil.boot_time()"
   ]
  },
  {
   "cell_type": "markdown",
   "metadata": {},
   "source": [
    "## 查看登录的用户信息"
   ]
  },
  {
   "cell_type": "code",
   "execution_count": 38,
   "metadata": {},
   "outputs": [
    {
     "data": {
      "text/plain": [
       "[suser(name='Administrator', terminal=None, host=None, started=1697502324.88317, pid=None)]"
      ]
     },
     "execution_count": 38,
     "metadata": {},
     "output_type": "execute_result"
    }
   ],
   "source": [
    "psutil.users()"
   ]
  },
  {
   "cell_type": "markdown",
   "metadata": {},
   "source": [
    "# 进程"
   ]
  },
  {
   "cell_type": "markdown",
   "metadata": {},
   "source": [
    "## pids 查看当前存在的所有进程的 pid"
   ]
  },
  {
   "cell_type": "code",
   "execution_count": 39,
   "metadata": {},
   "outputs": [
    {
     "data": {
      "text/plain": [
       "[0,\n",
       " 4,\n",
       " 8,\n",
       " 104,\n",
       " 180,\n",
       " 620,\n",
       " 728,\n",
       " 872,\n",
       " 1028,\n",
       " 1048,\n",
       " 1056,\n",
       " 1068,\n",
       " 1144,\n",
       " 1196,\n",
       " 1224,\n",
       " 1236,\n",
       " 1284,\n",
       " 1328,\n",
       " 1416,\n",
       " 1436,\n",
       " 1468,\n",
       " 1536,\n",
       " 1560,\n",
       " 1632,\n",
       " 1676,\n",
       " 1724,\n",
       " 1744,\n",
       " 1772,\n",
       " 1780,\n",
       " 1796,\n",
       " 1872,\n",
       " 1908,\n",
       " 1916,\n",
       " 1988,\n",
       " 2000,\n",
       " 2012,\n",
       " 2060,\n",
       " 2076,\n",
       " 2340,\n",
       " 2388,\n",
       " 2400,\n",
       " 2424,\n",
       " 2432,\n",
       " 2460,\n",
       " 2492,\n",
       " 2536,\n",
       " 2596,\n",
       " 2616,\n",
       " 2624,\n",
       " 2632,\n",
       " 2648,\n",
       " 2720,\n",
       " 2756,\n",
       " 2768,\n",
       " 2784,\n",
       " 2876,\n",
       " 2932,\n",
       " 2944,\n",
       " 3068,\n",
       " 3104,\n",
       " 3112,\n",
       " 3176,\n",
       " 3204,\n",
       " 3212,\n",
       " 3268,\n",
       " 3288,\n",
       " 3344,\n",
       " 3396,\n",
       " 3420,\n",
       " 3604,\n",
       " 3684,\n",
       " 3784,\n",
       " 3804,\n",
       " 3844,\n",
       " 3860,\n",
       " 3920,\n",
       " 3928,\n",
       " 3952,\n",
       " 3984,\n",
       " 4104,\n",
       " 4236,\n",
       " 4264,\n",
       " 4272,\n",
       " 4336,\n",
       " 4440,\n",
       " 4484,\n",
       " 4512,\n",
       " 4520,\n",
       " 4532,\n",
       " 4540,\n",
       " 4580,\n",
       " 4592,\n",
       " 4748,\n",
       " 4764,\n",
       " 5032,\n",
       " 5036,\n",
       " 5088,\n",
       " 5096,\n",
       " 5104,\n",
       " 5116,\n",
       " 5128,\n",
       " 5136,\n",
       " 5184,\n",
       " 5192,\n",
       " 5224,\n",
       " 5236,\n",
       " 5252,\n",
       " 5272,\n",
       " 5288,\n",
       " 5364,\n",
       " 5376,\n",
       " 5444,\n",
       " 5488,\n",
       " 5524,\n",
       " 5776,\n",
       " 5788,\n",
       " 5816,\n",
       " 5832,\n",
       " 6488,\n",
       " 6556,\n",
       " 6680,\n",
       " 6844,\n",
       " 6980,\n",
       " 7128,\n",
       " 7220,\n",
       " 7252,\n",
       " 7340,\n",
       " 7344,\n",
       " 7424,\n",
       " 7468,\n",
       " 7668,\n",
       " 7688,\n",
       " 7784,\n",
       " 7808,\n",
       " 7884,\n",
       " 7948,\n",
       " 8136,\n",
       " 8240,\n",
       " 8360,\n",
       " 8400,\n",
       " 8464,\n",
       " 8652,\n",
       " 8740,\n",
       " 8848,\n",
       " 8860,\n",
       " 8908,\n",
       " 9212,\n",
       " 9228,\n",
       " 9324,\n",
       " 9360,\n",
       " 9372,\n",
       " 9504,\n",
       " 9604,\n",
       " 9644,\n",
       " 9692,\n",
       " 9852,\n",
       " 10040,\n",
       " 10224,\n",
       " 10256,\n",
       " 10404,\n",
       " 10668,\n",
       " 10768,\n",
       " 10836,\n",
       " 10844,\n",
       " 10900,\n",
       " 11164,\n",
       " 11648,\n",
       " 11688,\n",
       " 11808,\n",
       " 11944,\n",
       " 12052,\n",
       " 12124,\n",
       " 12348,\n",
       " 12552,\n",
       " 12568,\n",
       " 12592,\n",
       " 12672,\n",
       " 12712,\n",
       " 12780,\n",
       " 12948,\n",
       " 12972,\n",
       " 12992,\n",
       " 13036,\n",
       " 13068,\n",
       " 13428,\n",
       " 13460,\n",
       " 13476,\n",
       " 13520,\n",
       " 13688,\n",
       " 13848,\n",
       " 13888,\n",
       " 14188,\n",
       " 14420,\n",
       " 14544,\n",
       " 14688,\n",
       " 14756,\n",
       " 14760,\n",
       " 14844,\n",
       " 15036,\n",
       " 15064,\n",
       " 15204,\n",
       " 15288,\n",
       " 15352,\n",
       " 15552,\n",
       " 15776,\n",
       " 15792,\n",
       " 15804,\n",
       " 15956,\n",
       " 16096,\n",
       " 16132,\n",
       " 16408,\n",
       " 16472,\n",
       " 16500,\n",
       " 16604,\n",
       " 16792,\n",
       " 16868,\n",
       " 16884,\n",
       " 17004,\n",
       " 17024,\n",
       " 17048,\n",
       " 17124,\n",
       " 17228,\n",
       " 17388,\n",
       " 17668,\n",
       " 17816,\n",
       " 17864,\n",
       " 17896,\n",
       " 17904,\n",
       " 17956,\n",
       " 18368,\n",
       " 18560,\n",
       " 18884,\n",
       " 18900,\n",
       " 19148,\n",
       " 19168,\n",
       " 19208,\n",
       " 19220,\n",
       " 19276,\n",
       " 19448,\n",
       " 19560,\n",
       " 19572,\n",
       " 19732,\n",
       " 19788,\n",
       " 19808,\n",
       " 19840,\n",
       " 20152,\n",
       " 20180,\n",
       " 20280,\n",
       " 20320,\n",
       " 20348,\n",
       " 20672,\n",
       " 20716,\n",
       " 20768,\n",
       " 20884,\n",
       " 20900,\n",
       " 20924,\n",
       " 21144,\n",
       " 21172,\n",
       " 21184,\n",
       " 21408,\n",
       " 21512,\n",
       " 21528,\n",
       " 21656,\n",
       " 21736,\n",
       " 21740,\n",
       " 21840,\n",
       " 21856,\n",
       " 22112,\n",
       " 22356,\n",
       " 22408,\n",
       " 22484,\n",
       " 22760,\n",
       " 23060,\n",
       " 23200,\n",
       " 23284,\n",
       " 23768,\n",
       " 23860,\n",
       " 24116,\n",
       " 24444,\n",
       " 24520,\n",
       " 24544,\n",
       " 24568,\n",
       " 25260,\n",
       " 25292]"
      ]
     },
     "execution_count": 39,
     "metadata": {},
     "output_type": "execute_result"
    }
   ],
   "source": [
    "psutil.pids()"
   ]
  },
  {
   "cell_type": "markdown",
   "metadata": {},
   "source": [
    "## process_iter 返回所有进程（Process）对象组成的迭代器"
   ]
  },
  {
   "cell_type": "code",
   "execution_count": 41,
   "metadata": {},
   "outputs": [
    {
     "name": "stdout",
     "output_type": "stream",
     "text": [
      "{'name': 'System Idle Process', 'pid': 0, 'username': 'NT AUTHORITY\\\\SYSTEM'}\n",
      "{'name': 'System', 'pid': 4, 'username': 'NT AUTHORITY\\\\SYSTEM'}\n",
      "{'name': 'csrss.exe', 'pid': 8, 'username': 'NT AUTHORITY\\\\SYSTEM'}\n",
      "{'name': '', 'pid': 104, 'username': 'NT AUTHORITY\\\\SYSTEM'}\n",
      "{'name': 'Registry', 'pid': 180, 'username': 'NT AUTHORITY\\\\SYSTEM'}\n",
      "{'name': 'smss.exe', 'pid': 620, 'username': 'NT AUTHORITY\\\\SYSTEM'}\n",
      "{'name': 'wininit.exe', 'pid': 728, 'username': 'NT AUTHORITY\\\\SYSTEM'}\n",
      "{'name': 'csrss.exe', 'pid': 872, 'username': 'NT AUTHORITY\\\\SYSTEM'}\n",
      "{'name': 'services.exe', 'pid': 1028, 'username': 'NT AUTHORITY\\\\SYSTEM'}\n",
      "{'name': 'LsaIso.exe', 'pid': 1048, 'username': 'NT AUTHORITY\\\\SYSTEM'}\n",
      "{'name': 'lsass.exe', 'pid': 1056, 'username': 'NT AUTHORITY\\\\SYSTEM'}\n",
      "{'name': 'svchost.exe', 'pid': 1068, 'username': 'NT AUTHORITY\\\\LOCAL SERVICE'}\n",
      "{'name': 'python.exe', 'pid': 1144, 'username': '1080TI\\\\Administrator'}\n",
      "{'name': 'svchost.exe', 'pid': 1196, 'username': 'NT AUTHORITY\\\\SYSTEM'}\n",
      "{'name': 'fontdrvhost.exe', 'pid': 1224, 'username': 'Font Driver Host\\\\UMFD-0'}\n",
      "{'name': 'MSIAfterburner.exe', 'pid': 1236, 'username': '1080TI\\\\Administrator'}\n",
      "{'name': 'winlogon.exe', 'pid': 1284, 'username': 'NT AUTHORITY\\\\SYSTEM'}\n",
      "{'name': 'fontdrvhost.exe', 'pid': 1328, 'username': 'Font Driver Host\\\\UMFD-1'}\n",
      "{'name': 'svchost.exe', 'pid': 1416, 'username': 'NT AUTHORITY\\\\NETWORK SERVICE'}\n",
      "{'name': 'svchost.exe', 'pid': 1436, 'username': 'NT AUTHORITY\\\\LOCAL SERVICE'}\n",
      "{'name': 'svchost.exe', 'pid': 1468, 'username': 'NT AUTHORITY\\\\SYSTEM'}\n",
      "{'name': 'svchost.exe', 'pid': 1536, 'username': 'NT AUTHORITY\\\\LOCAL SERVICE'}\n",
      "{'name': 'dwm.exe', 'pid': 1560, 'username': 'Window Manager\\\\DWM-1'}\n",
      "{'name': 'WUDFHost.exe', 'pid': 1632, 'username': 'NT AUTHORITY\\\\LOCAL SERVICE'}\n",
      "{'name': 'Code.exe', 'pid': 1676, 'username': '1080TI\\\\Administrator'}\n",
      "{'name': 'svchost.exe', 'pid': 1724, 'username': 'NT AUTHORITY\\\\NETWORK SERVICE'}\n",
      "{'name': 'svchost.exe', 'pid': 1744, 'username': 'NT AUTHORITY\\\\LOCAL SERVICE'}\n",
      "{'name': 'RuntimeBroker.exe', 'pid': 1772, 'username': '1080TI\\\\Administrator'}\n",
      "{'name': 'svchost.exe', 'pid': 1780, 'username': 'NT AUTHORITY\\\\SYSTEM'}\n",
      "{'name': 'svchost.exe', 'pid': 1796, 'username': 'NT AUTHORITY\\\\LOCAL SERVICE'}\n",
      "{'name': 'svchost.exe', 'pid': 1872, 'username': 'NT AUTHORITY\\\\LOCAL SERVICE'}\n",
      "{'name': 'svchost.exe', 'pid': 1908, 'username': 'NT AUTHORITY\\\\SYSTEM'}\n",
      "{'name': 'svchost.exe', 'pid': 1916, 'username': 'NT AUTHORITY\\\\LOCAL SERVICE'}\n",
      "{'name': 'svchost.exe', 'pid': 1988, 'username': 'NT AUTHORITY\\\\SYSTEM'}\n",
      "{'name': 'svchost.exe', 'pid': 2000, 'username': 'NT AUTHORITY\\\\LOCAL SERVICE'}\n",
      "{'name': 'taskhostw.exe', 'pid': 2012, 'username': '1080TI\\\\Administrator'}\n",
      "{'name': 'svchost.exe', 'pid': 2060, 'username': 'NT AUTHORITY\\\\LOCAL SERVICE'}\n",
      "{'name': 'clash.exe', 'pid': 2076, 'username': '1080TI\\\\Administrator'}\n",
      "{'name': 'svchost.exe', 'pid': 2340, 'username': 'NT AUTHORITY\\\\NETWORK SERVICE'}\n",
      "{'name': 'svchost.exe', 'pid': 2388, 'username': 'NT AUTHORITY\\\\SYSTEM'}\n",
      "{'name': 'ApplicationFrameHost.exe', 'pid': 2400, 'username': '1080TI\\\\Administrator'}\n",
      "{'name': 'svchost.exe', 'pid': 2424, 'username': 'NT AUTHORITY\\\\SYSTEM'}\n",
      "{'name': 'NVDisplay.Container.exe', 'pid': 2432, 'username': 'NT AUTHORITY\\\\SYSTEM'}\n",
      "{'name': 'python.exe', 'pid': 2460, 'username': '1080TI\\\\Administrator'}\n",
      "{'name': 'dasHost.exe', 'pid': 2492, 'username': 'NT AUTHORITY\\\\LOCAL SERVICE'}\n",
      "{'name': 'svchost.exe', 'pid': 2536, 'username': 'NT AUTHORITY\\\\LOCAL SERVICE'}\n",
      "{'name': 'TextInputHost.exe', 'pid': 2596, 'username': '1080TI\\\\Administrator'}\n",
      "{'name': 'svchost.exe', 'pid': 2616, 'username': 'NT AUTHORITY\\\\SYSTEM'}\n",
      "{'name': 'svchost.exe', 'pid': 2624, 'username': 'NT AUTHORITY\\\\SYSTEM'}\n",
      "{'name': 'svchost.exe', 'pid': 2632, 'username': 'NT AUTHORITY\\\\SYSTEM'}\n",
      "{'name': 'svchost.exe', 'pid': 2648, 'username': 'NT AUTHORITY\\\\LOCAL SERVICE'}\n",
      "{'name': 'Code.exe', 'pid': 2720, 'username': '1080TI\\\\Administrator'}\n",
      "{'name': 'svchost.exe', 'pid': 2756, 'username': 'NT AUTHORITY\\\\SYSTEM'}\n",
      "{'name': 'Code.exe', 'pid': 2768, 'username': '1080TI\\\\Administrator'}\n",
      "{'name': 'svchost.exe', 'pid': 2784, 'username': 'NT AUTHORITY\\\\SYSTEM'}\n",
      "{'name': 'svchost.exe', 'pid': 2876, 'username': 'NT AUTHORITY\\\\SYSTEM'}\n",
      "{'name': 'RuntimeBroker.exe', 'pid': 2932, 'username': '1080TI\\\\Administrator'}\n",
      "{'name': 'MemCompression', 'pid': 2944, 'username': 'NT AUTHORITY\\\\SYSTEM'}\n",
      "{'name': 'svchost.exe', 'pid': 3068, 'username': 'NT AUTHORITY\\\\SYSTEM'}\n",
      "{'name': 'svchost.exe', 'pid': 3104, 'username': 'NT AUTHORITY\\\\SYSTEM'}\n",
      "{'name': 'WUDFHost.exe', 'pid': 3112, 'username': 'NT AUTHORITY\\\\LOCAL SERVICE'}\n",
      "{'name': 'svchost.exe', 'pid': 3176, 'username': 'NT AUTHORITY\\\\SYSTEM'}\n",
      "{'name': 'RuntimeBroker.exe', 'pid': 3204, 'username': '1080TI\\\\Administrator'}\n",
      "{'name': 'pwsh.exe', 'pid': 3212, 'username': '1080TI\\\\Administrator'}\n",
      "{'name': 'msedge.exe', 'pid': 3268, 'username': '1080TI\\\\Administrator'}\n",
      "{'name': 'svchost.exe', 'pid': 3288, 'username': 'NT AUTHORITY\\\\NETWORK SERVICE'}\n",
      "{'name': 'svchost.exe', 'pid': 3344, 'username': 'NT AUTHORITY\\\\SYSTEM'}\n",
      "{'name': 'svchost.exe', 'pid': 3396, 'username': 'NT AUTHORITY\\\\NETWORK SERVICE'}\n",
      "{'name': 'svchost.exe', 'pid': 3420, 'username': 'NT AUTHORITY\\\\SYSTEM'}\n",
      "{'name': 'svchost.exe', 'pid': 3604, 'username': 'NT AUTHORITY\\\\SYSTEM'}\n",
      "{'name': 'svchost.exe', 'pid': 3684, 'username': 'NT AUTHORITY\\\\LOCAL SERVICE'}\n",
      "{'name': 'svchost.exe', 'pid': 3784, 'username': 'NT AUTHORITY\\\\LOCAL SERVICE'}\n",
      "{'name': 'svchost.exe', 'pid': 3804, 'username': 'NT AUTHORITY\\\\LOCAL SERVICE'}\n",
      "{'name': 'svchost.exe', 'pid': 3844, 'username': 'NT AUTHORITY\\\\SYSTEM'}\n",
      "{'name': 'svchost.exe', 'pid': 3860, 'username': 'NT AUTHORITY\\\\SYSTEM'}\n",
      "{'name': 'svchost.exe', 'pid': 3920, 'username': 'NT AUTHORITY\\\\SYSTEM'}\n",
      "{'name': 'svchost.exe', 'pid': 3928, 'username': 'NT AUTHORITY\\\\NETWORK SERVICE'}\n",
      "{'name': 'explorer.exe', 'pid': 3952, 'username': '1080TI\\\\Administrator'}\n",
      "{'name': 'msedge.exe', 'pid': 3984, 'username': '1080TI\\\\Administrator'}\n",
      "{'name': 'svchost.exe', 'pid': 4104, 'username': 'NT AUTHORITY\\\\SYSTEM'}\n",
      "{'name': 'svchost.exe', 'pid': 4236, 'username': 'NT AUTHORITY\\\\SYSTEM'}\n",
      "{'name': 'svchost.exe', 'pid': 4264, 'username': 'NT AUTHORITY\\\\LOCAL SERVICE'}\n",
      "{'name': 'svchost.exe', 'pid': 4272, 'username': 'NT AUTHORITY\\\\LOCAL SERVICE'}\n",
      "{'name': 'msedge.exe', 'pid': 4336, 'username': '1080TI\\\\Administrator'}\n",
      "{'name': 'svchost.exe', 'pid': 4440, 'username': 'NT AUTHORITY\\\\SYSTEM'}\n",
      "{'name': 'svchost.exe', 'pid': 4484, 'username': '1080TI\\\\Administrator'}\n",
      "{'name': 'svchost.exe', 'pid': 4512, 'username': 'NT AUTHORITY\\\\SYSTEM'}\n",
      "{'name': 'svchost.exe', 'pid': 4520, 'username': 'NT AUTHORITY\\\\SYSTEM'}\n",
      "{'name': 'svchost.exe', 'pid': 4532, 'username': 'NT AUTHORITY\\\\LOCAL SERVICE'}\n",
      "{'name': 'Everything.exe', 'pid': 4540, 'username': 'NT AUTHORITY\\\\SYSTEM'}\n",
      "{'name': 'DataExchangeHost.exe', 'pid': 4580, 'username': '1080TI\\\\Administrator'}\n",
      "{'name': 'svchost.exe', 'pid': 4592, 'username': 'NT AUTHORITY\\\\SYSTEM'}\n",
      "{'name': 'python.exe', 'pid': 4748, 'username': '1080TI\\\\Administrator'}\n",
      "{'name': 'spoolsv.exe', 'pid': 4764, 'username': 'NT AUTHORITY\\\\SYSTEM'}\n",
      "{'name': 'svchost.exe', 'pid': 5032, 'username': 'NT AUTHORITY\\\\SYSTEM'}\n",
      "{'name': 'GoogleCrashHandler64.exe', 'pid': 5036, 'username': 'NT AUTHORITY\\\\SYSTEM'}\n",
      "{'name': 'ctfmon.exe', 'pid': 5088, 'username': '1080TI\\\\Administrator'}\n",
      "{'name': 'svchost.exe', 'pid': 5096, 'username': 'NT AUTHORITY\\\\SYSTEM'}\n",
      "{'name': 'svchost.exe', 'pid': 5104, 'username': 'NT AUTHORITY\\\\LOCAL SERVICE'}\n",
      "{'name': 'svchost.exe', 'pid': 5116, 'username': 'NT AUTHORITY\\\\NETWORK SERVICE'}\n",
      "{'name': 'vmware-authd.exe', 'pid': 5128, 'username': 'NT AUTHORITY\\\\SYSTEM'}\n",
      "{'name': 'WifiAutoInstallSrv.exe', 'pid': 5136, 'username': 'NT AUTHORITY\\\\SYSTEM'}\n",
      "{'name': 'vmnetdhcp.exe', 'pid': 5184, 'username': 'NT AUTHORITY\\\\SYSTEM'}\n",
      "{'name': 'SunloginClient.exe', 'pid': 5192, 'username': 'NT AUTHORITY\\\\SYSTEM'}\n",
      "{'name': 'vmnat.exe', 'pid': 5224, 'username': 'NT AUTHORITY\\\\SYSTEM'}\n",
      "{'name': 'MsMpEng.exe', 'pid': 5236, 'username': 'NT AUTHORITY\\\\SYSTEM'}\n",
      "{'name': 'WMIRegistrationService.exe', 'pid': 5252, 'username': 'NT AUTHORITY\\\\SYSTEM'}\n",
      "{'name': 'vmware-usbarbitrator64.exe', 'pid': 5272, 'username': 'NT AUTHORITY\\\\SYSTEM'}\n",
      "{'name': 'FNPLicensingService.exe', 'pid': 5288, 'username': 'NT AUTHORITY\\\\SYSTEM'}\n",
      "{'name': 'OfficeClickToRun.exe', 'pid': 5364, 'username': 'NT AUTHORITY\\\\SYSTEM'}\n",
      "{'name': 'svchost.exe', 'pid': 5376, 'username': 'NT AUTHORITY\\\\LOCAL SERVICE'}\n",
      "{'name': 'svchost.exe', 'pid': 5444, 'username': 'NT AUTHORITY\\\\LOCAL SERVICE'}\n",
      "{'name': 'mqsvc.exe', 'pid': 5488, 'username': 'NT AUTHORITY\\\\NETWORK SERVICE'}\n",
      "{'name': 'SDXHelper.exe', 'pid': 5524, 'username': '1080TI\\\\Administrator'}\n",
      "{'name': 'svchost.exe', 'pid': 5776, 'username': 'NT AUTHORITY\\\\SYSTEM'}\n",
      "{'name': 'yolo.exe', 'pid': 5788, 'username': '1080TI\\\\Administrator'}\n",
      "{'name': 'jhi_service.exe', 'pid': 5816, 'username': 'NT AUTHORITY\\\\SYSTEM'}\n",
      "{'name': 'svchost.exe', 'pid': 5832, 'username': 'NT AUTHORITY\\\\SYSTEM'}\n",
      "{'name': 'msedge.exe', 'pid': 6488, 'username': '1080TI\\\\Administrator'}\n",
      "{'name': 'SunloginClient.exe', 'pid': 6556, 'username': 'NT AUTHORITY\\\\SYSTEM'}\n",
      "{'name': 'msedge.exe', 'pid': 6680, 'username': '1080TI\\\\Administrator'}\n",
      "{'name': 'dasHost.exe', 'pid': 6844, 'username': 'NT AUTHORITY\\\\NETWORK SERVICE'}\n",
      "{'name': 'svchost.exe', 'pid': 6980, 'username': 'NT AUTHORITY\\\\SYSTEM'}\n",
      "{'name': 'svchost.exe', 'pid': 7128, 'username': 'NT AUTHORITY\\\\LOCAL SERVICE'}\n",
      "{'name': 'pwsh.exe', 'pid': 7220, 'username': '1080TI\\\\Administrator'}\n",
      "{'name': 'python.exe', 'pid': 7252, 'username': '1080TI\\\\Administrator'}\n",
      "{'name': 'QQPYClipMonitor.exe', 'pid': 7340, 'username': '1080TI\\\\Administrator'}\n",
      "{'name': 'sihost.exe', 'pid': 7344, 'username': '1080TI\\\\Administrator'}\n",
      "{'name': 'python.exe', 'pid': 7424, 'username': '1080TI\\\\Administrator'}\n",
      "{'name': 'MoUsoCoreWorker.exe', 'pid': 7468, 'username': 'NT AUTHORITY\\\\SYSTEM'}\n",
      "{'name': 'svchost.exe', 'pid': 7668, 'username': '1080TI\\\\Administrator'}\n",
      "{'name': 'python.exe', 'pid': 7688, 'username': '1080TI\\\\Administrator'}\n",
      "{'name': 'Code.exe', 'pid': 7784, 'username': '1080TI\\\\Administrator'}\n",
      "{'name': 'NVDisplay.Container.exe', 'pid': 7808, 'username': 'NT AUTHORITY\\\\SYSTEM'}\n",
      "{'name': 'WeChatUtility.exe', 'pid': 7884, 'username': '1080TI\\\\Administrator'}\n",
      "{'name': 'StartMenuExperienceHost.exe', 'pid': 7948, 'username': '1080TI\\\\Administrator'}\n",
      "{'name': 'svchost.exe', 'pid': 8136, 'username': 'NT AUTHORITY\\\\LOCAL SERVICE'}\n",
      "{'name': 'DingTalk.exe', 'pid': 8240, 'username': '1080TI\\\\Administrator'}\n",
      "{'name': 'NisSrv.exe', 'pid': 8360, 'username': 'NT AUTHORITY\\\\LOCAL SERVICE'}\n",
      "{'name': 'msedge.exe', 'pid': 8400, 'username': '1080TI\\\\Administrator'}\n",
      "{'name': 'msedge.exe', 'pid': 8464, 'username': '1080TI\\\\Administrator'}\n",
      "{'name': 'GoogleCrashHandler.exe', 'pid': 8652, 'username': 'NT AUTHORITY\\\\SYSTEM'}\n",
      "{'name': 'python.exe', 'pid': 8740, 'username': '1080TI\\\\Administrator'}\n",
      "{'name': 'svchost.exe', 'pid': 8848, 'username': '1080TI\\\\Administrator'}\n",
      "{'name': 'dllhost.exe', 'pid': 8860, 'username': 'NT AUTHORITY\\\\SYSTEM'}\n",
      "{'name': 'msedge.exe', 'pid': 8908, 'username': '1080TI\\\\Administrator'}\n",
      "{'name': 'svchost.exe', 'pid': 9212, 'username': 'NT AUTHORITY\\\\SYSTEM'}\n",
      "{'name': 'python.exe', 'pid': 9228, 'username': '1080TI\\\\Administrator'}\n",
      "{'name': 'mmcrashpad_handler64.exe', 'pid': 9324, 'username': '1080TI\\\\Administrator'}\n",
      "{'name': 'QQPYConfig.exe', 'pid': 9360, 'username': '1080TI\\\\Administrator'}\n",
      "{'name': 'RuntimeBroker.exe', 'pid': 9372, 'username': '1080TI\\\\Administrator'}\n",
      "{'name': 'python.exe', 'pid': 9504, 'username': '1080TI\\\\Administrator'}\n",
      "{'name': 'msedge.exe', 'pid': 9604, 'username': '1080TI\\\\Administrator'}\n",
      "{'name': 'SearchApp.exe', 'pid': 9644, 'username': '1080TI\\\\Administrator'}\n",
      "{'name': 'QQ.exe', 'pid': 9692, 'username': '1080TI\\\\Administrator'}\n",
      "{'name': 'SearchIndexer.exe', 'pid': 9852, 'username': 'NT AUTHORITY\\\\SYSTEM'}\n",
      "{'name': 'RuntimeBroker.exe', 'pid': 10040, 'username': '1080TI\\\\Administrator'}\n",
      "{'name': 'svchost.exe', 'pid': 10224, 'username': 'NT AUTHORITY\\\\SYSTEM'}\n",
      "{'name': 'WmiPrvSE.exe', 'pid': 10256, 'username': 'NT AUTHORITY\\\\SYSTEM'}\n",
      "{'name': 'PhoneExperienceHost.exe', 'pid': 10404, 'username': '1080TI\\\\Administrator'}\n",
      "{'name': 'RuntimeBroker.exe', 'pid': 10668, 'username': '1080TI\\\\Administrator'}\n",
      "{'name': 'svchost.exe', 'pid': 10768, 'username': 'NT AUTHORITY\\\\LOCAL SERVICE'}\n",
      "{'name': 'msedge.exe', 'pid': 10836, 'username': '1080TI\\\\Administrator'}\n",
      "{'name': 'taskhostw.exe', 'pid': 10844, 'username': '1080TI\\\\Administrator'}\n",
      "{'name': 'python.exe', 'pid': 10900, 'username': '1080TI\\\\Administrator'}\n",
      "{'name': 'WeChat.exe', 'pid': 11164, 'username': '1080TI\\\\Administrator'}\n",
      "{'name': 'WeChatAppEx.exe', 'pid': 11648, 'username': '1080TI\\\\Administrator'}\n",
      "{'name': 'python.exe', 'pid': 11688, 'username': '1080TI\\\\Administrator'}\n",
      "{'name': 'WeChatAppEx.exe', 'pid': 11808, 'username': '1080TI\\\\Administrator'}\n",
      "{'name': 'DingTalk.exe', 'pid': 11944, 'username': '1080TI\\\\Administrator'}\n",
      "{'name': 'WeChatAppEx.exe', 'pid': 12052, 'username': '1080TI\\\\Administrator'}\n",
      "{'name': 'WeChatAppEx.exe', 'pid': 12124, 'username': '1080TI\\\\Administrator'}\n",
      "{'name': 'DingTalk.exe', 'pid': 12348, 'username': '1080TI\\\\Administrator'}\n",
      "{'name': 'Taskmgr.exe', 'pid': 12552, 'username': '1080TI\\\\Administrator'}\n",
      "{'name': 'TXPlatform.exe', 'pid': 12568, 'username': '1080TI\\\\Administrator'}\n",
      "{'name': 'DingTalk.exe', 'pid': 12592, 'username': '1080TI\\\\Administrator'}\n",
      "{'name': 'RuntimeBroker.exe', 'pid': 12672, 'username': '1080TI\\\\Administrator'}\n",
      "{'name': 'RtkNGUI64.exe', 'pid': 12712, 'username': '1080TI\\\\Administrator'}\n",
      "{'name': 'Everything.exe', 'pid': 12780, 'username': '1080TI\\\\Administrator'}\n",
      "{'name': 'svchost.exe', 'pid': 12948, 'username': 'NT AUTHORITY\\\\SYSTEM'}\n",
      "{'name': 'QQGuild.exe', 'pid': 12972, 'username': '1080TI\\\\Administrator'}\n",
      "{'name': 'SunloginClient.exe', 'pid': 12992, 'username': '1080TI\\\\Administrator'}\n",
      "{'name': 'svchost.exe', 'pid': 13036, 'username': 'NT AUTHORITY\\\\SYSTEM'}\n",
      "{'name': 'QuickLook.exe', 'pid': 13068, 'username': '1080TI\\\\Administrator'}\n",
      "{'name': 'QQGuild.exe', 'pid': 13428, 'username': '1080TI\\\\Administrator'}\n",
      "{'name': 'QQGuild.exe', 'pid': 13460, 'username': '1080TI\\\\Administrator'}\n",
      "{'name': 'python.exe', 'pid': 13476, 'username': '1080TI\\\\Administrator'}\n",
      "{'name': 'WeChatAppEx.exe', 'pid': 13688, 'username': '1080TI\\\\Administrator'}\n",
      "{'name': 'python.exe', 'pid': 13848, 'username': '1080TI\\\\Administrator'}\n",
      "{'name': 'QQGuild.exe', 'pid': 13888, 'username': '1080TI\\\\Administrator'}\n",
      "{'name': 'QQGuild.exe', 'pid': 14188, 'username': '1080TI\\\\Administrator'}\n",
      "{'name': 'DingTalk.exe', 'pid': 14420, 'username': '1080TI\\\\Administrator'}\n",
      "{'name': 'DingTalk.exe', 'pid': 14544, 'username': '1080TI\\\\Administrator'}\n",
      "{'name': 'msedge.exe', 'pid': 14688, 'username': '1080TI\\\\Administrator'}\n",
      "{'name': 'Code.exe', 'pid': 14756, 'username': '1080TI\\\\Administrator'}\n",
      "{'name': 'msedge.exe', 'pid': 14760, 'username': '1080TI\\\\Administrator'}\n",
      "{'name': 'taskhostw.exe', 'pid': 14844, 'username': '1080TI\\\\Administrator'}\n",
      "{'name': 'Code.exe', 'pid': 15036, 'username': '1080TI\\\\Administrator'}\n",
      "{'name': 'python.exe', 'pid': 15064, 'username': '1080TI\\\\Administrator'}\n",
      "{'name': 'python.exe', 'pid': 15204, 'username': '1080TI\\\\Administrator'}\n",
      "{'name': 'ShellExperienceHost.exe', 'pid': 15288, 'username': '1080TI\\\\Administrator'}\n",
      "{'name': 'WeChatPlayer.exe', 'pid': 15352, 'username': '1080TI\\\\Administrator'}\n",
      "{'name': 'msedge.exe', 'pid': 15552, 'username': '1080TI\\\\Administrator'}\n",
      "{'name': 'msedge.exe', 'pid': 15776, 'username': '1080TI\\\\Administrator'}\n",
      "{'name': 'msedge.exe', 'pid': 15792, 'username': '1080TI\\\\Administrator'}\n",
      "{'name': 'CompPkgSrv.exe', 'pid': 15804, 'username': '1080TI\\\\Administrator'}\n",
      "{'name': 'msedge.exe', 'pid': 15956, 'username': '1080TI\\\\Administrator'}\n",
      "{'name': 'svchost.exe', 'pid': 16096, 'username': 'NT AUTHORITY\\\\LOCAL SERVICE'}\n",
      "{'name': 'tensorboard.exe', 'pid': 16132, 'username': '1080TI\\\\Administrator'}\n",
      "{'name': 'python.exe', 'pid': 16408, 'username': '1080TI\\\\Administrator'}\n",
      "{'name': 'msedge.exe', 'pid': 16472, 'username': '1080TI\\\\Administrator'}\n",
      "{'name': 'python.exe', 'pid': 16500, 'username': '1080TI\\\\Administrator'}\n",
      "{'name': 'WeChatOCR.exe', 'pid': 16604, 'username': '1080TI\\\\Administrator'}\n",
      "{'name': 'python.exe', 'pid': 16792, 'username': '1080TI\\\\Administrator'}\n",
      "{'name': 'svchost.exe', 'pid': 16868, 'username': 'NT AUTHORITY\\\\SYSTEM'}\n",
      "{'name': 'python.exe', 'pid': 16884, 'username': '1080TI\\\\Administrator'}\n",
      "{'name': 'Code.exe', 'pid': 17004, 'username': '1080TI\\\\Administrator'}\n",
      "{'name': 'SystemSettings.exe', 'pid': 17024, 'username': '1080TI\\\\Administrator'}\n",
      "{'name': 'python.exe', 'pid': 17048, 'username': '1080TI\\\\Administrator'}\n",
      "{'name': 'svchost.exe', 'pid': 17124, 'username': 'NT AUTHORITY\\\\SYSTEM'}\n",
      "{'name': 'SgrmBroker.exe', 'pid': 17228, 'username': 'NT AUTHORITY\\\\SYSTEM'}\n",
      "{'name': 'python.exe', 'pid': 17388, 'username': '1080TI\\\\Administrator'}\n",
      "{'name': 'UserOOBEBroker.exe', 'pid': 17668, 'username': '1080TI\\\\Administrator'}\n",
      "{'name': 'msedge.exe', 'pid': 17816, 'username': '1080TI\\\\Administrator'}\n",
      "{'name': 'OpenConsole.exe', 'pid': 17864, 'username': '1080TI\\\\Administrator'}\n",
      "{'name': 'msedge.exe', 'pid': 17896, 'username': '1080TI\\\\Administrator'}\n",
      "{'name': 'msedge.exe', 'pid': 17904, 'username': '1080TI\\\\Administrator'}\n",
      "{'name': 'msedge.exe', 'pid': 17956, 'username': '1080TI\\\\Administrator'}\n",
      "{'name': 'msedge.exe', 'pid': 18368, 'username': '1080TI\\\\Administrator'}\n",
      "{'name': 'msedge.exe', 'pid': 18560, 'username': '1080TI\\\\Administrator'}\n",
      "{'name': 'msedge.exe', 'pid': 18884, 'username': '1080TI\\\\Administrator'}\n",
      "{'name': 'msedge.exe', 'pid': 18900, 'username': '1080TI\\\\Administrator'}\n",
      "{'name': 'msedge.exe', 'pid': 19148, 'username': '1080TI\\\\Administrator'}\n",
      "{'name': 'python.exe', 'pid': 19168, 'username': '1080TI\\\\Administrator'}\n",
      "{'name': 'dllhost.exe', 'pid': 19208, 'username': '1080TI\\\\Administrator'}\n",
      "{'name': 'conhost.exe', 'pid': 19220, 'username': '1080TI\\\\Administrator'}\n",
      "{'name': 'msedge.exe', 'pid': 19276, 'username': '1080TI\\\\Administrator'}\n",
      "{'name': 'python.exe', 'pid': 19448, 'username': '1080TI\\\\Administrator'}\n",
      "{'name': 'svchost.exe', 'pid': 19560, 'username': 'NT AUTHORITY\\\\LOCAL SERVICE'}\n",
      "{'name': 'msedge.exe', 'pid': 19572, 'username': '1080TI\\\\Administrator'}\n",
      "{'name': 'OpenConsole.exe', 'pid': 19732, 'username': '1080TI\\\\Administrator'}\n",
      "{'name': 'msedge.exe', 'pid': 19788, 'username': '1080TI\\\\Administrator'}\n",
      "{'name': 'Code.exe', 'pid': 19808, 'username': '1080TI\\\\Administrator'}\n",
      "{'name': 'svchost.exe', 'pid': 19840, 'username': 'NT AUTHORITY\\\\SYSTEM'}\n",
      "{'name': 'CalculatorApp.exe', 'pid': 20152, 'username': '1080TI\\\\Administrator'}\n",
      "{'name': 'WUDFHost.exe', 'pid': 20180, 'username': 'NT AUTHORITY\\\\LOCAL SERVICE'}\n",
      "{'name': 'svchost.exe', 'pid': 20280, 'username': 'NT AUTHORITY\\\\LOCAL SERVICE'}\n",
      "{'name': 'WeChatAppEx.exe', 'pid': 20320, 'username': '1080TI\\\\Administrator'}\n",
      "{'name': 'SecurityHealthService.exe', 'pid': 20348, 'username': 'NT AUTHORITY\\\\SYSTEM'}\n",
      "{'name': 'msedge.exe', 'pid': 20672, 'username': '1080TI\\\\Administrator'}\n",
      "{'name': 'svchost.exe', 'pid': 20716, 'username': 'NT AUTHORITY\\\\LOCAL SERVICE'}\n",
      "{'name': 'msedge.exe', 'pid': 20768, 'username': '1080TI\\\\Administrator'}\n",
      "{'name': 'Code.exe', 'pid': 20884, 'username': '1080TI\\\\Administrator'}\n",
      "{'name': 'python.exe', 'pid': 20900, 'username': '1080TI\\\\Administrator'}\n",
      "{'name': 'DingTalk.exe', 'pid': 20924, 'username': '1080TI\\\\Administrator'}\n",
      "{'name': 'conhost.exe', 'pid': 21144, 'username': '1080TI\\\\Administrator'}\n",
      "{'name': 'msedge.exe', 'pid': 21172, 'username': '1080TI\\\\Administrator'}\n",
      "{'name': 'svchost.exe', 'pid': 21184, 'username': '1080TI\\\\Administrator'}\n",
      "{'name': 'dllhost.exe', 'pid': 21408, 'username': '1080TI\\\\Administrator'}\n",
      "{'name': 'pwsh.exe', 'pid': 21512, 'username': '1080TI\\\\Administrator'}\n",
      "{'name': 'msedge.exe', 'pid': 21528, 'username': '1080TI\\\\Administrator'}\n",
      "{'name': 'msedge.exe', 'pid': 21656, 'username': '1080TI\\\\Administrator'}\n",
      "{'name': 'python.exe', 'pid': 21736, 'username': '1080TI\\\\Administrator'}\n",
      "{'name': 'svchost.exe', 'pid': 21740, 'username': 'NT AUTHORITY\\\\LOCAL SERVICE'}\n",
      "{'name': 'msedge.exe', 'pid': 21840, 'username': '1080TI\\\\Administrator'}\n",
      "{'name': 'Clash Verge.exe', 'pid': 21856, 'username': '1080TI\\\\Administrator'}\n",
      "{'name': 'QQPYUserCenter.exe', 'pid': 22112, 'username': '1080TI\\\\Administrator'}\n",
      "{'name': 'python.exe', 'pid': 22356, 'username': '1080TI\\\\Administrator'}\n",
      "{'name': 'python.exe', 'pid': 22408, 'username': '1080TI\\\\Administrator'}\n",
      "{'name': 'msedge.exe', 'pid': 22484, 'username': '1080TI\\\\Administrator'}\n",
      "{'name': 'msedge.exe', 'pid': 22760, 'username': '1080TI\\\\Administrator'}\n",
      "{'name': 'python.exe', 'pid': 23060, 'username': '1080TI\\\\Administrator'}\n",
      "{'name': 'svchost.exe', 'pid': 23200, 'username': 'NT AUTHORITY\\\\SYSTEM'}\n",
      "{'name': 'Code.exe', 'pid': 23284, 'username': '1080TI\\\\Administrator'}\n",
      "{'name': 'Code.exe', 'pid': 23768, 'username': '1080TI\\\\Administrator'}\n",
      "{'name': 'msedge.exe', 'pid': 23860, 'username': '1080TI\\\\Administrator'}\n",
      "{'name': 'msedge.exe', 'pid': 24116, 'username': '1080TI\\\\Administrator'}\n",
      "{'name': 'nvitop.exe', 'pid': 24444, 'username': '1080TI\\\\Administrator'}\n",
      "{'name': 'svchost.exe', 'pid': 24520, 'username': 'NT AUTHORITY\\\\SYSTEM'}\n",
      "{'name': 'OpenConsole.exe', 'pid': 24544, 'username': '1080TI\\\\Administrator'}\n",
      "{'name': 'WindowsTerminal.exe', 'pid': 24568, 'username': '1080TI\\\\Administrator'}\n",
      "{'name': 'python.exe', 'pid': 25260, 'username': '1080TI\\\\Administrator'}\n",
      "{'name': 'conhost.exe', 'pid': 25292, 'username': '1080TI\\\\Administrator'}\n"
     ]
    }
   ],
   "source": [
    "for proc in psutil.process_iter(['pid', 'name', 'username']):\n",
    "    print(proc.info)"
   ]
  },
  {
   "cell_type": "markdown",
   "metadata": {},
   "source": [
    "## pid_exists 查看进程是否存在"
   ]
  },
  {
   "cell_type": "code",
   "execution_count": 43,
   "metadata": {},
   "outputs": [
    {
     "data": {
      "text/plain": [
       "False"
      ]
     },
     "execution_count": 43,
     "metadata": {},
     "output_type": "execute_result"
    }
   ],
   "source": [
    "psutil.pid_exists(100)"
   ]
  },
  {
   "cell_type": "markdown",
   "metadata": {},
   "source": [
    "## Process class"
   ]
  },
  {
   "cell_type": "code",
   "execution_count": 44,
   "metadata": {},
   "outputs": [
    {
     "data": {
      "text/plain": [
       "psutil.Process(pid=21736, name='python.exe', status='running', started='09:20:07')"
      ]
     },
     "execution_count": 44,
     "metadata": {},
     "output_type": "execute_result"
    }
   ],
   "source": [
    "p = psutil.Process(21736)\n",
    "p"
   ]
  },
  {
   "cell_type": "code",
   "execution_count": 45,
   "metadata": {},
   "outputs": [
    {
     "data": {
      "text/plain": [
       "'python.exe'"
      ]
     },
     "execution_count": 45,
     "metadata": {},
     "output_type": "execute_result"
    }
   ],
   "source": [
    "# 进程名称\n",
    "p.name()"
   ]
  },
  {
   "cell_type": "code",
   "execution_count": 46,
   "metadata": {},
   "outputs": [
    {
     "data": {
      "text/plain": [
       "'D:\\\\miniconda3\\\\envs\\\\pytorch\\\\python.exe'"
      ]
     },
     "execution_count": 46,
     "metadata": {},
     "output_type": "execute_result"
    }
   ],
   "source": [
    "# 进程的exe路径\n",
    "p.exe()"
   ]
  },
  {
   "cell_type": "code",
   "execution_count": 47,
   "metadata": {},
   "outputs": [
    {
     "data": {
      "text/plain": [
       "'D:\\\\ml\\\\code\\\\yolov8-ultralytics'"
      ]
     },
     "execution_count": 47,
     "metadata": {},
     "output_type": "execute_result"
    }
   ],
   "source": [
    "# 进程的工作目录\n",
    "p.cwd()"
   ]
  },
  {
   "cell_type": "code",
   "execution_count": 48,
   "metadata": {},
   "outputs": [
    {
     "data": {
      "text/plain": [
       "['D:\\\\miniconda3\\\\envs\\\\pytorch\\\\python.exe',\n",
       " '-c',\n",
       " 'from multiprocessing.spawn import spawn_main; spawn_main(parent_pid=22408, pipe_handle=3940)',\n",
       " '--multiprocessing-fork']"
      ]
     },
     "execution_count": 48,
     "metadata": {},
     "output_type": "execute_result"
    }
   ],
   "source": [
    "# 进程启动的命令行\n",
    "p.cmdline()"
   ]
  },
  {
   "cell_type": "code",
   "execution_count": 69,
   "metadata": {},
   "outputs": [
    {
     "data": {
      "text/plain": [
       "{'ALLUSERSPROFILE': 'C:\\\\ProgramData',\n",
       " 'APPDATA': 'C:\\\\Users\\\\Administrator\\\\AppData\\\\Roaming',\n",
       " 'CHOCOLATEYINSTALL': 'C:\\\\ProgramData\\\\chocolatey',\n",
       " 'CHOCOLATEYLASTPATHUPDATE': '132901394887498584',\n",
       " 'COMMONPROGRAMFILES': 'C:\\\\Program Files\\\\Common Files',\n",
       " 'COMMONPROGRAMFILES(X86)': 'C:\\\\Program Files (x86)\\\\Common Files',\n",
       " 'COMMONPROGRAMW6432': 'C:\\\\Program Files\\\\Common Files',\n",
       " 'COMPUTERNAME': '1080TI',\n",
       " 'COMSPEC': 'C:\\\\Windows\\\\system32\\\\cmd.exe',\n",
       " 'CONDA_DEFAULT_ENV': 'pytorch',\n",
       " 'CONDA_EXE': 'D:\\\\miniconda3\\\\Scripts\\\\conda.exe',\n",
       " 'CONDA_PREFIX': 'D:\\\\miniconda3\\\\envs\\\\pytorch',\n",
       " 'CONDA_PROMPT_MODIFIER': '(pytorch) ',\n",
       " 'CONDA_PYTHON_EXE': 'D:\\\\miniconda3\\\\python.exe',\n",
       " 'CONDA_SHLVL': '1',\n",
       " 'CUBLAS_WORKSPACE_CONFIG': ':4096:8',\n",
       " 'CUDA_MODULE_LOADING': 'LAZY',\n",
       " 'CUDA_PATH': 'C:\\\\Program Files\\\\NVIDIA GPU Computing Toolkit\\\\CUDA\\\\v12.1',\n",
       " 'CUDA_PATH_V12_1': 'C:\\\\Program Files\\\\NVIDIA GPU Computing Toolkit\\\\CUDA\\\\v12.1',\n",
       " 'CUDA_VISIBLE_DEVICES': '0',\n",
       " 'DRIVERDATA': 'C:\\\\Windows\\\\System32\\\\Drivers\\\\DriverData',\n",
       " 'HOMEDRIVE': 'C:',\n",
       " 'HOMEPATH': '\\\\Users\\\\Administrator',\n",
       " 'LOCALAPPDATA': 'C:\\\\Users\\\\Administrator\\\\AppData\\\\Local',\n",
       " 'LOGONSERVER': '\\\\\\\\1080TI',\n",
       " 'NUMBER_OF_PROCESSORS': '16',\n",
       " 'NUMEXPR_MAX_THREADS': '8',\n",
       " 'NVTOOLSEXT_PATH': 'C:\\\\Program Files\\\\NVIDIA Corporation\\\\NvToolsExt\\\\',\n",
       " 'ONEDRIVE': 'C:\\\\Users\\\\Administrator\\\\OneDrive',\n",
       " 'OS': 'Windows_NT',\n",
       " 'PATH': 'D:\\\\miniconda3\\\\envs\\\\pytorch\\\\Lib\\\\site-packages\\\\cv2\\\\../../x64/vc14/bin;D:\\\\miniconda3\\\\envs\\\\pytorch\\\\Lib\\\\site-packages\\\\cv2\\\\../../x64/vc14/bin;D:\\\\miniconda3\\\\envs\\\\pytorch;D:\\\\miniconda3\\\\envs\\\\pytorch\\\\Library\\\\mingw-w64\\\\bin;D:\\\\miniconda3\\\\envs\\\\pytorch\\\\Library\\\\usr\\\\bin;D:\\\\miniconda3\\\\envs\\\\pytorch\\\\Library\\\\bin;D:\\\\miniconda3\\\\envs\\\\pytorch\\\\Scripts;D:\\\\miniconda3\\\\envs\\\\pytorch\\\\bin;D:\\\\miniconda3\\\\condabin;C:\\\\Program Files\\\\PowerShell\\\\7;D:\\\\miniconda3;D:\\\\miniconda3\\\\Scripts;D:\\\\miniconda3\\\\Library\\\\bin;C:\\\\Windows\\\\system32;C:\\\\Windows;C:\\\\Windows\\\\System32\\\\Wbem;C:\\\\Windows\\\\System32\\\\WindowsPowerShell\\\\v1.0;C:\\\\Windows\\\\System32\\\\OpenSSH;C:\\\\Program Files\\\\dotnet;C:\\\\Program Files\\\\Bandizip;C:\\\\ABC\\\\Microsoft VS Code\\\\bin;C:\\\\Program Files\\\\NVIDIA GPU Computing Toolkit\\\\CUDA\\\\v12.1\\\\bin;C:\\\\Program Files\\\\NVIDIA GPU Computing Toolkit\\\\CUDA\\\\v12.1\\\\libnvvp;D:\\\\ml\\\\TensorRT\\\\lib;D:\\\\ml\\\\TensorRT\\\\bin;D:\\\\ml\\\\opencv\\\\build\\\\x64\\\\vc16\\\\bin;D:\\\\ml\\\\onnxruntime\\\\lib;D:\\\\ml\\\\ncnn\\\\bin;C:\\\\VulkanSDK\\\\Bin;D:\\\\ml\\\\w_openvino_toolkit_windows\\\\runtime\\\\bin\\\\intel64\\\\Debug;D:\\\\ml\\\\w_openvino_toolkit_windows\\\\runtime\\\\bin\\\\intel64\\\\Release;D:\\\\ml\\\\w_openvino_toolkit_windows\\\\runtime\\\\3rdparty\\\\tbb\\\\bin;D:\\\\msys64\\\\ucrt64\\\\bin;C:\\\\ABC\\\\node;C:\\\\ABC\\\\julia\\\\bin;C:\\\\ABC\\\\NetSarang\\\\Xmanager 7;C:\\\\ABC\\\\NetSarang\\\\Xshell 7;C:\\\\ABC\\\\NetSarang\\\\Xftp 7;C:\\\\ABC\\\\NetSarang\\\\Xlpd 7;C:\\\\Program Files (x86)\\\\NVIDIA Corporation\\\\PhysX\\\\Common;C:\\\\ABC\\\\ffmpeg\\\\bin;D:\\\\Software\\\\Sublime Text;C:\\\\VulkanSDK\\\\Bin;C:\\\\VulkanSDK\\\\Lib;C:\\\\ABC\\\\R\\\\R-4.3.1\\\\bin\\\\x64;D:\\\\Android\\\\platform-tools;C:\\\\Program Files\\\\Git\\\\cmd;D:\\\\hugo_0.118.2_windows-amd64;C:\\\\Program Files\\\\NVIDIA Corporation\\\\Nsight Compute 2023.1.1;C:\\\\Program Files\\\\PowerShell\\\\7;C:\\\\Program Files\\\\Docker\\\\Docker\\\\resources\\\\bin;.;C:\\\\Program Files\\\\NVIDIA Corporation\\\\NVIDIA NvDLISR;C:\\\\Users\\\\Administrator\\\\scoop\\\\shims;C:\\\\Users\\\\Administrator\\\\AppData\\\\Local\\\\Microsoft\\\\WinGet\\\\Links;C:\\\\Users\\\\Administrator\\\\AppData\\\\Local\\\\Microsoft\\\\WindowsApps;.',\n",
       " 'PATHEXT': '.COM;.EXE;.BAT;.CMD;.VBS;.VBE;.JS;.JSE;.WSF;.WSH;.MSC;.CPL',\n",
       " 'POSH_INSTALLER': 'winget',\n",
       " 'POWERSHELL_DISTRIBUTION_CHANNEL': 'MSI:Windows 10 Pro',\n",
       " 'PROCESSOR_ARCHITECTURE': 'AMD64',\n",
       " 'PROCESSOR_IDENTIFIER': 'Intel64 Family 6 Model 165 Stepping 5, GenuineIntel',\n",
       " 'PROCESSOR_LEVEL': '6',\n",
       " 'PROCESSOR_REVISION': 'a505',\n",
       " 'PROGRAMDATA': 'C:\\\\ProgramData',\n",
       " 'PROGRAMFILES': 'C:\\\\Program Files',\n",
       " 'PROGRAMFILES(X86)': 'C:\\\\Program Files (x86)',\n",
       " 'PROGRAMW6432': 'C:\\\\Program Files',\n",
       " 'PSMODULEPATH': 'C:\\\\Users\\\\Administrator\\\\Documents\\\\PowerShell\\\\Modules;C:\\\\Program Files\\\\PowerShell\\\\Modules;c:\\\\program files\\\\powershell\\\\7\\\\Modules;C:\\\\Program Files\\\\WindowsPowerShell\\\\Modules;C:\\\\Windows\\\\system32\\\\WindowsPowerShell\\\\v1.0\\\\Modules',\n",
       " 'PUBLIC': 'C:\\\\Users\\\\Public',\n",
       " 'PYTHONHASHSEED': '0',\n",
       " 'SESSIONNAME': 'Console',\n",
       " 'SYSTEMDRIVE': 'C:',\n",
       " 'SYSTEMROOT': 'C:\\\\Windows',\n",
       " 'TEMP': 'C:\\\\Users\\\\ADMINI~1\\\\AppData\\\\Local\\\\Temp',\n",
       " 'TF_CPP_MIN_LOG_LEVEL': '2',\n",
       " 'TMP': 'C:\\\\Users\\\\ADMINI~1\\\\AppData\\\\Local\\\\Temp',\n",
       " 'USERDOMAIN': '1080TI',\n",
       " 'USERDOMAIN_ROAMINGPROFILE': '1080TI',\n",
       " 'USERNAME': 'Administrator',\n",
       " 'USERPROFILE': 'C:\\\\Users\\\\Administrator',\n",
       " 'VK_SDK_PATH': 'C:\\\\VulkanSDK\\\\',\n",
       " 'VULKAN_SDK': 'C:\\\\VulkanSDK\\\\',\n",
       " 'WINDIR': 'C:\\\\Windows',\n",
       " 'WSLENV': 'WT_SESSION:WT_PROFILE_ID:',\n",
       " 'WT_PROFILE_ID': '{574e775e-4f2a-5b96-ac1e-a2962a402336}',\n",
       " 'WT_SESSION': 'da1bab5d-b174-47f7-87be-276e691d3b76',\n",
       " 'WXDRIVE_START_ARGS': '--wxdrive-setting=0 --disable-gpu --disable-software-rasterizer --enable-features=NetworkServiceInProcess',\n",
       " '_CONDA_EXE': 'D:\\\\miniconda3\\\\Scripts\\\\conda.exe',\n",
       " '_CONDA_ROOT': 'D:\\\\miniconda3',\n",
       " '__KMP_REGISTERED_LIB_21736': '00007FFFB9D36B14-cafe57f4-libiomp5md.dll',\n",
       " '__KMP_REGISTERED_LIB_22408': '00007FFFB9D36B14-cafebe80-libiomp5md.dll'}"
      ]
     },
     "execution_count": 69,
     "metadata": {},
     "output_type": "execute_result"
    }
   ],
   "source": [
    "p.environ()"
   ]
  },
  {
   "cell_type": "code",
   "execution_count": 49,
   "metadata": {},
   "outputs": [
    {
     "data": {
      "text/plain": [
       "21736"
      ]
     },
     "execution_count": 49,
     "metadata": {},
     "output_type": "execute_result"
    }
   ],
   "source": [
    "# 当前进程id\n",
    "p.pid"
   ]
  },
  {
   "cell_type": "code",
   "execution_count": 51,
   "metadata": {},
   "outputs": [
    {
     "data": {
      "text/plain": [
       "22408"
      ]
     },
     "execution_count": 51,
     "metadata": {},
     "output_type": "execute_result"
    }
   ],
   "source": [
    "# 父进程id\n",
    "p.ppid()"
   ]
  },
  {
   "cell_type": "code",
   "execution_count": 52,
   "metadata": {},
   "outputs": [
    {
     "data": {
      "text/plain": [
       "psutil.Process(pid=22408, name='python.exe', status='running', started='09:19:15')"
      ]
     },
     "execution_count": 52,
     "metadata": {},
     "output_type": "execute_result"
    }
   ],
   "source": [
    "# 父进程\n",
    "p.parent()"
   ]
  },
  {
   "cell_type": "code",
   "execution_count": 54,
   "metadata": {},
   "outputs": [
    {
     "data": {
      "text/plain": [
       "[psutil.Process(pid=22408, name='python.exe', status='running', started='09:19:15'),\n",
       " psutil.Process(pid=5788, name='yolo.exe', status='running', started='09:19:15'),\n",
       " psutil.Process(pid=21512, name='pwsh.exe', status='running', started='08:46:30'),\n",
       " psutil.Process(pid=24568, name='WindowsTerminal.exe', status='running', started='08:46:30')]"
      ]
     },
     "execution_count": 54,
     "metadata": {},
     "output_type": "execute_result"
    }
   ],
   "source": [
    "# 所有的父进程\n",
    "p.parents()"
   ]
  },
  {
   "cell_type": "code",
   "execution_count": 55,
   "metadata": {},
   "outputs": [
    {
     "data": {
      "text/plain": [
       "[]"
      ]
     },
     "execution_count": 55,
     "metadata": {},
     "output_type": "execute_result"
    }
   ],
   "source": [
    "# 子进程列表\n",
    "p.children()"
   ]
  },
  {
   "cell_type": "code",
   "execution_count": 56,
   "metadata": {},
   "outputs": [
    {
     "data": {
      "text/plain": [
       "'running'"
      ]
     },
     "execution_count": 56,
     "metadata": {},
     "output_type": "execute_result"
    }
   ],
   "source": [
    "# 进程状态\n",
    "p.status()"
   ]
  },
  {
   "cell_type": "code",
   "execution_count": 57,
   "metadata": {},
   "outputs": [
    {
     "data": {
      "text/plain": [
       "'1080TI\\\\Administrator'"
      ]
     },
     "execution_count": 57,
     "metadata": {},
     "output_type": "execute_result"
    }
   ],
   "source": [
    "# 进程用户名\n",
    "p.username()"
   ]
  },
  {
   "cell_type": "code",
   "execution_count": 58,
   "metadata": {},
   "outputs": [
    {
     "data": {
      "text/plain": [
       "1697592007.9026594"
      ]
     },
     "execution_count": 58,
     "metadata": {},
     "output_type": "execute_result"
    }
   ],
   "source": [
    "# 进程创建时间,返回时间戳\n",
    "p.create_time()"
   ]
  },
  {
   "cell_type": "code",
   "execution_count": 59,
   "metadata": {},
   "outputs": [
    {
     "ename": "AttributeError",
     "evalue": "'Process' object has no attribute 'terminal'",
     "output_type": "error",
     "traceback": [
      "\u001b[1;31m---------------------------------------------------------------------------\u001b[0m",
      "\u001b[1;31mAttributeError\u001b[0m                            Traceback (most recent call last)",
      "\u001b[1;32md:\\ml\\code\\test\\psutil_test\\psutil.ipynb 单元格 80\u001b[0m line \u001b[0;36m1\n\u001b[1;32m----> <a href='vscode-notebook-cell:/d%3A/ml/code/test/psutil_test/psutil.ipynb#Y206sZmlsZQ%3D%3D?line=0'>1</a>\u001b[0m p\u001b[39m.\u001b[39;49mterminal()\n",
      "\u001b[1;31mAttributeError\u001b[0m: 'Process' object has no attribute 'terminal'"
     ]
    }
   ],
   "source": [
    "# 进程终端\n",
    "# 在windows上无法使用\n",
    "p.terminal()"
   ]
  },
  {
   "cell_type": "code",
   "execution_count": 60,
   "metadata": {},
   "outputs": [
    {
     "data": {
      "text/plain": [
       "pcputimes(user=4.25, system=1.15625, children_user=0.0, children_system=0.0)"
      ]
     },
     "execution_count": 60,
     "metadata": {},
     "output_type": "execute_result"
    }
   ],
   "source": [
    "# 进程使用的cpu时间\n",
    "p.cpu_times()"
   ]
  },
  {
   "cell_type": "code",
   "execution_count": 61,
   "metadata": {},
   "outputs": [
    {
     "data": {
      "text/plain": [
       "0.0"
      ]
     },
     "execution_count": 61,
     "metadata": {},
     "output_type": "execute_result"
    }
   ],
   "source": [
    "# 进程使用的cpu百分比\n",
    "p.cpu_percent()"
   ]
  },
  {
   "cell_type": "code",
   "execution_count": 62,
   "metadata": {},
   "outputs": [
    {
     "data": {
      "text/plain": [
       "[0, 1, 2, 3, 4, 5, 6, 7, 8, 9, 10, 11, 12, 13, 14, 15]"
      ]
     },
     "execution_count": 62,
     "metadata": {},
     "output_type": "execute_result"
    }
   ],
   "source": [
    "# 进程亲和性\n",
    "p.cpu_affinity()"
   ]
  },
  {
   "cell_type": "code",
   "execution_count": 63,
   "metadata": {},
   "outputs": [
    {
     "data": {
      "text/plain": [
       "17"
      ]
     },
     "execution_count": 63,
     "metadata": {},
     "output_type": "execute_result"
    }
   ],
   "source": [
    "# 进程的线程数\n",
    "p.num_threads()"
   ]
  },
  {
   "cell_type": "code",
   "execution_count": 66,
   "metadata": {},
   "outputs": [
    {
     "data": {
      "text/plain": [
       "379"
      ]
     },
     "execution_count": 66,
     "metadata": {},
     "output_type": "execute_result"
    }
   ],
   "source": [
    "p.num_handles()"
   ]
  },
  {
   "cell_type": "code",
   "execution_count": null,
   "metadata": {},
   "outputs": [
    {
     "data": {
      "text/plain": [
       "pmem(rss=185364480, vms=1101172736, num_page_faults=328513, peak_wset=523128832, wset=185364480, peak_paged_pool=8027224, paged_pool=8010744, peak_nonpaged_pool=67544, nonpaged_pool=63936, pagefile=1101172736, peak_pagefile=1115742208, private=1101172736)"
      ]
     },
     "metadata": {},
     "output_type": "display_data"
    }
   ],
   "source": [
    "p.memory_info()"
   ]
  },
  {
   "cell_type": "code",
   "execution_count": null,
   "metadata": {},
   "outputs": [
    {
     "data": {
      "text/plain": [
       "[pmmap_grouped(path='D:\\\\miniconda3\\\\envs\\\\pytorch\\\\Lib\\\\site-packages\\\\torch\\\\lib\\\\zlibwapi.dll', rss=106496),\n",
       " pmmap_grouped(path='D:\\\\miniconda3\\\\envs\\\\pytorch\\\\Lib\\\\site-packages\\\\google\\\\_upb\\\\_message.pyd', rss=684032),\n",
       " pmmap_grouped(path='D:\\\\miniconda3\\\\envs\\\\pytorch\\\\python3.dll', rss=61440),\n",
       " pmmap_grouped(path='C:\\\\Windows\\\\System32\\\\locale.nls', rss=823296),\n",
       " pmmap_grouped(path='C:\\\\Windows\\\\System32\\\\zh-CN\\\\KernelBase.dll.mui', rss=675840),\n",
       " pmmap_grouped(path='C:\\\\Windows\\\\System32\\\\zh-CN\\\\kernel32.dll.mui', rss=376832),\n",
       " pmmap_grouped(path='C:\\\\Windows\\\\Globalization\\\\Sorting\\\\SortDefault.nls', rss=3375104),\n",
       " pmmap_grouped(path='D:\\\\miniconda3\\\\envs\\\\pytorch\\\\python.exe', rss=110592),\n",
       " pmmap_grouped(path='D:\\\\miniconda3\\\\envs\\\\pytorch\\\\vcruntime140.dll', rss=102400),\n",
       " pmmap_grouped(path='C:\\\\Windows\\\\System32\\\\RTWorkQ.dll', rss=212992),\n",
       " pmmap_grouped(path='C:\\\\Windows\\\\System32\\\\mfplat.dll', rss=1818624),\n",
       " pmmap_grouped(path='D:\\\\miniconda3\\\\envs\\\\pytorch\\\\Lib\\\\site-packages\\\\charset_normalizer\\\\md.cp311-win_amd64.pyd', rss=28672),\n",
       " pmmap_grouped(path='C:\\\\Windows\\\\System32\\\\ksuser.dll', rss=36864),\n",
       " pmmap_grouped(path='D:\\\\miniconda3\\\\envs\\\\pytorch\\\\Lib\\\\site-packages\\\\safetensors\\\\_safetensors_rust.cp311-win_amd64.pyd', rss=626688),\n",
       " pmmap_grouped(path='D:\\\\miniconda3\\\\envs\\\\pytorch\\\\Lib\\\\site-packages\\\\torchvision\\\\jpeg8.dll', rss=569344),\n",
       " pmmap_grouped(path='D:\\\\miniconda3\\\\envs\\\\pytorch\\\\DLLs\\\\_overlapped.pyd', rss=57344),\n",
       " pmmap_grouped(path='D:\\\\miniconda3\\\\envs\\\\pytorch\\\\Lib\\\\site-packages\\\\torchvision\\\\libpng16.dll', rss=212992),\n",
       " pmmap_grouped(path='D:\\\\miniconda3\\\\envs\\\\pytorch\\\\Lib\\\\site-packages\\\\torch\\\\lib\\\\cufftw64_11.dll', rss=323584),\n",
       " pmmap_grouped(path='D:\\\\miniconda3\\\\envs\\\\pytorch\\\\Lib\\\\site-packages\\\\torch\\\\lib\\\\cudart64_12.dll', rss=557056),\n",
       " pmmap_grouped(path='D:\\\\miniconda3\\\\envs\\\\pytorch\\\\Lib\\\\site-packages\\\\torch\\\\lib\\\\c10_cuda.dll', rss=368640),\n",
       " pmmap_grouped(path='D:\\\\miniconda3\\\\envs\\\\pytorch\\\\Lib\\\\site-packages\\\\torch\\\\lib\\\\asmjit.dll', rss=376832),\n",
       " pmmap_grouped(path='D:\\\\miniconda3\\\\envs\\\\mm\\\\msvcp140.dll', rss=593920),\n",
       " pmmap_grouped(path='D:\\\\miniconda3\\\\envs\\\\pytorch\\\\Lib\\\\site-packages\\\\torchvision\\\\image.pyd', rss=176128),\n",
       " pmmap_grouped(path='D:\\\\miniconda3\\\\envs\\\\pytorch\\\\Lib\\\\site-packages\\\\yaml\\\\_yaml.cp311-win_amd64.pyd', rss=253952),\n",
       " pmmap_grouped(path='D:\\\\msys64\\\\ucrt64\\\\bin\\\\libfribidi-0.dll', rss=180224),\n",
       " pmmap_grouped(path='D:\\\\miniconda3\\\\envs\\\\pytorch\\\\Lib\\\\site-packages\\\\onnxruntime\\\\capi\\\\onnxruntime_providers_shared.dll', rss=28672),\n",
       " pmmap_grouped(path='D:\\\\miniconda3\\\\envs\\\\pytorch\\\\DLLs\\\\_multiprocessing.pyd', rss=36864),\n",
       " pmmap_grouped(path='D:\\\\miniconda3\\\\envs\\\\pytorch\\\\Lib\\\\site-packages\\\\torch\\\\_C.cp311-win_amd64.pyd', rss=28672),\n",
       " pmmap_grouped(path='D:\\\\miniconda3\\\\envs\\\\pytorch\\\\Library\\\\bin\\\\ffi.dll', rss=49152),\n",
       " pmmap_grouped(path='D:\\\\miniconda3\\\\envs\\\\pytorch\\\\Lib\\\\site-packages\\\\torch\\\\lib\\\\torch_global_deps.dll', rss=28672),\n",
       " pmmap_grouped(path='D:\\\\miniconda3\\\\envs\\\\pytorch\\\\Lib\\\\site-packages\\\\torch\\\\lib\\\\torch.dll', rss=28672),\n",
       " pmmap_grouped(path='D:\\\\miniconda3\\\\envs\\\\pytorch\\\\Lib\\\\site-packages\\\\torch\\\\lib\\\\shm.dll', rss=36864),\n",
       " pmmap_grouped(path='D:\\\\miniconda3\\\\envs\\\\pytorch\\\\Lib\\\\site-packages\\\\torch\\\\lib\\\\nvToolsExt64_1.dll', rss=65536),\n",
       " pmmap_grouped(path='D:\\\\miniconda3\\\\envs\\\\pytorch\\\\Lib\\\\site-packages\\\\torch\\\\lib\\\\cudnn64_8.dll', rss=307200),\n",
       " pmmap_grouped(path='D:\\\\miniconda3\\\\envs\\\\pytorch\\\\Lib\\\\site-packages\\\\matplotlib\\\\_c_internal_utils.cp311-win_amd64.pyd', rss=36864),\n",
       " pmmap_grouped(path='D:\\\\miniconda3\\\\envs\\\\pytorch\\\\Lib\\\\site-packages\\\\numpy\\\\random\\\\_sfc64.cp311-win_amd64.pyd', rss=65536),\n",
       " pmmap_grouped(path='D:\\\\miniconda3\\\\envs\\\\pytorch\\\\DLLs\\\\_hashlib.pyd', rss=65536),\n",
       " pmmap_grouped(path='D:\\\\miniconda3\\\\envs\\\\pytorch\\\\DLLs\\\\_uuid.pyd', rss=28672),\n",
       " pmmap_grouped(path='D:\\\\miniconda3\\\\envs\\\\pytorch\\\\DLLs\\\\_queue.pyd', rss=36864),\n",
       " pmmap_grouped(path='C:\\\\Windows\\\\WinSxS\\\\amd64_microsoft.windows.common-controls_6595b64144ccf1df_6.0.19041.1110_none_60b5254171f9507e\\\\comctl32.dll', rss=2727936),\n",
       " pmmap_grouped(path='C:\\\\Windows\\\\System32\\\\wsock32.dll', rss=36864),\n",
       " pmmap_grouped(path='C:\\\\Windows\\\\System32\\\\pdh.dll', rss=299008),\n",
       " pmmap_grouped(path='D:\\\\miniconda3\\\\envs\\\\pytorch\\\\DLLs\\\\select.pyd', rss=36864),\n",
       " pmmap_grouped(path='D:\\\\miniconda3\\\\envs\\\\pytorch\\\\DLLs\\\\_lzma.pyd', rss=53248),\n",
       " pmmap_grouped(path='D:\\\\miniconda3\\\\envs\\\\pytorch\\\\Lib\\\\site-packages\\\\torch\\\\lib\\\\libiompstubs5md.dll', rss=49152),\n",
       " pmmap_grouped(path='D:\\\\miniconda3\\\\envs\\\\pytorch\\\\DLLs\\\\_bz2.pyd', rss=40960),\n",
       " pmmap_grouped(path='D:\\\\miniconda3\\\\envs\\\\pytorch\\\\Lib\\\\site-packages\\\\torch\\\\lib\\\\caffe2_nvrtc.dll', rss=36864),\n",
       " pmmap_grouped(path='C:\\\\Windows\\\\System32\\\\dbghelp.dll', rss=1982464),\n",
       " pmmap_grouped(path='C:\\\\Windows\\\\System32\\\\wtsapi32.dll', rss=81920),\n",
       " pmmap_grouped(path='C:\\\\Windows\\\\System32\\\\d3d11.dll', rss=2502656),\n",
       " pmmap_grouped(path='D:\\\\miniconda3\\\\envs\\\\mm\\\\vcruntime140_1.dll', rss=49152),\n",
       " pmmap_grouped(path='C:\\\\Windows\\\\System32\\\\version.dll', rss=40960),\n",
       " pmmap_grouped(path='C:\\\\Windows\\\\System32\\\\kernel.appcore.dll', rss=73728),\n",
       " pmmap_grouped(path='C:\\\\Windows\\\\System32\\\\dxgi.dll', rss=995328),\n",
       " pmmap_grouped(path='C:\\\\Windows\\\\System32\\\\umpdc.dll', rss=73728),\n",
       " pmmap_grouped(path='C:\\\\Windows\\\\System32\\\\IPHLPAPI.DLL', rss=245760),\n",
       " pmmap_grouped(path='C:\\\\Windows\\\\System32\\\\powrprof.dll', rss=307200),\n",
       " pmmap_grouped(path='C:\\\\Windows\\\\System32\\\\mswsock.dll', rss=434176),\n",
       " pmmap_grouped(path='C:\\\\Windows\\\\System32\\\\cryptbase.dll', rss=49152),\n",
       " pmmap_grouped(path='C:\\\\Windows\\\\System32\\\\userenv.dll', rss=188416),\n",
       " pmmap_grouped(path='C:\\\\Windows\\\\System32\\\\win32u.dll', rss=139264),\n",
       " pmmap_grouped(path='C:\\\\Windows\\\\System32\\\\msvcp_win.dll', rss=643072),\n",
       " pmmap_grouped(path='C:\\\\Windows\\\\System32\\\\KernelBase.dll', rss=3104768),\n",
       " pmmap_grouped(path='C:\\\\Windows\\\\System32\\\\gdi32full.dll', rss=1134592),\n",
       " pmmap_grouped(path='C:\\\\Windows\\\\System32\\\\ucrtbase.dll', rss=1048576),\n",
       " pmmap_grouped(path='C:\\\\Windows\\\\System32\\\\bcryptprimitives.dll', rss=532480),\n",
       " pmmap_grouped(path='C:\\\\Windows\\\\System32\\\\bcrypt.dll', rss=159744),\n",
       " pmmap_grouped(path='C:\\\\Windows\\\\System32\\\\crypt32.dll', rss=1433600),\n",
       " pmmap_grouped(path='C:\\\\Windows\\\\System32\\\\cfgmgr32.dll', rss=319488),\n",
       " pmmap_grouped(path='C:\\\\Windows\\\\System32\\\\user32.dll', rss=1691648),\n",
       " pmmap_grouped(path='C:\\\\Windows\\\\System32\\\\combase.dll', rss=3489792),\n",
       " pmmap_grouped(path='C:\\\\Windows\\\\System32\\\\sechost.dll', rss=638976),\n",
       " pmmap_grouped(path='C:\\\\Windows\\\\System32\\\\SHCore.dll', rss=708608),\n",
       " pmmap_grouped(path='C:\\\\Windows\\\\System32\\\\shell32.dll', rss=7618560),\n",
       " pmmap_grouped(path='C:\\\\Windows\\\\System32\\\\ole32.dll', rss=1220608),\n",
       " pmmap_grouped(path='C:\\\\Windows\\\\System32\\\\kernel32.dll', rss=782336),\n",
       " pmmap_grouped(path='C:\\\\Windows\\\\System32\\\\gdi32.dll', rss=180224),\n",
       " pmmap_grouped(path='C:\\\\Windows\\\\System32\\\\imm32.dll', rss=196608),\n",
       " pmmap_grouped(path='C:\\\\Windows\\\\System32\\\\psapi.dll', rss=32768),\n",
       " pmmap_grouped(path='C:\\\\Windows\\\\System32\\\\comdlg32.dll', rss=892928),\n",
       " pmmap_grouped(path='C:\\\\Windows\\\\System32\\\\rpcrt4.dll', rss=1204224),\n",
       " pmmap_grouped(path='C:\\\\Windows\\\\System32\\\\advapi32.dll', rss=716800),\n",
       " pmmap_grouped(path='C:\\\\Windows\\\\System32\\\\ws2_32.dll', rss=438272),\n",
       " pmmap_grouped(path='C:\\\\Windows\\\\System32\\\\shlwapi.dll', rss=348160),\n",
       " pmmap_grouped(path='C:\\\\Windows\\\\System32\\\\oleaut32.dll', rss=839680),\n",
       " pmmap_grouped(path='C:\\\\Windows\\\\System32\\\\msvcrt.dll', rss=647168),\n",
       " pmmap_grouped(path='C:\\\\Windows\\\\System32\\\\ntdll.dll', rss=2064384),\n",
       " pmmap_grouped(path='D:\\\\miniconda3\\\\envs\\\\pytorch\\\\Lib\\\\site-packages\\\\onnxruntime\\\\capi\\\\onnxruntime_pybind11_state.pyd', rss=17072128),\n",
       " pmmap_grouped(path='D:\\\\miniconda3\\\\envs\\\\pytorch\\\\Lib\\\\site-packages\\\\torch\\\\lib\\\\torch_python.dll', rss=15106048),\n",
       " pmmap_grouped(path='D:\\\\miniconda3\\\\envs\\\\pytorch\\\\Lib\\\\site-packages\\\\torch\\\\lib\\\\torch_cpu.dll', rss=252014592),\n",
       " pmmap_grouped(path='D:\\\\miniconda3\\\\envs\\\\pytorch\\\\Lib\\\\site-packages\\\\torch\\\\lib\\\\torch_cuda.dll', rss=934481920),\n",
       " pmmap_grouped(path='D:\\\\miniconda3\\\\envs\\\\pytorch\\\\Lib\\\\site-packages\\\\torch\\\\lib\\\\cusolverMg64_11.dll', rss=77066240),\n",
       " pmmap_grouped(path='D:\\\\miniconda3\\\\envs\\\\pytorch\\\\Lib\\\\site-packages\\\\torch\\\\lib\\\\nvJitLink_120_0.dll', rss=34500608),\n",
       " pmmap_grouped(path='D:\\\\miniconda3\\\\envs\\\\pytorch\\\\Lib\\\\site-packages\\\\torch\\\\lib\\\\cusparse64_12.dll', rss=262426624),\n",
       " pmmap_grouped(path='D:\\\\miniconda3\\\\envs\\\\pytorch\\\\Lib\\\\site-packages\\\\torch\\\\lib\\\\cusolver64_11.dll', rss=110272512),\n",
       " pmmap_grouped(path='D:\\\\miniconda3\\\\envs\\\\pytorch\\\\Lib\\\\site-packages\\\\torch\\\\lib\\\\curand64_10.dll', rss=70053888),\n",
       " pmmap_grouped(path='D:\\\\miniconda3\\\\envs\\\\pytorch\\\\Lib\\\\site-packages\\\\torch\\\\lib\\\\cufft64_11.dll', rss=191348736),\n",
       " pmmap_grouped(path='D:\\\\miniconda3\\\\envs\\\\pytorch\\\\Lib\\\\site-packages\\\\torch\\\\lib\\\\cudnn_cnn_train64_8.dll', rss=97624064),\n",
       " pmmap_grouped(path='D:\\\\miniconda3\\\\envs\\\\pytorch\\\\Lib\\\\site-packages\\\\torch\\\\lib\\\\cudnn_cnn_infer64_8.dll', rss=607850496),\n",
       " pmmap_grouped(path='D:\\\\miniconda3\\\\envs\\\\pytorch\\\\Lib\\\\site-packages\\\\torch\\\\lib\\\\cudnn_ops_train64_8.dll', rss=70426624),\n",
       " pmmap_grouped(path='D:\\\\miniconda3\\\\envs\\\\pytorch\\\\Lib\\\\site-packages\\\\torch\\\\lib\\\\cudnn_adv_train64_8.dll', rss=119386112),\n",
       " pmmap_grouped(path='D:\\\\miniconda3\\\\envs\\\\pytorch\\\\Lib\\\\site-packages\\\\torch\\\\lib\\\\cudnn_ops_infer64_8.dll', rss=89894912),\n",
       " pmmap_grouped(path='D:\\\\miniconda3\\\\envs\\\\pytorch\\\\Lib\\\\site-packages\\\\torch\\\\lib\\\\cudnn_adv_infer64_8.dll', rss=125767680),\n",
       " pmmap_grouped(path='D:\\\\miniconda3\\\\envs\\\\pytorch\\\\Lib\\\\site-packages\\\\torch\\\\lib\\\\cublasLt64_12.dll', rss=590077952),\n",
       " pmmap_grouped(path='D:\\\\miniconda3\\\\envs\\\\pytorch\\\\Lib\\\\site-packages\\\\torch\\\\lib\\\\cublas64_12.dll', rss=98156544),\n",
       " pmmap_grouped(path='D:\\\\miniconda3\\\\envs\\\\pytorch\\\\Lib\\\\site-packages\\\\torch\\\\lib\\\\nvrtc64_120_0.dll', rss=42848256),\n",
       " pmmap_grouped(path='D:\\\\miniconda3\\\\envs\\\\pytorch\\\\Lib\\\\site-packages\\\\cv2\\\\cv2.pyd', rss=90120192),\n",
       " pmmap_grouped(path='D:\\\\miniconda3\\\\envs\\\\pytorch\\\\Lib\\\\site-packages\\\\torch\\\\lib\\\\nvrtc-builtins64_121.dll', rss=7024640),\n",
       " pmmap_grouped(path='D:\\\\miniconda3\\\\envs\\\\pytorch\\\\Lib\\\\site-packages\\\\numpy.libs\\\\libopenblas64__v0.3.23-293-gc2f4bdbb-gcc_10_3_0-2bde3a66a51006b2b53eb373ff767a3f.dll', rss=34299904),\n",
       " pmmap_grouped(path='D:\\\\miniconda3\\\\envs\\\\pytorch\\\\Lib\\\\site-packages\\\\torchvision\\\\_C.pyd', rss=6123520),\n",
       " pmmap_grouped(path='D:\\\\miniconda3\\\\envs\\\\pytorch\\\\Lib\\\\site-packages\\\\onnx\\\\onnx_cpp2py_export.cp311-win_amd64.pyd', rss=2547712),\n",
       " pmmap_grouped(path='D:\\\\miniconda3\\\\envs\\\\pytorch\\\\Lib\\\\site-packages\\\\torchvision\\\\nvjpeg64_12.dll', rss=4829184),\n",
       " pmmap_grouped(path='D:\\\\miniconda3\\\\envs\\\\pytorch\\\\Lib\\\\site-packages\\\\torch\\\\lib\\\\uv.dll', rss=2871296),\n",
       " pmmap_grouped(path='D:\\\\miniconda3\\\\envs\\\\pytorch\\\\Lib\\\\site-packages\\\\torch\\\\lib\\\\nvfuser_codegen.dll', rss=4374528),\n",
       " pmmap_grouped(path='D:\\\\miniconda3\\\\envs\\\\pytorch\\\\Lib\\\\site-packages\\\\torch\\\\lib\\\\fbgemm.dll', rss=4968448),\n",
       " pmmap_grouped(path='D:\\\\miniconda3\\\\envs\\\\pytorch\\\\Lib\\\\site-packages\\\\torch\\\\lib\\\\libiomp5md.dll', rss=2248704),\n",
       " pmmap_grouped(path='D:\\\\miniconda3\\\\envs\\\\pytorch\\\\Library\\\\bin\\\\sqlite3.dll', rss=1499136),\n",
       " pmmap_grouped(path='D:\\\\miniconda3\\\\envs\\\\pytorch\\\\Lib\\\\site-packages\\\\torch\\\\lib\\\\cupti64_2023.1.1.dll', rss=4370432),\n",
       " pmmap_grouped(path='C:\\\\Windows\\\\System32\\\\nvcuda.dll', rss=3485696),\n",
       " pmmap_grouped(path='D:\\\\miniconda3\\\\envs\\\\pytorch\\\\DLLs\\\\unicodedata.pyd', rss=1146880),\n",
       " pmmap_grouped(path='D:\\\\miniconda3\\\\envs\\\\pytorch\\\\Lib\\\\site-packages\\\\PIL\\\\_imaging.cp311-win_amd64.pyd', rss=2412544),\n",
       " pmmap_grouped(path='D:\\\\miniconda3\\\\envs\\\\pytorch\\\\Library\\\\bin\\\\libcrypto-3-x64.dll', rss=5242880),\n",
       " pmmap_grouped(path='C:\\\\Windows\\\\System32\\\\mfcore.dll', rss=4780032),\n",
       " pmmap_grouped(path='D:\\\\miniconda3\\\\envs\\\\pytorch\\\\Lib\\\\site-packages\\\\numpy\\\\core\\\\_multiarray_umath.cp311-win_amd64.pyd', rss=2981888),\n",
       " pmmap_grouped(path='D:\\\\miniconda3\\\\envs\\\\pytorch\\\\python311.dll', rss=6324224),\n",
       " pmmap_grouped(path='C:\\\\Windows\\\\System32\\\\mfreadwrite.dll', rss=1089536),\n",
       " pmmap_grouped(path='D:\\\\miniconda3\\\\envs\\\\pytorch\\\\Library\\\\bin\\\\libssl-3-x64.dll', rss=798720),\n",
       " pmmap_grouped(path='D:\\\\miniconda3\\\\envs\\\\pytorch\\\\Lib\\\\site-packages\\\\numpy\\\\random\\\\_generator.cp311-win_amd64.pyd', rss=720896),\n",
       " pmmap_grouped(path='D:\\\\miniconda3\\\\envs\\\\pytorch\\\\Library\\\\bin\\\\liblzma.dll', rss=204800),\n",
       " pmmap_grouped(path='D:\\\\miniconda3\\\\envs\\\\pytorch\\\\Lib\\\\site-packages\\\\psutil\\\\_psutil_windows.pyd', rss=81920),\n",
       " pmmap_grouped(path='D:\\\\miniconda3\\\\envs\\\\pytorch\\\\DLLs\\\\_sqlite3.pyd', rss=114688),\n",
       " pmmap_grouped(path='D:\\\\miniconda3\\\\envs\\\\pytorch\\\\DLLs\\\\_ssl.pyd', rss=184320),\n",
       " pmmap_grouped(path='D:\\\\miniconda3\\\\envs\\\\pytorch\\\\DLLs\\\\_decimal.pyd', rss=270336),\n",
       " pmmap_grouped(path='D:\\\\miniconda3\\\\envs\\\\pytorch\\\\Lib\\\\site-packages\\\\matplotlib\\\\ft2font.cp311-win_amd64.pyd', rss=626688),\n",
       " pmmap_grouped(path='D:\\\\miniconda3\\\\envs\\\\pytorch\\\\Lib\\\\site-packages\\\\matplotlib.libs\\\\msvcp140-7a5216ee7dbbe0be4badcb1661870433.dll', rss=634880),\n",
       " pmmap_grouped(path='D:\\\\miniconda3\\\\envs\\\\pytorch\\\\Lib\\\\site-packages\\\\numpy\\\\random\\\\mtrand.cp311-win_amd64.pyd', rss=618496),\n",
       " pmmap_grouped(path='D:\\\\miniconda3\\\\envs\\\\pytorch\\\\Lib\\\\site-packages\\\\charset_normalizer\\\\md__mypyc.cp311-win_amd64.pyd', rss=131072),\n",
       " pmmap_grouped(path='D:\\\\miniconda3\\\\envs\\\\pytorch\\\\Library\\\\bin\\\\libbz2.dll', rss=204800),\n",
       " pmmap_grouped(path='D:\\\\miniconda3\\\\envs\\\\pytorch\\\\Lib\\\\site-packages\\\\matplotlib\\\\_image.cp311-win_amd64.pyd', rss=167936),\n",
       " pmmap_grouped(path='D:\\\\miniconda3\\\\envs\\\\pytorch\\\\Lib\\\\site-packages\\\\kiwisolver\\\\_cext.cp311-win_amd64.pyd', rss=135168),\n",
       " pmmap_grouped(path='D:\\\\miniconda3\\\\envs\\\\pytorch\\\\Lib\\\\site-packages\\\\matplotlib\\\\_path.cp311-win_amd64.pyd', rss=155648),\n",
       " pmmap_grouped(path='D:\\\\miniconda3\\\\envs\\\\pytorch\\\\DLLs\\\\_elementtree.pyd', rss=143360),\n",
       " pmmap_grouped(path='D:\\\\miniconda3\\\\envs\\\\pytorch\\\\Lib\\\\site-packages\\\\numpy\\\\random\\\\_bounded_integers.cp311-win_amd64.pyd', rss=274432),\n",
       " pmmap_grouped(path='D:\\\\miniconda3\\\\envs\\\\pytorch\\\\DLLs\\\\pyexpat.pyd', rss=204800),\n",
       " pmmap_grouped(path='D:\\\\miniconda3\\\\envs\\\\pytorch\\\\Lib\\\\site-packages\\\\torch\\\\lib\\\\c10.dll', rss=2101248),\n",
       " pmmap_grouped(path='D:\\\\miniconda3\\\\envs\\\\pytorch\\\\DLLs\\\\_asyncio.pyd', rss=69632),\n",
       " pmmap_grouped(path='D:\\\\miniconda3\\\\envs\\\\pytorch\\\\Lib\\\\site-packages\\\\numpy\\\\random\\\\_pcg64.cp311-win_amd64.pyd', rss=102400),\n",
       " pmmap_grouped(path='D:\\\\miniconda3\\\\envs\\\\pytorch\\\\Lib\\\\site-packages\\\\numpy\\\\random\\\\_common.cp311-win_amd64.pyd', rss=192512),\n",
       " pmmap_grouped(path='C:\\\\Windows\\\\System32\\\\mf.dll', rss=540672),\n",
       " pmmap_grouped(path='D:\\\\miniconda3\\\\envs\\\\pytorch\\\\Lib\\\\site-packages\\\\numpy\\\\random\\\\_philox.cp311-win_amd64.pyd', rss=86016),\n",
       " pmmap_grouped(path='D:\\\\miniconda3\\\\envs\\\\pytorch\\\\Lib\\\\site-packages\\\\numpy\\\\random\\\\bit_generator.cp311-win_amd64.pyd', rss=180224),\n",
       " pmmap_grouped(path='D:\\\\miniconda3\\\\envs\\\\pytorch\\\\Lib\\\\site-packages\\\\numpy\\\\random\\\\_mt19937.cp311-win_amd64.pyd', rss=90112),\n",
       " pmmap_grouped(path='D:\\\\miniconda3\\\\envs\\\\pytorch\\\\Lib\\\\site-packages\\\\numpy\\\\fft\\\\_pocketfft_internal.cp311-win_amd64.pyd', rss=122880),\n",
       " pmmap_grouped(path='D:\\\\miniconda3\\\\envs\\\\pytorch\\\\Lib\\\\site-packages\\\\PIL\\\\_imagingft.cp311-win_amd64.pyd', rss=1732608),\n",
       " pmmap_grouped(path='D:\\\\miniconda3\\\\envs\\\\pytorch\\\\Lib\\\\site-packages\\\\numpy\\\\linalg\\\\_umath_linalg.cp311-win_amd64.pyd', rss=118784),\n",
       " pmmap_grouped(path='D:\\\\miniconda3\\\\envs\\\\pytorch\\\\DLLs\\\\_ctypes.pyd', rss=131072),\n",
       " pmmap_grouped(path='D:\\\\miniconda3\\\\envs\\\\pytorch\\\\Lib\\\\site-packages\\\\numpy\\\\core\\\\_multiarray_tests.cp311-win_amd64.pyd', rss=81920),\n",
       " pmmap_grouped(path='D:\\\\miniconda3\\\\envs\\\\pytorch\\\\DLLs\\\\_socket.pyd', rss=90112),\n",
       " pmmap_grouped(path='D:\\\\miniconda3\\\\envs\\\\pytorch\\\\zlib.dll', rss=106496)]"
      ]
     },
     "metadata": {},
     "output_type": "display_data"
    }
   ],
   "source": [
    "p.memory_maps()"
   ]
  },
  {
   "cell_type": "code",
   "execution_count": 64,
   "metadata": {},
   "outputs": [
    {
     "data": {
      "text/plain": [
       "pio(read_count=8197, write_count=51, read_bytes=80269674, write_bytes=147269, other_count=100407, other_bytes=5036168)"
      ]
     },
     "execution_count": 64,
     "metadata": {},
     "output_type": "execute_result"
    }
   ],
   "source": [
    "# 进程的io数\n",
    "p.io_counters()"
   ]
  },
  {
   "cell_type": "code",
   "execution_count": 65,
   "metadata": {},
   "outputs": [
    {
     "data": {
      "text/plain": [
       "pctxsw(voluntary=7684, involuntary=0)"
      ]
     },
     "execution_count": 65,
     "metadata": {},
     "output_type": "execute_result"
    }
   ],
   "source": [
    "p.num_ctx_switches()"
   ]
  },
  {
   "cell_type": "code",
   "execution_count": 70,
   "metadata": {},
   "outputs": [
    {
     "data": {
      "text/plain": [
       "[]"
      ]
     },
     "execution_count": 70,
     "metadata": {},
     "output_type": "execute_result"
    }
   ],
   "source": [
    "p.connections()"
   ]
  },
  {
   "cell_type": "code",
   "execution_count": null,
   "metadata": {},
   "outputs": [],
   "source": []
  }
 ],
 "metadata": {
  "kernelspec": {
   "display_name": "mm",
   "language": "python",
   "name": "python3"
  },
  "language_info": {
   "codemirror_mode": {
    "name": "ipython",
    "version": 3
   },
   "file_extension": ".py",
   "mimetype": "text/x-python",
   "name": "python",
   "nbconvert_exporter": "python",
   "pygments_lexer": "ipython3",
   "version": "3.11.3"
  }
 },
 "nbformat": 4,
 "nbformat_minor": 2
}
