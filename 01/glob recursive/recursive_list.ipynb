{
 "cells": [
  {
   "attachments": {},
   "cell_type": "markdown",
   "metadata": {},
   "source": [
    "# glob\n",
    "\n",
    "glob中支持的通配符有三种：\n",
    "- \"*\" 匹配0个或多个字符\n",
    "- \"?\" 仅匹配一个字符\n",
    "- \"[]\" 匹配指定范围内的字符，如[0-9]匹配数字"
   ]
  },
  {
   "cell_type": "code",
   "execution_count": 1,
   "metadata": {},
   "outputs": [],
   "source": [
    "from glob import glob"
   ]
  },
  {
   "cell_type": "code",
   "execution_count": 2,
   "metadata": {},
   "outputs": [
    {
     "data": {
      "text/plain": [
       "['dataset\\\\flowers', 'dataset\\\\trees', 'dataset\\\\zoom.txt']"
      ]
     },
     "execution_count": 2,
     "metadata": {},
     "output_type": "execute_result"
    }
   ],
   "source": [
    "glob(\"dataset/*\")"
   ]
  },
  {
   "cell_type": "code",
   "execution_count": 3,
   "metadata": {},
   "outputs": [
    {
     "data": {
      "text/plain": [
       "['dataset\\\\flowers', 'dataset\\\\trees', 'dataset\\\\zoom.txt']"
      ]
     },
     "execution_count": 3,
     "metadata": {},
     "output_type": "execute_result"
    }
   ],
   "source": [
    "glob(\"dataset/**\")"
   ]
  },
  {
   "cell_type": "code",
   "execution_count": 4,
   "metadata": {},
   "outputs": [
    {
     "data": {
      "text/plain": [
       "['dataset\\\\flowers\\\\rose',\n",
       " 'dataset\\\\flowers\\\\violet',\n",
       " 'dataset\\\\trees\\\\poplar',\n",
       " 'dataset\\\\trees\\\\willow']"
      ]
     },
     "execution_count": 4,
     "metadata": {},
     "output_type": "execute_result"
    }
   ],
   "source": [
    "glob(\"dataset/*/*\")"
   ]
  },
  {
   "cell_type": "code",
   "execution_count": 8,
   "metadata": {},
   "outputs": [
    {
     "data": {
      "text/plain": [
       "['dataset\\\\flowers\\\\rose',\n",
       " 'dataset\\\\flowers\\\\violet',\n",
       " 'dataset\\\\trees\\\\poplar',\n",
       " 'dataset\\\\trees\\\\willow']"
      ]
     },
     "execution_count": 8,
     "metadata": {},
     "output_type": "execute_result"
    }
   ],
   "source": [
    "glob(\"dataset/**/**\")"
   ]
  },
  {
   "cell_type": "code",
   "execution_count": 9,
   "metadata": {},
   "outputs": [
    {
     "data": {
      "text/plain": [
       "['dataset\\\\flowers\\\\rose\\\\rose1.txt',\n",
       " 'dataset\\\\flowers\\\\rose\\\\rose2.txt',\n",
       " 'dataset\\\\flowers\\\\violet\\\\violet1.txt',\n",
       " 'dataset\\\\flowers\\\\violet\\\\violet2.txt',\n",
       " 'dataset\\\\trees\\\\poplar\\\\poplar1.txt',\n",
       " 'dataset\\\\trees\\\\poplar\\\\poplar2.txt',\n",
       " 'dataset\\\\trees\\\\willow\\\\willow1.txt',\n",
       " 'dataset\\\\trees\\\\willow\\\\willow2.txt']"
      ]
     },
     "execution_count": 9,
     "metadata": {},
     "output_type": "execute_result"
    }
   ],
   "source": [
    "glob(\"dataset/*/*/*.txt\")"
   ]
  },
  {
   "cell_type": "code",
   "execution_count": 11,
   "metadata": {},
   "outputs": [
    {
     "data": {
      "text/plain": [
       "['dataset\\\\flowers\\\\rose\\\\rose1.txt',\n",
       " 'dataset\\\\flowers\\\\rose\\\\rose2.txt',\n",
       " 'dataset\\\\flowers\\\\violet\\\\violet1.txt',\n",
       " 'dataset\\\\flowers\\\\violet\\\\violet2.txt',\n",
       " 'dataset\\\\trees\\\\poplar\\\\poplar1.txt',\n",
       " 'dataset\\\\trees\\\\poplar\\\\poplar2.txt',\n",
       " 'dataset\\\\trees\\\\willow\\\\willow1.txt',\n",
       " 'dataset\\\\trees\\\\willow\\\\willow2.txt']"
      ]
     },
     "execution_count": 11,
     "metadata": {},
     "output_type": "execute_result"
    }
   ],
   "source": [
    "glob(\"dataset/**/**/*.txt\")"
   ]
  },
  {
   "attachments": {},
   "cell_type": "markdown",
   "metadata": {},
   "source": [
    "# Path.glob"
   ]
  },
  {
   "cell_type": "code",
   "execution_count": 12,
   "metadata": {},
   "outputs": [],
   "source": [
    "from pathlib import Path"
   ]
  },
  {
   "cell_type": "code",
   "execution_count": 13,
   "metadata": {},
   "outputs": [
    {
     "data": {
      "text/plain": [
       "WindowsPath('dataset')"
      ]
     },
     "execution_count": 13,
     "metadata": {},
     "output_type": "execute_result"
    }
   ],
   "source": [
    "path = Path(\"dataset\")\n",
    "path"
   ]
  },
  {
   "cell_type": "code",
   "execution_count": 18,
   "metadata": {},
   "outputs": [
    {
     "name": "stdout",
     "output_type": "stream",
     "text": [
      "dataset\\flowers\\rose\\rose1.txt\n",
      "dataset\\flowers\\rose\\rose2.txt\n",
      "dataset\\flowers\\violet\\violet1.txt\n",
      "dataset\\flowers\\violet\\violet2.txt\n",
      "dataset\\trees\\poplar\\poplar1.txt\n",
      "dataset\\trees\\poplar\\poplar2.txt\n",
      "dataset\\trees\\willow\\willow1.txt\n",
      "dataset\\trees\\willow\\willow2.txt\n"
     ]
    }
   ],
   "source": [
    "gl = path.glob(\"*/*/*.txt\")\n",
    "for g in gl:\n",
    "    print(g)"
   ]
  },
  {
   "cell_type": "code",
   "execution_count": 21,
   "metadata": {},
   "outputs": [
    {
     "name": "stdout",
     "output_type": "stream",
     "text": [
      "dataset\\zoom.txt\n",
      "dataset\\flowers\\rose\\rose1.txt\n",
      "dataset\\flowers\\rose\\rose2.txt\n",
      "dataset\\flowers\\violet\\violet1.txt\n",
      "dataset\\flowers\\violet\\violet2.txt\n",
      "dataset\\trees\\poplar\\poplar1.txt\n",
      "dataset\\trees\\poplar\\poplar2.txt\n",
      "dataset\\trees\\willow\\willow1.txt\n",
      "dataset\\trees\\willow\\willow2.txt\n"
     ]
    }
   ],
   "source": [
    "# Pathlib glob `**` 代表递归多级目录,也包含 dataset 根目录下的文件\n",
    "gl = path.glob(\"**/**/*.txt\")\n",
    "for g in gl:\n",
    "    print(g)"
   ]
  },
  {
   "cell_type": "code",
   "execution_count": 22,
   "metadata": {},
   "outputs": [
    {
     "name": "stdout",
     "output_type": "stream",
     "text": [
      "dataset\\zoom.txt\n",
      "dataset\\flowers\\rose\\rose1.txt\n",
      "dataset\\flowers\\rose\\rose2.txt\n",
      "dataset\\flowers\\violet\\violet1.txt\n",
      "dataset\\flowers\\violet\\violet2.txt\n",
      "dataset\\trees\\poplar\\poplar1.txt\n",
      "dataset\\trees\\poplar\\poplar2.txt\n",
      "dataset\\trees\\willow\\willow1.txt\n",
      "dataset\\trees\\willow\\willow2.txt\n"
     ]
    }
   ],
   "source": [
    "# Pathlib glob `**` 代表递归多级目录,也包含 dataset 根目录下的文件\n",
    "gl = path.glob(\"**/*.txt\")\n",
    "for g in gl:\n",
    "    print(g)"
   ]
  },
  {
   "cell_type": "code",
   "execution_count": null,
   "metadata": {},
   "outputs": [],
   "source": []
  }
 ],
 "metadata": {
  "kernelspec": {
   "display_name": "pytorch",
   "language": "python",
   "name": "python3"
  },
  "language_info": {
   "codemirror_mode": {
    "name": "ipython",
    "version": 3
   },
   "file_extension": ".py",
   "mimetype": "text/x-python",
   "name": "python",
   "nbconvert_exporter": "python",
   "pygments_lexer": "ipython3",
   "version": "3.11.4"
  },
  "orig_nbformat": 4
 },
 "nbformat": 4,
 "nbformat_minor": 2
}
