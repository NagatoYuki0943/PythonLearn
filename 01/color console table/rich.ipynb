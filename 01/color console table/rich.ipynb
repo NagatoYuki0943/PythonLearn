{
 "cells": [
  {
   "attachments": {},
   "cell_type": "markdown",
   "metadata": {},
   "source": [
    "https://zhuanlan.zhihu.com/p/394105084"
   ]
  },
  {
   "attachments": {},
   "cell_type": "markdown",
   "metadata": {},
   "source": [
    "# Rich 的 Print 功能"
   ]
  },
  {
   "cell_type": "code",
   "execution_count": 1,
   "metadata": {},
   "outputs": [],
   "source": [
    "from rich import print"
   ]
  },
  {
   "cell_type": "code",
   "execution_count": 2,
   "metadata": {},
   "outputs": [
    {
     "data": {
      "text/html": [
       "<pre style=\"white-space:pre;overflow-x:auto;line-height:normal;font-family:Menlo,'DejaVu Sans Mono',consolas,'Courier New',monospace\">Hello, <span style=\"color: #800080; text-decoration-color: #800080; font-weight: bold\">World</span>! 🧛\n",
       "<span style=\"font-weight: bold\">{</span>\n",
       "    <span style=\"color: #008000; text-decoration-color: #008000\">'__name__'</span>: <span style=\"color: #008000; text-decoration-color: #008000\">'__main__'</span>,\n",
       "    <span style=\"color: #008000; text-decoration-color: #008000\">'__doc__'</span>: <span style=\"color: #008000; text-decoration-color: #008000\">'Automatically created module for IPython interactive environment'</span>,\n",
       "    <span style=\"color: #008000; text-decoration-color: #008000\">'__package__'</span>: <span style=\"color: #800080; text-decoration-color: #800080; font-style: italic\">None</span>,\n",
       "    <span style=\"color: #008000; text-decoration-color: #008000\">'__loader__'</span>: <span style=\"color: #800080; text-decoration-color: #800080; font-style: italic\">None</span>,\n",
       "    <span style=\"color: #008000; text-decoration-color: #008000\">'__spec__'</span>: <span style=\"color: #800080; text-decoration-color: #800080; font-style: italic\">None</span>,\n",
       "    <span style=\"color: #008000; text-decoration-color: #008000\">'__builtin__'</span>: <span style=\"font-weight: bold\">&lt;</span><span style=\"color: #ff00ff; text-decoration-color: #ff00ff; font-weight: bold\">module</span><span style=\"color: #000000; text-decoration-color: #000000\"> </span><span style=\"color: #008000; text-decoration-color: #008000\">'builtins'</span><span style=\"color: #000000; text-decoration-color: #000000\"> </span><span style=\"color: #000000; text-decoration-color: #000000; font-weight: bold\">(</span><span style=\"color: #000000; text-decoration-color: #000000\">built-in</span><span style=\"color: #000000; text-decoration-color: #000000; font-weight: bold\">)</span><span style=\"color: #000000; text-decoration-color: #000000\">&gt;,</span>\n",
       "<span style=\"color: #000000; text-decoration-color: #000000\">    </span><span style=\"color: #008000; text-decoration-color: #008000\">'__builtins__'</span><span style=\"color: #000000; text-decoration-color: #000000\">: &lt;module </span><span style=\"color: #008000; text-decoration-color: #008000\">'builtins'</span><span style=\"color: #000000; text-decoration-color: #000000\"> </span><span style=\"color: #000000; text-decoration-color: #000000; font-weight: bold\">(</span><span style=\"color: #000000; text-decoration-color: #000000\">built-in</span><span style=\"color: #000000; text-decoration-color: #000000; font-weight: bold\">)</span><span style=\"color: #000000; text-decoration-color: #000000\">&gt;,</span>\n",
       "<span style=\"color: #000000; text-decoration-color: #000000\">    </span><span style=\"color: #008000; text-decoration-color: #008000\">'_ih'</span><span style=\"color: #000000; text-decoration-color: #000000\">: </span><span style=\"color: #000000; text-decoration-color: #000000; font-weight: bold\">[</span>\n",
       "<span style=\"color: #000000; text-decoration-color: #000000\">        </span><span style=\"color: #008000; text-decoration-color: #008000\">''</span><span style=\"color: #000000; text-decoration-color: #000000\">,</span>\n",
       "<span style=\"color: #000000; text-decoration-color: #000000\">        </span><span style=\"color: #008000; text-decoration-color: #008000\">'from rich import print'</span><span style=\"color: #000000; text-decoration-color: #000000\">,</span>\n",
       "<span style=\"color: #000000; text-decoration-color: #000000\">        </span><span style=\"color: #008000; text-decoration-color: #008000\">'print(\"Hello, [bold magenta]World[/bold magenta]!\", \":vampire:\", locals())'</span>\n",
       "<span style=\"color: #000000; text-decoration-color: #000000\">    </span><span style=\"color: #000000; text-decoration-color: #000000; font-weight: bold\">]</span><span style=\"color: #000000; text-decoration-color: #000000\">,</span>\n",
       "<span style=\"color: #000000; text-decoration-color: #000000\">    </span><span style=\"color: #008000; text-decoration-color: #008000\">'_oh'</span><span style=\"color: #000000; text-decoration-color: #000000\">: </span><span style=\"color: #000000; text-decoration-color: #000000; font-weight: bold\">{}</span><span style=\"color: #000000; text-decoration-color: #000000\">,</span>\n",
       "<span style=\"color: #000000; text-decoration-color: #000000\">    </span><span style=\"color: #008000; text-decoration-color: #008000\">'_dh'</span><span style=\"color: #000000; text-decoration-color: #000000\">: </span><span style=\"color: #000000; text-decoration-color: #000000; font-weight: bold\">[</span><span style=\"color: #800080; text-decoration-color: #800080; font-weight: bold\">WindowsPath</span><span style=\"color: #000000; text-decoration-color: #000000; font-weight: bold\">(</span><span style=\"color: #008000; text-decoration-color: #008000\">'d:/ml/code/test/python'</span><span style=\"color: #000000; text-decoration-color: #000000; font-weight: bold\">)</span><span style=\"color: #000000; text-decoration-color: #000000\">, </span><span style=\"color: #800080; text-decoration-color: #800080; font-weight: bold\">WindowsPath</span><span style=\"color: #000000; text-decoration-color: #000000; font-weight: bold\">(</span><span style=\"color: #008000; text-decoration-color: #008000\">'d:/ml/code/test/python'</span><span style=\"color: #000000; text-decoration-color: #000000; font-weight: bold\">)]</span><span style=\"color: #000000; text-decoration-color: #000000\">,</span>\n",
       "<span style=\"color: #000000; text-decoration-color: #000000\">    </span><span style=\"color: #008000; text-decoration-color: #008000\">'In'</span><span style=\"color: #000000; text-decoration-color: #000000\">: </span><span style=\"color: #000000; text-decoration-color: #000000; font-weight: bold\">[</span>\n",
       "<span style=\"color: #000000; text-decoration-color: #000000\">        </span><span style=\"color: #008000; text-decoration-color: #008000\">''</span><span style=\"color: #000000; text-decoration-color: #000000\">,</span>\n",
       "<span style=\"color: #000000; text-decoration-color: #000000\">        </span><span style=\"color: #008000; text-decoration-color: #008000\">'from rich import print'</span><span style=\"color: #000000; text-decoration-color: #000000\">,</span>\n",
       "<span style=\"color: #000000; text-decoration-color: #000000\">        </span><span style=\"color: #008000; text-decoration-color: #008000\">'print(\"Hello, [bold magenta]World[/bold magenta]!\", \":vampire:\", locals())'</span>\n",
       "<span style=\"color: #000000; text-decoration-color: #000000\">    </span><span style=\"color: #000000; text-decoration-color: #000000; font-weight: bold\">]</span><span style=\"color: #000000; text-decoration-color: #000000\">,</span>\n",
       "<span style=\"color: #000000; text-decoration-color: #000000\">    </span><span style=\"color: #008000; text-decoration-color: #008000\">'Out'</span><span style=\"color: #000000; text-decoration-color: #000000\">: </span><span style=\"color: #000000; text-decoration-color: #000000; font-weight: bold\">{}</span><span style=\"color: #000000; text-decoration-color: #000000\">,</span>\n",
       "<span style=\"color: #000000; text-decoration-color: #000000\">    </span><span style=\"color: #008000; text-decoration-color: #008000\">'get_ipython'</span><span style=\"color: #000000; text-decoration-color: #000000\">: &lt;bound method InteractiveShell.get_ipython of &lt;ipykernel.zmqshell.ZMQInteractiveShell object at </span>\n",
       "<span style=\"color: #008080; text-decoration-color: #008080; font-weight: bold\">0x00000186E9DB71F0</span><span style=\"color: #000000; text-decoration-color: #000000\">&gt;&gt;,</span>\n",
       "<span style=\"color: #000000; text-decoration-color: #000000\">    </span><span style=\"color: #008000; text-decoration-color: #008000\">'exit'</span><span style=\"color: #000000; text-decoration-color: #000000\">: &lt;IPython.core.autocall.ZMQExitAutocall object at </span><span style=\"color: #008080; text-decoration-color: #008080; font-weight: bold\">0x00000186E9DB6620</span><span style=\"color: #000000; text-decoration-color: #000000\">&gt;,</span>\n",
       "<span style=\"color: #000000; text-decoration-color: #000000\">    </span><span style=\"color: #008000; text-decoration-color: #008000\">'quit'</span><span style=\"color: #000000; text-decoration-color: #000000\">: &lt;IPython.core.autocall.ZMQExitAutocall object at </span><span style=\"color: #008080; text-decoration-color: #008080; font-weight: bold\">0x00000186E9DB6620</span><span style=\"color: #000000; text-decoration-color: #000000\">&gt;,</span>\n",
       "<span style=\"color: #000000; text-decoration-color: #000000\">    </span><span style=\"color: #008000; text-decoration-color: #008000\">'open'</span><span style=\"color: #000000; text-decoration-color: #000000\">: &lt;function open at </span><span style=\"color: #008080; text-decoration-color: #008080; font-weight: bold\">0x00000186E84EE440</span><span style=\"color: #000000; text-decoration-color: #000000\">&gt;,</span>\n",
       "<span style=\"color: #000000; text-decoration-color: #000000\">    </span><span style=\"color: #008000; text-decoration-color: #008000\">'_'</span><span style=\"color: #000000; text-decoration-color: #000000\">: </span><span style=\"color: #008000; text-decoration-color: #008000\">''</span><span style=\"color: #000000; text-decoration-color: #000000\">,</span>\n",
       "<span style=\"color: #000000; text-decoration-color: #000000\">    </span><span style=\"color: #008000; text-decoration-color: #008000\">'__'</span><span style=\"color: #000000; text-decoration-color: #000000\">: </span><span style=\"color: #008000; text-decoration-color: #008000\">''</span><span style=\"color: #000000; text-decoration-color: #000000\">,</span>\n",
       "<span style=\"color: #000000; text-decoration-color: #000000\">    </span><span style=\"color: #008000; text-decoration-color: #008000\">'___'</span><span style=\"color: #000000; text-decoration-color: #000000\">: </span><span style=\"color: #008000; text-decoration-color: #008000\">''</span><span style=\"color: #000000; text-decoration-color: #000000\">,</span>\n",
       "<span style=\"color: #000000; text-decoration-color: #000000\">    </span><span style=\"color: #008000; text-decoration-color: #008000\">'__vsc_ipynb_file__'</span><span style=\"color: #000000; text-decoration-color: #000000\">: </span><span style=\"color: #008000; text-decoration-color: #008000\">'d:\\\\ml\\\\code\\\\test\\\\python\\\\rich.ipynb'</span><span style=\"color: #000000; text-decoration-color: #000000\">,</span>\n",
       "<span style=\"color: #000000; text-decoration-color: #000000\">    </span><span style=\"color: #008000; text-decoration-color: #008000\">'_i'</span><span style=\"color: #000000; text-decoration-color: #000000\">: </span><span style=\"color: #008000; text-decoration-color: #008000\">'from rich import print'</span><span style=\"color: #000000; text-decoration-color: #000000\">,</span>\n",
       "<span style=\"color: #000000; text-decoration-color: #000000\">    </span><span style=\"color: #008000; text-decoration-color: #008000\">'_ii'</span><span style=\"color: #000000; text-decoration-color: #000000\">: </span><span style=\"color: #008000; text-decoration-color: #008000\">''</span><span style=\"color: #000000; text-decoration-color: #000000\">,</span>\n",
       "<span style=\"color: #000000; text-decoration-color: #000000\">    </span><span style=\"color: #008000; text-decoration-color: #008000\">'_iii'</span><span style=\"color: #000000; text-decoration-color: #000000\">: </span><span style=\"color: #008000; text-decoration-color: #008000\">''</span><span style=\"color: #000000; text-decoration-color: #000000\">,</span>\n",
       "<span style=\"color: #000000; text-decoration-color: #000000\">    </span><span style=\"color: #008000; text-decoration-color: #008000\">'_i1'</span><span style=\"color: #000000; text-decoration-color: #000000\">: </span><span style=\"color: #008000; text-decoration-color: #008000\">'from rich import print'</span><span style=\"color: #000000; text-decoration-color: #000000\">,</span>\n",
       "<span style=\"color: #000000; text-decoration-color: #000000\">    </span><span style=\"color: #008000; text-decoration-color: #008000\">'print'</span><span style=\"color: #000000; text-decoration-color: #000000\">: &lt;function print at </span><span style=\"color: #008080; text-decoration-color: #008080; font-weight: bold\">0x00000186E9F47BE0</span><span style=\"font-weight: bold\">&gt;</span>,\n",
       "    <span style=\"color: #008000; text-decoration-color: #008000\">'_i2'</span>: <span style=\"color: #008000; text-decoration-color: #008000\">'print(\"Hello, [bold magenta]World[/bold magenta]!\", \":vampire:\", locals())'</span>\n",
       "<span style=\"font-weight: bold\">}</span>\n",
       "</pre>\n"
      ],
      "text/plain": [
       "Hello, \u001b[1;35mWorld\u001b[0m! 🧛\n",
       "\u001b[1m{\u001b[0m\n",
       "    \u001b[32m'__name__'\u001b[0m: \u001b[32m'__main__'\u001b[0m,\n",
       "    \u001b[32m'__doc__'\u001b[0m: \u001b[32m'Automatically created module for IPython interactive environment'\u001b[0m,\n",
       "    \u001b[32m'__package__'\u001b[0m: \u001b[3;35mNone\u001b[0m,\n",
       "    \u001b[32m'__loader__'\u001b[0m: \u001b[3;35mNone\u001b[0m,\n",
       "    \u001b[32m'__spec__'\u001b[0m: \u001b[3;35mNone\u001b[0m,\n",
       "    \u001b[32m'__builtin__'\u001b[0m: \u001b[1m<\u001b[0m\u001b[1;95mmodule\u001b[0m\u001b[39m \u001b[0m\u001b[32m'builtins'\u001b[0m\u001b[39m \u001b[0m\u001b[1;39m(\u001b[0m\u001b[39mbuilt-in\u001b[0m\u001b[1;39m)\u001b[0m\u001b[39m>,\u001b[0m\n",
       "\u001b[39m    \u001b[0m\u001b[32m'__builtins__'\u001b[0m\u001b[39m: <module \u001b[0m\u001b[32m'builtins'\u001b[0m\u001b[39m \u001b[0m\u001b[1;39m(\u001b[0m\u001b[39mbuilt-in\u001b[0m\u001b[1;39m)\u001b[0m\u001b[39m>,\u001b[0m\n",
       "\u001b[39m    \u001b[0m\u001b[32m'_ih'\u001b[0m\u001b[39m: \u001b[0m\u001b[1;39m[\u001b[0m\n",
       "\u001b[39m        \u001b[0m\u001b[32m''\u001b[0m\u001b[39m,\u001b[0m\n",
       "\u001b[39m        \u001b[0m\u001b[32m'from rich import print'\u001b[0m\u001b[39m,\u001b[0m\n",
       "\u001b[39m        \u001b[0m\u001b[32m'print\u001b[0m\u001b[32m(\u001b[0m\u001b[32m\"Hello, \u001b[0m\u001b[32m[\u001b[0m\u001b[32mbold magenta\u001b[0m\u001b[32m]\u001b[0m\u001b[32mWorld\u001b[0m\u001b[32m[\u001b[0m\u001b[32m/bold magenta\u001b[0m\u001b[32m]\u001b[0m\u001b[32m!\", \":vampire:\", locals\u001b[0m\u001b[32m(\u001b[0m\u001b[32m)\u001b[0m\u001b[32m)\u001b[0m\u001b[32m'\u001b[0m\n",
       "\u001b[39m    \u001b[0m\u001b[1;39m]\u001b[0m\u001b[39m,\u001b[0m\n",
       "\u001b[39m    \u001b[0m\u001b[32m'_oh'\u001b[0m\u001b[39m: \u001b[0m\u001b[1;39m{\u001b[0m\u001b[1;39m}\u001b[0m\u001b[39m,\u001b[0m\n",
       "\u001b[39m    \u001b[0m\u001b[32m'_dh'\u001b[0m\u001b[39m: \u001b[0m\u001b[1;39m[\u001b[0m\u001b[1;35mWindowsPath\u001b[0m\u001b[1;39m(\u001b[0m\u001b[32m'd:/ml/code/test/python'\u001b[0m\u001b[1;39m)\u001b[0m\u001b[39m, \u001b[0m\u001b[1;35mWindowsPath\u001b[0m\u001b[1;39m(\u001b[0m\u001b[32m'd:/ml/code/test/python'\u001b[0m\u001b[1;39m)\u001b[0m\u001b[1;39m]\u001b[0m\u001b[39m,\u001b[0m\n",
       "\u001b[39m    \u001b[0m\u001b[32m'In'\u001b[0m\u001b[39m: \u001b[0m\u001b[1;39m[\u001b[0m\n",
       "\u001b[39m        \u001b[0m\u001b[32m''\u001b[0m\u001b[39m,\u001b[0m\n",
       "\u001b[39m        \u001b[0m\u001b[32m'from rich import print'\u001b[0m\u001b[39m,\u001b[0m\n",
       "\u001b[39m        \u001b[0m\u001b[32m'print\u001b[0m\u001b[32m(\u001b[0m\u001b[32m\"Hello, \u001b[0m\u001b[32m[\u001b[0m\u001b[32mbold magenta\u001b[0m\u001b[32m]\u001b[0m\u001b[32mWorld\u001b[0m\u001b[32m[\u001b[0m\u001b[32m/bold magenta\u001b[0m\u001b[32m]\u001b[0m\u001b[32m!\", \":vampire:\", locals\u001b[0m\u001b[32m(\u001b[0m\u001b[32m)\u001b[0m\u001b[32m)\u001b[0m\u001b[32m'\u001b[0m\n",
       "\u001b[39m    \u001b[0m\u001b[1;39m]\u001b[0m\u001b[39m,\u001b[0m\n",
       "\u001b[39m    \u001b[0m\u001b[32m'Out'\u001b[0m\u001b[39m: \u001b[0m\u001b[1;39m{\u001b[0m\u001b[1;39m}\u001b[0m\u001b[39m,\u001b[0m\n",
       "\u001b[39m    \u001b[0m\u001b[32m'get_ipython'\u001b[0m\u001b[39m: <bound method InteractiveShell.get_ipython of <ipykernel.zmqshell.ZMQInteractiveShell object at \u001b[0m\n",
       "\u001b[1;36m0x00000186E9DB71F0\u001b[0m\u001b[39m>>,\u001b[0m\n",
       "\u001b[39m    \u001b[0m\u001b[32m'exit'\u001b[0m\u001b[39m: <IPython.core.autocall.ZMQExitAutocall object at \u001b[0m\u001b[1;36m0x00000186E9DB6620\u001b[0m\u001b[39m>,\u001b[0m\n",
       "\u001b[39m    \u001b[0m\u001b[32m'quit'\u001b[0m\u001b[39m: <IPython.core.autocall.ZMQExitAutocall object at \u001b[0m\u001b[1;36m0x00000186E9DB6620\u001b[0m\u001b[39m>,\u001b[0m\n",
       "\u001b[39m    \u001b[0m\u001b[32m'open'\u001b[0m\u001b[39m: <function open at \u001b[0m\u001b[1;36m0x00000186E84EE440\u001b[0m\u001b[39m>,\u001b[0m\n",
       "\u001b[39m    \u001b[0m\u001b[32m'_'\u001b[0m\u001b[39m: \u001b[0m\u001b[32m''\u001b[0m\u001b[39m,\u001b[0m\n",
       "\u001b[39m    \u001b[0m\u001b[32m'__'\u001b[0m\u001b[39m: \u001b[0m\u001b[32m''\u001b[0m\u001b[39m,\u001b[0m\n",
       "\u001b[39m    \u001b[0m\u001b[32m'___'\u001b[0m\u001b[39m: \u001b[0m\u001b[32m''\u001b[0m\u001b[39m,\u001b[0m\n",
       "\u001b[39m    \u001b[0m\u001b[32m'__vsc_ipynb_file__'\u001b[0m\u001b[39m: \u001b[0m\u001b[32m'd:\\\\ml\\\\code\\\\test\\\\python\\\\rich.ipynb'\u001b[0m\u001b[39m,\u001b[0m\n",
       "\u001b[39m    \u001b[0m\u001b[32m'_i'\u001b[0m\u001b[39m: \u001b[0m\u001b[32m'from rich import print'\u001b[0m\u001b[39m,\u001b[0m\n",
       "\u001b[39m    \u001b[0m\u001b[32m'_ii'\u001b[0m\u001b[39m: \u001b[0m\u001b[32m''\u001b[0m\u001b[39m,\u001b[0m\n",
       "\u001b[39m    \u001b[0m\u001b[32m'_iii'\u001b[0m\u001b[39m: \u001b[0m\u001b[32m''\u001b[0m\u001b[39m,\u001b[0m\n",
       "\u001b[39m    \u001b[0m\u001b[32m'_i1'\u001b[0m\u001b[39m: \u001b[0m\u001b[32m'from rich import print'\u001b[0m\u001b[39m,\u001b[0m\n",
       "\u001b[39m    \u001b[0m\u001b[32m'print'\u001b[0m\u001b[39m: <function print at \u001b[0m\u001b[1;36m0x00000186E9F47BE0\u001b[0m\u001b[1m>\u001b[0m,\n",
       "    \u001b[32m'_i2'\u001b[0m: \u001b[32m'print\u001b[0m\u001b[32m(\u001b[0m\u001b[32m\"Hello, \u001b[0m\u001b[32m[\u001b[0m\u001b[32mbold magenta\u001b[0m\u001b[32m]\u001b[0m\u001b[32mWorld\u001b[0m\u001b[32m[\u001b[0m\u001b[32m/bold magenta\u001b[0m\u001b[32m]\u001b[0m\u001b[32m!\", \":vampire:\", locals\u001b[0m\u001b[32m(\u001b[0m\u001b[32m)\u001b[0m\u001b[32m)\u001b[0m\u001b[32m'\u001b[0m\n",
       "\u001b[1m}\u001b[0m\n"
      ]
     },
     "metadata": {},
     "output_type": "display_data"
    }
   ],
   "source": [
    "print(\"Hello, [bold magenta]World[/bold magenta]!\", \":vampire:\", locals())"
   ]
  },
  {
   "attachments": {},
   "cell_type": "markdown",
   "metadata": {},
   "source": [
    "# 自定义 Console 控制台输出"
   ]
  },
  {
   "cell_type": "code",
   "execution_count": 3,
   "metadata": {},
   "outputs": [],
   "source": [
    "from rich.console import Console"
   ]
  },
  {
   "cell_type": "code",
   "execution_count": 4,
   "metadata": {},
   "outputs": [],
   "source": [
    "console = Console()"
   ]
  },
  {
   "cell_type": "code",
   "execution_count": 5,
   "metadata": {},
   "outputs": [
    {
     "data": {
      "text/html": [
       "<pre style=\"white-space:pre;overflow-x:auto;line-height:normal;font-family:Menlo,'DejaVu Sans Mono',consolas,'Courier New',monospace\">Hello World!\n",
       "</pre>\n"
      ],
      "text/plain": [
       "Hello World!\n"
      ]
     },
     "metadata": {},
     "output_type": "display_data"
    }
   ],
   "source": [
    "console.print(\"Hello\", \"World!\")"
   ]
  },
  {
   "cell_type": "code",
   "execution_count": 6,
   "metadata": {},
   "outputs": [
    {
     "data": {
      "text/html": [
       "<pre style=\"white-space:pre;overflow-x:auto;line-height:normal;font-family:Menlo,'DejaVu Sans Mono',consolas,'Courier New',monospace\"><span style=\"color: #800000; text-decoration-color: #800000; font-weight: bold\">Hello World!</span>\n",
       "</pre>\n"
      ],
      "text/plain": [
       "\u001b[1;31mHello World!\u001b[0m\n"
      ]
     },
     "metadata": {},
     "output_type": "display_data"
    }
   ],
   "source": [
    "console.print(\"Hello\", \"World!\", style=\"bold red\")"
   ]
  },
  {
   "cell_type": "code",
   "execution_count": 7,
   "metadata": {},
   "outputs": [
    {
     "data": {
      "text/html": [
       "<pre style=\"white-space:pre;overflow-x:auto;line-height:normal;font-family:Menlo,'DejaVu Sans Mono',consolas,'Courier New',monospace\">Where there is a <span style=\"color: #008080; text-decoration-color: #008080; font-weight: bold\">Will</span> there <span style=\"text-decoration: underline\">is</span> a <span style=\"font-style: italic\">way</span>.\n",
       "</pre>\n"
      ],
      "text/plain": [
       "Where there is a \u001b[1;36mWill\u001b[0m there \u001b[4mis\u001b[0m a \u001b[3mway\u001b[0m.\n"
      ]
     },
     "metadata": {},
     "output_type": "display_data"
    }
   ],
   "source": [
    "console.print(\n",
    "    \"Where there is a [bold cyan]Will[/bold cyan] there [u]is[/u] a [i]way[/i].\"\n",
    ")"
   ]
  },
  {
   "attachments": {},
   "cell_type": "markdown",
   "metadata": {},
   "source": [
    "# Console 控制台记录"
   ]
  },
  {
   "cell_type": "code",
   "execution_count": 8,
   "metadata": {},
   "outputs": [
    {
     "data": {
      "text/html": [
       "<pre style=\"white-space:pre;overflow-x:auto;line-height:normal;font-family:Menlo,'DejaVu Sans Mono',consolas,'Courier New',monospace\"><span style=\"color: #7fbfbf; text-decoration-color: #7fbfbf\">[14:55:00] </span>Hello from <span style=\"font-weight: bold\">&lt;</span><span style=\"color: #ff00ff; text-decoration-color: #ff00ff; font-weight: bold\">console</span><span style=\"color: #000000; text-decoration-color: #000000\"> </span><span style=\"color: #808000; text-decoration-color: #808000\">width</span><span style=\"color: #000000; text-decoration-color: #000000\">=</span><span style=\"color: #008080; text-decoration-color: #008080; font-weight: bold\">115</span><span style=\"color: #000000; text-decoration-color: #000000\"> ColorSystem.TRUECOLOR</span><span style=\"font-weight: bold\">&gt;</span> !                                  <a href=\"file://C:\\Users\\Administrator\\AppData\\Local\\Temp\\ipykernel_4364\\1838712875.py\" target=\"_blank\"><span style=\"color: #7f7f7f; text-decoration-color: #7f7f7f\">1838712875.py</span></a><span style=\"color: #7f7f7f; text-decoration-color: #7f7f7f\">:</span><a href=\"file://C:\\Users\\Administrator\\AppData\\Local\\Temp\\ipykernel_4364\\1838712875.py#13\" target=\"_blank\"><span style=\"color: #7f7f7f; text-decoration-color: #7f7f7f\">13</span></a>\n",
       "</pre>\n"
      ],
      "text/plain": [
       "\u001b[2;36m[14:55:00]\u001b[0m\u001b[2;36m \u001b[0mHello from \u001b[1m<\u001b[0m\u001b[1;95mconsole\u001b[0m\u001b[39m \u001b[0m\u001b[33mwidth\u001b[0m\u001b[39m=\u001b[0m\u001b[1;36m115\u001b[0m\u001b[39m ColorSystem.TRUECOLOR\u001b[0m\u001b[1m>\u001b[0m !                                  \u001b]8;id=358258;file://C:\\Users\\Administrator\\AppData\\Local\\Temp\\ipykernel_4364\\1838712875.py\u001b\\\u001b[2m1838712875.py\u001b[0m\u001b]8;;\u001b\\\u001b[2m:\u001b[0m\u001b]8;id=826691;file://C:\\Users\\Administrator\\AppData\\Local\\Temp\\ipykernel_4364\\1838712875.py#13\u001b\\\u001b[2m13\u001b[0m\u001b]8;;\u001b\\\n"
      ]
     },
     "metadata": {},
     "output_type": "display_data"
    },
    {
     "data": {
      "text/html": [
       "<pre style=\"white-space:pre;overflow-x:auto;line-height:normal;font-family:Menlo,'DejaVu Sans Mono',consolas,'Courier New',monospace\"><span style=\"color: #7fbfbf; text-decoration-color: #7fbfbf\">           </span><span style=\"font-weight: bold\">[</span>                                                                                       <a href=\"file://C:\\Users\\Administrator\\AppData\\Local\\Temp\\ipykernel_4364\\1838712875.py\" target=\"_blank\"><span style=\"color: #7f7f7f; text-decoration-color: #7f7f7f\">1838712875.py</span></a><span style=\"color: #7f7f7f; text-decoration-color: #7f7f7f\">:</span><a href=\"file://C:\\Users\\Administrator\\AppData\\Local\\Temp\\ipykernel_4364\\1838712875.py#14\" target=\"_blank\"><span style=\"color: #7f7f7f; text-decoration-color: #7f7f7f\">14</span></a>\n",
       "<span style=\"color: #7fbfbf; text-decoration-color: #7fbfbf\">           </span>    <span style=\"font-weight: bold\">{</span>                                                                                   <span style=\"color: #7f7f7f; text-decoration-color: #7f7f7f\">                </span>\n",
       "<span style=\"color: #7fbfbf; text-decoration-color: #7fbfbf\">           </span>        <span style=\"color: #008000; text-decoration-color: #008000\">'jsonrpc'</span>: <span style=\"color: #008000; text-decoration-color: #008000\">'2.0'</span>,                                                               <span style=\"color: #7f7f7f; text-decoration-color: #7f7f7f\">                </span>\n",
       "<span style=\"color: #7fbfbf; text-decoration-color: #7fbfbf\">           </span>        <span style=\"color: #008000; text-decoration-color: #008000\">'method'</span>: <span style=\"color: #008000; text-decoration-color: #008000\">'sum'</span>,                                                                <span style=\"color: #7f7f7f; text-decoration-color: #7f7f7f\">                </span>\n",
       "<span style=\"color: #7fbfbf; text-decoration-color: #7fbfbf\">           </span>        <span style=\"color: #008000; text-decoration-color: #008000\">'params'</span>: <span style=\"font-weight: bold\">[</span><span style=\"color: #800080; text-decoration-color: #800080; font-style: italic\">None</span>, <span style=\"color: #008080; text-decoration-color: #008080; font-weight: bold\">1</span>, <span style=\"color: #008080; text-decoration-color: #008080; font-weight: bold\">2</span>, <span style=\"color: #008080; text-decoration-color: #008080; font-weight: bold\">4</span>, <span style=\"color: #ff0000; text-decoration-color: #ff0000; font-style: italic\">False</span>, <span style=\"color: #00ff00; text-decoration-color: #00ff00; font-style: italic\">True</span><span style=\"font-weight: bold\">]</span>,                                         <span style=\"color: #7f7f7f; text-decoration-color: #7f7f7f\">                </span>\n",
       "<span style=\"color: #7fbfbf; text-decoration-color: #7fbfbf\">           </span>        <span style=\"color: #008000; text-decoration-color: #008000\">'id'</span>: <span style=\"color: #008000; text-decoration-color: #008000\">'1'</span>                                                                       <span style=\"color: #7f7f7f; text-decoration-color: #7f7f7f\">                </span>\n",
       "<span style=\"color: #7fbfbf; text-decoration-color: #7fbfbf\">           </span>    <span style=\"font-weight: bold\">}</span>,                                                                                  <span style=\"color: #7f7f7f; text-decoration-color: #7f7f7f\">                </span>\n",
       "<span style=\"color: #7fbfbf; text-decoration-color: #7fbfbf\">           </span>    <span style=\"font-weight: bold\">{</span><span style=\"color: #008000; text-decoration-color: #008000\">'jsonrpc'</span>: <span style=\"color: #008000; text-decoration-color: #008000\">'2.0'</span>, <span style=\"color: #008000; text-decoration-color: #008000\">'method'</span>: <span style=\"color: #008000; text-decoration-color: #008000\">'notify_hello'</span>, <span style=\"color: #008000; text-decoration-color: #008000\">'params'</span>: <span style=\"font-weight: bold\">[</span><span style=\"color: #008080; text-decoration-color: #008080; font-weight: bold\">7</span><span style=\"font-weight: bold\">]}</span>,                        <span style=\"color: #7f7f7f; text-decoration-color: #7f7f7f\">                </span>\n",
       "<span style=\"color: #7fbfbf; text-decoration-color: #7fbfbf\">           </span>    <span style=\"font-weight: bold\">{</span><span style=\"color: #008000; text-decoration-color: #008000\">'jsonrpc'</span>: <span style=\"color: #008000; text-decoration-color: #008000\">'2.0'</span>, <span style=\"color: #008000; text-decoration-color: #008000\">'method'</span>: <span style=\"color: #008000; text-decoration-color: #008000\">'subtract'</span>, <span style=\"color: #008000; text-decoration-color: #008000\">'params'</span>: <span style=\"font-weight: bold\">[</span><span style=\"color: #008080; text-decoration-color: #008080; font-weight: bold\">42</span>, <span style=\"color: #008080; text-decoration-color: #008080; font-weight: bold\">23</span><span style=\"font-weight: bold\">]</span>, <span style=\"color: #008000; text-decoration-color: #008000\">'id'</span>: <span style=\"color: #008000; text-decoration-color: #008000\">'2'</span><span style=\"font-weight: bold\">}</span>             <span style=\"color: #7f7f7f; text-decoration-color: #7f7f7f\">                </span>\n",
       "<span style=\"color: #7fbfbf; text-decoration-color: #7fbfbf\">           </span><span style=\"font-weight: bold\">]</span>                                                                                       <span style=\"color: #7f7f7f; text-decoration-color: #7f7f7f\">                </span>\n",
       "<span style=\"color: #7fbfbf; text-decoration-color: #7fbfbf\">           </span><span style=\"color: #000080; text-decoration-color: #000080\">╭──────────────────── </span><span style=\"color: #000080; text-decoration-color: #000080; font-style: italic\">locals</span><span style=\"color: #000080; text-decoration-color: #000080\"> ─────────────────────╮</span>                                     <span style=\"color: #7f7f7f; text-decoration-color: #7f7f7f\">                </span>\n",
       "<span style=\"color: #7fbfbf; text-decoration-color: #7fbfbf\">           </span><span style=\"color: #000080; text-decoration-color: #000080\">│</span> <span style=\"color: #808000; text-decoration-color: #808000; font-style: italic\">context</span><span style=\"color: #800000; text-decoration-color: #800000\"> =</span> <span style=\"font-weight: bold\">{</span><span style=\"color: #008000; text-decoration-color: #008000\">'foo'</span>: <span style=\"color: #008000; text-decoration-color: #008000\">'bar'</span><span style=\"font-weight: bold\">}</span>                        <span style=\"color: #000080; text-decoration-color: #000080\">│</span>                                     <span style=\"color: #7f7f7f; text-decoration-color: #7f7f7f\">                </span>\n",
       "<span style=\"color: #7fbfbf; text-decoration-color: #7fbfbf\">           </span><span style=\"color: #000080; text-decoration-color: #000080\">│</span> <span style=\"color: #808000; text-decoration-color: #808000; font-style: italic\">enabled</span><span style=\"color: #800000; text-decoration-color: #800000\"> =</span> <span style=\"color: #ff0000; text-decoration-color: #ff0000; font-style: italic\">False</span>                                 <span style=\"color: #000080; text-decoration-color: #000080\">│</span>                                     <span style=\"color: #7f7f7f; text-decoration-color: #7f7f7f\">                </span>\n",
       "<span style=\"color: #7fbfbf; text-decoration-color: #7fbfbf\">           </span><span style=\"color: #000080; text-decoration-color: #000080\">│</span>  <span style=\"color: #808000; text-decoration-color: #808000; font-style: italic\">movies</span><span style=\"color: #800000; text-decoration-color: #800000\"> =</span> <span style=\"font-weight: bold\">[</span><span style=\"color: #008000; text-decoration-color: #008000\">'Deadpool'</span>, <span style=\"color: #008000; text-decoration-color: #008000\">'Rise of the Skywalker'</span><span style=\"font-weight: bold\">]</span> <span style=\"color: #000080; text-decoration-color: #000080\">│</span>                                     <span style=\"color: #7f7f7f; text-decoration-color: #7f7f7f\">                </span>\n",
       "<span style=\"color: #7fbfbf; text-decoration-color: #7fbfbf\">           </span><span style=\"color: #000080; text-decoration-color: #000080\">╰─────────────────────────────────────────────────╯</span>                                     <span style=\"color: #7f7f7f; text-decoration-color: #7f7f7f\">                </span>\n",
       "</pre>\n"
      ],
      "text/plain": [
       "\u001b[2;36m          \u001b[0m\u001b[2;36m \u001b[0m\u001b[1m[\u001b[0m                                                                                       \u001b]8;id=680423;file://C:\\Users\\Administrator\\AppData\\Local\\Temp\\ipykernel_4364\\1838712875.py\u001b\\\u001b[2m1838712875.py\u001b[0m\u001b]8;;\u001b\\\u001b[2m:\u001b[0m\u001b]8;id=368664;file://C:\\Users\\Administrator\\AppData\\Local\\Temp\\ipykernel_4364\\1838712875.py#14\u001b\\\u001b[2m14\u001b[0m\u001b]8;;\u001b\\\n",
       "\u001b[2;36m           \u001b[0m    \u001b[1m{\u001b[0m                                                                                   \u001b[2m                \u001b[0m\n",
       "\u001b[2;36m           \u001b[0m        \u001b[32m'jsonrpc'\u001b[0m: \u001b[32m'2.0'\u001b[0m,                                                               \u001b[2m                \u001b[0m\n",
       "\u001b[2;36m           \u001b[0m        \u001b[32m'method'\u001b[0m: \u001b[32m'sum'\u001b[0m,                                                                \u001b[2m                \u001b[0m\n",
       "\u001b[2;36m           \u001b[0m        \u001b[32m'params'\u001b[0m: \u001b[1m[\u001b[0m\u001b[3;35mNone\u001b[0m, \u001b[1;36m1\u001b[0m, \u001b[1;36m2\u001b[0m, \u001b[1;36m4\u001b[0m, \u001b[3;91mFalse\u001b[0m, \u001b[3;92mTrue\u001b[0m\u001b[1m]\u001b[0m,                                         \u001b[2m                \u001b[0m\n",
       "\u001b[2;36m           \u001b[0m        \u001b[32m'id'\u001b[0m: \u001b[32m'1'\u001b[0m                                                                       \u001b[2m                \u001b[0m\n",
       "\u001b[2;36m           \u001b[0m    \u001b[1m}\u001b[0m,                                                                                  \u001b[2m                \u001b[0m\n",
       "\u001b[2;36m           \u001b[0m    \u001b[1m{\u001b[0m\u001b[32m'jsonrpc'\u001b[0m: \u001b[32m'2.0'\u001b[0m, \u001b[32m'method'\u001b[0m: \u001b[32m'notify_hello'\u001b[0m, \u001b[32m'params'\u001b[0m: \u001b[1m[\u001b[0m\u001b[1;36m7\u001b[0m\u001b[1m]\u001b[0m\u001b[1m}\u001b[0m,                        \u001b[2m                \u001b[0m\n",
       "\u001b[2;36m           \u001b[0m    \u001b[1m{\u001b[0m\u001b[32m'jsonrpc'\u001b[0m: \u001b[32m'2.0'\u001b[0m, \u001b[32m'method'\u001b[0m: \u001b[32m'subtract'\u001b[0m, \u001b[32m'params'\u001b[0m: \u001b[1m[\u001b[0m\u001b[1;36m42\u001b[0m, \u001b[1;36m23\u001b[0m\u001b[1m]\u001b[0m, \u001b[32m'id'\u001b[0m: \u001b[32m'2'\u001b[0m\u001b[1m}\u001b[0m             \u001b[2m                \u001b[0m\n",
       "\u001b[2;36m           \u001b[0m\u001b[1m]\u001b[0m                                                                                       \u001b[2m                \u001b[0m\n",
       "\u001b[2;36m           \u001b[0m\u001b[34m╭─\u001b[0m\u001b[34m───────────────────\u001b[0m\u001b[34m \u001b[0m\u001b[3;34mlocals\u001b[0m\u001b[34m \u001b[0m\u001b[34m────────────────────\u001b[0m\u001b[34m─╮\u001b[0m                                     \u001b[2m                \u001b[0m\n",
       "\u001b[2;36m           \u001b[0m\u001b[34m│\u001b[0m \u001b[3;33mcontext\u001b[0m\u001b[31m =\u001b[0m \u001b[1m{\u001b[0m\u001b[32m'foo'\u001b[0m: \u001b[32m'bar'\u001b[0m\u001b[1m}\u001b[0m                        \u001b[34m│\u001b[0m                                     \u001b[2m                \u001b[0m\n",
       "\u001b[2;36m           \u001b[0m\u001b[34m│\u001b[0m \u001b[3;33menabled\u001b[0m\u001b[31m =\u001b[0m \u001b[3;91mFalse\u001b[0m                                 \u001b[34m│\u001b[0m                                     \u001b[2m                \u001b[0m\n",
       "\u001b[2;36m           \u001b[0m\u001b[34m│\u001b[0m  \u001b[3;33mmovies\u001b[0m\u001b[31m =\u001b[0m \u001b[1m[\u001b[0m\u001b[32m'Deadpool'\u001b[0m, \u001b[32m'Rise of the Skywalker'\u001b[0m\u001b[1m]\u001b[0m \u001b[34m│\u001b[0m                                     \u001b[2m                \u001b[0m\n",
       "\u001b[2;36m           \u001b[0m\u001b[34m╰─────────────────────────────────────────────────╯\u001b[0m                                     \u001b[2m                \u001b[0m\n"
      ]
     },
     "metadata": {},
     "output_type": "display_data"
    }
   ],
   "source": [
    "test_data = [\n",
    "    {\n",
    "        \"jsonrpc\": \"2.0\",\n",
    "        \"method\": \"sum\",\n",
    "        \"params\": [None, 1, 2, 4, False, True],\n",
    "        \"id\": \"1\",\n",
    "    },\n",
    "    {\"jsonrpc\": \"2.0\", \"method\": \"notify_hello\", \"params\": [7]},\n",
    "    {\"jsonrpc\": \"2.0\", \"method\": \"subtract\", \"params\": [42, 23], \"id\": \"2\"},\n",
    "]\n",
    "\n",
    "\n",
    "def test_log():\n",
    "    enabled = False\n",
    "    context = {\n",
    "        \"foo\": \"bar\",\n",
    "    }\n",
    "    movies = [\"Deadpool\", \"Rise of the Skywalker\"]\n",
    "    console.log(\"Hello from\", console, \"!\")\n",
    "    console.log(test_data, log_locals=True)\n",
    "\n",
    "\n",
    "test_log()"
   ]
  },
  {
   "attachments": {},
   "cell_type": "markdown",
   "metadata": {},
   "source": [
    "# 表情符号"
   ]
  },
  {
   "cell_type": "code",
   "execution_count": 9,
   "metadata": {},
   "outputs": [
    {
     "data": {
      "text/html": [
       "<pre style=\"white-space:pre;overflow-x:auto;line-height:normal;font-family:Menlo,'DejaVu Sans Mono',consolas,'Courier New',monospace\">😃 🧛 💩 👍 🦝\n",
       "</pre>\n"
      ],
      "text/plain": [
       "😃 🧛 💩 👍 🦝\n"
      ]
     },
     "metadata": {},
     "output_type": "display_data"
    }
   ],
   "source": [
    "console.print(\":smiley: :vampire: :pile_of_poo: :thumbs_up: :raccoon:\")"
   ]
  },
  {
   "attachments": {},
   "cell_type": "markdown",
   "metadata": {},
   "source": [
    "# 表格"
   ]
  },
  {
   "cell_type": "code",
   "execution_count": 10,
   "metadata": {},
   "outputs": [],
   "source": [
    "from rich.table import Table"
   ]
  },
  {
   "cell_type": "code",
   "execution_count": 11,
   "metadata": {},
   "outputs": [],
   "source": [
    "table = Table(show_header=True, header_style=\"bold magenta\")\n",
    "table.add_column(\"Date\", style=\"dim\", width=12)\n",
    "table.add_column(\"Title\")\n",
    "table.add_column(\"Production Budget\", justify=\"right\")  # justify 对齐方式\n",
    "table.add_column(\"Box Office\", justify=\"right\")"
   ]
  },
  {
   "cell_type": "code",
   "execution_count": 12,
   "metadata": {},
   "outputs": [
    {
     "data": {
      "text/html": [
       "<pre style=\"white-space:pre;overflow-x:auto;line-height:normal;font-family:Menlo,'DejaVu Sans Mono',consolas,'Courier New',monospace\">┏━━━━━━━━━━━━━━┳━━━━━━━━━━━━━━━━━━━━━━━━━━━━━━━━━━━┳━━━━━━━━━━━━━━━━━━━┳━━━━━━━━━━━━━━━━┓\n",
       "┃<span style=\"color: #800080; text-decoration-color: #800080; font-weight: bold\"> Date         </span>┃<span style=\"color: #800080; text-decoration-color: #800080; font-weight: bold\"> Title                             </span>┃<span style=\"color: #800080; text-decoration-color: #800080; font-weight: bold\"> Production Budget </span>┃<span style=\"color: #800080; text-decoration-color: #800080; font-weight: bold\">     Box Office </span>┃\n",
       "┡━━━━━━━━━━━━━━╇━━━━━━━━━━━━━━━━━━━━━━━━━━━━━━━━━━━╇━━━━━━━━━━━━━━━━━━━╇━━━━━━━━━━━━━━━━┩\n",
       "│<span style=\"color: #7f7f7f; text-decoration-color: #7f7f7f\"> Dev 20, 2019 </span>│ Star Wars: The Rise of Skywalker  │      $275,000,000 │   $375,126,118 │\n",
       "│<span style=\"color: #7f7f7f; text-decoration-color: #7f7f7f\"> May 25, 2018 </span>│ <span style=\"color: #800000; text-decoration-color: #800000\">Solo</span>: A Star Wars Story           │      $275,000,000 │   $393,151,347 │\n",
       "│<span style=\"color: #7f7f7f; text-decoration-color: #7f7f7f\"> Dec 15, 2017 </span>│ Star Wars Ep. VIII: The Last Jedi │      $262,000,000 │ <span style=\"font-weight: bold\">$1,332,539,889</span> │\n",
       "└──────────────┴───────────────────────────────────┴───────────────────┴────────────────┘\n",
       "</pre>\n"
      ],
      "text/plain": [
       "┏━━━━━━━━━━━━━━┳━━━━━━━━━━━━━━━━━━━━━━━━━━━━━━━━━━━┳━━━━━━━━━━━━━━━━━━━┳━━━━━━━━━━━━━━━━┓\n",
       "┃\u001b[1;35m \u001b[0m\u001b[1;35mDate        \u001b[0m\u001b[1;35m \u001b[0m┃\u001b[1;35m \u001b[0m\u001b[1;35mTitle                            \u001b[0m\u001b[1;35m \u001b[0m┃\u001b[1;35m \u001b[0m\u001b[1;35mProduction Budget\u001b[0m\u001b[1;35m \u001b[0m┃\u001b[1;35m \u001b[0m\u001b[1;35m    Box Office\u001b[0m\u001b[1;35m \u001b[0m┃\n",
       "┡━━━━━━━━━━━━━━╇━━━━━━━━━━━━━━━━━━━━━━━━━━━━━━━━━━━╇━━━━━━━━━━━━━━━━━━━╇━━━━━━━━━━━━━━━━┩\n",
       "│\u001b[2m \u001b[0m\u001b[2mDev 20, 2019\u001b[0m\u001b[2m \u001b[0m│ Star Wars: The Rise of Skywalker  │      $275,000,000 │   $375,126,118 │\n",
       "│\u001b[2m \u001b[0m\u001b[2mMay 25, 2018\u001b[0m\u001b[2m \u001b[0m│ \u001b[31mSolo\u001b[0m: A Star Wars Story           │      $275,000,000 │   $393,151,347 │\n",
       "│\u001b[2m \u001b[0m\u001b[2mDec 15, 2017\u001b[0m\u001b[2m \u001b[0m│ Star Wars Ep. VIII: The Last Jedi │      $262,000,000 │ \u001b[1m$1,332,539,889\u001b[0m │\n",
       "└──────────────┴───────────────────────────────────┴───────────────────┴────────────────┘\n"
      ]
     },
     "metadata": {},
     "output_type": "display_data"
    }
   ],
   "source": [
    "table.add_row(\n",
    "    \"Dev 20, 2019\", \"Star Wars: The Rise of Skywalker\", \"$275,000,000\", \"$375,126,118\"\n",
    ")\n",
    "table.add_row(\n",
    "    \"May 25, 2018\",\n",
    "    \"[red]Solo[/red]: A Star Wars Story\",\n",
    "    \"$275,000,000\",\n",
    "    \"$393,151,347\",\n",
    ")\n",
    "table.add_row(\n",
    "    \"Dec 15, 2017\",\n",
    "    \"Star Wars Ep. VIII: The Last Jedi\",\n",
    "    \"$262,000,000\",\n",
    "    \"[bold]$1,332,539,889[/bold]\",\n",
    ")\n",
    "\n",
    "console.print(table)"
   ]
  },
  {
   "attachments": {},
   "cell_type": "markdown",
   "metadata": {},
   "source": [
    "# 进度条"
   ]
  },
  {
   "cell_type": "code",
   "execution_count": 13,
   "metadata": {},
   "outputs": [],
   "source": [
    "from rich.progress import track\n",
    "import time"
   ]
  },
  {
   "cell_type": "code",
   "execution_count": 14,
   "metadata": {},
   "outputs": [
    {
     "data": {
      "application/vnd.jupyter.widget-view+json": {
       "model_id": "329d2f6562304d42b91571c61853782e",
       "version_major": 2,
       "version_minor": 0
      },
      "text/plain": [
       "Output()"
      ]
     },
     "metadata": {},
     "output_type": "display_data"
    },
    {
     "data": {
      "text/html": [
       "<pre style=\"white-space:pre;overflow-x:auto;line-height:normal;font-family:Menlo,'DejaVu Sans Mono',consolas,'Courier New',monospace\"></pre>\n"
      ],
      "text/plain": []
     },
     "metadata": {},
     "output_type": "display_data"
    },
    {
     "data": {
      "text/html": [
       "<pre style=\"white-space:pre;overflow-x:auto;line-height:normal;font-family:Menlo,'DejaVu Sans Mono',consolas,'Courier New',monospace\">\n",
       "</pre>\n"
      ],
      "text/plain": [
       "\n"
      ]
     },
     "metadata": {},
     "output_type": "display_data"
    }
   ],
   "source": [
    "for step in track(range(100)):\n",
    "    time.sleep(0.1)"
   ]
  },
  {
   "attachments": {},
   "cell_type": "markdown",
   "metadata": {},
   "source": [
    "# 按列输出数据"
   ]
  },
  {
   "cell_type": "code",
   "execution_count": 15,
   "metadata": {},
   "outputs": [],
   "source": [
    "import os\n",
    "import sys\n",
    "from rich.columns import Columns"
   ]
  },
  {
   "cell_type": "code",
   "execution_count": 16,
   "metadata": {},
   "outputs": [
    {
     "data": {
      "text/plain": [
       "'d:\\\\ml\\\\code\\\\test\\\\python'"
      ]
     },
     "execution_count": 16,
     "metadata": {},
     "output_type": "execute_result"
    }
   ],
   "source": [
    "sys.path[0]"
   ]
  },
  {
   "cell_type": "code",
   "execution_count": 17,
   "metadata": {},
   "outputs": [
    {
     "data": {
      "text/html": [
       "<pre style=\"white-space:pre;overflow-x:auto;line-height:normal;font-family:Menlo,'DejaVu Sans Mono',consolas,'Courier New',monospace\">README.md rich.ipynb urlopen_with_threading.py\n",
       "</pre>\n"
      ],
      "text/plain": [
       "README.md rich.ipynb urlopen_with_threading.py\n"
      ]
     },
     "metadata": {},
     "output_type": "display_data"
    }
   ],
   "source": [
    "directory = os.listdir(sys.path[0])\n",
    "console.print(Columns(directory))"
   ]
  },
  {
   "attachments": {},
   "cell_type": "markdown",
   "metadata": {},
   "source": [
    "# Markdown"
   ]
  },
  {
   "cell_type": "code",
   "execution_count": 18,
   "metadata": {},
   "outputs": [],
   "source": [
    "from rich.markdown import Markdown"
   ]
  },
  {
   "cell_type": "code",
   "execution_count": 19,
   "metadata": {},
   "outputs": [
    {
     "data": {
      "text/html": [
       "<pre style=\"white-space:pre;overflow-x:auto;line-height:normal;font-family:Menlo,'DejaVu Sans Mono',consolas,'Courier New',monospace\">┏━━━━━━━━━━━━━━━━━━━━━━━━━━━━━━━━━━━━━━━━━━━━━━━━━━━━━━━━━━━━━━━━━━━━━━━━━━━━━━━━━━━━━━━━━━━━━━━━━━━━━━━━━━━━━━━━━┓\n",
       "┃                                               <span style=\"font-weight: bold\">美化打印的log，表格</span>                                               ┃\n",
       "┗━━━━━━━━━━━━━━━━━━━━━━━━━━━━━━━━━━━━━━━━━━━━━━━━━━━━━━━━━━━━━━━━━━━━━━━━━━━━━━━━━━━━━━━━━━━━━━━━━━━━━━━━━━━━━━━━━┛\n",
       "\n",
       "\n",
       "                                                    <span style=\"font-weight: bold; text-decoration: underline\">colordlogs</span>                                                     \n",
       "\n",
       "<span style=\"color: #800080; text-decoration-color: #800080\">▌ 配合</span><span style=\"color: #008080; text-decoration-color: #008080; background-color: #000000; font-weight: bold\">logging</span><span style=\"color: #800080; text-decoration-color: #800080\">一起使用                                                                                            </span>\n",
       "\n",
       "\n",
       "                                                      <span style=\"font-weight: bold; text-decoration: underline\">colorma</span>                                                      \n",
       "\n",
       "<span style=\"color: #800080; text-decoration-color: #800080\">▌ 打印彩色命令                                                                                                   </span>\n",
       "\n",
       "\n",
       "                                              <span style=\"font-weight: bold; text-decoration: underline\">prettytable &amp; tabulate</span>                                               \n",
       "\n",
       "<span style=\"color: #800080; text-decoration-color: #800080\">▌ 打印格式化的表格                                                                                               </span>\n",
       "\n",
       "\n",
       "                                                       <span style=\"font-weight: bold; text-decoration: underline\">rich</span>                                                        \n",
       "\n",
       "<span style=\"color: #800080; text-decoration-color: #800080\">▌ 可以打印色彩丰富的字符串，表格，代码                                                                           </span>\n",
       "</pre>\n"
      ],
      "text/plain": [
       "┏━━━━━━━━━━━━━━━━━━━━━━━━━━━━━━━━━━━━━━━━━━━━━━━━━━━━━━━━━━━━━━━━━━━━━━━━━━━━━━━━━━━━━━━━━━━━━━━━━━━━━━━━━━━━━━━━━┓\n",
       "┃                                               \u001b[1m美化打印的log，表格\u001b[0m                                               ┃\n",
       "┗━━━━━━━━━━━━━━━━━━━━━━━━━━━━━━━━━━━━━━━━━━━━━━━━━━━━━━━━━━━━━━━━━━━━━━━━━━━━━━━━━━━━━━━━━━━━━━━━━━━━━━━━━━━━━━━━━┛\n",
       "\n",
       "\n",
       "                                                    \u001b[1;4mcolordlogs\u001b[0m                                                     \n",
       "\n",
       "\u001b[35m▌ \u001b[0m\u001b[35m配合\u001b[0m\u001b[1;36;40mlogging\u001b[0m\u001b[35m一起使用\u001b[0m\u001b[35m                                                                                            \u001b[0m\n",
       "\n",
       "\n",
       "                                                      \u001b[1;4mcolorma\u001b[0m                                                      \n",
       "\n",
       "\u001b[35m▌ \u001b[0m\u001b[35m打印彩色命令\u001b[0m\u001b[35m                                                                                                   \u001b[0m\n",
       "\n",
       "\n",
       "                                              \u001b[1;4mprettytable & tabulate\u001b[0m                                               \n",
       "\n",
       "\u001b[35m▌ \u001b[0m\u001b[35m打印格式化的表格\u001b[0m\u001b[35m                                                                                               \u001b[0m\n",
       "\n",
       "\n",
       "                                                       \u001b[1;4mrich\u001b[0m                                                        \n",
       "\n",
       "\u001b[35m▌ \u001b[0m\u001b[35m可以打印色彩丰富的字符串，表格，代码\u001b[0m\u001b[35m                                                                           \u001b[0m\n"
      ]
     },
     "metadata": {},
     "output_type": "display_data"
    }
   ],
   "source": [
    "with open(\"README.md\") as readme:\n",
    "    markdown = Markdown(readme.read())\n",
    "console.print(markdown)"
   ]
  },
  {
   "attachments": {},
   "cell_type": "markdown",
   "metadata": {},
   "source": [
    "# 语法突出显示"
   ]
  },
  {
   "cell_type": "code",
   "execution_count": 21,
   "metadata": {},
   "outputs": [],
   "source": [
    "from rich.syntax import Syntax"
   ]
  },
  {
   "cell_type": "code",
   "execution_count": 27,
   "metadata": {},
   "outputs": [
    {
     "data": {
      "text/html": [
       "<pre style=\"white-space:pre;overflow-x:auto;line-height:normal;font-family:Menlo,'DejaVu Sans Mono',consolas,'Courier New',monospace\"><span style=\"color: #9da4b1; text-decoration-color: #9da4b1; background-color: #282c34; font-weight: bold\">  </span><span style=\"color: #4f545d; text-decoration-color: #4f545d; background-color: #282c34\"> 1 </span><span style=\"background-color: #282c34\">                                                                                                              </span>\n",
       "<span style=\"color: #9da4b1; text-decoration-color: #9da4b1; background-color: #282c34; font-weight: bold\">  </span><span style=\"color: #4f545d; text-decoration-color: #4f545d; background-color: #282c34\"> 2 </span><span style=\"color: #c678dd; text-decoration-color: #c678dd; background-color: #282c34\">def</span><span style=\"color: #abb2bf; text-decoration-color: #abb2bf; background-color: #282c34\"> </span><span style=\"color: #61afef; text-decoration-color: #61afef; background-color: #282c34; font-weight: bold\">iter_first_last</span><span style=\"color: #abb2bf; text-decoration-color: #abb2bf; background-color: #282c34\">(</span><span style=\"color: #e06c75; text-decoration-color: #e06c75; background-color: #282c34\">values</span><span style=\"color: #abb2bf; text-decoration-color: #abb2bf; background-color: #282c34\">: </span><span style=\"color: #e06c75; text-decoration-color: #e06c75; background-color: #282c34\">Iterable</span><span style=\"color: #abb2bf; text-decoration-color: #abb2bf; background-color: #282c34\">[</span><span style=\"color: #e06c75; text-decoration-color: #e06c75; background-color: #282c34\">T</span><span style=\"color: #abb2bf; text-decoration-color: #abb2bf; background-color: #282c34\">]) </span><span style=\"color: #56b6c2; text-decoration-color: #56b6c2; background-color: #282c34\">-&amp;</span><span style=\"color: #e06c75; text-decoration-color: #e06c75; background-color: #282c34\">gt</span><span style=\"color: #abb2bf; text-decoration-color: #abb2bf; background-color: #282c34\">; </span><span style=\"color: #e06c75; text-decoration-color: #e06c75; background-color: #282c34\">Iterable</span><span style=\"color: #abb2bf; text-decoration-color: #abb2bf; background-color: #282c34\">[</span><span style=\"color: #e06c75; text-decoration-color: #e06c75; background-color: #282c34\">Tuple</span><span style=\"color: #abb2bf; text-decoration-color: #abb2bf; background-color: #282c34\">[</span><span style=\"color: #e5c07b; text-decoration-color: #e5c07b; background-color: #282c34\">bool</span><span style=\"color: #abb2bf; text-decoration-color: #abb2bf; background-color: #282c34\">, </span><span style=\"color: #e5c07b; text-decoration-color: #e5c07b; background-color: #282c34\">bool</span><span style=\"color: #abb2bf; text-decoration-color: #abb2bf; background-color: #282c34\">, </span><span style=\"color: #e06c75; text-decoration-color: #e06c75; background-color: #282c34\">T</span><span style=\"color: #abb2bf; text-decoration-color: #abb2bf; background-color: #282c34\">]]:</span><span style=\"background-color: #282c34\">                                </span>\n",
       "<span style=\"color: #9da4b1; text-decoration-color: #9da4b1; background-color: #282c34; font-weight: bold\">  </span><span style=\"color: #4f545d; text-decoration-color: #4f545d; background-color: #282c34\"> 3 </span><span style=\"color: #abb2bf; text-decoration-color: #abb2bf; background-color: #282c34\">    </span><span style=\"color: #98c379; text-decoration-color: #98c379; background-color: #282c34\">\"\"\"Iterate and generate a tuple with a flag for first and last value.\"\"\"</span><span style=\"background-color: #282c34\">                                  </span>\n",
       "<span style=\"color: #9da4b1; text-decoration-color: #9da4b1; background-color: #282c34; font-weight: bold\">  </span><span style=\"color: #4f545d; text-decoration-color: #4f545d; background-color: #282c34\"> 4 </span><span style=\"color: #abb2bf; text-decoration-color: #abb2bf; background-color: #282c34\">    </span><span style=\"color: #e06c75; text-decoration-color: #e06c75; background-color: #282c34\">iter_values</span><span style=\"color: #abb2bf; text-decoration-color: #abb2bf; background-color: #282c34\"> </span><span style=\"color: #56b6c2; text-decoration-color: #56b6c2; background-color: #282c34\">=</span><span style=\"color: #abb2bf; text-decoration-color: #abb2bf; background-color: #282c34\"> </span><span style=\"color: #e5c07b; text-decoration-color: #e5c07b; background-color: #282c34\">iter</span><span style=\"color: #abb2bf; text-decoration-color: #abb2bf; background-color: #282c34\">(</span><span style=\"color: #e06c75; text-decoration-color: #e06c75; background-color: #282c34\">values</span><span style=\"color: #abb2bf; text-decoration-color: #abb2bf; background-color: #282c34\">)</span><span style=\"background-color: #282c34\">                                                                                </span>\n",
       "<span style=\"color: #9da4b1; text-decoration-color: #9da4b1; background-color: #282c34; font-weight: bold\">  </span><span style=\"color: #4f545d; text-decoration-color: #4f545d; background-color: #282c34\"> 5 </span><span style=\"color: #abb2bf; text-decoration-color: #abb2bf; background-color: #282c34\">    </span><span style=\"color: #c678dd; text-decoration-color: #c678dd; background-color: #282c34\">try</span><span style=\"color: #abb2bf; text-decoration-color: #abb2bf; background-color: #282c34\">:</span><span style=\"background-color: #282c34\">                                                                                                      </span>\n",
       "<span style=\"color: #9da4b1; text-decoration-color: #9da4b1; background-color: #282c34; font-weight: bold\">  </span><span style=\"color: #4f545d; text-decoration-color: #4f545d; background-color: #282c34\"> 6 </span><span style=\"color: #abb2bf; text-decoration-color: #abb2bf; background-color: #282c34\">        </span><span style=\"color: #e06c75; text-decoration-color: #e06c75; background-color: #282c34\">previous_value</span><span style=\"color: #abb2bf; text-decoration-color: #abb2bf; background-color: #282c34\"> </span><span style=\"color: #56b6c2; text-decoration-color: #56b6c2; background-color: #282c34\">=</span><span style=\"color: #abb2bf; text-decoration-color: #abb2bf; background-color: #282c34\"> </span><span style=\"color: #e5c07b; text-decoration-color: #e5c07b; background-color: #282c34\">next</span><span style=\"color: #abb2bf; text-decoration-color: #abb2bf; background-color: #282c34\">(</span><span style=\"color: #e06c75; text-decoration-color: #e06c75; background-color: #282c34\">iter_values</span><span style=\"color: #abb2bf; text-decoration-color: #abb2bf; background-color: #282c34\">)</span><span style=\"background-color: #282c34\">                                                                    </span>\n",
       "<span style=\"color: #9da4b1; text-decoration-color: #9da4b1; background-color: #282c34; font-weight: bold\">  </span><span style=\"color: #4f545d; text-decoration-color: #4f545d; background-color: #282c34\"> 7 </span><span style=\"color: #abb2bf; text-decoration-color: #abb2bf; background-color: #282c34\">    </span><span style=\"color: #c678dd; text-decoration-color: #c678dd; background-color: #282c34\">except</span><span style=\"color: #abb2bf; text-decoration-color: #abb2bf; background-color: #282c34\"> </span><span style=\"color: #e06c75; text-decoration-color: #e06c75; background-color: #282c34\">StopIteration</span><span style=\"color: #abb2bf; text-decoration-color: #abb2bf; background-color: #282c34\">:</span><span style=\"background-color: #282c34\">                                                                                     </span>\n",
       "<span style=\"color: #9da4b1; text-decoration-color: #9da4b1; background-color: #282c34; font-weight: bold\">  </span><span style=\"color: #4f545d; text-decoration-color: #4f545d; background-color: #282c34\"> 8 </span><span style=\"color: #abb2bf; text-decoration-color: #abb2bf; background-color: #282c34\">        </span><span style=\"color: #c678dd; text-decoration-color: #c678dd; background-color: #282c34\">return</span><span style=\"background-color: #282c34\">                                                                                                </span>\n",
       "<span style=\"color: #9da4b1; text-decoration-color: #9da4b1; background-color: #282c34; font-weight: bold\">  </span><span style=\"color: #4f545d; text-decoration-color: #4f545d; background-color: #282c34\"> 9 </span><span style=\"color: #abb2bf; text-decoration-color: #abb2bf; background-color: #282c34\">    </span><span style=\"color: #e06c75; text-decoration-color: #e06c75; background-color: #282c34\">first</span><span style=\"color: #abb2bf; text-decoration-color: #abb2bf; background-color: #282c34\"> </span><span style=\"color: #56b6c2; text-decoration-color: #56b6c2; background-color: #282c34\">=</span><span style=\"color: #abb2bf; text-decoration-color: #abb2bf; background-color: #282c34\"> </span><span style=\"color: #e5c07b; text-decoration-color: #e5c07b; background-color: #282c34\">True</span><span style=\"background-color: #282c34\">                                                                                              </span>\n",
       "<span style=\"color: #9da4b1; text-decoration-color: #9da4b1; background-color: #282c34; font-weight: bold\">  </span><span style=\"color: #4f545d; text-decoration-color: #4f545d; background-color: #282c34\">10 </span><span style=\"color: #abb2bf; text-decoration-color: #abb2bf; background-color: #282c34\">    </span><span style=\"color: #c678dd; text-decoration-color: #c678dd; background-color: #282c34\">for</span><span style=\"color: #abb2bf; text-decoration-color: #abb2bf; background-color: #282c34\"> </span><span style=\"color: #e06c75; text-decoration-color: #e06c75; background-color: #282c34\">value</span><span style=\"color: #abb2bf; text-decoration-color: #abb2bf; background-color: #282c34\"> </span><span style=\"color: #56b6c2; text-decoration-color: #56b6c2; background-color: #282c34\">in</span><span style=\"color: #abb2bf; text-decoration-color: #abb2bf; background-color: #282c34\"> </span><span style=\"color: #e06c75; text-decoration-color: #e06c75; background-color: #282c34\">iter_values</span><span style=\"color: #abb2bf; text-decoration-color: #abb2bf; background-color: #282c34\">:</span><span style=\"background-color: #282c34\">                                                                                 </span>\n",
       "<span style=\"color: #9da4b1; text-decoration-color: #9da4b1; background-color: #282c34; font-weight: bold\">  </span><span style=\"color: #4f545d; text-decoration-color: #4f545d; background-color: #282c34\">11 </span><span style=\"color: #abb2bf; text-decoration-color: #abb2bf; background-color: #282c34\">        </span><span style=\"color: #c678dd; text-decoration-color: #c678dd; background-color: #282c34\">yield</span><span style=\"color: #abb2bf; text-decoration-color: #abb2bf; background-color: #282c34\"> </span><span style=\"color: #e06c75; text-decoration-color: #e06c75; background-color: #282c34\">first</span><span style=\"color: #abb2bf; text-decoration-color: #abb2bf; background-color: #282c34\">, </span><span style=\"color: #e5c07b; text-decoration-color: #e5c07b; background-color: #282c34\">False</span><span style=\"color: #abb2bf; text-decoration-color: #abb2bf; background-color: #282c34\">, </span><span style=\"color: #e06c75; text-decoration-color: #e06c75; background-color: #282c34\">previous_value</span><span style=\"background-color: #282c34\">                                                                    </span>\n",
       "<span style=\"color: #9da4b1; text-decoration-color: #9da4b1; background-color: #282c34; font-weight: bold\">  </span><span style=\"color: #4f545d; text-decoration-color: #4f545d; background-color: #282c34\">12 </span><span style=\"color: #abb2bf; text-decoration-color: #abb2bf; background-color: #282c34\">        </span><span style=\"color: #e06c75; text-decoration-color: #e06c75; background-color: #282c34\">first</span><span style=\"color: #abb2bf; text-decoration-color: #abb2bf; background-color: #282c34\"> </span><span style=\"color: #56b6c2; text-decoration-color: #56b6c2; background-color: #282c34\">=</span><span style=\"color: #abb2bf; text-decoration-color: #abb2bf; background-color: #282c34\"> </span><span style=\"color: #e5c07b; text-decoration-color: #e5c07b; background-color: #282c34\">False</span><span style=\"background-color: #282c34\">                                                                                         </span>\n",
       "<span style=\"color: #9da4b1; text-decoration-color: #9da4b1; background-color: #282c34; font-weight: bold\">  </span><span style=\"color: #4f545d; text-decoration-color: #4f545d; background-color: #282c34\">13 </span><span style=\"color: #abb2bf; text-decoration-color: #abb2bf; background-color: #282c34\">        </span><span style=\"color: #e06c75; text-decoration-color: #e06c75; background-color: #282c34\">previous_value</span><span style=\"color: #abb2bf; text-decoration-color: #abb2bf; background-color: #282c34\"> </span><span style=\"color: #56b6c2; text-decoration-color: #56b6c2; background-color: #282c34\">=</span><span style=\"color: #abb2bf; text-decoration-color: #abb2bf; background-color: #282c34\"> </span><span style=\"color: #e06c75; text-decoration-color: #e06c75; background-color: #282c34\">value</span><span style=\"background-color: #282c34\">                                                                                </span>\n",
       "<span style=\"color: #9da4b1; text-decoration-color: #9da4b1; background-color: #282c34; font-weight: bold\">  </span><span style=\"color: #4f545d; text-decoration-color: #4f545d; background-color: #282c34\">14 </span><span style=\"color: #abb2bf; text-decoration-color: #abb2bf; background-color: #282c34\">    </span><span style=\"color: #c678dd; text-decoration-color: #c678dd; background-color: #282c34\">yield</span><span style=\"color: #abb2bf; text-decoration-color: #abb2bf; background-color: #282c34\"> </span><span style=\"color: #e06c75; text-decoration-color: #e06c75; background-color: #282c34\">first</span><span style=\"color: #abb2bf; text-decoration-color: #abb2bf; background-color: #282c34\">, </span><span style=\"color: #e5c07b; text-decoration-color: #e5c07b; background-color: #282c34\">True</span><span style=\"color: #abb2bf; text-decoration-color: #abb2bf; background-color: #282c34\">, </span><span style=\"color: #e06c75; text-decoration-color: #e06c75; background-color: #282c34\">previous_value</span><span style=\"background-color: #282c34\">                                                                         </span>\n",
       "<span style=\"color: #9da4b1; text-decoration-color: #9da4b1; background-color: #282c34; font-weight: bold\">  </span><span style=\"color: #4f545d; text-decoration-color: #4f545d; background-color: #282c34\">15 </span><span style=\"background-color: #282c34\">                                                                                                              </span>\n",
       "</pre>\n"
      ],
      "text/plain": [
       "\u001b[1;38;2;157;164;177;48;2;40;44;52m  \u001b[0m\u001b[38;2;79;84;93;48;2;40;44;52m 1 \u001b[0m\u001b[48;2;40;44;52m                                                                                                              \u001b[0m\n",
       "\u001b[1;38;2;157;164;177;48;2;40;44;52m  \u001b[0m\u001b[38;2;79;84;93;48;2;40;44;52m 2 \u001b[0m\u001b[38;2;198;120;221;48;2;40;44;52mdef\u001b[0m\u001b[38;2;171;178;191;48;2;40;44;52m \u001b[0m\u001b[1;38;2;97;175;239;48;2;40;44;52miter_first_last\u001b[0m\u001b[38;2;171;178;191;48;2;40;44;52m(\u001b[0m\u001b[38;2;224;108;117;48;2;40;44;52mvalues\u001b[0m\u001b[38;2;171;178;191;48;2;40;44;52m:\u001b[0m\u001b[38;2;171;178;191;48;2;40;44;52m \u001b[0m\u001b[38;2;224;108;117;48;2;40;44;52mIterable\u001b[0m\u001b[38;2;171;178;191;48;2;40;44;52m[\u001b[0m\u001b[38;2;224;108;117;48;2;40;44;52mT\u001b[0m\u001b[38;2;171;178;191;48;2;40;44;52m]\u001b[0m\u001b[38;2;171;178;191;48;2;40;44;52m)\u001b[0m\u001b[38;2;171;178;191;48;2;40;44;52m \u001b[0m\u001b[38;2;86;182;194;48;2;40;44;52m-\u001b[0m\u001b[38;2;86;182;194;48;2;40;44;52m&\u001b[0m\u001b[38;2;224;108;117;48;2;40;44;52mgt\u001b[0m\u001b[38;2;171;178;191;48;2;40;44;52m;\u001b[0m\u001b[38;2;171;178;191;48;2;40;44;52m \u001b[0m\u001b[38;2;224;108;117;48;2;40;44;52mIterable\u001b[0m\u001b[38;2;171;178;191;48;2;40;44;52m[\u001b[0m\u001b[38;2;224;108;117;48;2;40;44;52mTuple\u001b[0m\u001b[38;2;171;178;191;48;2;40;44;52m[\u001b[0m\u001b[38;2;229;192;123;48;2;40;44;52mbool\u001b[0m\u001b[38;2;171;178;191;48;2;40;44;52m,\u001b[0m\u001b[38;2;171;178;191;48;2;40;44;52m \u001b[0m\u001b[38;2;229;192;123;48;2;40;44;52mbool\u001b[0m\u001b[38;2;171;178;191;48;2;40;44;52m,\u001b[0m\u001b[38;2;171;178;191;48;2;40;44;52m \u001b[0m\u001b[38;2;224;108;117;48;2;40;44;52mT\u001b[0m\u001b[38;2;171;178;191;48;2;40;44;52m]\u001b[0m\u001b[38;2;171;178;191;48;2;40;44;52m]\u001b[0m\u001b[38;2;171;178;191;48;2;40;44;52m:\u001b[0m\u001b[48;2;40;44;52m                                \u001b[0m\n",
       "\u001b[1;38;2;157;164;177;48;2;40;44;52m  \u001b[0m\u001b[38;2;79;84;93;48;2;40;44;52m 3 \u001b[0m\u001b[38;2;171;178;191;48;2;40;44;52m    \u001b[0m\u001b[38;2;152;195;121;48;2;40;44;52m\"\"\"Iterate and generate a tuple with a flag for first and last value.\"\"\"\u001b[0m\u001b[48;2;40;44;52m                                  \u001b[0m\n",
       "\u001b[1;38;2;157;164;177;48;2;40;44;52m  \u001b[0m\u001b[38;2;79;84;93;48;2;40;44;52m 4 \u001b[0m\u001b[38;2;171;178;191;48;2;40;44;52m    \u001b[0m\u001b[38;2;224;108;117;48;2;40;44;52miter_values\u001b[0m\u001b[38;2;171;178;191;48;2;40;44;52m \u001b[0m\u001b[38;2;86;182;194;48;2;40;44;52m=\u001b[0m\u001b[38;2;171;178;191;48;2;40;44;52m \u001b[0m\u001b[38;2;229;192;123;48;2;40;44;52miter\u001b[0m\u001b[38;2;171;178;191;48;2;40;44;52m(\u001b[0m\u001b[38;2;224;108;117;48;2;40;44;52mvalues\u001b[0m\u001b[38;2;171;178;191;48;2;40;44;52m)\u001b[0m\u001b[48;2;40;44;52m                                                                                \u001b[0m\n",
       "\u001b[1;38;2;157;164;177;48;2;40;44;52m  \u001b[0m\u001b[38;2;79;84;93;48;2;40;44;52m 5 \u001b[0m\u001b[38;2;171;178;191;48;2;40;44;52m    \u001b[0m\u001b[38;2;198;120;221;48;2;40;44;52mtry\u001b[0m\u001b[38;2;171;178;191;48;2;40;44;52m:\u001b[0m\u001b[48;2;40;44;52m                                                                                                      \u001b[0m\n",
       "\u001b[1;38;2;157;164;177;48;2;40;44;52m  \u001b[0m\u001b[38;2;79;84;93;48;2;40;44;52m 6 \u001b[0m\u001b[38;2;171;178;191;48;2;40;44;52m        \u001b[0m\u001b[38;2;224;108;117;48;2;40;44;52mprevious_value\u001b[0m\u001b[38;2;171;178;191;48;2;40;44;52m \u001b[0m\u001b[38;2;86;182;194;48;2;40;44;52m=\u001b[0m\u001b[38;2;171;178;191;48;2;40;44;52m \u001b[0m\u001b[38;2;229;192;123;48;2;40;44;52mnext\u001b[0m\u001b[38;2;171;178;191;48;2;40;44;52m(\u001b[0m\u001b[38;2;224;108;117;48;2;40;44;52miter_values\u001b[0m\u001b[38;2;171;178;191;48;2;40;44;52m)\u001b[0m\u001b[48;2;40;44;52m                                                                    \u001b[0m\n",
       "\u001b[1;38;2;157;164;177;48;2;40;44;52m  \u001b[0m\u001b[38;2;79;84;93;48;2;40;44;52m 7 \u001b[0m\u001b[38;2;171;178;191;48;2;40;44;52m    \u001b[0m\u001b[38;2;198;120;221;48;2;40;44;52mexcept\u001b[0m\u001b[38;2;171;178;191;48;2;40;44;52m \u001b[0m\u001b[38;2;224;108;117;48;2;40;44;52mStopIteration\u001b[0m\u001b[38;2;171;178;191;48;2;40;44;52m:\u001b[0m\u001b[48;2;40;44;52m                                                                                     \u001b[0m\n",
       "\u001b[1;38;2;157;164;177;48;2;40;44;52m  \u001b[0m\u001b[38;2;79;84;93;48;2;40;44;52m 8 \u001b[0m\u001b[38;2;171;178;191;48;2;40;44;52m        \u001b[0m\u001b[38;2;198;120;221;48;2;40;44;52mreturn\u001b[0m\u001b[48;2;40;44;52m                                                                                                \u001b[0m\n",
       "\u001b[1;38;2;157;164;177;48;2;40;44;52m  \u001b[0m\u001b[38;2;79;84;93;48;2;40;44;52m 9 \u001b[0m\u001b[38;2;171;178;191;48;2;40;44;52m    \u001b[0m\u001b[38;2;224;108;117;48;2;40;44;52mfirst\u001b[0m\u001b[38;2;171;178;191;48;2;40;44;52m \u001b[0m\u001b[38;2;86;182;194;48;2;40;44;52m=\u001b[0m\u001b[38;2;171;178;191;48;2;40;44;52m \u001b[0m\u001b[38;2;229;192;123;48;2;40;44;52mTrue\u001b[0m\u001b[48;2;40;44;52m                                                                                              \u001b[0m\n",
       "\u001b[1;38;2;157;164;177;48;2;40;44;52m  \u001b[0m\u001b[38;2;79;84;93;48;2;40;44;52m10 \u001b[0m\u001b[38;2;171;178;191;48;2;40;44;52m    \u001b[0m\u001b[38;2;198;120;221;48;2;40;44;52mfor\u001b[0m\u001b[38;2;171;178;191;48;2;40;44;52m \u001b[0m\u001b[38;2;224;108;117;48;2;40;44;52mvalue\u001b[0m\u001b[38;2;171;178;191;48;2;40;44;52m \u001b[0m\u001b[38;2;86;182;194;48;2;40;44;52min\u001b[0m\u001b[38;2;171;178;191;48;2;40;44;52m \u001b[0m\u001b[38;2;224;108;117;48;2;40;44;52miter_values\u001b[0m\u001b[38;2;171;178;191;48;2;40;44;52m:\u001b[0m\u001b[48;2;40;44;52m                                                                                 \u001b[0m\n",
       "\u001b[1;38;2;157;164;177;48;2;40;44;52m  \u001b[0m\u001b[38;2;79;84;93;48;2;40;44;52m11 \u001b[0m\u001b[38;2;171;178;191;48;2;40;44;52m        \u001b[0m\u001b[38;2;198;120;221;48;2;40;44;52myield\u001b[0m\u001b[38;2;171;178;191;48;2;40;44;52m \u001b[0m\u001b[38;2;224;108;117;48;2;40;44;52mfirst\u001b[0m\u001b[38;2;171;178;191;48;2;40;44;52m,\u001b[0m\u001b[38;2;171;178;191;48;2;40;44;52m \u001b[0m\u001b[38;2;229;192;123;48;2;40;44;52mFalse\u001b[0m\u001b[38;2;171;178;191;48;2;40;44;52m,\u001b[0m\u001b[38;2;171;178;191;48;2;40;44;52m \u001b[0m\u001b[38;2;224;108;117;48;2;40;44;52mprevious_value\u001b[0m\u001b[48;2;40;44;52m                                                                    \u001b[0m\n",
       "\u001b[1;38;2;157;164;177;48;2;40;44;52m  \u001b[0m\u001b[38;2;79;84;93;48;2;40;44;52m12 \u001b[0m\u001b[38;2;171;178;191;48;2;40;44;52m        \u001b[0m\u001b[38;2;224;108;117;48;2;40;44;52mfirst\u001b[0m\u001b[38;2;171;178;191;48;2;40;44;52m \u001b[0m\u001b[38;2;86;182;194;48;2;40;44;52m=\u001b[0m\u001b[38;2;171;178;191;48;2;40;44;52m \u001b[0m\u001b[38;2;229;192;123;48;2;40;44;52mFalse\u001b[0m\u001b[48;2;40;44;52m                                                                                         \u001b[0m\n",
       "\u001b[1;38;2;157;164;177;48;2;40;44;52m  \u001b[0m\u001b[38;2;79;84;93;48;2;40;44;52m13 \u001b[0m\u001b[38;2;171;178;191;48;2;40;44;52m        \u001b[0m\u001b[38;2;224;108;117;48;2;40;44;52mprevious_value\u001b[0m\u001b[38;2;171;178;191;48;2;40;44;52m \u001b[0m\u001b[38;2;86;182;194;48;2;40;44;52m=\u001b[0m\u001b[38;2;171;178;191;48;2;40;44;52m \u001b[0m\u001b[38;2;224;108;117;48;2;40;44;52mvalue\u001b[0m\u001b[48;2;40;44;52m                                                                                \u001b[0m\n",
       "\u001b[1;38;2;157;164;177;48;2;40;44;52m  \u001b[0m\u001b[38;2;79;84;93;48;2;40;44;52m14 \u001b[0m\u001b[38;2;171;178;191;48;2;40;44;52m    \u001b[0m\u001b[38;2;198;120;221;48;2;40;44;52myield\u001b[0m\u001b[38;2;171;178;191;48;2;40;44;52m \u001b[0m\u001b[38;2;224;108;117;48;2;40;44;52mfirst\u001b[0m\u001b[38;2;171;178;191;48;2;40;44;52m,\u001b[0m\u001b[38;2;171;178;191;48;2;40;44;52m \u001b[0m\u001b[38;2;229;192;123;48;2;40;44;52mTrue\u001b[0m\u001b[38;2;171;178;191;48;2;40;44;52m,\u001b[0m\u001b[38;2;171;178;191;48;2;40;44;52m \u001b[0m\u001b[38;2;224;108;117;48;2;40;44;52mprevious_value\u001b[0m\u001b[48;2;40;44;52m                                                                         \u001b[0m\n",
       "\u001b[1;38;2;157;164;177;48;2;40;44;52m  \u001b[0m\u001b[38;2;79;84;93;48;2;40;44;52m15 \u001b[0m\u001b[48;2;40;44;52m                                                                                                              \u001b[0m\n"
      ]
     },
     "metadata": {},
     "output_type": "display_data"
    }
   ],
   "source": [
    "my_code = '''\n",
    "def iter_first_last(values: Iterable[T]) -&gt; Iterable[Tuple[bool, bool, T]]:\n",
    "    \"\"\"Iterate and generate a tuple with a flag for first and last value.\"\"\"\n",
    "    iter_values = iter(values)\n",
    "    try:\n",
    "        previous_value = next(iter_values)\n",
    "    except StopIteration:\n",
    "        return\n",
    "    first = True\n",
    "    for value in iter_values:\n",
    "        yield first, False, previous_value\n",
    "        first = False\n",
    "        previous_value = value\n",
    "    yield first, True, previous_value\n",
    "'''\n",
    "syntax = Syntax(my_code, \"python\", theme=\"one-dark\", line_numbers=True)\n",
    "console.print(syntax)"
   ]
  },
  {
   "attachments": {},
   "cell_type": "markdown",
   "metadata": {},
   "source": [
    "# 错误回溯(traceback)\n",
    "Rich 可以渲染漂亮的错误回溯日志，比标准的 Python 回溯更容易阅读，并能显示更多代码。\n",
    "\n",
    "你可以将 Rich 设置为默认的回溯处理程序，这样所有异常都将由 Rich 为你呈现。"
   ]
  },
  {
   "cell_type": "code",
   "execution_count": null,
   "metadata": {},
   "outputs": [],
   "source": []
  }
 ],
 "metadata": {
  "kernelspec": {
   "display_name": "pytorch",
   "language": "python",
   "name": "python3"
  },
  "language_info": {
   "codemirror_mode": {
    "name": "ipython",
    "version": 3
   },
   "file_extension": ".py",
   "mimetype": "text/x-python",
   "name": "python",
   "nbconvert_exporter": "python",
   "pygments_lexer": "ipython3",
   "version": "3.10.11"
  },
  "orig_nbformat": 4
 },
 "nbformat": 4,
 "nbformat_minor": 2
}
