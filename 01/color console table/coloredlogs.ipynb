{
 "cells": [
  {
   "cell_type": "code",
   "execution_count": 1,
   "metadata": {},
   "outputs": [],
   "source": [
    "import logging, coloredlogs"
   ]
  },
  {
   "cell_type": "code",
   "execution_count": 2,
   "metadata": {},
   "outputs": [],
   "source": [
    "# Create a logger object.\n",
    "logger = logging.getLogger(name=__name__)"
   ]
  },
  {
   "cell_type": "code",
   "execution_count": 3,
   "metadata": {},
   "outputs": [],
   "source": [
    "# By default the install() function installs a handler on the root logger,\n",
    "# this means that log messages from your code and log messages from the\n",
    "# libraries that you use will all show up on the terminal.\n",
    "coloredlogs.install(level=\"DEBUG\")"
   ]
  },
  {
   "cell_type": "code",
   "execution_count": 4,
   "metadata": {},
   "outputs": [],
   "source": [
    "# If you don't want to see log messages from libraries, you can pass a\n",
    "# specific logger object to the install() function. In this case only log\n",
    "# messages originating from that logger will show up on the terminal.\n",
    "# level: DEBUG, INFO, WARNING, ERROR, CRITICAL\n",
    "coloredlogs.install(level=\"DEBUG\", logger=logger)"
   ]
  },
  {
   "cell_type": "code",
   "execution_count": 5,
   "metadata": {},
   "outputs": [
    {
     "name": "stderr",
     "output_type": "stream",
     "text": [
      "\u001b[32m2023-06-06 10:57:41\u001b[0m \u001b[35m1080Ti\u001b[0m \u001b[34m__main__[16848]\u001b[0m \u001b[1;30mDEBUG\u001b[0m \u001b[32mthis is a debugging message\u001b[0m\n",
      "\u001b[32m2023-06-06 10:57:41\u001b[0m \u001b[35m1080Ti\u001b[0m \u001b[34m__main__[16848]\u001b[0m \u001b[1;30mINFO\u001b[0m this is an informational message\n",
      "\u001b[32m2023-06-06 10:57:41\u001b[0m \u001b[35m1080Ti\u001b[0m \u001b[34m__main__[16848]\u001b[0m \u001b[1;30mWARNING\u001b[0m \u001b[33mthis is a warning message\u001b[0m\n",
      "\u001b[32m2023-06-06 10:57:41\u001b[0m \u001b[35m1080Ti\u001b[0m \u001b[34m__main__[16848]\u001b[0m \u001b[1;30mERROR\u001b[0m \u001b[31mthis is an error message\u001b[0m\n",
      "\u001b[32m2023-06-06 10:57:41\u001b[0m \u001b[35m1080Ti\u001b[0m \u001b[34m__main__[16848]\u001b[0m \u001b[1;30mCRITICAL\u001b[0m \u001b[1;31mthis is a critical message\u001b[0m\n"
     ]
    }
   ],
   "source": [
    "# Some examples.\n",
    "logger.debug(\"this is a debugging message\")\n",
    "logger.info(\"this is an informational message\")\n",
    "logger.warning(\"this is a warning message\")\n",
    "logger.error(\"this is an error message\")\n",
    "logger.critical(\"this is a critical message\")"
   ]
  },
  {
   "cell_type": "code",
   "execution_count": null,
   "metadata": {},
   "outputs": [],
   "source": []
  }
 ],
 "metadata": {
  "kernelspec": {
   "display_name": "pytorch",
   "language": "python",
   "name": "python3"
  },
  "language_info": {
   "codemirror_mode": {
    "name": "ipython",
    "version": 3
   },
   "file_extension": ".py",
   "mimetype": "text/x-python",
   "name": "python",
   "nbconvert_exporter": "python",
   "pygments_lexer": "ipython3",
   "version": "3.10.11"
  },
  "orig_nbformat": 4
 },
 "nbformat": 4,
 "nbformat_minor": 2
}
