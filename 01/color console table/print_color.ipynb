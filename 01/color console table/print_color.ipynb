{
 "cells": [
  {
   "cell_type": "markdown",
   "metadata": {},
   "source": [
    "# 标准格式\n",
    "`print(\"\\033[显示方式;前景颜色;背景颜色m…\\033[0m\")`"
   ]
  },
  {
   "cell_type": "markdown",
   "metadata": {},
   "source": [
    "# 显示方式\n",
    "\n",
    "| 意义     | 显示方式 |\n",
    "| -------- | -------- |\n",
    "| 默认     | 0        |\n",
    "| 高亮显示 | 1        |\n",
    "| 下划线   | 4        |\n",
    "| 闪烁     | 5        |\n",
    "| 反白显示 | 7        |\n",
    "| 不可见   | 8        |"
   ]
  },
  {
   "cell_type": "code",
   "execution_count": 10,
   "metadata": {},
   "outputs": [
    {
     "name": "stdout",
     "output_type": "stream",
     "text": [
      "\u001b[0;37;40m我是小杨我就这样\u001b[0m\n",
      "\u001b[1;37;40m我是小杨我就这样\u001b[0m\n",
      "\u001b[4;37;40m我是小杨我就这样\u001b[0m\n",
      "\u001b[5;37;40m我是小杨我就这样\u001b[0m\n",
      "\u001b[7;37;40m我是小杨我就这样\u001b[0m\n",
      "\u001b[8;37;40m我是小杨我就这样\u001b[0m\n"
     ]
    }
   ],
   "source": [
    "print(\"\\033[0;37;40m我是小杨我就这样\\033[0m\")\n",
    "print(\"\\033[1;37;40m我是小杨我就这样\\033[0m\")\n",
    "print(\"\\033[4;37;40m我是小杨我就这样\\033[0m\")\n",
    "print(\"\\033[5;37;40m我是小杨我就这样\\033[0m\")\n",
    "print(\"\\033[7;37;40m我是小杨我就这样\\033[0m\")\n",
    "print(\"\\033[8;37;40m我是小杨我就这样\\033[0m\")"
   ]
  },
  {
   "cell_type": "markdown",
   "metadata": {},
   "source": [
    "# 前景颜色和背景颜色\n",
    "\n",
    "| 颜色   | 前景色 | 背景色 |\n",
    "| ------ | ------ | ------ |\n",
    "| 黑色   | 30     | 40     |\n",
    "| 红色   | 31     | 41     |\n",
    "| 绿色   | 32     | 42     |\n",
    "| 黄色   | 33     | 43     |\n",
    "| 蓝色   | 34     | 44     |\n",
    "| 紫红色 | 35     | 45     |\n",
    "| 青蓝色 | 36     | 46     |\n",
    "| 白色   | 37     | 47     |\n"
   ]
  },
  {
   "cell_type": "markdown",
   "metadata": {},
   "source": [
    "> 没有设置的话就是默认"
   ]
  },
  {
   "cell_type": "code",
   "execution_count": 14,
   "metadata": {},
   "outputs": [
    {
     "name": "stdout",
     "output_type": "stream",
     "text": [
      "\u001b[0;30;47m我是小杨我就这样\u001b[0m\n",
      "\u001b[0;31;40m我是小杨我就这样\u001b[0m\n",
      "\u001b[0;32;40m我是小杨我就这样\u001b[0m\n",
      "\u001b[0;33;40m我是小杨我就这样\u001b[0m\n",
      "\u001b[0;34;40m我是小杨我就这样\u001b[0m\n",
      "\u001b[0;35;40m我是小杨我就这样\u001b[0m\n",
      "\u001b[0;36;40m我是小杨我就这样\u001b[0m\n",
      "\u001b[0;37;40m我是小杨我就这样\u001b[0m\n"
     ]
    }
   ],
   "source": [
    "print(\"\\033[0;30;47m我是小杨我就这样\\033[0m\")\n",
    "print(\"\\033[0;31;40m我是小杨我就这样\\033[0m\")\n",
    "print(\"\\033[0;32;40m我是小杨我就这样\\033[0m\")\n",
    "print(\"\\033[0;33;40m我是小杨我就这样\\033[0m\")\n",
    "print(\"\\033[0;34;40m我是小杨我就这样\\033[0m\")\n",
    "print(\"\\033[0;35;40m我是小杨我就这样\\033[0m\")\n",
    "print(\"\\033[0;36;40m我是小杨我就这样\\033[0m\")\n",
    "print(\"\\033[0;37;40m我是小杨我就这样\\033[0m\")"
   ]
  },
  {
   "cell_type": "code",
   "execution_count": 15,
   "metadata": {},
   "outputs": [
    {
     "name": "stdout",
     "output_type": "stream",
     "text": [
      "\u001b[0;37;40m我是小杨我就这样\u001b[0m\n",
      "\u001b[0;37;41m我是小杨我就这样\u001b[0m\n",
      "\u001b[0;37;42m我是小杨我就这样\u001b[0m\n",
      "\u001b[0;37;43m我是小杨我就这样\u001b[0m\n",
      "\u001b[0;37;44m我是小杨我就这样\u001b[0m\n",
      "\u001b[0;37;45m我是小杨我就这样\u001b[0m\n",
      "\u001b[0;37;46m我是小杨我就这样\u001b[0m\n",
      "\u001b[0;30;47m我是小杨我就这样\u001b[0m\n"
     ]
    }
   ],
   "source": [
    "print(\"\\033[0;37;40m我是小杨我就这样\\033[0m\")\n",
    "print(\"\\033[0;37;41m我是小杨我就这样\\033[0m\")\n",
    "print(\"\\033[0;37;42m我是小杨我就这样\\033[0m\")\n",
    "print(\"\\033[0;37;43m我是小杨我就这样\\033[0m\")\n",
    "print(\"\\033[0;37;44m我是小杨我就这样\\033[0m\")\n",
    "print(\"\\033[0;37;45m我是小杨我就这样\\033[0m\")\n",
    "print(\"\\033[0;37;46m我是小杨我就这样\\033[0m\")\n",
    "print(\"\\033[0;30;47m我是小杨我就这样\\033[0m\")"
   ]
  },
  {
   "cell_type": "code",
   "execution_count": null,
   "metadata": {},
   "outputs": [],
   "source": []
  }
 ],
 "metadata": {
  "kernelspec": {
   "display_name": "pytorch",
   "language": "python",
   "name": "python3"
  },
  "language_info": {
   "codemirror_mode": {
    "name": "ipython",
    "version": 3
   },
   "file_extension": ".py",
   "mimetype": "text/x-python",
   "name": "python",
   "nbconvert_exporter": "python",
   "pygments_lexer": "ipython3",
   "version": "3.11.3"
  },
  "orig_nbformat": 4
 },
 "nbformat": 4,
 "nbformat_minor": 2
}
