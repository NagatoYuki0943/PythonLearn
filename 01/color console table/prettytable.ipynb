{
 "cells": [
  {
   "attachments": {},
   "cell_type": "markdown",
   "metadata": {},
   "source": [
    "https://zhuanlan.zhihu.com/p/545833765"
   ]
  },
  {
   "cell_type": "code",
   "execution_count": 36,
   "metadata": {},
   "outputs": [],
   "source": [
    "import prettytable"
   ]
  },
  {
   "attachments": {},
   "cell_type": "markdown",
   "metadata": {},
   "source": [
    "# 创建table\n",
    "\n",
    "类似于数据库中的表，由表头（或者说字段名），以及每一行的内容组成"
   ]
  },
  {
   "cell_type": "code",
   "execution_count": 91,
   "metadata": {},
   "outputs": [],
   "source": [
    "# 传入的 name、age、country 相当于表头\n",
    "tb = prettytable.PrettyTable(field_names=[\"name\", \"age\", \"country\"])"
   ]
  },
  {
   "cell_type": "code",
   "execution_count": 92,
   "metadata": {},
   "outputs": [
    {
     "name": "stdout",
     "output_type": "stream",
     "text": [
      "+------+-----+---------+\n",
      "| name | age | country |\n",
      "+------+-----+---------+\n",
      "+------+-----+---------+\n"
     ]
    }
   ],
   "source": [
    "print(tb)"
   ]
  },
  {
   "cell_type": "code",
   "execution_count": 93,
   "metadata": {},
   "outputs": [],
   "source": [
    "# 调用 add_row add_rows 添加行记录\n",
    "tb.add_row(row=[\"Jack Morrison\", 49, \"America\"])\n",
    "tb.add_row(row=[\"Shimada Genji\", 35, \"Japan\"])\n",
    "tb.add_rows(rows=[[\"Shimada Hanzo\", 38, \"Japan\"],\n",
    "                  [\"Angela Ziegler\", 37, \"Switzerland\"]])"
   ]
  },
  {
   "cell_type": "code",
   "execution_count": 94,
   "metadata": {},
   "outputs": [
    {
     "name": "stdout",
     "output_type": "stream",
     "text": [
      "+----------------+-----+-------------+\n",
      "|      name      | age |   country   |\n",
      "+----------------+-----+-------------+\n",
      "| Jack Morrison  |  49 |   America   |\n",
      "| Shimada Genji  |  35 |    Japan    |\n",
      "| Shimada Hanzo  |  38 |    Japan    |\n",
      "| Angela Ziegler |  37 | Switzerland |\n",
      "+----------------+-----+-------------+\n"
     ]
    }
   ],
   "source": [
    "print(tb)"
   ]
  },
  {
   "cell_type": "code",
   "execution_count": 95,
   "metadata": {},
   "outputs": [
    {
     "name": "stdout",
     "output_type": "stream",
     "text": [
      "+------+-----+---------+\n",
      "| name | age | country |\n",
      "+------+-----+---------+\n",
      "+------+-----+---------+\n"
     ]
    }
   ],
   "source": [
    "# 不支持用字典输入\n",
    "tb1 = prettytable.PrettyTable(\n",
    "    {\"name\": [\"Jack Morrison\", \"Shimada Genji\", \"Shimada Hanzo\", \"Angela Ziegler\"],\n",
    "    \"age\": [49, 35, 38 , 34],\n",
    "    \"country\": [\"America\", \"Japan\", \"Japan\", \"Switzerland\"]}\n",
    ")\n",
    "print(tb1)"
   ]
  },
  {
   "attachments": {},
   "cell_type": "markdown",
   "metadata": {},
   "source": [
    "# 在编写的过程中，我们需要临时添加一列，prettytable 也是支持的"
   ]
  },
  {
   "cell_type": "code",
   "execution_count": 96,
   "metadata": {},
   "outputs": [],
   "source": [
    "# 调用 add_column 添加一列\n",
    "tb.add_column(\n",
    "    fieldname=\"gender\",\n",
    "    column=[\"male\", \"male\", \"male\", \"female\"]\n",
    ")"
   ]
  },
  {
   "cell_type": "code",
   "execution_count": 97,
   "metadata": {},
   "outputs": [
    {
     "name": "stdout",
     "output_type": "stream",
     "text": [
      "+----------------+-----+-------------+--------+\n",
      "|      name      | age |   country   | gender |\n",
      "+----------------+-----+-------------+--------+\n",
      "| Jack Morrison  |  49 |   America   |  male  |\n",
      "| Shimada Genji  |  35 |    Japan    |  male  |\n",
      "| Shimada Hanzo  |  38 |    Japan    |  male  |\n",
      "| Angela Ziegler |  37 | Switzerland | female |\n",
      "+----------------+-----+-------------+--------+\n"
     ]
    }
   ],
   "source": [
    "print(tb)"
   ]
  },
  {
   "attachments": {},
   "cell_type": "markdown",
   "metadata": {},
   "source": [
    "# 输出 table 的指定行、指定列"
   ]
  },
  {
   "cell_type": "code",
   "execution_count": 98,
   "metadata": {},
   "outputs": [
    {
     "name": "stdout",
     "output_type": "stream",
     "text": [
      "+---------------+-----+\n",
      "|      name     | age |\n",
      "+---------------+-----+\n",
      "| Jack Morrison |  49 |\n",
      "| Shimada Genji |  35 |\n",
      "| Shimada Hanzo |  38 |\n",
      "+---------------+-----+\n"
     ]
    }
   ],
   "source": [
    "print(tb.get_string(fields=[\"name\", \"age\"], # 获取2列\n",
    "                    start=0, end=3))        # id从0~2"
   ]
  },
  {
   "attachments": {},
   "cell_type": "markdown",
   "metadata": {},
   "source": [
    "# 输出时排序"
   ]
  },
  {
   "cell_type": "code",
   "execution_count": 53,
   "metadata": {},
   "outputs": [
    {
     "name": "stdout",
     "output_type": "stream",
     "text": [
      "+----------------+-----+-------------+--------+\n",
      "|      name      | age |   country   | gender |\n",
      "+----------------+-----+-------------+--------+\n",
      "| Shimada Genji  |  35 |    Japan    |  male  |\n",
      "| Angela Ziegler |  37 | Switzerland | female |\n",
      "| Shimada Hanzo  |  38 |    Japan    |  male  |\n",
      "| Jack Morrison  |  49 |   America   |  male  |\n",
      "+----------------+-----+-------------+--------+\n"
     ]
    }
   ],
   "source": [
    "print(tb.get_string(sortby=\"age\"))"
   ]
  },
  {
   "cell_type": "code",
   "execution_count": 54,
   "metadata": {},
   "outputs": [
    {
     "name": "stdout",
     "output_type": "stream",
     "text": [
      "+----------------+-----+-------------+--------+\n",
      "|      name      | age |   country   | gender |\n",
      "+----------------+-----+-------------+--------+\n",
      "| Jack Morrison  |  49 |   America   |  male  |\n",
      "| Shimada Hanzo  |  38 |    Japan    |  male  |\n",
      "| Angela Ziegler |  37 | Switzerland | female |\n",
      "| Shimada Genji  |  35 |    Japan    |  male  |\n",
      "+----------------+-----+-------------+--------+\n"
     ]
    }
   ],
   "source": [
    "print(tb.get_string(sortby=\"age\", reversesort=True))"
   ]
  },
  {
   "attachments": {},
   "cell_type": "markdown",
   "metadata": {},
   "source": [
    "# 设置表格样式\n",
    "\n",
    "- DEFAULT\n",
    "- MSWORD_FRIENDLY\n",
    "- PLAIN_COLUMNS\n",
    "- MARKDOWN\n",
    "- ORGMODE\n",
    "- DOUBLE_BORDER\n",
    "- SINGLE_BORDER\n",
    "- RANDOM"
   ]
  },
  {
   "cell_type": "code",
   "execution_count": 66,
   "metadata": {},
   "outputs": [
    {
     "name": "stdout",
     "output_type": "stream",
     "text": [
      "|----------------+-----+-------------+--------|\n",
      "|      name      | age |   country   | gender |\n",
      "|----------------+-----+-------------+--------|\n",
      "| Jack Morrison  |  49 |   America   |  male  |\n",
      "| Shimada Genji  |  35 |    Japan    |  male  |\n",
      "| Shimada Hanzo  |  38 |    Japan    |  male  |\n",
      "| Angela Ziegler |  37 | Switzerland | female |\n",
      "|----------------+-----+-------------+--------|\n"
     ]
    }
   ],
   "source": [
    "tb.set_style(prettytable.DEFAULT)\n",
    "print(tb)"
   ]
  },
  {
   "cell_type": "code",
   "execution_count": 58,
   "metadata": {},
   "outputs": [
    {
     "name": "stdout",
     "output_type": "stream",
     "text": [
      "|      name      | age |   country   | gender |\n",
      "| Jack Morrison  |  49 |   America   |  male  |\n",
      "| Shimada Genji  |  35 |    Japan    |  male  |\n",
      "| Shimada Hanzo  |  38 |    Japan    |  male  |\n",
      "| Angela Ziegler |  37 | Switzerland | female |\n"
     ]
    }
   ],
   "source": [
    "tb.set_style(prettytable.MSWORD_FRIENDLY)\n",
    "print(tb)"
   ]
  },
  {
   "cell_type": "code",
   "execution_count": 59,
   "metadata": {},
   "outputs": [
    {
     "name": "stdout",
     "output_type": "stream",
     "text": [
      "     name             age          country          gender        \n",
      "Jack Morrison          49          America           male         \n",
      "Shimada Genji          35           Japan            male         \n",
      "Shimada Hanzo          38           Japan            male         \n",
      "Angela Ziegler         37        Switzerland        female        \n"
     ]
    }
   ],
   "source": [
    "tb.set_style(prettytable.PLAIN_COLUMNS)\n",
    "print(tb)"
   ]
  },
  {
   "cell_type": "code",
   "execution_count": 62,
   "metadata": {},
   "outputs": [
    {
     "name": "stdout",
     "output_type": "stream",
     "text": [
      "|      name        age     country     gender |\n",
      "|:;;;;;;;;;;;;;;:;:;;;:;:;;;;;;;;;;;:;:;;;;;;:|\n",
      "| Jack Morrison     49     America      male  |\n",
      "| Shimada Genji     35      Japan       male  |\n",
      "| Shimada Hanzo     38      Japan       male  |\n",
      "| Angela Ziegler    37   Switzerland   female |\n"
     ]
    }
   ],
   "source": [
    "tb.set_style(prettytable.MARKDOWN)\n",
    "print(tb)"
   ]
  },
  {
   "cell_type": "code",
   "execution_count": 63,
   "metadata": {},
   "outputs": [
    {
     "name": "stdout",
     "output_type": "stream",
     "text": [
      "|----------------+-----+-------------+--------|\n",
      "|      name      | age |   country   | gender |\n",
      "|----------------+-----+-------------+--------|\n",
      "| Jack Morrison  |  49 |   America   |  male  |\n",
      "| Shimada Genji  |  35 |    Japan    |  male  |\n",
      "| Shimada Hanzo  |  38 |    Japan    |  male  |\n",
      "| Angela Ziegler |  37 | Switzerland | female |\n",
      "|----------------+-----+-------------+--------|\n"
     ]
    }
   ],
   "source": [
    "tb.set_style(prettytable.ORGMODE)\n",
    "print(tb)"
   ]
  },
  {
   "cell_type": "code",
   "execution_count": 64,
   "metadata": {},
   "outputs": [
    {
     "name": "stdout",
     "output_type": "stream",
     "text": [
      "|════════════════╦═════╦═════════════╦════════|\n",
      "|      name      ║ age ║   country   ║ gender |\n",
      "|════════════════╬═════╬═════════════╬════════|\n",
      "| Jack Morrison  ║  49 ║   America   ║  male  |\n",
      "| Shimada Genji  ║  35 ║    Japan    ║  male  |\n",
      "| Shimada Hanzo  ║  38 ║    Japan    ║  male  |\n",
      "| Angela Ziegler ║  37 ║ Switzerland ║ female |\n",
      "|════════════════╩═════╩═════════════╩════════|\n"
     ]
    }
   ],
   "source": [
    "tb.set_style(prettytable.DOUBLE_BORDER)\n",
    "print(tb)"
   ]
  },
  {
   "cell_type": "code",
   "execution_count": 65,
   "metadata": {},
   "outputs": [
    {
     "name": "stdout",
     "output_type": "stream",
     "text": [
      "|────────────────┬─────┬─────────────┬────────|\n",
      "|      name      │ age │   country   │ gender |\n",
      "|────────────────┼─────┼─────────────┼────────|\n",
      "| Jack Morrison  │  49 │   America   │  male  |\n",
      "| Shimada Genji  │  35 │    Japan    │  male  |\n",
      "| Shimada Hanzo  │  38 │    Japan    │  male  |\n",
      "| Angela Ziegler │  37 │ Switzerland │ female |\n",
      "|────────────────┴─────┴─────────────┴────────|\n"
     ]
    }
   ],
   "source": [
    "tb.set_style(prettytable.SINGLE_BORDER)\n",
    "print(tb)"
   ]
  },
  {
   "cell_type": "code",
   "execution_count": 69,
   "metadata": {},
   "outputs": [
    {
     "name": "stdout",
     "output_type": "stream",
     "text": [
      "|         name                age             country             gender     |\n",
      "|~~~~~~~~~~~~~~~~~~~~~~~~~~~~~~~~~~~~~~~~~~~~~~~~~~~~~~~~~~~~~~~~~~~~~~~~~~~|\n",
      "|    Jack Morrison             49             America              male      |\n",
      "|    Shimada Genji             35              Japan               male      |\n",
      "|    Shimada Hanzo             38              Japan               male      |\n",
      "|    Angela Ziegler            37           Switzerland           female     |\n"
     ]
    }
   ],
   "source": [
    "tb.set_style(prettytable.RANDOM)\n",
    "print(tb)"
   ]
  },
  {
   "attachments": {},
   "cell_type": "markdown",
   "metadata": {},
   "source": [
    "# 设置边框样式\n",
    "在 PrettyTable 中，边框由三个部分组成：横边框，竖边框，和边框连接符，我们都可以修改"
   ]
  },
  {
   "cell_type": "code",
   "execution_count": 82,
   "metadata": {},
   "outputs": [],
   "source": [
    "tb.set_style(prettytable.DEFAULT)"
   ]
  },
  {
   "cell_type": "code",
   "execution_count": 83,
   "metadata": {},
   "outputs": [
    {
     "name": "stdout",
     "output_type": "stream",
     "text": [
      "|^^^^^^^^^^^^^^^^~^^^^^~^^^^^^^^^^^^^~^^^^^^^^|\n",
      "| name           & age &     country & gender |\n",
      "|^^^^^^^^^^^^^^^^~^^^^^~^^^^^^^^^^^^^~^^^^^^^^|\n",
      "| Jack Morrison  &  49 &     America &  male  |\n",
      "| Shimada Genji  &  35 &       Japan &  male  |\n",
      "| Shimada Hanzo  &  38 &       Japan &  male  |\n",
      "| Angela Ziegler &  37 & Switzerland & female |\n",
      "|^^^^^^^^^^^^^^^^~^^^^^~^^^^^^^^^^^^^~^^^^^^^^|\n"
     ]
    }
   ],
   "source": [
    "# 是否显示边框，默认为True\n",
    "tb.border = True\n",
    "# 横边框\n",
    "tb.horizontal_char = '^'\n",
    "# 竖边框\n",
    "tb.vertical_char = '&'\n",
    "# 边框连接符\n",
    "tb.junction_char='~'\n",
    "print(tb)"
   ]
  },
  {
   "attachments": {},
   "cell_type": "markdown",
   "metadata": {},
   "source": [
    "# 设置对齐方式"
   ]
  },
  {
   "cell_type": "code",
   "execution_count": 84,
   "metadata": {},
   "outputs": [],
   "source": [
    "tb.set_style(prettytable.DEFAULT)"
   ]
  },
  {
   "cell_type": "code",
   "execution_count": 85,
   "metadata": {},
   "outputs": [
    {
     "name": "stdout",
     "output_type": "stream",
     "text": [
      "|----------------+-----+-------------+--------|\n",
      "| name           | age |     country | gender |\n",
      "|----------------+-----+-------------+--------|\n",
      "| Jack Morrison  |  49 |     America |  male  |\n",
      "| Shimada Genji  |  35 |       Japan |  male  |\n",
      "| Shimada Hanzo  |  38 |       Japan |  male  |\n",
      "| Angela Ziegler |  37 | Switzerland | female |\n",
      "|----------------+-----+-------------+--------|\n"
     ]
    }
   ],
   "source": [
    "# l 代表左对齐，c 代表居中，r 代表右对齐\n",
    "# 默认居中\n",
    "tb.align[\"name\"] = \"l\"\n",
    "tb.align[\"age\"] = \"c\"\n",
    "tb.align[\"country\"] = \"r\"\n",
    "tb.align[\"gender\"] = \"c\"\n",
    "print(tb)"
   ]
  },
  {
   "attachments": {},
   "cell_type": "markdown",
   "metadata": {},
   "source": [
    "# 获取不行格式的字符串"
   ]
  },
  {
   "cell_type": "code",
   "execution_count": null,
   "metadata": {},
   "outputs": [
    {
     "data": {
      "text/plain": [
       "'name,age,country,gender\\r\\nJack Morrison,49,America,male\\r\\nShimada Genji,35,Japan,male\\r\\nShimada Hanzo,38,Japan,male\\r\\nAngela Ziegler,37,Switzerland,female\\r\\n'"
      ]
     },
     "metadata": {},
     "output_type": "display_data"
    }
   ],
   "source": [
    "tb.get_csv_string()"
   ]
  },
  {
   "cell_type": "code",
   "execution_count": null,
   "metadata": {},
   "outputs": [
    {
     "data": {
      "text/plain": [
       "'[\\n    [\\n        \"name\",\\n        \"age\",\\n        \"country\",\\n        \"gender\"\\n    ],\\n    {\\n        \"age\": 49,\\n        \"country\": \"America\",\\n        \"gender\": \"male\",\\n        \"name\": \"Jack Morrison\"\\n    },\\n    {\\n        \"age\": 35,\\n        \"country\": \"Japan\",\\n        \"gender\": \"male\",\\n        \"name\": \"Shimada Genji\"\\n    },\\n    {\\n        \"age\": 38,\\n        \"country\": \"Japan\",\\n        \"gender\": \"male\",\\n        \"name\": \"Shimada Hanzo\"\\n    },\\n    {\\n        \"age\": 37,\\n        \"country\": \"Switzerland\",\\n        \"gender\": \"female\",\\n        \"name\": \"Angela Ziegler\"\\n    }\\n]'"
      ]
     },
     "metadata": {},
     "output_type": "display_data"
    }
   ],
   "source": [
    "tb.get_json_string()"
   ]
  },
  {
   "cell_type": "code",
   "execution_count": 101,
   "metadata": {},
   "outputs": [
    {
     "data": {
      "text/plain": [
       "'<table>\\n    <thead>\\n        <tr>\\n            <th>name</th>\\n            <th>age</th>\\n            <th>country</th>\\n            <th>gender</th>\\n        </tr>\\n    </thead>\\n    <tbody>\\n        <tr>\\n            <td>Jack Morrison</td>\\n            <td>49</td>\\n            <td>America</td>\\n            <td>male</td>\\n        </tr>\\n        <tr>\\n            <td>Shimada Genji</td>\\n            <td>35</td>\\n            <td>Japan</td>\\n            <td>male</td>\\n        </tr>\\n        <tr>\\n            <td>Shimada Hanzo</td>\\n            <td>38</td>\\n            <td>Japan</td>\\n            <td>male</td>\\n        </tr>\\n        <tr>\\n            <td>Angela Ziegler</td>\\n            <td>37</td>\\n            <td>Switzerland</td>\\n            <td>female</td>\\n        </tr>\\n    </tbody>\\n</table>'"
      ]
     },
     "execution_count": 101,
     "metadata": {},
     "output_type": "execute_result"
    }
   ],
   "source": [
    "tb.get_html_string()"
   ]
  },
  {
   "cell_type": "code",
   "execution_count": 102,
   "metadata": {},
   "outputs": [
    {
     "data": {
      "text/plain": [
       "'\\\\begin{tabular}{cccc}\\r\\nname & age & country & gender \\\\\\\\\\r\\nJack Morrison & 49 & America & male \\\\\\\\\\r\\nShimada Genji & 35 & Japan & male \\\\\\\\\\r\\nShimada Hanzo & 38 & Japan & male \\\\\\\\\\r\\nAngela Ziegler & 37 & Switzerland & female \\\\\\\\\\r\\n\\\\end{tabular}'"
      ]
     },
     "execution_count": 102,
     "metadata": {},
     "output_type": "execute_result"
    }
   ],
   "source": [
    "tb.get_latex_string()"
   ]
  },
  {
   "cell_type": "code",
   "execution_count": null,
   "metadata": {},
   "outputs": [],
   "source": []
  }
 ],
 "metadata": {
  "kernelspec": {
   "display_name": "pytorch",
   "language": "python",
   "name": "python3"
  },
  "language_info": {
   "codemirror_mode": {
    "name": "ipython",
    "version": 3
   },
   "file_extension": ".py",
   "mimetype": "text/x-python",
   "name": "python",
   "nbconvert_exporter": "python",
   "pygments_lexer": "ipython3",
   "version": "3.10.11"
  },
  "orig_nbformat": 4
 },
 "nbformat": 4,
 "nbformat_minor": 2
}
