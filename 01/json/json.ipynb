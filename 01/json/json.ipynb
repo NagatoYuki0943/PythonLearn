{
 "cells": [
  {
   "cell_type": "code",
   "execution_count": 3,
   "metadata": {},
   "outputs": [],
   "source": [
    "import json"
   ]
  },
  {
   "cell_type": "markdown",
   "metadata": {},
   "source": [
    "# python / json"
   ]
  },
  {
   "cell_type": "markdown",
   "metadata": {},
   "source": [
    "## python 原始类型向 json 类型的转化对照表：\n",
    "\n",
    "| Python           | JSON   |\n",
    "| ---------------- | ------ |\n",
    "| dict             | object |\n",
    "| list, tuple      | array  |\n",
    "| str, unicode     | string |\n",
    "| int, long, float | number |\n",
    "| True             | true   |\n",
    "| False            | false  |\n",
    "| None             | null   |"
   ]
  },
  {
   "cell_type": "markdown",
   "metadata": {},
   "source": [
    "## json 类型转换到 python 的类型对照表：\n",
    "\n",
    "| JSON          | Python    |\n",
    "| ------------- | --------- |\n",
    "| object        | dict      |\n",
    "| array         | list      |\n",
    "| string        | unicode   |\n",
    "| number (int)  | int, long |\n",
    "| number (real) | float     |\n",
    "| true          | True      |\n",
    "| false         | False     |\n",
    "| null          | None      |"
   ]
  },
  {
   "cell_type": "markdown",
   "metadata": {},
   "source": [
    "# obj / str"
   ]
  },
  {
   "cell_type": "markdown",
   "metadata": {},
   "source": [
    "## str = json.dumps(obj)\n",
    "\n",
    "`dumps`函数不需要传文件描述符，其他的参数和`dump`函数的一样。\n",
    "\n",
    "```python\n",
    "json.dumps(\n",
    "    obj,                    # 表示是要序列化的对象\n",
    "    *,\n",
    "    skipkeys=False,         # 默认为False,如果skipkeys = True,（默认值：False），则将跳过不是基本类型（str，int，float，bool，None）的dict键，不会引发TypeError。\n",
    "    ensure_ascii=True,      # 默认值为True,能将所有传入的非ASCII字符转义输出。如果ensure_ascii为False，则这些字符将按原样输出。\n",
    "    check_circular=True,    # 默认值为True,如果check_circular为False，则将跳过对容器类型的循环引用检查，循环引用将导致OverflowError。\n",
    "    allow_nan=True,         # 默认值为True,如果allow_nan为False，则严格遵守JSON规范,序列化超出范围的浮点值（nan，inf，-inf）会引发ValueError。 如果allow_nan为True,则将使用它们的JavaScript等效项（NaN，Infinity，-Infinity）。\n",
    "    cls=None,\n",
    "    indent=None,            # 设置缩进格式，默认值为None,选择的是最紧凑的表示。如果indent是非负整数或字符串，那么JSON数组元素和对象成员将使用该缩进级别进行输入；indent为0,负数或“”仅插入换行符；indent使用正整数缩进多个空格；如果indent是一个字符串（例如“\\t”），则该字符串用于缩进每个级别。\n",
    "    separators=None,        # 去除分隔符后面的空格，默认值为None,如果指定，则分隔符应为（item_separator，key_separator）元组。如果缩进为None，则默认为（’，’，’：’）;要获得最紧凑的JSON表示，可以指定（’，’，’:’）以消除空格。\n",
    "    default=None,           # 默认值为None,如果指定，则default应该是为无法以其他方式序列化的对象调用的函数。它应返回对象的JSON可编码版本或引发TypeError。如果未指定，则引发TypeError。\n",
    "    sort_keys=False,        # 默认值为False,如果sort_keys为True，则字典的输出将按键值排序。\n",
    "    **kw\n",
    ")\n",
    "```"
   ]
  },
  {
   "cell_type": "code",
   "execution_count": 8,
   "metadata": {},
   "outputs": [],
   "source": [
    "data = [\n",
    "    {\n",
    "        'no' : 1,\n",
    "        'name' : 'Runoob',\n",
    "        'url' : 'http://www.runoob.com'\n",
    "    },\n",
    "    {\n",
    "        'no' : 2,\n",
    "        'name' : 'baidu',\n",
    "        'url' : 'http://www.久美子.com'\n",
    "    },\n",
    "]"
   ]
  },
  {
   "cell_type": "code",
   "execution_count": 9,
   "metadata": {},
   "outputs": [
    {
     "data": {
      "text/plain": [
       "'[{\"no\": 1, \"name\": \"Runoob\", \"url\": \"http://www.runoob.com\"}, {\"no\": 2, \"name\": \"baidu\", \"url\": \"http://www.\\\\u4e45\\\\u7f8e\\\\u5b50.com\"}]'"
      ]
     },
     "execution_count": 9,
     "metadata": {},
     "output_type": "execute_result"
    }
   ],
   "source": [
    "json.dumps(data)"
   ]
  },
  {
   "cell_type": "code",
   "execution_count": 18,
   "metadata": {},
   "outputs": [
    {
     "name": "stdout",
     "output_type": "stream",
     "text": [
      "[\n",
      "    {\n",
      "        \"no\": 1,\n",
      "        \"name\": \"Runoob\",\n",
      "        \"url\": \"http://www.runoob.com\"\n",
      "    },\n",
      "    {\n",
      "        \"no\": 2,\n",
      "        \"name\": \"baidu\",\n",
      "        \"url\": \"http://www.久美子.com\"\n",
      "    }\n",
      "]\n"
     ]
    }
   ],
   "source": [
    "string = json.dumps(data, ensure_ascii=False, indent=4)\n",
    "print(string)"
   ]
  },
  {
   "cell_type": "markdown",
   "metadata": {},
   "source": [
    "## obj = json.loads(str)\n",
    "\n",
    "`loads`也不需要文件描述符，其他参数的含义和`load`函数的一致。\n",
    "\n",
    "```python\n",
    "json.loads(\n",
    "    s,                      # 将s（包含JSON文档的str，bytes或bytearray实例）反序列化为Python对象。\n",
    "    *,\n",
    "    encoding=None,          # 定一个编码的格式。\n",
    "    cls=None,\n",
    "    object_hook=None,       # 默认值为None,object_hook是一个可选函数，此功能可用于实现自定义解码器。指定一个函数，该函数负责把反序列化后的基本类型对象转换成自定义类型的对象。\n",
    "    parse_float=None,       # 默认值为None,如果指定了parse_float，用来对JSON float字符串进行解码,这可用于为JSON浮点数使用另一种数据类型或解析器。\n",
    "    parse_int=None,         # 默认值为None,如果指定了parse_int，用来对JSON int字符串进行解码,这可以用于为JSON整数使用另一种数据类型或解析器。\n",
    "    parse_constant=None,    # 默认值为None,如果指定了parse_constant,对-Infinity,Infinity,NaN字符串进行调用。如果遇到了无效的JSON符号，会引发异常。\n",
    "    object_pairs_hook=None,\n",
    "    **kw\n",
    ")\n",
    "```"
   ]
  },
  {
   "cell_type": "code",
   "execution_count": 19,
   "metadata": {},
   "outputs": [
    {
     "data": {
      "text/plain": [
       "[{'no': 1, 'name': 'Runoob', 'url': 'http://www.runoob.com'},\n",
       " {'no': 2, 'name': 'baidu', 'url': 'http://www.久美子.com'}]"
      ]
     },
     "execution_count": 19,
     "metadata": {},
     "output_type": "execute_result"
    }
   ],
   "source": [
    "json.loads(string)"
   ]
  },
  {
   "cell_type": "markdown",
   "metadata": {},
   "source": [
    "# obj / fp"
   ]
  },
  {
   "cell_type": "markdown",
   "metadata": {},
   "source": [
    "## json.dump(obj, fp)\n",
    "\n",
    "json.dump 用于将 Python 对象编码成 JSON 字符串。\n",
    "\n",
    "```python\n",
    "json.dump(\n",
    "    obj,                    # 表示是要序列化的对象\n",
    "    fp,                     # 文件描述符，将序列化的str保存到文件中。json模块总是生成str对象，而不是字节对象；因此，fp.write（）必须支持str输入。\n",
    "    skipkeys=False,         # 默认为False,如果skipkeys = True,（默认值：False），则将跳过不是基本类型（str，int，float，bool，None）的dict键，不会引发TypeError。\n",
    "    ensure_ascii=True,      # 默认值为True,能将所有传入的非ASCII字符转义输出。如果ensure_ascii为False，则这些字符将按原样输出。\n",
    "    check_circular=True,    # 默认值为True,如果check_circular为False，则将跳过对容器类型的循环引用检查，循环引用将导致OverflowError。\n",
    "    allow_nan=True,         # 默认值为True,如果allow_nan为False，则严格遵守JSON规范,序列化超出范围的浮点值（nan，inf，-inf）会引发ValueError。 如果allow_nan为True,则将使用它们的JavaScript等效项（NaN，Infinity，-Infinity）。\n",
    "    indent=None,            # 设置缩进格式，默认值为None,选择的是最紧凑的表示。如果indent是非负整数或字符串，那么JSON数组元素和对象成员将使用该缩进级别进行输入；indent为0,负数或“”仅插入换行符；indent使用正整数缩进多个空格；如果indent是一个字符串（例如“\\t”），则该字符串用于缩进每个级别。\n",
    "    separators=None,        # 去除分隔符后面的空格，默认值为None,如果指定，则分隔符应为（item_separator，key_separator）元组。如果缩进为None，则默认为（’，’，’：’）;要获得最紧凑的JSON表示，可以指定（’，’，’:’）以消除空格。\n",
    "    encoding=\"utf-8\",       # 编码\n",
    "    default=None,           # 默认值为None,如果指定，则default应该是为无法以其他方式序列化的对象调用的函数。它应返回对象的JSON可编码版本或引发TypeError。如果未指定，则引发TypeError。\n",
    "    sort_keys=False,        # 默认值为False,如果sort_keys为True，则字典的输出将按键值排序。\n",
    "    **kw\n",
    ")\n",
    "```"
   ]
  },
  {
   "cell_type": "code",
   "execution_count": 13,
   "metadata": {},
   "outputs": [
    {
     "data": {
      "text/plain": [
       "[{'no': 1, 'name': 'Runoob', 'url': 'http://www.runoob.com'},\n",
       " {'no': 2, 'name': 'baidu', 'url': 'http://www.久美子.com'}]"
      ]
     },
     "execution_count": 13,
     "metadata": {},
     "output_type": "execute_result"
    }
   ],
   "source": [
    "data"
   ]
  },
  {
   "cell_type": "code",
   "execution_count": 15,
   "metadata": {},
   "outputs": [],
   "source": [
    "with open(\"test.json\", mode=\"w\", encoding=\"utf-8\") as f:\n",
    "    json.dump(data, fp=f, ensure_ascii=False, indent=4)"
   ]
  },
  {
   "cell_type": "markdown",
   "metadata": {},
   "source": [
    "## obj = json.load(fp)\n",
    "\n",
    "json.load 用于解码 JSON 数据。该函数返回 Python 字段的数据类型。\n",
    "\n",
    "```python\n",
    "json.load(\n",
    "    fp,                 # 文件描述符，将fp（.read（）支持包含JSON文档的文本文件或二进制文件）反序列化为Python对象。\n",
    "    object_hook,        # 默认值为None,object_hook是一个可选函数，此功能可用于实现自定义解码器。指定一个函数，该函数负责把反序列化后的基本类型对象转换成自定义类型的对象。\n",
    "    parse_float,        # 默认值为None,如果指定了parse_float，用来对JSON float字符串进行解码,这可用于为JSON浮点数使用另一种数据类型或解析器。\n",
    "    parse_int,          # 默认值为None,如果指定了parse_int，用来对JSON int字符串进行解码,这可以用于为JSON整数使用另一种数据类型或解析器。\n",
    "    parse_constant,     # 默认值为None,如果指定了parse_constant,对-Infinity,Infinity,NaN字符串进行调用。如果遇到了无效的JSON符号，会引发异常。\n",
    "    object_pairs_hook,\n",
    "    **kw\n",
    ")\n",
    "```\n"
   ]
  },
  {
   "cell_type": "code",
   "execution_count": 20,
   "metadata": {},
   "outputs": [
    {
     "data": {
      "text/plain": [
       "[{'no': 1, 'name': 'Runoob', 'url': 'http://www.runoob.com'},\n",
       " {'no': 2, 'name': 'baidu', 'url': 'http://www.久美子.com'}]"
      ]
     },
     "execution_count": 20,
     "metadata": {},
     "output_type": "execute_result"
    }
   ],
   "source": [
    "with open(\"test.json\", mode=\"r\", encoding=\"utf-8\") as f:\n",
    "    data1 = json.load(fp=f)\n",
    "data1"
   ]
  },
  {
   "cell_type": "code",
   "execution_count": null,
   "metadata": {},
   "outputs": [],
   "source": []
  }
 ],
 "metadata": {
  "kernelspec": {
   "display_name": "pytorch",
   "language": "python",
   "name": "python3"
  },
  "language_info": {
   "codemirror_mode": {
    "name": "ipython",
    "version": 3
   },
   "file_extension": ".py",
   "mimetype": "text/x-python",
   "name": "python",
   "nbconvert_exporter": "python",
   "pygments_lexer": "ipython3",
   "version": "3.11.4"
  }
 },
 "nbformat": 4,
 "nbformat_minor": 2
}
