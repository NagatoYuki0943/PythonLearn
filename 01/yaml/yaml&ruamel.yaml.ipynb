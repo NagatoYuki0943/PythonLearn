{
 "cells": [
  {
   "cell_type": "code",
   "execution_count": 2,
   "metadata": {},
   "outputs": [],
   "source": [
    "import yaml\n",
    "import ruamel.yaml as ryaml"
   ]
  },
  {
   "cell_type": "code",
   "execution_count": 3,
   "metadata": {},
   "outputs": [],
   "source": [
    "data = {\n",
    "    'name': ['小明', '小红'],\n",
    "    'map': {\n",
    "        'ak': 'agargta',\n",
    "        'sk': 'agtyahmy'\n",
    "    },\n",
    "    'xy': [\n",
    "        [88.00862548610722, 93.6939303578312],\n",
    "        [88.00778259970214, 93.69252192568183],\n",
    "        [88.00837307563499, 93.69132246303569],\n",
    "        [88.00682235480895, 93.69322364611894],\n",
    "        [88.0066984176408, 93.6932256070429]\n",
    "    ],\n",
    "    'xy_min_max': [0.014877027627733241, 0.011471283462284987]\n",
    "}"
   ]
  },
  {
   "cell_type": "markdown",
   "metadata": {},
   "source": [
    "# pyYAML 没法在列表左侧缩进"
   ]
  },
  {
   "cell_type": "markdown",
   "metadata": {},
   "source": [
    "## dump&load"
   ]
  },
  {
   "cell_type": "code",
   "execution_count": 4,
   "metadata": {},
   "outputs": [],
   "source": [
    "with open(\"data.yaml\", mode=\"w\", encoding=\"utf-8\") as f:\n",
    "    yaml.dump(data, f, indent=2, allow_unicode=True, sort_keys=False)"
   ]
  },
  {
   "cell_type": "code",
   "execution_count": 5,
   "metadata": {},
   "outputs": [
    {
     "data": {
      "text/plain": [
       "{'name': ['小明', '小红'],\n",
       " 'map': {'ak': 'agargta', 'sk': 'agtyahmy'},\n",
       " 'xy': [[88.00862548610722, 93.6939303578312],\n",
       "  [88.00778259970214, 93.69252192568183],\n",
       "  [88.00837307563499, 93.69132246303569],\n",
       "  [88.00682235480895, 93.69322364611894],\n",
       "  [88.0066984176408, 93.6932256070429]],\n",
       " 'xy_min_max': [0.014877027627733241, 0.011471283462284987]}"
      ]
     },
     "execution_count": 5,
     "metadata": {},
     "output_type": "execute_result"
    }
   ],
   "source": [
    "with open(\"data.yaml\", mode=\"r\", encoding=\"utf-8\") as f:\n",
    "    data_ = yaml.load(f, Loader=yaml.SafeLoader)\n",
    "data_"
   ]
  },
  {
   "cell_type": "markdown",
   "metadata": {},
   "source": [
    "## safe_dump&saft_load"
   ]
  },
  {
   "cell_type": "code",
   "execution_count": 6,
   "metadata": {},
   "outputs": [],
   "source": [
    "with open(\"data.yaml\", mode=\"w\", encoding=\"utf-8\") as f:\n",
    "    yaml.safe_dump(data, f, indent=2, allow_unicode=True, sort_keys=False)"
   ]
  },
  {
   "cell_type": "code",
   "execution_count": 7,
   "metadata": {},
   "outputs": [
    {
     "data": {
      "text/plain": [
       "{'name': ['小明', '小红'],\n",
       " 'map': {'ak': 'agargta', 'sk': 'agtyahmy'},\n",
       " 'xy': [[88.00862548610722, 93.6939303578312],\n",
       "  [88.00778259970214, 93.69252192568183],\n",
       "  [88.00837307563499, 93.69132246303569],\n",
       "  [88.00682235480895, 93.69322364611894],\n",
       "  [88.0066984176408, 93.6932256070429]],\n",
       " 'xy_min_max': [0.014877027627733241, 0.011471283462284987]}"
      ]
     },
     "execution_count": 7,
     "metadata": {},
     "output_type": "execute_result"
    }
   ],
   "source": [
    "with open(\"data.yaml\", mode=\"r\", encoding=\"utf-8\") as f:\n",
    "    data_ = yaml.safe_load(f)\n",
    "data_"
   ]
  },
  {
   "cell_type": "markdown",
   "metadata": {},
   "source": [
    "## full_load"
   ]
  },
  {
   "cell_type": "code",
   "execution_count": 8,
   "metadata": {},
   "outputs": [
    {
     "data": {
      "text/plain": [
       "{'name': ['小明', '小红'],\n",
       " 'map': {'ak': 'agargta', 'sk': 'agtyahmy'},\n",
       " 'xy': [[88.00862548610722, 93.6939303578312],\n",
       "  [88.00778259970214, 93.69252192568183],\n",
       "  [88.00837307563499, 93.69132246303569],\n",
       "  [88.00682235480895, 93.69322364611894],\n",
       "  [88.0066984176408, 93.6932256070429]],\n",
       " 'xy_min_max': [0.014877027627733241, 0.011471283462284987]}"
      ]
     },
     "execution_count": 8,
     "metadata": {},
     "output_type": "execute_result"
    }
   ],
   "source": [
    "with open(\"data.yaml\", mode=\"r\", encoding=\"utf-8\") as f:\n",
    "    data_ = yaml.full_load(f)\n",
    "data_"
   ]
  },
  {
   "cell_type": "markdown",
   "metadata": {},
   "source": [
    "# ruamel.yaml 可以在列表左侧缩进"
   ]
  },
  {
   "cell_type": "markdown",
   "metadata": {},
   "source": [
    "## dump&load"
   ]
  },
  {
   "cell_type": "code",
   "execution_count": 9,
   "metadata": {},
   "outputs": [
    {
     "data": {
      "text/plain": [
       "<ruamel.yaml.main.YAML at 0x1a01dfd8090>"
      ]
     },
     "execution_count": 9,
     "metadata": {},
     "output_type": "execute_result"
    }
   ],
   "source": [
    "yaml_ = ryaml.YAML(typ='unsafe', pure=True)\n",
    "yaml_"
   ]
  },
  {
   "cell_type": "code",
   "execution_count": 10,
   "metadata": {},
   "outputs": [],
   "source": [
    "# 避免自动排序\n",
    "yaml_.sort_base_mapping_type_on_output = False"
   ]
  },
  {
   "cell_type": "code",
   "execution_count": 11,
   "metadata": {},
   "outputs": [],
   "source": [
    "# mapping:  这个参数指定了字典（映射类型）的缩进级别。在 YAML 中，字典通常表示为键值对，这个参数控制了字典中每个键值对的缩进。\n",
    "# sequence: 这个参数指定了列表（序列类型）的缩进级别。在 YAML 中，列表通常表示为一系列条目，这个参数控制了列表中每个条目的缩进。\n",
    "# offset:   这个参数指定了缩进的起始偏移量。在某些情况下，你可能希望在缩进之前有一个额外的空格或其他字符，offset 参数允许你设置这个偏移量。\n",
    "#           例如，如果你设置 offset=2，那么每个缩进级别将增加两个字符的宽度，这可能是为了与代码中的其他部分对齐或出于其他格式化目的。\n",
    "# 此外，ruamel.yaml 还提供了其他参数来控制缩进和格式化：\n",
    "# pre:       这个参数允许你为每个缩进级别指定一个前缀字符串。例如，你可以设置 pre='  ' 来使用两个空格作为每个缩进级别的前缀。\n",
    "# post:      类似于 pre，这个参数允许你为每个缩进级别指定一个后缀字符串。\n",
    "# transform: 这个参数允许你指定一个函数，该函数将在每个缩进级别之前应用，可以用来动态地改变缩进的字符。\n",
    "yaml_.indent(mapping=2, sequence=4, offset=2)"
   ]
  },
  {
   "cell_type": "code",
   "execution_count": 12,
   "metadata": {},
   "outputs": [],
   "source": [
    "yaml_.allow_unicode = True"
   ]
  },
  {
   "cell_type": "code",
   "execution_count": 13,
   "metadata": {},
   "outputs": [],
   "source": [
    "with open(\"data.yaml\", mode=\"w\", encoding=\"utf-8\") as f:\n",
    "    yaml_.dump(data, f)"
   ]
  },
  {
   "cell_type": "code",
   "execution_count": 14,
   "metadata": {},
   "outputs": [
    {
     "data": {
      "text/plain": [
       "{'name': ['小明', '小红'],\n",
       " 'map': {'ak': 'agargta', 'sk': 'agtyahmy'},\n",
       " 'xy': [[88.00862548610722, 93.6939303578312],\n",
       "  [88.00778259970214, 93.69252192568183],\n",
       "  [88.00837307563499, 93.69132246303569],\n",
       "  [88.00682235480895, 93.69322364611894],\n",
       "  [88.0066984176408, 93.6932256070429]],\n",
       " 'xy_min_max': [0.014877027627733241, 0.011471283462284987]}"
      ]
     },
     "execution_count": 14,
     "metadata": {},
     "output_type": "execute_result"
    }
   ],
   "source": [
    "with open(\"data.yaml\", mode=\"r\", encoding=\"utf-8\") as f:\n",
    "    data_ = yaml_.load(f)\n",
    "data_"
   ]
  },
  {
   "cell_type": "markdown",
   "metadata": {},
   "source": [
    "## safe_dump&saft_load"
   ]
  },
  {
   "cell_type": "code",
   "execution_count": 15,
   "metadata": {},
   "outputs": [
    {
     "data": {
      "text/plain": [
       "<ruamel.yaml.main.YAML at 0x1a01d798990>"
      ]
     },
     "execution_count": 15,
     "metadata": {},
     "output_type": "execute_result"
    }
   ],
   "source": [
    "yaml_ = ryaml.YAML(typ='safe', pure=True)\n",
    "yaml_"
   ]
  },
  {
   "cell_type": "code",
   "execution_count": 16,
   "metadata": {},
   "outputs": [],
   "source": [
    "# 避免自动排序\n",
    "yaml_.sort_base_mapping_type_on_output = False"
   ]
  },
  {
   "cell_type": "code",
   "execution_count": 17,
   "metadata": {},
   "outputs": [],
   "source": [
    "# mapping:  这个参数指定了字典（映射类型）的缩进级别。在 YAML 中，字典通常表示为键值对，这个参数控制了字典中每个键值对的缩进。\n",
    "# sequence: 这个参数指定了列表（序列类型）的缩进级别。在 YAML 中，列表通常表示为一系列条目，这个参数控制了列表中每个条目的缩进。\n",
    "# offset:   这个参数指定了缩进的起始偏移量。在某些情况下，你可能希望在缩进之前有一个额外的空格或其他字符，offset 参数允许你设置这个偏移量。\n",
    "#           例如，如果你设置 offset=2，那么每个缩进级别将增加两个字符的宽度，这可能是为了与代码中的其他部分对齐或出于其他格式化目的。\n",
    "# 此外，ruamel.yaml 还提供了其他参数来控制缩进和格式化：\n",
    "# pre:       这个参数允许你为每个缩进级别指定一个前缀字符串。例如，你可以设置 pre='  ' 来使用两个空格作为每个缩进级别的前缀。\n",
    "# post:      类似于 pre，这个参数允许你为每个缩进级别指定一个后缀字符串。\n",
    "# transform: 这个参数允许你指定一个函数，该函数将在每个缩进级别之前应用，可以用来动态地改变缩进的字符。\n",
    "yaml_.indent(mapping=2, sequence=4, offset=2)"
   ]
  },
  {
   "cell_type": "code",
   "execution_count": 18,
   "metadata": {},
   "outputs": [],
   "source": [
    "yaml_.allow_unicode = True"
   ]
  },
  {
   "cell_type": "code",
   "execution_count": 19,
   "metadata": {},
   "outputs": [],
   "source": [
    "with open(\"data.yaml\", mode=\"w\", encoding=\"utf-8\") as f:\n",
    "    yaml_.dump(data, f)"
   ]
  },
  {
   "cell_type": "code",
   "execution_count": 20,
   "metadata": {},
   "outputs": [
    {
     "data": {
      "text/plain": [
       "{'name': ['小明', '小红'],\n",
       " 'map': {'ak': 'agargta', 'sk': 'agtyahmy'},\n",
       " 'xy': [[88.00862548610722, 93.6939303578312],\n",
       "  [88.00778259970214, 93.69252192568183],\n",
       "  [88.00837307563499, 93.69132246303569],\n",
       "  [88.00682235480895, 93.69322364611894],\n",
       "  [88.0066984176408, 93.6932256070429]],\n",
       " 'xy_min_max': [0.014877027627733241, 0.011471283462284987]}"
      ]
     },
     "execution_count": 20,
     "metadata": {},
     "output_type": "execute_result"
    }
   ],
   "source": [
    "with open(\"data.yaml\", mode=\"r\", encoding=\"utf-8\") as f:\n",
    "    data_ = yaml_.load(f)\n",
    "data_"
   ]
  },
  {
   "cell_type": "markdown",
   "metadata": {},
   "source": [
    "## full_dump"
   ]
  },
  {
   "cell_type": "code",
   "execution_count": 21,
   "metadata": {},
   "outputs": [
    {
     "data": {
      "text/plain": [
       "<ruamel.yaml.main.YAML at 0x1a01dfe7f90>"
      ]
     },
     "execution_count": 21,
     "metadata": {},
     "output_type": "execute_result"
    }
   ],
   "source": [
    "yaml_ = ryaml.YAML(typ='full', pure=True)\n",
    "yaml_"
   ]
  },
  {
   "cell_type": "code",
   "execution_count": 22,
   "metadata": {},
   "outputs": [],
   "source": [
    "# 避免自动排序\n",
    "yaml_.sort_base_mapping_type_on_output = False"
   ]
  },
  {
   "cell_type": "code",
   "execution_count": 23,
   "metadata": {},
   "outputs": [],
   "source": [
    "# mapping:  这个参数指定了字典（映射类型）的缩进级别。在 YAML 中，字典通常表示为键值对，这个参数控制了字典中每个键值对的缩进。\n",
    "# sequence: 这个参数指定了列表（序列类型）的缩进级别。在 YAML 中，列表通常表示为一系列条目，这个参数控制了列表中每个条目的缩进。\n",
    "# offset:   这个参数指定了缩进的起始偏移量。在某些情况下，你可能希望在缩进之前有一个额外的空格或其他字符，offset 参数允许你设置这个偏移量。\n",
    "#           例如，如果你设置 offset=2，那么每个缩进级别将增加两个字符的宽度，这可能是为了与代码中的其他部分对齐或出于其他格式化目的。\n",
    "# 此外，ruamel.yaml 还提供了其他参数来控制缩进和格式化：\n",
    "# pre:       这个参数允许你为每个缩进级别指定一个前缀字符串。例如，你可以设置 pre='  ' 来使用两个空格作为每个缩进级别的前缀。\n",
    "# post:      类似于 pre，这个参数允许你为每个缩进级别指定一个后缀字符串。\n",
    "# transform: 这个参数允许你指定一个函数，该函数将在每个缩进级别之前应用，可以用来动态地改变缩进的字符。\n",
    "yaml_.indent(mapping=2, sequence=4, offset=2)"
   ]
  },
  {
   "cell_type": "code",
   "execution_count": 24,
   "metadata": {},
   "outputs": [],
   "source": [
    "yaml_.allow_unicode = True"
   ]
  },
  {
   "cell_type": "code",
   "execution_count": 25,
   "metadata": {},
   "outputs": [],
   "source": [
    "with open(\"data.yaml\", mode=\"w\", encoding=\"utf-8\") as f:\n",
    "    yaml_.dump(data, f)"
   ]
  },
  {
   "cell_type": "code",
   "execution_count": null,
   "metadata": {},
   "outputs": [],
   "source": []
  }
 ],
 "metadata": {
  "kernelspec": {
   "display_name": "pytorch",
   "language": "python",
   "name": "python3"
  },
  "language_info": {
   "codemirror_mode": {
    "name": "ipython",
    "version": 3
   },
   "file_extension": ".py",
   "mimetype": "text/x-python",
   "name": "python",
   "nbconvert_exporter": "python",
   "pygments_lexer": "ipython3",
   "version": "3.11.9"
  }
 },
 "nbformat": 4,
 "nbformat_minor": 2
}
