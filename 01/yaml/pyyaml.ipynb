{
 "cells": [
  {
   "cell_type": "code",
   "execution_count": 1,
   "metadata": {},
   "outputs": [],
   "source": [
    "import yaml\n",
    "import sys"
   ]
  },
  {
   "cell_type": "markdown",
   "metadata": {},
   "source": [
    "# base"
   ]
  },
  {
   "cell_type": "markdown",
   "metadata": {},
   "source": [
    "## dump / load SafeLoader / SafeDumper"
   ]
  },
  {
   "cell_type": "code",
   "execution_count": 2,
   "metadata": {},
   "outputs": [],
   "source": [
    "yaml_str = \"\"\"\n",
    "# 服务器配置\n",
    "server:\n",
    "  host: 127.0.0.1  # 本机地址\n",
    "  port: 8080\n",
    "\"\"\""
   ]
  },
  {
   "cell_type": "code",
   "execution_count": 6,
   "metadata": {},
   "outputs": [
    {
     "name": "stdout",
     "output_type": "stream",
     "text": [
      "{'server': {'host': '127.0.0.1', 'port': 8080}}\n"
     ]
    }
   ],
   "source": [
    "data = yaml.load(yaml_str, Loader=yaml.SafeLoader)\n",
    "print(data)"
   ]
  },
  {
   "cell_type": "code",
   "execution_count": 11,
   "metadata": {},
   "outputs": [
    {
     "name": "stdout",
     "output_type": "stream",
     "text": [
      "server:\n",
      "  host: 127.0.0.1\n",
      "  port: 8080\n"
     ]
    }
   ],
   "source": [
    "yaml.dump(data, sys.stdout, Dumper=yaml.SafeDumper, indent=2, allow_unicode=True, sort_keys=False)"
   ]
  },
  {
   "cell_type": "markdown",
   "metadata": {},
   "source": [
    "## safe_dump / safe_load"
   ]
  },
  {
   "cell_type": "code",
   "execution_count": 8,
   "metadata": {},
   "outputs": [],
   "source": [
    "yaml_str = \"\"\"\n",
    "# 服务器配置\n",
    "server:\n",
    "  host: 127.0.0.1  # 本机地址\n",
    "  port: 8080\n",
    "\"\"\""
   ]
  },
  {
   "cell_type": "code",
   "execution_count": 9,
   "metadata": {},
   "outputs": [
    {
     "data": {
      "text/plain": [
       "{'server': {'host': '127.0.0.1', 'port': 8080}}"
      ]
     },
     "execution_count": 9,
     "metadata": {},
     "output_type": "execute_result"
    }
   ],
   "source": [
    "data = yaml.safe_load(yaml_str)\n",
    "data"
   ]
  },
  {
   "cell_type": "code",
   "execution_count": 10,
   "metadata": {},
   "outputs": [
    {
     "name": "stdout",
     "output_type": "stream",
     "text": [
      "server:\n",
      "  host: 127.0.0.1\n",
      "  port: 8080\n"
     ]
    }
   ],
   "source": [
    "yaml.safe_dump(data, sys.stdout, indent=2, allow_unicode=True, sort_keys=False)"
   ]
  },
  {
   "cell_type": "markdown",
   "metadata": {},
   "source": [
    "## full_load"
   ]
  },
  {
   "cell_type": "code",
   "execution_count": 13,
   "metadata": {},
   "outputs": [],
   "source": [
    "yaml_str = \"\"\"\n",
    "# 服务器配置\n",
    "server:\n",
    "  host: 127.0.0.1  # 本机地址\n",
    "  port: 8080\n",
    "\"\"\""
   ]
  },
  {
   "cell_type": "code",
   "execution_count": 14,
   "metadata": {},
   "outputs": [
    {
     "data": {
      "text/plain": [
       "{'server': {'host': '127.0.0.1', 'port': 8080}}"
      ]
     },
     "execution_count": 14,
     "metadata": {},
     "output_type": "execute_result"
    }
   ],
   "source": [
    "data = yaml.full_load(yaml_str)\n",
    "data"
   ]
  },
  {
   "cell_type": "markdown",
   "metadata": {},
   "source": [
    "## FullLoader"
   ]
  },
  {
   "cell_type": "code",
   "execution_count": 15,
   "metadata": {},
   "outputs": [
    {
     "data": {
      "text/plain": [
       "{'server': {'host': '127.0.0.1', 'port': 8080}}"
      ]
     },
     "execution_count": 15,
     "metadata": {},
     "output_type": "execute_result"
    }
   ],
   "source": [
    "data = yaml.load(yaml_str, Loader=yaml.FullLoader)\n",
    "data"
   ]
  },
  {
   "cell_type": "markdown",
   "metadata": {},
   "source": [
    "## dump_all / load_all : 默认的 dump 和 load 是把传入的对象放入一个列表中，使用 __all 需要直接传入一个列表"
   ]
  },
  {
   "cell_type": "code",
   "execution_count": 17,
   "metadata": {},
   "outputs": [],
   "source": [
    "yaml_str = \"\"\"\n",
    "# 服务器配置\n",
    "server:\n",
    "  host: 127.0.0.1  # 本机地址\n",
    "  port: 8080\n",
    "\"\"\""
   ]
  },
  {
   "cell_type": "code",
   "execution_count": 18,
   "metadata": {},
   "outputs": [
    {
     "data": {
      "text/plain": [
       "[{'server': {'host': '127.0.0.1', 'port': 8080}}]"
      ]
     },
     "execution_count": 18,
     "metadata": {},
     "output_type": "execute_result"
    }
   ],
   "source": [
    "_data = yaml.load_all(yaml_str, Loader=yaml.SafeLoader)\n",
    "__data = []\n",
    "for i in _data:\n",
    "    __data.append(i)\n",
    "__data"
   ]
  },
  {
   "cell_type": "code",
   "execution_count": 20,
   "metadata": {},
   "outputs": [
    {
     "name": "stdout",
     "output_type": "stream",
     "text": [
      "server:\n",
      "  host: 127.0.0.1\n",
      "  port: 8080\n"
     ]
    }
   ],
   "source": [
    "yaml.dump_all(__data, sys.stdout, indent=2, allow_unicode=True, sort_keys=False)"
   ]
  },
  {
   "cell_type": "markdown",
   "metadata": {},
   "source": [
    "# 写入文件"
   ]
  },
  {
   "cell_type": "code",
   "execution_count": 22,
   "metadata": {},
   "outputs": [],
   "source": [
    "data = {\n",
    "    \"name\": [\"小明\", \"小红\"],\n",
    "    \"map\": {\"ak\": \"agargta\", \"sk\": \"agtyahmy\"},\n",
    "    \"xy\": [\n",
    "        [88.00862548610722, 93.6939303578312],\n",
    "        [88.00778259970214, 93.69252192568183],\n",
    "        [88.00837307563499, 93.69132246303569],\n",
    "        [88.00682235480895, 93.69322364611894],\n",
    "        [88.0066984176408, 93.6932256070429],\n",
    "    ],\n",
    "    \"xy_min_max\": [0.014877027627733241, 0.011471283462284987],\n",
    "}"
   ]
  },
  {
   "cell_type": "code",
   "execution_count": 23,
   "metadata": {},
   "outputs": [],
   "source": [
    "data_path = \"pyyaml--example.yaml\""
   ]
  },
  {
   "cell_type": "code",
   "execution_count": 24,
   "metadata": {},
   "outputs": [],
   "source": [
    "with open(data_path, mode=\"w\", encoding=\"utf-8\") as f:\n",
    "    yaml.dump(data, f, indent=2, allow_unicode=True, sort_keys=False)"
   ]
  },
  {
   "cell_type": "code",
   "execution_count": 25,
   "metadata": {},
   "outputs": [
    {
     "data": {
      "text/plain": [
       "{'name': ['小明', '小红'],\n",
       " 'map': {'ak': 'agargta', 'sk': 'agtyahmy'},\n",
       " 'xy': [[88.00862548610722, 93.6939303578312],\n",
       "  [88.00778259970214, 93.69252192568183],\n",
       "  [88.00837307563499, 93.69132246303569],\n",
       "  [88.00682235480895, 93.69322364611894],\n",
       "  [88.0066984176408, 93.6932256070429]],\n",
       " 'xy_min_max': [0.014877027627733241, 0.011471283462284987]}"
      ]
     },
     "execution_count": 25,
     "metadata": {},
     "output_type": "execute_result"
    }
   ],
   "source": [
    "with open(data_path, mode=\"r\", encoding=\"utf-8\") as f:\n",
    "    data = yaml.load(f, Loader=yaml.SafeLoader)\n",
    "data"
   ]
  },
  {
   "cell_type": "markdown",
   "metadata": {},
   "source": [
    "# pyYAML 没法在列表左侧缩进"
   ]
  },
  {
   "cell_type": "code",
   "execution_count": 26,
   "metadata": {},
   "outputs": [
    {
     "name": "stdout",
     "output_type": "stream",
     "text": [
      "name:\n",
      "- 小明\n",
      "- 小红\n",
      "map:\n",
      "  ak: agargta\n",
      "  sk: agtyahmy\n",
      "xy:\n",
      "- - 88.00862548610722\n",
      "  - 93.6939303578312\n",
      "- - 88.00778259970214\n",
      "  - 93.69252192568183\n",
      "- - 88.00837307563499\n",
      "  - 93.69132246303569\n",
      "- - 88.00682235480895\n",
      "  - 93.69322364611894\n",
      "- - 88.0066984176408\n",
      "  - 93.6932256070429\n",
      "xy_min_max:\n",
      "- 0.014877027627733241\n",
      "- 0.011471283462284987\n"
     ]
    }
   ],
   "source": [
    "yaml.dump(data, sys.stdout, indent=2, allow_unicode=True, sort_keys=False)"
   ]
  },
  {
   "cell_type": "code",
   "execution_count": null,
   "metadata": {},
   "outputs": [],
   "source": []
  }
 ],
 "metadata": {
  "kernelspec": {
   "display_name": "pytorch",
   "language": "python",
   "name": "python3"
  },
  "language_info": {
   "codemirror_mode": {
    "name": "ipython",
    "version": 3
   },
   "file_extension": ".py",
   "mimetype": "text/x-python",
   "name": "python",
   "nbconvert_exporter": "python",
   "pygments_lexer": "ipython3",
   "version": "3.12.11"
  }
 },
 "nbformat": 4,
 "nbformat_minor": 2
}
