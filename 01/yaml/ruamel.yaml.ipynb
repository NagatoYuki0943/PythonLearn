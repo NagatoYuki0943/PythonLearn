{
 "cells": [
  {
   "cell_type": "code",
   "execution_count": 1,
   "id": "5d56f94f",
   "metadata": {},
   "outputs": [],
   "source": [
    "import ruamel.yaml as ruyaml\n",
    "import sys\n",
    "import os"
   ]
  },
  {
   "cell_type": "markdown",
   "id": "3ba42a7a",
   "metadata": {},
   "source": [
    "`ruamel.yaml` 的 `YAML()` 构造函数通过 `typ` 参数来控制其核心工作模式。这个模式决定了 YAML 实例在加载（load）和转储（dump）数据时的行为，尤其是在处理格式、注释和数据类型方面。"
   ]
  },
  {
   "cell_type": "markdown",
   "id": "b6016c83",
   "metadata": {},
   "source": [
    "# typ 说明"
   ]
  },
  {
   "cell_type": "markdown",
   "id": "de0af5c5",
   "metadata": {},
   "source": [
    "## 1. `typ=\"rt\"` (Round-Trip - 往返模式)\n",
    "\n",
    "这是 `ruamel.yaml` 的默认模式，也是其最强大和最核心的功能。\n",
    "\n",
    "- 它可以读取和写入核心目的：实现“往返”操作，即读取一个 `YAML` 文件，进行程序化修改，然后写回文件，同时最大限度地保留原始文件的所有细节。\n",
    "\n",
    "- 主要特性：\n",
    "\n",
    "    - 保留注释：行内和独立的注释都会被保留。\n",
    "\n",
    "    - 保留格式：缩进、空行、块样式（block style）和流样式（flow style）等都会被保留。\n",
    "\n",
    "    - 保留细节：包括引号的类型、锚点和别名等。\n",
    "\n",
    "    - 安全性：此模式是完全安全的，不会执行任意代码。\n",
    "\n",
    "    - 加载结果：`load() 方法返回的不是标准的 `dict` 和 `list`，而是 `ruamel.yaml` 自定义的 `CommentedMap` 和 `CommentedSeq` 对象。这些对象继承自 `dict` 和 `list`，但附加了存储注释和格式所需的信息。\n",
    "\n",
    "- 适用场景：\n",
    "\n",
    "    - 以编程方式修改配置文件（如 `config.yaml`、`CI/CD` 流水线文件）。\n",
    "\n",
    "    - 例如，在 CI/CD 系统中，需要更新 Docker Compose (`docker-compose.yml`) 文件中的镜像版本。\n",
    "\n",
    "    - 任何需要保持文件人类可读性和原始结构不变的场景。"
   ]
  },
  {
   "cell_type": "code",
   "execution_count": 2,
   "id": "c066eec8",
   "metadata": {},
   "outputs": [],
   "source": [
    "yaml_str = \"\"\"\n",
    "# 服务器配置\n",
    "server:\n",
    "  host: 127.0.0.1  # 本机地址\n",
    "  port: 8080\n",
    "\"\"\""
   ]
  },
  {
   "cell_type": "code",
   "execution_count": 3,
   "id": "511363aa",
   "metadata": {},
   "outputs": [
    {
     "data": {
      "text/plain": [
       "<ruamel.yaml.main.YAML at 0x2787ece4b30>"
      ]
     },
     "execution_count": 3,
     "metadata": {},
     "output_type": "execute_result"
    }
   ],
   "source": [
    "yaml = ruyaml.YAML(typ=\"rt\")  # 'rt' 是默认值，可以省略\n",
    "yaml"
   ]
  },
  {
   "cell_type": "code",
   "execution_count": 4,
   "id": "dbdf43f8",
   "metadata": {},
   "outputs": [
    {
     "name": "stdout",
     "output_type": "stream",
     "text": [
      "<class 'ruamel.yaml.comments.CommentedMap'>\n",
      "{'server': {'host': '127.0.0.1', 'port': 8080}}\n"
     ]
    }
   ],
   "source": [
    "data = yaml.load(yaml_str)\n",
    "print(type(data))  # <class 'dict'>\n",
    "print(data)"
   ]
  },
  {
   "cell_type": "code",
   "execution_count": 5,
   "id": "91f01f1d",
   "metadata": {},
   "outputs": [
    {
     "data": {
      "text/plain": [
       "{'server': {'host': '127.0.0.1', 'port': 9000}}"
      ]
     },
     "execution_count": 5,
     "metadata": {},
     "output_type": "execute_result"
    }
   ],
   "source": [
    "# 修改数据\n",
    "data[\"server\"][\"port\"] = 9000\n",
    "data[\"server\"].yaml_add_eol_comment(\"端口已被修改\", \"port\")\n",
    "data"
   ]
  },
  {
   "cell_type": "code",
   "execution_count": 6,
   "id": "32ab045a",
   "metadata": {},
   "outputs": [
    {
     "name": "stdout",
     "output_type": "stream",
     "text": [
      "# 服务器配置\n",
      "server:\n",
      "  host: 127.0.0.1  # 本机地址\n",
      "  port: 9000       # 端口已被修改\n"
     ]
    }
   ],
   "source": [
    "yaml.dump(data, sys.stdout)\n",
    "# 可以看到，所有注释和结构都得到了完美保留，并且还能以编程方式添加新注释。"
   ]
  },
  {
   "cell_type": "markdown",
   "id": "d94b1032",
   "metadata": {},
   "source": [
    "## 2. `typ=\"safe\"` (Safe - 安全模式)\n",
    "\n",
    "此模式是为了兼容 `PyYAML` 的 `safe_load/safe_dump` 而设计的。\n",
    "\n",
    "- 核心目的：安全地加载 `YAML` 数据，将其转换为纯粹的、标准的 `Python` 对象。\n",
    "\n",
    "- 主要特性：\n",
    "\n",
    "    - 不保留注释和格式：加载和转储过程会丢失所有注释、空行和原始格式。\n",
    "\n",
    "    - 安全性：与 `rt` 模式一样，此模式是安全的。\n",
    "\n",
    "    - 加载结果：`load()` 方法返回标准的 `Python` 对象，即 `dict` 和 `list`。\n",
    "\n",
    "- 适用场景：\n",
    "\n",
    "    - 当你只关心 `YAML` 文件中的数据内容，而不需要写回或保留其原始格式时。\n",
    "\n",
    "    - 作为数据源进行数据摄取和分析。\n",
    "\n",
    "    - 需要将 `ruamel.yaml` 的行为与 `PyYAML` 的 `safe_load` 对齐时。"
   ]
  },
  {
   "cell_type": "code",
   "execution_count": 7,
   "id": "ef0aca2c",
   "metadata": {},
   "outputs": [],
   "source": [
    "yaml_str = \"\"\"\n",
    "# 服务器配置\n",
    "server:\n",
    "  host: 127.0.0.1  # 本机地址\n",
    "  port: 8080\n",
    "\"\"\""
   ]
  },
  {
   "cell_type": "code",
   "execution_count": 8,
   "id": "68880d0e",
   "metadata": {},
   "outputs": [
    {
     "data": {
      "text/plain": [
       "<ruamel.yaml.main.YAML at 0x2787edeb140>"
      ]
     },
     "execution_count": 8,
     "metadata": {},
     "output_type": "execute_result"
    }
   ],
   "source": [
    "yaml = ruyaml.YAML(typ=\"safe\")  # 明确指定安全模式\n",
    "yaml"
   ]
  },
  {
   "cell_type": "code",
   "execution_count": 9,
   "id": "8c1abbe4",
   "metadata": {},
   "outputs": [
    {
     "name": "stdout",
     "output_type": "stream",
     "text": [
      "<class 'dict'>\n",
      "{'server': {'host': '127.0.0.1', 'port': 8080}}\n"
     ]
    }
   ],
   "source": [
    "data = yaml.load(yaml_str)\n",
    "\n",
    "print(type(data))  # <class 'dict'>\n",
    "print(data)"
   ]
  },
  {
   "cell_type": "code",
   "execution_count": 10,
   "id": "12379a3f",
   "metadata": {},
   "outputs": [
    {
     "name": "stdout",
     "output_type": "stream",
     "text": [
      "server: {host: 127.0.0.1, port: 8080}\n"
     ]
    }
   ],
   "source": [
    "# 转储时，所有注释和格式都丢失了\n",
    "yaml.dump(data, sys.stdout)"
   ]
  },
  {
   "cell_type": "markdown",
   "id": "96e4d614",
   "metadata": {},
   "source": [
    "## 3. `typ=\"unsafe\"` (Unsafe - 不安全模式)\n",
    "\n",
    "此模式对应 `PyYAML` 中不安全的 `load()` 函数。强烈不推荐使用。\n",
    "\n",
    "- 核心目的：加载可以执行任意 `Python` 代码的 `YAML` 数据。\n",
    "\n",
    "- 主要特性：\n",
    "\n",
    "    - 极不安全：它可以构造任何 `Python` 对象，并执行 `YAML` 文件中嵌入的任意代码。如果加载来源不可信的 `YAML` 文件，可能会导致严重的安全漏洞。\n",
    "\n",
    "    - 加载结果：可以返回任何类型的 `Python` 对象。\n",
    "\n",
    "- 适用场景：\n",
    "\n",
    "    - 几乎没有。应极力避免。只应在完全信任 `YAML` 文件来源，并且确实需要序列化和反序列化复杂 `Python` 对象时才考虑，但通常有更安全的替代方案（如 `pickle` 用于内部数据，但同样有安全问题）。\n",
    "\n",
    "示例（仅为演示，切勿在生产中使用）："
   ]
  },
  {
   "cell_type": "code",
   "execution_count": 11,
   "id": "bd11243a",
   "metadata": {},
   "outputs": [],
   "source": [
    "# 这个 YAML 字符串包含了执行 'whoami' 系统命令的指令\n",
    "unsafe_yaml_str = \"!!python/object/apply:os.system ['whoami']\""
   ]
  },
  {
   "cell_type": "code",
   "execution_count": 12,
   "id": "41a55d32",
   "metadata": {},
   "outputs": [
    {
     "data": {
      "text/plain": [
       "<ruamel.yaml.main.YAML at 0x2787edead80>"
      ]
     },
     "execution_count": 12,
     "metadata": {},
     "output_type": "execute_result"
    }
   ],
   "source": [
    "yaml = ruyaml.YAML(typ=\"unsafe\")\n",
    "yaml"
   ]
  },
  {
   "cell_type": "code",
   "execution_count": 13,
   "id": "36205ea0",
   "metadata": {},
   "outputs": [],
   "source": [
    "try:\n",
    "    # 加载时会执行 os.system('whoami')\n",
    "    yaml.load(unsafe_yaml_str)\n",
    "except Exception as e:\n",
    "    print(e)"
   ]
  },
  {
   "cell_type": "markdown",
   "id": "1def411c",
   "metadata": {},
   "source": [
    "## 4. `typ=\"base\"` (Base - 基础模式)\n",
    "\n",
    "这是一个非常底层的模式，对应 `PyYAML` 的 `BaseLoader`。普通用户很少会用到。\n",
    "\n",
    "- 核心目的：提供最基础的 `YAML` 解析能力，不进行大部分自动类型转换。\n",
    "\n",
    "- 主要特性：\n",
    "\n",
    "    - 仅加载 `YAML` 的基本结构（映射、序列和字符串）。\n",
    "\n",
    "    - 不会自动将 `true`、`123` 等解析为布尔值或整数，它们都会被当作字符串处理，除非有显式的标签（如 `!!int 123`）。\n",
    "\n",
    "- 适用场景：\n",
    "\n",
    "    - 进行非常底层的 `YAML` 处理。\n",
    "\n",
    "    - 希望完全手动控制所有类型转换。"
   ]
  },
  {
   "cell_type": "code",
   "execution_count": 14,
   "id": "a567ca7b",
   "metadata": {},
   "outputs": [],
   "source": [
    "yaml_str = \"\"\"\n",
    "# 服务器配置\n",
    "server:\n",
    "  host: 127.0.0.1  # 本机地址\n",
    "  port: 8080\n",
    "\"\"\""
   ]
  },
  {
   "cell_type": "code",
   "execution_count": 15,
   "id": "f4f7da9a",
   "metadata": {},
   "outputs": [
    {
     "data": {
      "text/plain": [
       "<ruamel.yaml.main.YAML at 0x2787edeb380>"
      ]
     },
     "execution_count": 15,
     "metadata": {},
     "output_type": "execute_result"
    }
   ],
   "source": [
    "yaml = ruyaml.YAML(typ=\"base\")  # 明确指定安全模式\n",
    "yaml"
   ]
  },
  {
   "cell_type": "code",
   "execution_count": 16,
   "id": "098eab51",
   "metadata": {},
   "outputs": [
    {
     "name": "stdout",
     "output_type": "stream",
     "text": [
      "<class 'dict'>\n",
      "{'server': {'host': '127.0.0.1', 'port': '8080'}}\n"
     ]
    }
   ],
   "source": [
    "data = yaml.load(yaml_str)\n",
    "\n",
    "print(type(data))  # <class 'dict'>\n",
    "print(data)"
   ]
  },
  {
   "cell_type": "markdown",
   "id": "e0d9cbcf",
   "metadata": {},
   "source": [
    "# 读写文件"
   ]
  },
  {
   "cell_type": "code",
   "execution_count": 17,
   "id": "ab178613",
   "metadata": {},
   "outputs": [],
   "source": [
    "data = {\n",
    "    \"server\": {\"host\": \"localhost\", \"port\": 8080},\n",
    "    \"database\": {\"name\": \"testdb\", \"user\": \"root\", \"password\": \"password\"},\n",
    "}"
   ]
  },
  {
   "cell_type": "code",
   "execution_count": 18,
   "id": "e2db521a",
   "metadata": {},
   "outputs": [
    {
     "data": {
      "text/plain": [
       "<ruamel.yaml.main.YAML at 0x2787ecbeed0>"
      ]
     },
     "execution_count": 18,
     "metadata": {},
     "output_type": "execute_result"
    }
   ],
   "source": [
    "yaml = ruyaml.YAML(typ=\"rt\")  # 'rt' 是默认值，可以省略\n",
    "yaml"
   ]
  },
  {
   "cell_type": "code",
   "execution_count": 19,
   "id": "bf99aaef",
   "metadata": {},
   "outputs": [],
   "source": [
    "file_path = \"ruamel.yaml--example.yaml\""
   ]
  },
  {
   "cell_type": "markdown",
   "id": "2fbebb1a",
   "metadata": {},
   "source": [
    "## dump / load"
   ]
  },
  {
   "cell_type": "code",
   "execution_count": 20,
   "id": "d5b158ba",
   "metadata": {},
   "outputs": [],
   "source": [
    "with open(file_path, \"w\", encoding=\"utf-8\") as f:\n",
    "    yaml.dump(data, f)"
   ]
  },
  {
   "cell_type": "code",
   "execution_count": 21,
   "id": "ec7928a9",
   "metadata": {},
   "outputs": [
    {
     "data": {
      "text/plain": [
       "{'server': {'host': 'localhost', 'port': 8080}, 'database': {'name': 'testdb', 'user': 'root', 'password': 'password'}}"
      ]
     },
     "execution_count": 21,
     "metadata": {},
     "output_type": "execute_result"
    }
   ],
   "source": [
    "with open(file_path, \"r\", encoding=\"utf-8\") as f:\n",
    "    data = yaml.load(f)\n",
    "data"
   ]
  },
  {
   "cell_type": "markdown",
   "id": "3643cfcc",
   "metadata": {},
   "source": [
    "## dump_all / load_all: 默认的 dump 和 load 是把传入的对象放入一个列表中，使用 __all 需要直接传入一个列表"
   ]
  },
  {
   "cell_type": "code",
   "execution_count": 22,
   "id": "e554e259",
   "metadata": {},
   "outputs": [],
   "source": [
    "with open(file_path, mode=\"w\", encoding=\"utf-8\") as f:\n",
    "    yaml.dump_all([data], f)"
   ]
  },
  {
   "cell_type": "code",
   "execution_count": 23,
   "id": "107113eb",
   "metadata": {},
   "outputs": [
    {
     "data": {
      "text/plain": [
       "[{'server': {'host': 'localhost', 'port': 8080}, 'database': {'name': 'testdb', 'user': 'root', 'password': 'password'}}]"
      ]
     },
     "execution_count": 23,
     "metadata": {},
     "output_type": "execute_result"
    }
   ],
   "source": [
    "data = []\n",
    "with open(file_path, mode=\"r\", encoding=\"utf-8\") as f:\n",
    "    _data = yaml.load_all(f)\n",
    "    for i in _data:\n",
    "        data.append(i)\n",
    "data"
   ]
  },
  {
   "cell_type": "markdown",
   "id": "527015a1",
   "metadata": {},
   "source": [
    "# ruamel.yaml 可以在列表左侧缩进"
   ]
  },
  {
   "cell_type": "code",
   "execution_count": 24,
   "id": "c407dfc7",
   "metadata": {},
   "outputs": [],
   "source": [
    "data = {\n",
    "    \"name\": [\"小明\", \"小红\"],\n",
    "    \"map\": {\"ak\": \"agargta\", \"sk\": \"agtyahmy\"},\n",
    "    \"xy\": [\n",
    "        [88.00862548610722, 93.6939303578312],\n",
    "        [88.00778259970214, 93.69252192568183],\n",
    "        [88.00837307563499, 93.69132246303569],\n",
    "        [88.00682235480895, 93.69322364611894],\n",
    "        [88.0066984176408, 93.6932256070429],\n",
    "    ],\n",
    "    \"xy_min_max\": [0.014877027627733241, 0.011471283462284987],\n",
    "}"
   ]
  },
  {
   "cell_type": "code",
   "execution_count": 25,
   "id": "86714772",
   "metadata": {},
   "outputs": [
    {
     "data": {
      "text/plain": [
       "<ruamel.yaml.main.YAML at 0x2787ee1ecf0>"
      ]
     },
     "execution_count": 25,
     "metadata": {},
     "output_type": "execute_result"
    }
   ],
   "source": [
    "yaml = ruyaml.YAML()\n",
    "yaml"
   ]
  },
  {
   "cell_type": "code",
   "execution_count": 26,
   "id": "a6579e4e",
   "metadata": {},
   "outputs": [],
   "source": [
    "# 避免自动排序\n",
    "yaml.sort_base_mapping_type_on_output = False"
   ]
  },
  {
   "cell_type": "code",
   "execution_count": 37,
   "id": "407014aa",
   "metadata": {},
   "outputs": [],
   "source": [
    "# mapping:  这个参数指定了字典（映射类型）的缩进级别。在 YAML 中，字典通常表示为键值对，这个参数控制了字典中每个键值对的缩进。\n",
    "# sequence: 这个参数指定了列表（序列类型）的缩进级别。在 YAML 中，列表通常表示为一系列条目，这个参数控制了列表中每个条目的缩进。\n",
    "# offset:   这个参数指定了缩进的起始偏移量。在某些情况下，你可能希望在缩进之前有一个额外的空格或其他字符，offset 参数允许你设置这个偏移量。\n",
    "#           例如，如果你设置 offset=2，那么每个缩进级别将增加两个字符的宽度，这可能是为了与代码中的其他部分对齐或出于其他格式化目的。\n",
    "# 此外，ruamel.yaml 还提供了其他参数来控制缩进和格式化：\n",
    "# pre:       这个参数允许你为每个缩进级别指定一个前缀字符串。例如，你可以设置 pre='  ' 来使用两个空格作为每个缩进级别的前缀。\n",
    "# post:      类似于 pre，这个参数允许你为每个缩进级别指定一个后缀字符串。\n",
    "# transform: 这个参数允许你指定一个函数，该函数将在每个缩进级别之前应用，可以用来动态地改变缩进的字符。\n",
    "yaml.indent(mapping=2, sequence=4, offset=2)"
   ]
  },
  {
   "cell_type": "code",
   "execution_count": 38,
   "id": "08abbb9a",
   "metadata": {},
   "outputs": [],
   "source": [
    "# 允许使用 Unicode 字符\n",
    "yaml.allow_unicode = True"
   ]
  },
  {
   "cell_type": "code",
   "execution_count": 39,
   "id": "908e02fd",
   "metadata": {},
   "outputs": [
    {
     "name": "stdout",
     "output_type": "stream",
     "text": [
      "name:\n",
      "  - 小明\n",
      "  - 小红\n",
      "map:\n",
      "  ak: agargta\n",
      "  sk: agtyahmy\n",
      "xy:\n",
      "  -   - 88.00862548610722\n",
      "      - 93.6939303578312\n",
      "  -   - 88.00778259970214\n",
      "      - 93.69252192568183\n",
      "  -   - 88.00837307563499\n",
      "      - 93.69132246303569\n",
      "  -   - 88.00682235480895\n",
      "      - 93.69322364611894\n",
      "  -   - 88.0066984176408\n",
      "      - 93.6932256070429\n",
      "xy_min_max:\n",
      "  - 0.014877027627733241\n",
      "  - 0.011471283462284987\n"
     ]
    }
   ],
   "source": [
    "yaml.dump(data, sys.stdout)"
   ]
  },
  {
   "cell_type": "code",
   "execution_count": null,
   "id": "ebcf9d76",
   "metadata": {},
   "outputs": [],
   "source": []
  }
 ],
 "metadata": {
  "kernelspec": {
   "display_name": "pytorch",
   "language": "python",
   "name": "python3"
  },
  "language_info": {
   "codemirror_mode": {
    "name": "ipython",
    "version": 3
   },
   "file_extension": ".py",
   "mimetype": "text/x-python",
   "name": "python",
   "nbconvert_exporter": "python",
   "pygments_lexer": "ipython3",
   "version": "3.12.11"
  }
 },
 "nbformat": 4,
 "nbformat_minor": 5
}
