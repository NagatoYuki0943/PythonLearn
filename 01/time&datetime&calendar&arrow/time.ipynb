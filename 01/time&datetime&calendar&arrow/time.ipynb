{
 "cells": [
  {
   "cell_type": "markdown",
   "metadata": {},
   "source": [
    "# time 模块\n",
    "\n",
    "Time 模块包含了以下内置函数，既有时间处理的，也有转换时间格式的：\n",
    "\n",
    "| 序号 | 函数及描述                                                   |\n",
    "| :--- | :----------------------------------------------------------- |\n",
    "| 1    | `time.time()` 返回当前时间的时间戳（1970纪元后经过的浮点秒数）。 |\n",
    "| 2    | `time.localtime([secs])` 接收时间戳（1970纪元后经过的浮点秒数）并返回当地时间下的时间元组t（t.tm_isdst可取0或1，取决于当地当时是不是夏令时）。 |\n",
    "| 3    | `time.asctime()` 接受时间元组并返回一个可读的形式为\"Tue Dec 11 18:07:14 2008\"（2008年12月11日 周二18时07分14秒）的24个字符的字符串。 |\n",
    "| 4    | `time.strftime(fmt[,tupletime])` 接收以时间元组，并返回以可读字符串表示的当地时间，格式由fmt决定。 |\n",
    "| 5    | `time.strptime(str,fmt='%a %b %d %H:%M:%S %Y')` 根据fmt的格式把一个时间字符串解析为时间元组。 |\n",
    "| 6    | `time.altzone()` 返回格林威治西部的夏令时地区的偏移秒数。如果该地区在格林威治东部会返回负值（如西欧，包括英国）。对夏令时启用地区才能使用。 |\n",
    "| 7    | `time.mktime(tupletime)` 接受时间元组并返回时间戳（1970纪元后经过的浮点秒数）。 |\n",
    "| 8    | `time.gmtime([secs])` 接收时间戳（1970纪元后经过的浮点秒数）并返回格林威治天文时间下的时间元组t。注：t.tm_isdst始终为0 |\n",
    "| 9    | `time.ctime([secs])` 作用相当于asctime(localtime(secs))，未给参数相当于asctime() |\n",
    "| 10   | `time.sleep(secs)` 推迟调用线程的运行，secs指秒数。 |\n",
    "| 11   | `time.clock()` 用以浮点数计算的秒数返回当前的CPU时间。用来衡量不同程序的耗时，比time.time()更有用。 |\n",
    "| 12   | `time.tzset()` 根据环境变量TZ重新初始化时间相关设置。 |\n",
    "\n",
    "Time模块包含了以下2个非常重要的属性：\n",
    "\n",
    "| 序号 | 属性及描述                                                   |\n",
    "| :--- | :----------------------------------------------------------- |\n",
    "| 1    | `time.timezone` 属性 time.timezone 是当地时区（未启动夏令时）距离格林威治的偏移秒数（>0，美洲<=0大部分欧洲，亚洲，非洲）。 |\n",
    "| 2    | `time.tzname` 属性time.tzname包含一对根据情况的不同而不同的字符串，分别是带夏令时的本地时区名称，和不带的。 |"
   ]
  },
  {
   "cell_type": "markdown",
   "metadata": {},
   "source": [
    "# 什么是时间元组？\n",
    "\n",
    "很多Python函数用一个元组装起来的9组数字处理时间:\n",
    "\n",
    "| 序号 | 字段         | 值                                   |\n",
    "| :--- | :----------- | :----------------------------------- |\n",
    "| 0    | 4位数年      | 2008                                 |\n",
    "| 1    | 月           | 1 到 12                              |\n",
    "| 2    | 日           | 1到31                                |\n",
    "| 3    | 小时         | 0到23                                |\n",
    "| 4    | 分钟         | 0到59                                |\n",
    "| 5    | 秒           | 0到61 (60或61 是闰秒)                |\n",
    "| 6    | 一周的第几日 | 0到6 (0是周一)                       |\n",
    "| 7    | 一年的第几日 | 1到366 (儒略历)                      |\n",
    "| 8    | 夏令时       | -1, 0, 1, -1是决定是否为夏令时的旗帜 |\n",
    "\n",
    "上述也就是struct_time元组。这种结构具有如下属性：\n",
    "\n",
    "| 序号 | 属性     | 值                                   |\n",
    "| :--- | :------- | :----------------------------------- |\n",
    "| 0    | tm_year  | 2008                                 |\n",
    "| 1    | tm_mon   | 1 到 12                              |\n",
    "| 2    | tm_mday  | 1 到 31                              |\n",
    "| 3    | tm_hour  | 0 到 23                              |\n",
    "| 4    | tm_min   | 0 到 59                              |\n",
    "| 5    | tm_sec   | 0 到 61 (60或61 是闰秒)              |\n",
    "| 6    | tm_wday  | 0到6 (0是周一)                       |\n",
    "| 7    | tm_yday  | 1 到 366(儒略历)                     |\n",
    "| 8    | tm_isdst | -1, 0, 1, -1是决定是否为夏令时的旗帜 |\n"
   ]
  },
  {
   "cell_type": "code",
   "execution_count": 21,
   "metadata": {},
   "outputs": [],
   "source": [
    "import time"
   ]
  },
  {
   "cell_type": "code",
   "execution_count": 22,
   "metadata": {},
   "outputs": [
    {
     "data": {
      "text/plain": [
       "['_STRUCT_TM_ITEMS',\n",
       " 'altzone',\n",
       " 'asctime',\n",
       " 'ctime',\n",
       " 'daylight',\n",
       " 'get_clock_info',\n",
       " 'gmtime',\n",
       " 'localtime',\n",
       " 'mktime',\n",
       " 'monotonic',\n",
       " 'monotonic_ns',\n",
       " 'perf_counter',\n",
       " 'perf_counter_ns',\n",
       " 'process_time',\n",
       " 'process_time_ns',\n",
       " 'sleep',\n",
       " 'strftime',\n",
       " 'strptime',\n",
       " 'struct_time',\n",
       " 'thread_time',\n",
       " 'thread_time_ns',\n",
       " 'time',\n",
       " 'time_ns',\n",
       " 'timezone',\n",
       " 'tzname']"
      ]
     },
     "execution_count": 22,
     "metadata": {},
     "output_type": "execute_result"
    }
   ],
   "source": [
    "[i for i in dir(time) if not i.startswith(\"__\")]"
   ]
  },
  {
   "cell_type": "markdown",
   "metadata": {},
   "source": [
    "# time 时间戳\n",
    "\n",
    "每个时间戳都以自从1970年1月1日午夜（历元）经过了多长时间来表示。\n",
    "\n",
    "Python 的 time 模块下有很多函数可以转换常见日期格式。如函数time.time()用于获取当前时间戳, 如下实例:"
   ]
  },
  {
   "cell_type": "code",
   "execution_count": 23,
   "metadata": {},
   "outputs": [
    {
     "data": {
      "text/plain": [
       "1726715863.2460003"
      ]
     },
     "execution_count": 23,
     "metadata": {},
     "output_type": "execute_result"
    }
   ],
   "source": [
    "time.time()"
   ]
  },
  {
   "cell_type": "markdown",
   "metadata": {},
   "source": [
    "# perf_counter\n",
    "\n",
    "返回性能计数器的值（以小数秒为单位）作为浮点数，即具有最高可用分辨率的时钟，以测量短持续时间。 它确实包括睡眠期间经过的时间，并且是系统范围的。"
   ]
  },
  {
   "cell_type": "code",
   "execution_count": 24,
   "metadata": {},
   "outputs": [
    {
     "data": {
      "text/plain": [
       "661601.44777"
      ]
     },
     "execution_count": 24,
     "metadata": {},
     "output_type": "execute_result"
    }
   ],
   "source": [
    "time.perf_counter()"
   ]
  },
  {
   "cell_type": "code",
   "execution_count": 25,
   "metadata": {},
   "outputs": [
    {
     "data": {
      "text/plain": [
       "661601456022400"
      ]
     },
     "execution_count": 25,
     "metadata": {},
     "output_type": "execute_result"
    }
   ],
   "source": [
    "time.perf_counter_ns()"
   ]
  },
  {
   "cell_type": "markdown",
   "metadata": {},
   "source": [
    "# process_time\n",
    "\n",
    "返回当前进程的系统和用户CPU时间总和的值（以小数秒为单位）作为浮点数。\n",
    "\n",
    "通常time.process_time()也用在测试代码时间上，根据定义，它在整个过程中。返回值的参考点未定义，因此我们测试代码的时候需要调用两次，做差值。"
   ]
  },
  {
   "cell_type": "code",
   "execution_count": 26,
   "metadata": {},
   "outputs": [
    {
     "data": {
      "text/plain": [
       "0.234375"
      ]
     },
     "execution_count": 26,
     "metadata": {},
     "output_type": "execute_result"
    }
   ],
   "source": [
    "time.process_time()"
   ]
  },
  {
   "cell_type": "code",
   "execution_count": 27,
   "metadata": {},
   "outputs": [
    {
     "data": {
      "text/plain": [
       "250000000"
      ]
     },
     "execution_count": 27,
     "metadata": {},
     "output_type": "execute_result"
    }
   ],
   "source": [
    "time.process_time_ns()"
   ]
  },
  {
   "cell_type": "markdown",
   "metadata": {},
   "source": [
    "# localtime 获取当前时间\n",
    "\n",
    "从返回浮点数的时间戳方式向时间元组转换，只要将浮点数传递给如localtime之类的函数。"
   ]
  },
  {
   "cell_type": "code",
   "execution_count": 28,
   "metadata": {},
   "outputs": [
    {
     "data": {
      "text/plain": [
       "time.struct_time(tm_year=2024, tm_mon=9, tm_mday=19, tm_hour=11, tm_min=17, tm_sec=43, tm_wday=3, tm_yday=263, tm_isdst=0)"
      ]
     },
     "execution_count": 28,
     "metadata": {},
     "output_type": "execute_result"
    }
   ],
   "source": [
    "time.localtime()"
   ]
  },
  {
   "cell_type": "code",
   "execution_count": 29,
   "metadata": {},
   "outputs": [
    {
     "data": {
      "text/plain": [
       "time.struct_time(tm_year=2024, tm_mon=9, tm_mday=19, tm_hour=11, tm_min=17, tm_sec=43, tm_wday=3, tm_yday=263, tm_isdst=0)"
      ]
     },
     "execution_count": 29,
     "metadata": {},
     "output_type": "execute_result"
    }
   ],
   "source": [
    "time.localtime(time.time())"
   ]
  },
  {
   "cell_type": "code",
   "execution_count": 30,
   "metadata": {},
   "outputs": [
    {
     "data": {
      "text/plain": [
       "time.struct_time(tm_year=2024, tm_mon=9, tm_mday=19, tm_hour=3, tm_min=17, tm_sec=43, tm_wday=3, tm_yday=263, tm_isdst=0)"
      ]
     },
     "execution_count": 30,
     "metadata": {},
     "output_type": "execute_result"
    }
   ],
   "source": [
    "# 几乎等同于localtime\n",
    "time.gmtime()"
   ]
  },
  {
   "cell_type": "markdown",
   "metadata": {},
   "source": [
    "# asctime 获取格式化的时间\n",
    "\n",
    "你可以根据需求选取各种格式，但是最简单的获取可读的时间模式的函数是 :"
   ]
  },
  {
   "cell_type": "code",
   "execution_count": 31,
   "metadata": {},
   "outputs": [
    {
     "data": {
      "text/plain": [
       "'Thu Sep 19 11:17:43 2024'"
      ]
     },
     "execution_count": 31,
     "metadata": {},
     "output_type": "execute_result"
    }
   ],
   "source": [
    "time.asctime(time.localtime(time.time()))"
   ]
  },
  {
   "cell_type": "markdown",
   "metadata": {},
   "source": [
    "# strftime 格式化日期\n",
    "\n",
    "python中时间日期格式化符号：\n",
    "\n",
    "- `%y` 两位数的年份表示（00-99）\n",
    "- `%Y` 四位数的年份表示（000-9999）\n",
    "- `%m` 月份（01-12）\n",
    "- `%d` 月内中的一天（0-31）\n",
    "- `%H` 24小时制小时数（0-23）\n",
    "- `%I` 12小时制小时数（01-12）\n",
    "- `%M` 分钟数（00-59）\n",
    "- `%S` 秒（00-59）\n",
    "- `%a` 本地简化星期名称\n",
    "- `%A` 本地完整星期名称\n",
    "- `%b` 本地简化的月份名称\n",
    "- `%B` 本地完整的月份名称\n",
    "- `%c` 本地相应的日期表示和时间表示\n",
    "- `%j` 年内的一天（001-366）\n",
    "- `%p` 本地A.M.或P.M.的等价符\n",
    "- `%U` 一年中的星期数（00-53）星期天为星期的开始\n",
    "- `%w` 星期（0-6），星期天为星期的开始\n",
    "- `%W` 一年中的星期数（00-53）星期一为星期的开始\n",
    "- `%x` 本地相应的日期表示\n",
    "- `%X` 本地相应的时间表示\n",
    "- `%Z` 当前时区的名称\n",
    "- `%z` 当前时区的数字\n",
    "- `%%` %号本身\n",
    "\n",
    "我们可以使用 time 模块的 strftime 方法来格式化日期："
   ]
  },
  {
   "cell_type": "code",
   "execution_count": 32,
   "metadata": {},
   "outputs": [
    {
     "data": {
      "text/plain": [
       "'2024-09-19 11:17:43 中国标准时间 +0800'"
      ]
     },
     "execution_count": 32,
     "metadata": {},
     "output_type": "execute_result"
    }
   ],
   "source": [
    "time.strftime(\"%Y-%m-%d %H:%M:%S %Z %z\", time.localtime())"
   ]
  },
  {
   "cell_type": "code",
   "execution_count": 33,
   "metadata": {},
   "outputs": [
    {
     "data": {
      "text/plain": [
       "'Thu Sep 19 11:17:43 2024'"
      ]
     },
     "execution_count": 33,
     "metadata": {},
     "output_type": "execute_result"
    }
   ],
   "source": [
    "time.strftime(\"%a %b %d %H:%M:%S %Y\", time.localtime())"
   ]
  },
  {
   "cell_type": "code",
   "execution_count": 34,
   "metadata": {},
   "outputs": [
    {
     "data": {
      "text/plain": [
       "'2024-09-19T11:17:43Z'"
      ]
     },
     "execution_count": 34,
     "metadata": {},
     "output_type": "execute_result"
    }
   ],
   "source": [
    "# Z：表示UTC时区, 是一个固定字符串而已\n",
    "time.strftime(\"%Y-%m-%dT%H:%M:%SZ\", time.localtime())"
   ]
  },
  {
   "cell_type": "code",
   "execution_count": 35,
   "metadata": {},
   "outputs": [
    {
     "data": {
      "text/plain": [
       "'2024-09-19T11:17:43+0800'"
      ]
     },
     "execution_count": 35,
     "metadata": {},
     "output_type": "execute_result"
    }
   ],
   "source": [
    "# 时区\n",
    "time.strftime(\"%Y-%m-%dT%H:%M:%S%z\", time.localtime())"
   ]
  },
  {
   "cell_type": "code",
   "execution_count": 36,
   "metadata": {},
   "outputs": [
    {
     "data": {
      "text/plain": [
       "'2024-09-19T11:17:43中国标准时间'"
      ]
     },
     "execution_count": 36,
     "metadata": {},
     "output_type": "execute_result"
    }
   ],
   "source": [
    "# 时区\n",
    "time.strftime(\"%Y-%m-%dT%H:%M:%S%Z\", time.localtime())"
   ]
  },
  {
   "cell_type": "markdown",
   "metadata": {},
   "source": [
    "# mktime 将格式字符串转换为时间戳"
   ]
  },
  {
   "cell_type": "code",
   "execution_count": 37,
   "metadata": {},
   "outputs": [
    {
     "data": {
      "text/plain": [
       "1459175064.0"
      ]
     },
     "execution_count": 37,
     "metadata": {},
     "output_type": "execute_result"
    }
   ],
   "source": [
    "# 将格式字符串转换为时间戳\n",
    "a = \"Sat Mar 28 22:24:24 2016\"\n",
    "time.mktime(time.strptime(a, \"%a %b %d %H:%M:%S %Y\"))"
   ]
  },
  {
   "cell_type": "markdown",
   "metadata": {},
   "source": [
    "# sleep 暂停时间"
   ]
  },
  {
   "cell_type": "code",
   "execution_count": 38,
   "metadata": {},
   "outputs": [
    {
     "name": "stdout",
     "output_type": "stream",
     "text": [
      "0\n"
     ]
    },
    {
     "name": "stdout",
     "output_type": "stream",
     "text": [
      "1\n",
      "2\n"
     ]
    }
   ],
   "source": [
    "for i in range(3):\n",
    "    print(i)\n",
    "    time.sleep(1)  # 3秒暂停"
   ]
  },
  {
   "cell_type": "code",
   "execution_count": null,
   "metadata": {},
   "outputs": [],
   "source": []
  }
 ],
 "metadata": {
  "kernelspec": {
   "display_name": "pytorch",
   "language": "python",
   "name": "python3"
  },
  "language_info": {
   "codemirror_mode": {
    "name": "ipython",
    "version": 3
   },
   "file_extension": ".py",
   "mimetype": "text/x-python",
   "name": "python",
   "nbconvert_exporter": "python",
   "pygments_lexer": "ipython3",
   "version": "3.12.4"
  }
 },
 "nbformat": 4,
 "nbformat_minor": 2
}
