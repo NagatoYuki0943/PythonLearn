{
 "cells": [
  {
   "cell_type": "code",
   "execution_count": 1,
   "metadata": {},
   "outputs": [],
   "source": [
    "import time\n",
    "import datetime\n",
    "import arrow"
   ]
  },
  {
   "cell_type": "markdown",
   "metadata": {},
   "source": [
    "# strftime 格式化日期\n",
    "\n",
    "python中时间日期格式化符号：\n",
    "\n",
    "- `%y` 两位数的年份表示（00-99）\n",
    "- `%Y` 四位数的年份表示（000-9999）\n",
    "- `%m` 月份（01-12）\n",
    "- `%d` 月内中的一天（0-31）\n",
    "- `%H` 24小时制小时数（0-23）\n",
    "- `%I` 12小时制小时数（01-12）\n",
    "- `%M` 分钟数（00-59）\n",
    "- `%S` 秒（00-59）\n",
    "- `%a` 本地简化星期名称\n",
    "- `%A` 本地完整星期名称\n",
    "- `%b` 本地简化的月份名称\n",
    "- `%B` 本地完整的月份名称\n",
    "- `%c` 本地相应的日期表示和时间表示\n",
    "- `%j` 年内的一天（001-366）\n",
    "- `%p` 本地A.M.或P.M.的等价符\n",
    "- `%U` 一年中的星期数（00-53）星期天为星期的开始\n",
    "- `%w` 星期（0-6），星期天为星期的开始\n",
    "- `%W` 一年中的星期数（00-53）星期一为星期的开始\n",
    "- `%x` 本地相应的日期表示\n",
    "- `%X` 本地相应的时间表示\n",
    "- `%Z` 当前时区的名称\n",
    "- `%%` %号本身"
   ]
  },
  {
   "cell_type": "code",
   "execution_count": 15,
   "metadata": {},
   "outputs": [
    {
     "data": {
      "text/plain": [
       "'2023-10-20 11:40:45 Fri 中国标准时间'"
      ]
     },
     "execution_count": 15,
     "metadata": {},
     "output_type": "execute_result"
    }
   ],
   "source": [
    "time.strftime(\"%Y-%m-%d %H:%M:%S %a %Z\", time.localtime())"
   ]
  },
  {
   "cell_type": "code",
   "execution_count": 16,
   "metadata": {},
   "outputs": [
    {
     "data": {
      "text/plain": [
       "'2023-10-20 11:40:49 Fri '"
      ]
     },
     "execution_count": 16,
     "metadata": {},
     "output_type": "execute_result"
    }
   ],
   "source": [
    "datetime.datetime.now().strftime(\"%Y-%m-%d %H:%M:%S %a %Z\")"
   ]
  },
  {
   "cell_type": "code",
   "execution_count": 17,
   "metadata": {},
   "outputs": [
    {
     "data": {
      "text/plain": [
       "'2023-10-20 11:40:53 Fri 中国标准时间'"
      ]
     },
     "execution_count": 17,
     "metadata": {},
     "output_type": "execute_result"
    }
   ],
   "source": [
    "arrow.now().strftime(\"%Y-%m-%d %H:%M:%S %a %Z\")"
   ]
  },
  {
   "cell_type": "markdown",
   "metadata": {},
   "source": [
    "## format\n",
    "\n",
    "```\n",
    "FORMAT_ATOM:    Final[str] = \"YYYY-MM-DD HH:mm:ssZZ\"\n",
    "FORMAT_COOKIE:  Final[str] = \"dddd, DD-MMM-YYYY HH:mm:ss ZZZ\"\n",
    "FORMAT_RFC822:  Final[str] = \"ddd, DD MMM YY HH:mm:ss Z\"\n",
    "FORMAT_RFC850:  Final[str] = \"dddd, DD-MMM-YY HH:mm:ss ZZZ\"\n",
    "FORMAT_RFC1036: Final[str] = \"ddd, DD MMM YY HH:mm:ss Z\"\n",
    "FORMAT_RFC1123: Final[str] = \"ddd, DD MMM YYYY HH:mm:ss Z\"\n",
    "FORMAT_RFC2822: Final[str] = \"ddd, DD MMM YYYY HH:mm:ss Z\"\n",
    "FORMAT_RFC3339: Final[str] = \"YYYY-MM-DD HH:mm:ssZZ\"\n",
    "FORMAT_RSS:     Final[str] = \"ddd, DD MMM YYYY HH:mm:ss Z\"\n",
    "FORMAT_W3C:     Final[str] = \"YYYY-MM-DD HH:mm:ssZZ\"\n",
    "```"
   ]
  },
  {
   "cell_type": "code",
   "execution_count": 26,
   "metadata": {},
   "outputs": [
    {
     "data": {
      "text/plain": [
       "'Fri, 2023-10-20 11:42:20 +08:00'"
      ]
     },
     "execution_count": 26,
     "metadata": {},
     "output_type": "execute_result"
    }
   ],
   "source": [
    "arrow.now().format(\"ddd, YYYY-MM-DD HH:mm:ss ZZ\")"
   ]
  },
  {
   "cell_type": "code",
   "execution_count": 27,
   "metadata": {},
   "outputs": [
    {
     "data": {
      "text/plain": [
       "'Friday, 2023-10-20 11:44:33 中国标准时间'"
      ]
     },
     "execution_count": 27,
     "metadata": {},
     "output_type": "execute_result"
    }
   ],
   "source": [
    "arrow.now().format(\"dddd, YYYY-MM-DD HH:mm:ss ZZZ\")"
   ]
  },
  {
   "cell_type": "code",
   "execution_count": null,
   "metadata": {},
   "outputs": [],
   "source": []
  }
 ],
 "metadata": {
  "kernelspec": {
   "display_name": "pytorch",
   "language": "python",
   "name": "python3"
  },
  "language_info": {
   "codemirror_mode": {
    "name": "ipython",
    "version": 3
   },
   "file_extension": ".py",
   "mimetype": "text/x-python",
   "name": "python",
   "nbconvert_exporter": "python",
   "pygments_lexer": "ipython3",
   "version": "3.11.4"
  }
 },
 "nbformat": 4,
 "nbformat_minor": 2
}
