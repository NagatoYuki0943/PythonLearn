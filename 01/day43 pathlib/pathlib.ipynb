{
 "cells": [
  {
   "attachments": {},
   "cell_type": "markdown",
   "metadata": {},
   "source": [
    "https://zhuanlan.zhihu.com/p/139783331"
   ]
  },
  {
   "cell_type": "code",
   "execution_count": 1,
   "metadata": {},
   "outputs": [],
   "source": [
    "import os\n",
    "import shutil\n",
    "import pathlib\n",
    "from pathlib import Path\n",
    "from collections import Counter"
   ]
  },
  {
   "attachments": {},
   "cell_type": "markdown",
   "metadata": {},
   "source": [
    "# 路径获取"
   ]
  },
  {
   "attachments": {},
   "cell_type": "markdown",
   "metadata": {},
   "source": [
    "## 获取当前工作目录 Path.cwd()"
   ]
  },
  {
   "cell_type": "code",
   "execution_count": 2,
   "metadata": {},
   "outputs": [
    {
     "data": {
      "text/plain": [
       "WindowsPath('d:/ml/code/test/path')"
      ]
     },
     "execution_count": 2,
     "metadata": {},
     "output_type": "execute_result"
    }
   ],
   "source": [
    "# 虽然在这里打印出来的很像一个字符串，但实际上得到的是一个 WindowsPath('C:\\Users\\me\\study')对象。\n",
    "# 显示内容由 Path 类的 __repr__ 定义。\n",
    "Path.cwd()"
   ]
  },
  {
   "cell_type": "code",
   "execution_count": 3,
   "metadata": {},
   "outputs": [
    {
     "data": {
      "text/plain": [
       "'d:\\\\ml\\\\code\\\\test\\\\path'"
      ]
     },
     "execution_count": 3,
     "metadata": {},
     "output_type": "execute_result"
    }
   ],
   "source": [
    "# 如果你只想得到字符串表示，不想要 WindowsPath 对象，可以用 str() 转化\n",
    "str(Path.cwd())"
   ]
  },
  {
   "attachments": {},
   "cell_type": "markdown",
   "metadata": {},
   "source": [
    "## 获取用户 home 目录 Path.home()"
   ]
  },
  {
   "cell_type": "code",
   "execution_count": 4,
   "metadata": {},
   "outputs": [
    {
     "data": {
      "text/plain": [
       "WindowsPath('C:/Users/Administrator')"
      ]
     },
     "execution_count": 4,
     "metadata": {},
     "output_type": "execute_result"
    }
   ],
   "source": [
    "Path.home()"
   ]
  },
  {
   "attachments": {},
   "cell_type": "markdown",
   "metadata": {},
   "source": [
    "## 获取当前文件路径 Path(\\_\\_file__)"
   ]
  },
  {
   "cell_type": "code",
   "execution_count": 5,
   "metadata": {},
   "outputs": [
    {
     "ename": "NameError",
     "evalue": "name '__file__' is not defined",
     "output_type": "error",
     "traceback": [
      "\u001b[1;31m---------------------------------------------------------------------------\u001b[0m",
      "\u001b[1;31mNameError\u001b[0m                                 Traceback (most recent call last)",
      "Cell \u001b[1;32mIn[5], line 1\u001b[0m\n\u001b[1;32m----> 1\u001b[0m Path(\u001b[39m__file__\u001b[39;49m)\n\u001b[0;32m      2\u001b[0m \u001b[39m# ipynb没有__file__\u001b[39;00m\n\u001b[0;32m      3\u001b[0m \u001b[39m# 如果可以显示,为 `d:\\ml\\code\\test\\path\\p.py`\u001b[39;00m\n",
      "\u001b[1;31mNameError\u001b[0m: name '__file__' is not defined"
     ]
    }
   ],
   "source": [
    "Path(__file__)\n",
    "# ipynb没有__file__\n",
    "# 如果可以显示,为 `d:\\ml\\code\\test\\path\\p.py`"
   ]
  },
  {
   "cell_type": "code",
   "execution_count": 6,
   "metadata": {},
   "outputs": [
    {
     "ename": "NameError",
     "evalue": "name '__file__' is not defined",
     "output_type": "error",
     "traceback": [
      "\u001b[1;31m---------------------------------------------------------------------------\u001b[0m",
      "\u001b[1;31mNameError\u001b[0m                                 Traceback (most recent call last)",
      "Cell \u001b[1;32mIn[6], line 2\u001b[0m\n\u001b[0;32m      1\u001b[0m \u001b[39m# os获取当前文件名字\u001b[39;00m\n\u001b[1;32m----> 2\u001b[0m os\u001b[39m.\u001b[39mpath\u001b[39m.\u001b[39mbasename(\u001b[39m__file__\u001b[39;49m)\n\u001b[0;32m      3\u001b[0m \u001b[39m# 如果可以显示,为 `p.py`\u001b[39;00m\n",
      "\u001b[1;31mNameError\u001b[0m: name '__file__' is not defined"
     ]
    }
   ],
   "source": [
    "# os获取当前文件名字\n",
    "os.path.basename(__file__)\n",
    "# 如果可以显示,为 `p.py`"
   ]
  },
  {
   "attachments": {},
   "cell_type": "markdown",
   "metadata": {},
   "source": [
    "## 创建任意目录 Path(str)\n",
    "\n",
    "这里需要注意 2 点：\n",
    "\n",
    "1. 不管字符串使用的是正斜杠 / 还是反斜杠 \\， 在 windows 系统里，得到的路径都是反斜杠\\, pathlib 会根据操作系统智能处理。\n",
    "2. 第二个例子中字符串会被 / 分割，c:d:y 会被当做一个目录名字，pathlib 不会去判断这个文件真的存在哦"
   ]
  },
  {
   "cell_type": "code",
   "execution_count": 7,
   "metadata": {},
   "outputs": [
    {
     "data": {
      "text/plain": [
       "WindowsPath('subdir/demo_01.py')"
      ]
     },
     "execution_count": 7,
     "metadata": {},
     "output_type": "execute_result"
    }
   ],
   "source": [
    "Path('subdir/demo_01.py')"
   ]
  },
  {
   "cell_type": "code",
   "execution_count": 8,
   "metadata": {},
   "outputs": [
    {
     "data": {
      "text/plain": [
       "WindowsPath('c:d:y/rad.txt')"
      ]
     },
     "execution_count": 8,
     "metadata": {},
     "output_type": "execute_result"
    }
   ],
   "source": [
    "Path('c:d:y/rad.txt')"
   ]
  },
  {
   "attachments": {},
   "cell_type": "markdown",
   "metadata": {},
   "source": [
    "## 获取绝对路径 path.resolve() path.absolute()"
   ]
  },
  {
   "cell_type": "code",
   "execution_count": 9,
   "metadata": {},
   "outputs": [
    {
     "data": {
      "text/plain": [
       "WindowsPath('D:/ml/code/test/path/archive/demo.txt')"
      ]
     },
     "execution_count": 9,
     "metadata": {},
     "output_type": "execute_result"
    }
   ],
   "source": [
    "Path(\"archive/demo.txt\").resolve()"
   ]
  },
  {
   "cell_type": "code",
   "execution_count": 10,
   "metadata": {},
   "outputs": [
    {
     "data": {
      "text/plain": [
       "WindowsPath('d:/ml/code/test/path/archive/demo.txt')"
      ]
     },
     "execution_count": 10,
     "metadata": {},
     "output_type": "execute_result"
    }
   ],
   "source": [
    "Path(\"archive/demo.txt\").absolute()"
   ]
  },
  {
   "attachments": {},
   "cell_type": "markdown",
   "metadata": {},
   "source": [
    "## 获取文件属性 path.stat()"
   ]
  },
  {
   "cell_type": "code",
   "execution_count": 11,
   "metadata": {},
   "outputs": [
    {
     "name": "stdout",
     "output_type": "stream",
     "text": [
      "os.stat_result(st_mode=33206, st_ino=3096224743883118, st_dev=580483732, st_nlink=1, st_uid=0, st_gid=0, st_size=6, st_atime=1692666410, st_mtime=1692666406, st_ctime=1692666405)\n",
      "6\n",
      "1692666410.7019713\n",
      "1692666405.5243921\n",
      "1692666406.6730921\n"
     ]
    }
   ],
   "source": [
    "file = Path(\"archive/demo.txt\")\n",
    "print(file.stat())\n",
    "print(file.stat().st_size)\n",
    "print(file.stat().st_atime)\n",
    "print(file.stat().st_ctime)\n",
    "print(file.stat().st_mtime)"
   ]
  },
  {
   "attachments": {},
   "cell_type": "markdown",
   "metadata": {},
   "source": [
    "# 路径组成部分 path.name stem suffix suffixes parent parents parts anchor drive\n",
    "\n",
    "获取路径的组成部分非常方便：\n",
    "- .name 文件名，包含后缀名，如果是目录则获取目录名\n",
    "- .stem 文件名，不包含后缀\n",
    "- .suffix 后缀，比如 .txt, .png\n",
    "- .suffixes 多个后缀数组，比如 ['.txt',]\n",
    "- .parent 父级目录，相当于 cd ..\n",
    "- .parents 获取所有的上级目录\n",
    "- .parts 将目录拆开\n",
    "- .anchor 锚，目录前面的部分 c:\\ 或者 /\n",
    "- .drive 盘符，比如 c:"
   ]
  },
  {
   "cell_type": "code",
   "execution_count": 12,
   "metadata": {},
   "outputs": [
    {
     "data": {
      "text/plain": [
       "WindowsPath('d:/ml/code/test/path/archive/demo.txt')"
      ]
     },
     "execution_count": 12,
     "metadata": {},
     "output_type": "execute_result"
    }
   ],
   "source": [
    "file = Path(\"archive/demo.txt\").absolute()\n",
    "file"
   ]
  },
  {
   "cell_type": "code",
   "execution_count": 13,
   "metadata": {},
   "outputs": [
    {
     "name": "stdout",
     "output_type": "stream",
     "text": [
      "demo.txt\n",
      "demo\n",
      ".txt\n",
      "['.txt']\n"
     ]
    }
   ],
   "source": [
    "print(file.name)        # 文件名，包含后缀名\n",
    "print(file.stem)        # 文件名，不包含后缀\n",
    "print(file.suffix)      # 后缀\n",
    "print(file.suffixes)    # 后缀"
   ]
  },
  {
   "cell_type": "code",
   "execution_count": 14,
   "metadata": {},
   "outputs": [
    {
     "name": "stdout",
     "output_type": "stream",
     "text": [
      "d:\\ml\\code\\test\\path\\archive\n",
      "\n",
      "d:\\ml\\code\\test\\path\\archive\n",
      "d:\\ml\\code\\test\\path\n",
      "d:\\ml\\code\\test\n",
      "d:\\ml\\code\n",
      "d:\\ml\n",
      "d:\\\n",
      "\n",
      "('d:\\\\', 'ml', 'code', 'test', 'path', 'archive', 'demo.txt')\n"
     ]
    }
   ],
   "source": [
    "print(file.parent)      # 父级目录\n",
    "print()\n",
    "for i in file.parents:  # 获取所有的上级目录\n",
    "    print(i)\n",
    "print()\n",
    "print(file.parts)       # 目录拆分"
   ]
  },
  {
   "cell_type": "code",
   "execution_count": 15,
   "metadata": {},
   "outputs": [
    {
     "name": "stdout",
     "output_type": "stream",
     "text": [
      "d:\\\n",
      "d:\n"
     ]
    }
   ],
   "source": [
    "print(file.anchor)      # 锚，目录前面的部分 C:\\ 或者 /\n",
    "print(file.drive)       # 盘符"
   ]
  },
  {
   "attachments": {},
   "cell_type": "markdown",
   "metadata": {},
   "source": [
    "## 相对其他某个路径的结果 path.relative_to()"
   ]
  },
  {
   "cell_type": "code",
   "execution_count": 17,
   "metadata": {},
   "outputs": [
    {
     "data": {
      "text/plain": [
       "WindowsPath('demo.txt')"
      ]
     },
     "execution_count": 17,
     "metadata": {},
     "output_type": "execute_result"
    }
   ],
   "source": [
    "file = Path(\"archive/demo.txt\")\n",
    "file.relative_to(\"archive\") # 相对于 archive"
   ]
  },
  {
   "cell_type": "markdown",
   "metadata": {},
   "source": [
    "# path.with_xxx 替换文件名称"
   ]
  },
  {
   "cell_type": "markdown",
   "metadata": {},
   "source": [
    "## with_name(new_name)"
   ]
  },
  {
   "cell_type": "code",
   "execution_count": 18,
   "metadata": {},
   "outputs": [
    {
     "data": {
      "text/plain": [
       "WindowsPath('archive/demo1.txt')"
      ]
     },
     "execution_count": 18,
     "metadata": {},
     "output_type": "execute_result"
    }
   ],
   "source": [
    "file.with_name(\"demo1.txt\")"
   ]
  },
  {
   "cell_type": "markdown",
   "metadata": {},
   "source": [
    "## with_stem(new_stem)"
   ]
  },
  {
   "cell_type": "code",
   "execution_count": 19,
   "metadata": {},
   "outputs": [
    {
     "data": {
      "text/plain": [
       "WindowsPath('archive/demo2.txt')"
      ]
     },
     "execution_count": 19,
     "metadata": {},
     "output_type": "execute_result"
    }
   ],
   "source": [
    "file.with_stem(\"demo2\")"
   ]
  },
  {
   "cell_type": "markdown",
   "metadata": {},
   "source": [
    "## with_suffix(new_suffix)"
   ]
  },
  {
   "cell_type": "code",
   "execution_count": 20,
   "metadata": {},
   "outputs": [
    {
     "data": {
      "text/plain": [
       "WindowsPath('archive/demo.png')"
      ]
     },
     "execution_count": 20,
     "metadata": {},
     "output_type": "execute_result"
    }
   ],
   "source": [
    "file.with_suffix(\".png\")"
   ]
  },
  {
   "attachments": {},
   "cell_type": "markdown",
   "metadata": {},
   "source": [
    "# 路径拼接 path / str"
   ]
  },
  {
   "cell_type": "code",
   "execution_count": 21,
   "metadata": {},
   "outputs": [],
   "source": [
    "path = Path.cwd()"
   ]
  },
  {
   "cell_type": "code",
   "execution_count": 22,
   "metadata": {},
   "outputs": [
    {
     "name": "stdout",
     "output_type": "stream",
     "text": [
      "d:\\ml\\code\\test\\path\\archive\n",
      "d:\\ml\\code\\test\\path\\archive\\demo.exe\n"
     ]
    }
   ],
   "source": [
    "print(path / \"archive\")\n",
    "print(path / \"archive\" / \"demo.exe\")"
   ]
  },
  {
   "cell_type": "code",
   "execution_count": 23,
   "metadata": {},
   "outputs": [
    {
     "name": "stdout",
     "output_type": "stream",
     "text": [
      "d:\\ml\\code\\test\\path\\archive\n",
      "d:\\ml\\code\\test\\path\\archive\\demo.exe\n"
     ]
    }
   ],
   "source": [
    "print(path.joinpath(\"archive\"))\n",
    "print(path.joinpath(\"archive\", \"demo.exe\"))"
   ]
  },
  {
   "attachments": {},
   "cell_type": "markdown",
   "metadata": {},
   "source": [
    "# 路径测试（判断）"
   ]
  },
  {
   "cell_type": "code",
   "execution_count": 24,
   "metadata": {},
   "outputs": [
    {
     "data": {
      "text/plain": [
       "WindowsPath('d:/ml/code/test/path')"
      ]
     },
     "execution_count": 24,
     "metadata": {},
     "output_type": "execute_result"
    }
   ],
   "source": [
    "cwd = Path.cwd()\n",
    "cwd"
   ]
  },
  {
   "attachments": {},
   "cell_type": "markdown",
   "metadata": {},
   "source": [
    "## 是否为文件 path.is_file()"
   ]
  },
  {
   "cell_type": "code",
   "execution_count": 25,
   "metadata": {},
   "outputs": [
    {
     "data": {
      "text/plain": [
       "[WindowsPath('d:/ml/code/test/path/pathlib.ipynb')]"
      ]
     },
     "execution_count": 25,
     "metadata": {},
     "output_type": "execute_result"
    }
   ],
   "source": [
    "[path for path in cwd.iterdir() if path.is_file()]"
   ]
  },
  {
   "attachments": {},
   "cell_type": "markdown",
   "metadata": {},
   "source": [
    "## 是否为文件夹 (目录) path.is_dir()"
   ]
  },
  {
   "cell_type": "code",
   "execution_count": 26,
   "metadata": {},
   "outputs": [
    {
     "data": {
      "text/plain": [
       "[WindowsPath('d:/ml/code/test/path/archive')]"
      ]
     },
     "execution_count": 26,
     "metadata": {},
     "output_type": "execute_result"
    }
   ],
   "source": [
    "[path for path in cwd.iterdir() if path.is_dir()]"
   ]
  },
  {
   "attachments": {},
   "cell_type": "markdown",
   "metadata": {},
   "source": [
    "## 是否存在 path.exists()"
   ]
  },
  {
   "cell_type": "code",
   "execution_count": 27,
   "metadata": {},
   "outputs": [
    {
     "data": {
      "text/plain": [
       "True"
      ]
     },
     "execution_count": 27,
     "metadata": {},
     "output_type": "execute_result"
    }
   ],
   "source": [
    "Path(\"archive/demo.txt\").exists()"
   ]
  },
  {
   "cell_type": "code",
   "execution_count": 28,
   "metadata": {},
   "outputs": [
    {
     "data": {
      "text/plain": [
       "False"
      ]
     },
     "execution_count": 28,
     "metadata": {},
     "output_type": "execute_result"
    }
   ],
   "source": [
    "Path(\"archive/demo1.txt\").exists()"
   ]
  },
  {
   "attachments": {},
   "cell_type": "markdown",
   "metadata": {},
   "source": [
    "# 文件操作"
   ]
  },
  {
   "attachments": {},
   "cell_type": "markdown",
   "metadata": {},
   "source": [
    "## 创建文件 path.torch(exist_ok=True)"
   ]
  },
  {
   "cell_type": "code",
   "execution_count": 29,
   "metadata": {},
   "outputs": [],
   "source": [
    "Path(\"archive/demo1.txt\").touch(exist_ok=True)"
   ]
  },
  {
   "attachments": {},
   "cell_type": "markdown",
   "metadata": {},
   "source": [
    "## 创建文件夹 path.mkdir(parents=True, exist_ok=True)"
   ]
  },
  {
   "cell_type": "code",
   "execution_count": 34,
   "metadata": {},
   "outputs": [
    {
     "ename": "FileNotFoundError",
     "evalue": "[WinError 3] 系统找不到指定的路径。: 'archive/middle/demo2'",
     "output_type": "error",
     "traceback": [
      "\u001b[1;31m---------------------------------------------------------------------------\u001b[0m",
      "\u001b[1;31mFileNotFoundError\u001b[0m                         Traceback (most recent call last)",
      "Cell \u001b[1;32mIn[34], line 2\u001b[0m\n\u001b[0;32m      1\u001b[0m \u001b[39m# 无法递归创建\u001b[39;00m\n\u001b[1;32m----> 2\u001b[0m os\u001b[39m.\u001b[39;49mmkdir(\u001b[39m\"\u001b[39;49m\u001b[39marchive/middle/demo2\u001b[39;49m\u001b[39m\"\u001b[39;49m)\n",
      "\u001b[1;31mFileNotFoundError\u001b[0m: [WinError 3] 系统找不到指定的路径。: 'archive/middle/demo2'"
     ]
    }
   ],
   "source": [
    "# 无法递归创建\n",
    "os.mkdir(\"archive/middle/demo2\")"
   ]
  },
  {
   "cell_type": "code",
   "execution_count": 35,
   "metadata": {},
   "outputs": [],
   "source": [
    "# parents = True: 递归创建目录\n",
    "# exist_ok= True: 目标目录存在时不报错\n",
    "Path(\"archive/middle/demo1\").mkdir(parents=True, exist_ok=True)"
   ]
  },
  {
   "cell_type": "code",
   "execution_count": 36,
   "metadata": {},
   "outputs": [],
   "source": [
    "# 可以递归创建\n",
    "os.makedirs(\"archive/middle/demo2\", exist_ok=True)"
   ]
  },
  {
   "attachments": {},
   "cell_type": "markdown",
   "metadata": {},
   "source": [
    "## 删除目录 path.rmdir()\n",
    "删除目录非常危险，并且没有提示，一定要谨慎操作。一次只删除一级目录，且当前目录必须为空。"
   ]
  },
  {
   "cell_type": "code",
   "execution_count": 37,
   "metadata": {},
   "outputs": [
    {
     "ename": "OSError",
     "evalue": "[WinError 145] 目录不是空的。: 'archive\\\\middle'",
     "output_type": "error",
     "traceback": [
      "\u001b[1;31m---------------------------------------------------------------------------\u001b[0m",
      "\u001b[1;31mOSError\u001b[0m                                   Traceback (most recent call last)",
      "Cell \u001b[1;32mIn[37], line 1\u001b[0m\n\u001b[1;32m----> 1\u001b[0m Path(\u001b[39m\"\u001b[39;49m\u001b[39marchive/middle\u001b[39;49m\u001b[39m\"\u001b[39;49m)\u001b[39m.\u001b[39;49mrmdir()\n\u001b[0;32m      2\u001b[0m \u001b[39m# 目录不为空不能删除\u001b[39;00m\n",
      "File \u001b[1;32md:\\miniconda3\\envs\\pytorch\\Lib\\pathlib.py:1156\u001b[0m, in \u001b[0;36mPath.rmdir\u001b[1;34m(self)\u001b[0m\n\u001b[0;32m   1152\u001b[0m \u001b[39mdef\u001b[39;00m \u001b[39mrmdir\u001b[39m(\u001b[39mself\u001b[39m):\n\u001b[0;32m   1153\u001b[0m \u001b[39m    \u001b[39m\u001b[39m\"\"\"\u001b[39;00m\n\u001b[0;32m   1154\u001b[0m \u001b[39m    Remove this directory.  The directory must be empty.\u001b[39;00m\n\u001b[0;32m   1155\u001b[0m \u001b[39m    \"\"\"\u001b[39;00m\n\u001b[1;32m-> 1156\u001b[0m     os\u001b[39m.\u001b[39;49mrmdir(\u001b[39mself\u001b[39;49m)\n",
      "\u001b[1;31mOSError\u001b[0m: [WinError 145] 目录不是空的。: 'archive\\\\middle'"
     ]
    }
   ],
   "source": [
    "Path(\"archive/middle\").rmdir()\n",
    "# 目录不为空不能删除"
   ]
  },
  {
   "cell_type": "code",
   "execution_count": 38,
   "metadata": {},
   "outputs": [],
   "source": [
    "Path(\"archive/middle/demo1\").rmdir()"
   ]
  },
  {
   "attachments": {},
   "cell_type": "markdown",
   "metadata": {},
   "source": [
    "## 删除文件 path.unlink()"
   ]
  },
  {
   "cell_type": "code",
   "execution_count": 39,
   "metadata": {},
   "outputs": [],
   "source": [
    "Path(\"archive/demo1.txt\").unlink()"
   ]
  },
  {
   "attachments": {},
   "cell_type": "markdown",
   "metadata": {},
   "source": [
    "## 打开文件 open(file)"
   ]
  },
  {
   "cell_type": "code",
   "execution_count": 40,
   "metadata": {},
   "outputs": [
    {
     "name": "stdout",
     "output_type": "stream",
     "text": [
      "1\n",
      "2\n",
      "3\n",
      "\n"
     ]
    }
   ],
   "source": [
    "with open(\"archive/demo.txt\") as f:\n",
    "    print(f.read())"
   ]
  },
  {
   "cell_type": "code",
   "execution_count": 41,
   "metadata": {},
   "outputs": [
    {
     "name": "stdout",
     "output_type": "stream",
     "text": [
      "1\n",
      "2\n",
      "3\n",
      "\n"
     ]
    }
   ],
   "source": [
    "# open(file) 可以传入 Path\n",
    "file_path = Path(\"archive/demo.txt\")\n",
    "with open(file_path) as f:\n",
    "    print(f.read())"
   ]
  },
  {
   "attachments": {},
   "cell_type": "markdown",
   "metadata": {},
   "source": [
    "如果经常使用 pathlib，可以在获取到 Path 路径以后直接调用 path.open() 方法。至于到底用哪一个，其实不必太在意，因为 path.open() 也是调用内置函数 open()"
   ]
  },
  {
   "cell_type": "code",
   "execution_count": 42,
   "metadata": {},
   "outputs": [
    {
     "name": "stdout",
     "output_type": "stream",
     "text": [
      "1\n",
      "2\n",
      "3\n",
      "\n"
     ]
    }
   ],
   "source": [
    "file_path = Path(\"archive/demo.txt\")\n",
    "with file_path.open() as f:\n",
    "    print(f.read())"
   ]
  },
  {
   "attachments": {},
   "cell_type": "markdown",
   "metadata": {},
   "source": [
    "不过 pathlib 对读取和写入进行了简单的封装，不再需要重复去打开文件和管理文件的关闭了。\n",
    "\n",
    "- .read_text() 读取文本\n",
    "- .read_bytes() 读取 bytes\n",
    "- .write_text() 写入文本\n",
    "- .write_bytes() 写入 tytes\n",
    "\n",
    "file.write 操作使用的是 w 模式，如果之前已经有文件内容，将会被覆盖"
   ]
  },
  {
   "attachments": {},
   "cell_type": "markdown",
   "metadata": {},
   "source": [
    "## 移动文件 path.replace(new_path)\n",
    "\n",
    "移动操作支持的功能很受限。比如当前工作目录如果已经有一个 new_demo.txt 的文件，则里面的内容都会被覆盖。还有，如果需要移动到其他目录下，则该目录必须要存在，否则会报错"
   ]
  },
  {
   "cell_type": "code",
   "execution_count": 62,
   "metadata": {},
   "outputs": [
    {
     "data": {
      "text/plain": [
       "WindowsPath('new_demo.txt')"
      ]
     },
     "execution_count": 62,
     "metadata": {},
     "output_type": "execute_result"
    }
   ],
   "source": [
    "file_path = Path(\"archive/demo.txt\")\n",
    "file_path.replace(\"new_demo.txt\") # 目标文件"
   ]
  },
  {
   "cell_type": "code",
   "execution_count": 63,
   "metadata": {},
   "outputs": [
    {
     "data": {
      "text/plain": [
       "WindowsPath('archive/demo.txt')"
      ]
     },
     "execution_count": 63,
     "metadata": {},
     "output_type": "execute_result"
    }
   ],
   "source": [
    "file_path = Path(\"new_demo.txt\")\n",
    "file_path.replace(\"archive/demo.txt\") # 目标文件"
   ]
  },
  {
   "attachments": {},
   "cell_type": "markdown",
   "metadata": {},
   "source": [
    "为了避免出现同名文件里的内容被覆盖，通常需要进行额外处理。比如判断同名文件不能存在，但是父级目录必须存在；或者判断父级目录不存在时，创建该目录。\n",
    "\n",
    "```python\n",
    "ori = Path(\"archive/demo.txt\")\n",
    "dst = Path(\"new_demo.txt\")\n",
    "if (not dst.exists()) and dst.parent.exists():\n",
    "    ori.replace(dest)\n",
    "```"
   ]
  },
  {
   "cell_type": "markdown",
   "metadata": {},
   "source": [
    "## 重命名文件 path.rename(new_path)\n",
    "\n",
    "pathlib库中rename()方法，不止会实现文件或文件夹的重新命名，而且会改变目标文件或文件夹的路径，也就是说随着输入参数的不同——带不带路径——会返回不同的结果"
   ]
  },
  {
   "cell_type": "code",
   "execution_count": 66,
   "metadata": {},
   "outputs": [
    {
     "data": {
      "text/plain": [
       "WindowsPath('archive/demo.txt')"
      ]
     },
     "execution_count": 66,
     "metadata": {},
     "output_type": "execute_result"
    }
   ],
   "source": [
    "file_path = Path(\"archive/demo.txt\")\n",
    "file_path"
   ]
  },
  {
   "cell_type": "code",
   "execution_count": 67,
   "metadata": {},
   "outputs": [
    {
     "data": {
      "text/plain": [
       "WindowsPath('archive/demo.txt')"
      ]
     },
     "execution_count": 67,
     "metadata": {},
     "output_type": "execute_result"
    }
   ],
   "source": [
    "# 传入新的文件名，但保留且不更改文件的原路径\n",
    "file_path.rename(\"archive/demo1.txt\")\n",
    "file_path"
   ]
  },
  {
   "cell_type": "code",
   "execution_count": 68,
   "metadata": {},
   "outputs": [
    {
     "data": {
      "text/plain": [
       "WindowsPath('archive/demo.txt')"
      ]
     },
     "execution_count": 68,
     "metadata": {},
     "output_type": "execute_result"
    }
   ],
   "source": [
    "# 传入新的文件名，但保留且不更改文件的原路径\n",
    "file_path = Path(\"archive/demo1.txt\")\n",
    "file_path.rename(\"archive/demo.txt\")"
   ]
  },
  {
   "cell_type": "code",
   "execution_count": 69,
   "metadata": {},
   "outputs": [
    {
     "data": {
      "text/plain": [
       "WindowsPath('archive/middle/demo.txt')"
      ]
     },
     "execution_count": 69,
     "metadata": {},
     "output_type": "execute_result"
    }
   ],
   "source": [
    "# 更改原路径\n",
    "file_path = Path(\"archive/demo.txt\")\n",
    "file_path.rename(\"archive/middle/demo.txt\")"
   ]
  },
  {
   "cell_type": "code",
   "execution_count": 70,
   "metadata": {},
   "outputs": [
    {
     "data": {
      "text/plain": [
       "WindowsPath('archive/demo.txt')"
      ]
     },
     "execution_count": 70,
     "metadata": {},
     "output_type": "execute_result"
    }
   ],
   "source": [
    "# 更改原路径\n",
    "file_path = Path(\"archive/middle/demo.txt\")\n",
    "file_path.rename(\"archive/demo.txt\")"
   ]
  },
  {
   "attachments": {},
   "cell_type": "markdown",
   "metadata": {},
   "source": [
    "# 子路径扫描\n",
    "## path.iterdir() 可以扫描某个目录下的所有路径（文件和子目录)， 打印的会是处理过的绝对路径。"
   ]
  },
  {
   "cell_type": "code",
   "execution_count": 71,
   "metadata": {},
   "outputs": [
    {
     "data": {
      "text/plain": [
       "WindowsPath('d:/ml/code/test/path')"
      ]
     },
     "execution_count": 71,
     "metadata": {},
     "output_type": "execute_result"
    }
   ],
   "source": [
    "cwd = Path.cwd()\n",
    "cwd"
   ]
  },
  {
   "cell_type": "code",
   "execution_count": 72,
   "metadata": {},
   "outputs": [
    {
     "data": {
      "text/plain": [
       "<generator object Path.iterdir at 0x00000191F833D9A0>"
      ]
     },
     "execution_count": 72,
     "metadata": {},
     "output_type": "execute_result"
    }
   ],
   "source": [
    "cwd.iterdir()"
   ]
  },
  {
   "cell_type": "code",
   "execution_count": 73,
   "metadata": {},
   "outputs": [
    {
     "name": "stdout",
     "output_type": "stream",
     "text": [
      "d:\\ml\\code\\test\\path\\archive\n",
      "d:\\ml\\code\\test\\path\\pathlib.ipynb\n"
     ]
    }
   ],
   "source": [
    "for p in cwd.iterdir():\n",
    "    print(p)"
   ]
  },
  {
   "attachments": {},
   "cell_type": "markdown",
   "metadata": {},
   "source": [
    "## 使用 path.iterdir() 可以统计目录下的不同文件类型"
   ]
  },
  {
   "cell_type": "code",
   "execution_count": 74,
   "metadata": {},
   "outputs": [
    {
     "data": {
      "text/plain": [
       "Counter({'.ipynb': 1})"
      ]
     },
     "execution_count": 74,
     "metadata": {},
     "output_type": "execute_result"
    }
   ],
   "source": [
    "files = [f.suffix for f in cwd.iterdir() if f.is_file()]\n",
    "Counter(files)"
   ]
  },
  {
   "cell_type": "markdown",
   "metadata": {},
   "source": [
    "# Path.glob 使用glob"
   ]
  },
  {
   "cell_type": "code",
   "execution_count": 7,
   "metadata": {},
   "outputs": [],
   "source": [
    "val_dir = Path(\"D:/ml/code/datasets/coco128/labels/train2017\")"
   ]
  },
  {
   "cell_type": "code",
   "execution_count": 9,
   "metadata": {},
   "outputs": [
    {
     "name": "stdout",
     "output_type": "stream",
     "text": [
      "<generator object Path.glob at 0x0000018EF59F0260>\n",
      "000000000009.txt\n",
      "000000000025.txt\n",
      "000000000030.txt\n",
      "000000000034.txt\n",
      "000000000036.txt\n",
      "000000000042.txt\n",
      "000000000049.txt\n",
      "000000000061.txt\n",
      "000000000064.txt\n",
      "000000000071.txt\n",
      "000000000072.txt\n",
      "000000000073.txt\n",
      "000000000074.txt\n",
      "000000000077.txt\n",
      "000000000078.txt\n",
      "000000000081.txt\n",
      "000000000086.txt\n",
      "000000000089.txt\n",
      "000000000092.txt\n",
      "000000000094.txt\n",
      "000000000109.txt\n",
      "000000000110.txt\n",
      "000000000113.txt\n",
      "000000000127.txt\n",
      "000000000133.txt\n",
      "000000000136.txt\n",
      "000000000138.txt\n",
      "000000000142.txt\n",
      "000000000143.txt\n",
      "000000000144.txt\n",
      "000000000149.txt\n",
      "000000000151.txt\n",
      "000000000154.txt\n",
      "000000000164.txt\n",
      "000000000165.txt\n",
      "000000000192.txt\n",
      "000000000194.txt\n",
      "000000000196.txt\n",
      "000000000201.txt\n",
      "000000000208.txt\n",
      "000000000241.txt\n",
      "000000000247.txt\n",
      "000000000250.txt\n",
      "000000000257.txt\n",
      "000000000260.txt\n",
      "000000000263.txt\n",
      "000000000283.txt\n",
      "000000000294.txt\n",
      "000000000307.txt\n",
      "000000000308.txt\n",
      "000000000309.txt\n",
      "000000000312.txt\n",
      "000000000315.txt\n",
      "000000000321.txt\n",
      "000000000322.txt\n",
      "000000000326.txt\n",
      "000000000328.txt\n",
      "000000000332.txt\n",
      "000000000338.txt\n",
      "000000000349.txt\n",
      "000000000357.txt\n",
      "000000000359.txt\n",
      "000000000360.txt\n",
      "000000000368.txt\n",
      "000000000370.txt\n",
      "000000000382.txt\n",
      "000000000384.txt\n",
      "000000000387.txt\n",
      "000000000389.txt\n",
      "000000000394.txt\n",
      "000000000395.txt\n",
      "000000000397.txt\n",
      "000000000400.txt\n",
      "000000000404.txt\n",
      "000000000415.txt\n",
      "000000000419.txt\n",
      "000000000428.txt\n",
      "000000000431.txt\n",
      "000000000436.txt\n",
      "000000000438.txt\n",
      "000000000443.txt\n",
      "000000000446.txt\n",
      "000000000450.txt\n",
      "000000000459.txt\n",
      "000000000471.txt\n",
      "000000000472.txt\n",
      "000000000474.txt\n",
      "000000000486.txt\n",
      "000000000488.txt\n",
      "000000000490.txt\n",
      "000000000491.txt\n",
      "000000000502.txt\n",
      "000000000508.txt\n",
      "000000000510.txt\n",
      "000000000514.txt\n",
      "000000000520.txt\n",
      "000000000529.txt\n",
      "000000000531.txt\n",
      "000000000532.txt\n",
      "000000000536.txt\n",
      "000000000540.txt\n",
      "000000000542.txt\n",
      "000000000544.txt\n",
      "000000000560.txt\n",
      "000000000562.txt\n",
      "000000000564.txt\n",
      "000000000569.txt\n",
      "000000000572.txt\n",
      "000000000575.txt\n",
      "000000000581.txt\n",
      "000000000584.txt\n",
      "000000000589.txt\n",
      "000000000590.txt\n",
      "000000000595.txt\n",
      "000000000597.txt\n",
      "000000000599.txt\n",
      "000000000605.txt\n",
      "000000000612.txt\n",
      "000000000620.txt\n",
      "000000000623.txt\n",
      "000000000625.txt\n",
      "000000000626.txt\n",
      "000000000629.txt\n",
      "000000000634.txt\n",
      "000000000636.txt\n",
      "000000000641.txt\n",
      "000000000643.txt\n",
      "000000000650.txt\n"
     ]
    }
   ],
   "source": [
    "val_txts = val_dir.glob(\"*.txt\")\n",
    "print(val_txts)\n",
    "for val_txt in val_txts:\n",
    "    print(val_txt.name)"
   ]
  },
  {
   "cell_type": "code",
   "execution_count": null,
   "metadata": {},
   "outputs": [],
   "source": []
  }
 ],
 "metadata": {
  "kernelspec": {
   "display_name": "pytorch",
   "language": "python",
   "name": "python3"
  },
  "language_info": {
   "codemirror_mode": {
    "name": "ipython",
    "version": 3
   },
   "file_extension": ".py",
   "mimetype": "text/x-python",
   "name": "python",
   "nbconvert_exporter": "python",
   "pygments_lexer": "ipython3",
   "version": "3.11.4"
  },
  "orig_nbformat": 4
 },
 "nbformat": 4,
 "nbformat_minor": 2
}
