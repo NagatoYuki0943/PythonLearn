{
 "cells": [
  {
   "cell_type": "markdown",
   "metadata": {},
   "source": [
    "可以通过 for...in... 循环来遍历可迭代对象，如列表、元组、字符串、字典等。"
   ]
  },
  {
   "cell_type": "code",
   "execution_count": null,
   "metadata": {},
   "outputs": [],
   "source": [
    "from typing import Iterable, Iterator"
   ]
  },
  {
   "cell_type": "markdown",
   "metadata": {},
   "source": [
    "# common methods"
   ]
  },
  {
   "cell_type": "code",
   "execution_count": 1,
   "metadata": {},
   "outputs": [],
   "source": [
    "# 可迭代对象的共同属性\n",
    "def common_property(*objs):\n",
    "    \"\"\"计算对象之间的共同属性\"\"\"\n",
    "    assert len(objs) > 0, \"至少需要两个对象\"\n",
    "    attrs = set(dir(objs[0]))\n",
    "    for obj in objs[1:]:\n",
    "        # 两个对象共同拥有的属性\n",
    "        attrs &= set(dir(obj))\n",
    "    # 除去 object 自带的属性\n",
    "    attrs -= set(dir(object))\n",
    "    return attrs\n"
   ]
  },
  {
   "cell_type": "markdown",
   "metadata": {},
   "source": [
    "# 可迭代对象"
   ]
  },
  {
   "cell_type": "code",
   "execution_count": null,
   "metadata": {},
   "outputs": [
    {
     "data": {
      "text/plain": [
       "{'__iter__'}"
      ]
     },
     "execution_count": 2,
     "metadata": {},
     "output_type": "execute_result"
    }
   ],
   "source": [
    "# 可迭代对象共同属性\n",
    "iterables = [\"hello\", [1, 2, 3], (1, 2, 3), {1, 2, 3}, {1: 2, 3: 4}, open(\"iterable1.ipynb\")]\n",
    "common_property(*iterables)\n",
    "# 对于可迭代对象，for...in...循环会自动调用 __iter__ 方法，该方法返回一个迭代器对象，然后通过迭代器对象来获取元素。"
   ]
  },
  {
   "cell_type": "code",
   "execution_count": 3,
   "metadata": {},
   "outputs": [],
   "source": [
    "# __iter__ 方法, 对应的调用方法就是 iter() 函数, 该函数返回一个迭代器对象。"
   ]
  },
  {
   "cell_type": "code",
   "execution_count": null,
   "metadata": {},
   "outputs": [
    {
     "name": "stdout",
     "output_type": "stream",
     "text": [
      "<str_ascii_iterator object at 0x000001BE1506A920>\n",
      "<list_iterator object at 0x000001BE1506A920>\n",
      "<tuple_iterator object at 0x000001BE1506A920>\n",
      "<set_iterator object at 0x000001BE1507F780>\n",
      "<dict_keyiterator object at 0x000001BE13ACEF20>\n",
      "<_io.TextIOWrapper name='iterable1.py' mode='r' encoding='utf-8'>\n"
     ]
    }
   ],
   "source": [
    "for iterable in iterables:\n",
    "    print(iter(iterable))"
   ]
  },
  {
   "cell_type": "markdown",
   "metadata": {},
   "source": [
    "## 用例，定义一个容器类的可迭代对象，为该对象实现 `__iter__()` 方法，返回一个生成器对象。"
   ]
  },
  {
   "cell_type": "code",
   "execution_count": null,
   "metadata": {},
   "outputs": [],
   "source": [
    "class MyCustomIterator:\n",
    "    def __init__(self, data):\n",
    "        self.data = data\n",
    "        self.index = -1\n",
    "\n",
    "    def __iter__(self):\n",
    "        return self\n",
    "\n",
    "    def __next__(self):\n",
    "        self.index += 1\n",
    "        if self.index < self.data.size:\n",
    "            return self.data.get(self.index)\n",
    "        else:\n",
    "            raise StopIteration\n",
    "\n",
    "# 可迭代数据类\n",
    "class MyCustonData:\n",
    "    ...\n",
    "\n",
    "    @property\n",
    "    def size(self):\n",
    "        return self.size\n",
    "\n",
    "    def get(self, index):\n",
    "        return self.data[index]\n",
    "\n",
    "    def __iter__(self):\n",
    "        return MyCustomIterator(self)"
   ]
  },
  {
   "cell_type": "code",
   "execution_count": null,
   "metadata": {},
   "outputs": [],
   "source": [
    "# 使用 yield 关键字简化上述步骤\n",
    "# 可迭代数据类\n",
    "class MyCustonData1:\n",
    "    ...\n",
    "\n",
    "    @property\n",
    "    def size(self):\n",
    "        return self.size\n",
    "\n",
    "    def get(self, index):\n",
    "        return self.data[index]\n",
    "\n",
    "    def __iter__(self):\n",
    "        # index 必须是局部变量\n",
    "        index = 0\n",
    "        while index < self.size:\n",
    "            yield self.data[index]\n",
    "            index += 1"
   ]
  },
  {
   "cell_type": "markdown",
   "metadata": {},
   "source": [
    "# 迭代器对象"
   ]
  },
  {
   "cell_type": "code",
   "execution_count": null,
   "metadata": {},
   "outputs": [
    {
     "name": "stdout",
     "output_type": "stream",
     "text": [
      "{'__iter__', '__next__'}\n"
     ]
    }
   ],
   "source": [
    "# 迭代器对象共同属性\n",
    "iterators = [iter(iterable) for iterable in iterables]\n",
    "print(common_property(*iterators))"
   ]
  },
  {
   "cell_type": "markdown",
   "metadata": {},
   "source": [
    "`__next__` 方法通过调用 `next()` 方法来获取下一个元素，如果没有下一个元素，则抛出 `StopIteration` 异常。\n",
    "\n",
    "`__iter__` 方法返回一个迭代器对象，用于 `for` 循环。"
   ]
  },
  {
   "cell_type": "code",
   "execution_count": 2,
   "metadata": {},
   "outputs": [
    {
     "data": {
      "text/plain": [
       "<list_iterator at 0x22e983acbe0>"
      ]
     },
     "execution_count": 2,
     "metadata": {},
     "output_type": "execute_result"
    }
   ],
   "source": [
    "\n",
    "actions = [\"点赞\", \"评论\", \"收藏\"]\n",
    "action_iterator = iter(actions)\n",
    "action_iterator"
   ]
  },
  {
   "cell_type": "code",
   "execution_count": 3,
   "metadata": {},
   "outputs": [
    {
     "data": {
      "text/plain": [
       "'点赞'"
      ]
     },
     "execution_count": 3,
     "metadata": {},
     "output_type": "execute_result"
    }
   ],
   "source": [
    "next(action_iterator)"
   ]
  },
  {
   "cell_type": "code",
   "execution_count": 4,
   "metadata": {},
   "outputs": [
    {
     "data": {
      "text/plain": [
       "'评论'"
      ]
     },
     "execution_count": 4,
     "metadata": {},
     "output_type": "execute_result"
    }
   ],
   "source": [
    "next(action_iterator)"
   ]
  },
  {
   "cell_type": "code",
   "execution_count": 5,
   "metadata": {},
   "outputs": [
    {
     "data": {
      "text/plain": [
       "'收藏'"
      ]
     },
     "execution_count": 5,
     "metadata": {},
     "output_type": "execute_result"
    }
   ],
   "source": [
    "next(action_iterator)"
   ]
  },
  {
   "cell_type": "code",
   "execution_count": null,
   "metadata": {},
   "outputs": [
    {
     "ename": "StopIteration",
     "evalue": "",
     "output_type": "error",
     "traceback": [
      "\u001b[1;31m---------------------------------------------------------------------------\u001b[0m",
      "\u001b[1;31mStopIteration\u001b[0m                             Traceback (most recent call last)",
      "Cell \u001b[1;32mIn[6], line 1\u001b[0m\n\u001b[1;32m----> 1\u001b[0m \u001b[38;5;28;43mnext\u001b[39;49m\u001b[43m(\u001b[49m\u001b[43maction_iterator\u001b[49m\u001b[43m)\u001b[49m\n",
      "\u001b[1;31mStopIteration\u001b[0m: "
     ]
    }
   ],
   "source": [
    "next(action_iterator)\n",
    "# StopIteration"
   ]
  },
  {
   "cell_type": "markdown",
   "metadata": {},
   "source": [
    "迭代的3个步骤\n",
    "\n",
    "1. 调用 `iter(iterable)` 方法，将可迭代对象转换为迭代器。\n",
    "2. 多次使用 `next(iterator)` 方法，获取迭代器的下一个元素。\n",
    "3. 当迭代器的元素耗尽时，抛出 `StopIteration` 异常，表示迭代结束。"
   ]
  },
  {
   "cell_type": "code",
   "execution_count": 8,
   "metadata": {},
   "outputs": [
    {
     "name": "stdout",
     "output_type": "stream",
     "text": [
      "点赞\n",
      "评论\n",
      "收藏\n"
     ]
    }
   ],
   "source": [
    "# 通过 while 循环实现迭代器\n",
    "action_iterator = iter(actions)\n",
    "while True:\n",
    "    try:\n",
    "        action = next(action_iterator)\n",
    "        print(action)\n",
    "    except StopIteration:\n",
    "        break"
   ]
  },
  {
   "cell_type": "markdown",
   "metadata": {},
   "source": [
    "# 自定义迭代器\n",
    "\n",
    "\n",
    "迭代器基本功能\n",
    "\n",
    "- 初始化时，传入一个可迭代对象\n",
    "- 要初始化迭代进度\n",
    "- 每次迭代时，即调用 `next()` 方法：\n",
    "  - 如果有元素可以迭代，返回本轮迭代元素，同时更新迭代进度\n",
    "  - 如果没有元素可以迭代，抛出 `StopIteration` 异常\n",
    "\n",
    "再添加一点额外的逻辑：\n",
    "\n",
    "- 设置一个黑名单，如果当前数据在黑名单内，则跳过该元素\n",
    "- 将某些符合条件的数据 `*2` 之后再返回"
   ]
  },
  {
   "cell_type": "markdown",
   "metadata": {},
   "source": [
    "## 迭代器协议\n",
    "\n",
    "Python 文档中明确指出，迭代器必须同时实现 `__next__` 和 `__iter__` 方法。\n",
    "\n",
    "根据这个协议，迭代器 **必须** 是可迭代的，**迭代器是一种可迭代对象**。\n",
    "\n",
    "所有迭代器的 `__iter__` 方法必须返回自身，而 `__next__` 方法必须返回下一个元素。"
   ]
  },
  {
   "cell_type": "code",
   "execution_count": 17,
   "metadata": {},
   "outputs": [
    {
     "name": "stdout",
     "output_type": "stream",
     "text": [
      "点赞\n",
      "收藏\n",
      "转发\n",
      "评论\n",
      "投币投币\n"
     ]
    }
   ],
   "source": [
    "BLACK_LIST = [\"白嫖\", \"取关\"]\n",
    "class ShuziIterator:\n",
    "    def __init__(self, actions) -> None:\n",
    "        self.actions = actions\n",
    "        self.index = 0\n",
    "\n",
    "    def __next__(self):\n",
    "        while self.index < len(self.actions):\n",
    "            action = self.actions[self.index]\n",
    "            self.index += 1\n",
    "            if action in BLACK_LIST:\n",
    "                continue\n",
    "            elif \"币\" in action:\n",
    "                return action * 2\n",
    "            else:\n",
    "                return action\n",
    "        raise StopIteration\n",
    "\n",
    "    # 在 for 循环中使用\n",
    "    def __iter__(self):\n",
    "        return self\n",
    "\n",
    "\n",
    "actions = [\"点赞\", \"收藏\", \"转发\", \"评论\", \"投币\", \"白嫖\", \"取关\"]\n",
    "sz_iterator = ShuziIterator(actions)\n",
    "while True:\n",
    "    try:\n",
    "        print(next(sz_iterator))\n",
    "    except StopIteration:\n",
    "        break"
   ]
  },
  {
   "cell_type": "code",
   "execution_count": null,
   "metadata": {},
   "outputs": [
    {
     "name": "stdout",
     "output_type": "stream",
     "text": [
      "点赞\n",
      "收藏\n",
      "转发\n",
      "评论\n",
      "投币投币\n"
     ]
    }
   ],
   "source": [
    "# ShuziIterator 要实现 __iter__ 方法, 才能使用 for 循环遍历\n",
    "sz_iterator = ShuziIterator(actions)\n",
    "for item in sz_iterator:\n",
    "    print(item)"
   ]
  },
  {
   "cell_type": "markdown",
   "metadata": {},
   "source": [
    "# 迭代器意义\n",
    "\n",
    "- 通过统一 `next()` 方法获取数据，可以屏蔽底层不同的数据读取方式，简化编程\n",
    "- 容器类的数据结构之关系数据的静态存储，每次迭代都需要额外的迭代器对象专门负责记录迭代过程中的状态信息\n",
    "- 迭代器是为了让数据结构快捷的遍历而定义的辅助对象\n",
    "- 很多个迭代器串联起来，形成一个数据处理管道\n",
    "- 在这个管道中，每次一只通过一份数据，避免一次性加载所有数据\n",
    "- 迭代器也不仅仅是按顺序返回数据那么简单，可以承担处理数据的责任\n",
    "  - 迭代器可以用来实现数据流的处理，比如数据压缩、加密、解密、过滤、排序等等，例如 `ShuziIterator` 实现了数据过滤的功能\n",
    "- 当通过迭代器获取数据的时候，原理的数据存储，不关心底层数据是怎么存储的\n",
    "- 数据生成, 下面生成器的例子就是，每次实时生成数据，不占用内存空间"
   ]
  },
  {
   "cell_type": "code",
   "execution_count": 21,
   "metadata": {},
   "outputs": [],
   "source": [
    "from random import random\n",
    "\n",
    "class Random:\n",
    "    def __iter__(self):\n",
    "        return self\n",
    "\n",
    "    def __next__(self):\n",
    "        return random()"
   ]
  },
  {
   "cell_type": "code",
   "execution_count": 22,
   "metadata": {},
   "outputs": [
    {
     "name": "stdout",
     "output_type": "stream",
     "text": [
      "0.27645103060096377\n",
      "0.2605600226315695\n",
      "0.47010276552565655\n",
      "0.20827978083608867\n",
      "0.5833221624875383\n",
      "0.2727301822066459\n",
      "0.9696029573450561\n",
      "0.9865410147876872\n",
      "0.9091535977689023\n",
      "0.853023640820604\n",
      "0.9576099972089506\n"
     ]
    }
   ],
   "source": [
    "random1 = Random()\n",
    "for i, r in enumerate(random1):\n",
    "    print(r)\n",
    "    if i == 10:\n",
    "        break"
   ]
  },
  {
   "cell_type": "code",
   "execution_count": null,
   "metadata": {},
   "outputs": [],
   "source": []
  }
 ],
 "metadata": {
  "kernelspec": {
   "display_name": "pytorch",
   "language": "python",
   "name": "python3"
  },
  "language_info": {
   "codemirror_mode": {
    "name": "ipython",
    "version": 3
   },
   "file_extension": ".py",
   "mimetype": "text/x-python",
   "name": "python",
   "nbconvert_exporter": "python",
   "pygments_lexer": "ipython3",
   "version": "3.12.4"
  }
 },
 "nbformat": 4,
 "nbformat_minor": 2
}
