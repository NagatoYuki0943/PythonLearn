{
 "cells": [
  {
   "cell_type": "code",
   "execution_count": null,
   "metadata": {},
   "outputs": [],
   "source": [
    "import time"
   ]
  },
  {
   "cell_type": "markdown",
   "metadata": {},
   "source": [
    "# 对上一个文档的代码进行修改\n",
    "\n",
    "`yield from` 全部改为 `await`\n",
    "\n",
    "添加了 `await` 的函数使用 `async def` 定义\n",
    "\n",
    "`YieldFromAble` 的 `__iter__` 方法改为 `__await__` 方法\n",
    "\n",
    "`YieldFromAble` 改名 `Awaitable`\n",
    "\n",
    "修改 `Task`"
   ]
  },
  {
   "cell_type": "code",
   "execution_count": 13,
   "metadata": {},
   "outputs": [],
   "source": [
    "# 定义辅助 class, 用来包裹 yield 内容, 实现 yield from 调用原本 yield 的内容\n",
    "class Awaitable:\n",
    "    def __init__(self, obj):\n",
    "        self.value = obj\n",
    "\n",
    "    def __await__(self):\n",
    "        # yield self.value 改为 yield self.value\n",
    "        yield self"
   ]
  },
  {
   "cell_type": "code",
   "execution_count": null,
   "metadata": {},
   "outputs": [],
   "source": [
    "async def small_step():\n",
    "    print(\"         sleeping for 2 seconds\")\n",
    "    # 不在这里执行 sleep，而是将阻塞从下游传递到上游\n",
    "    t1 = time.time()\n",
    "\n",
    "    await Awaitable((time.sleep, 2))\n",
    "\n",
    "    t2 = time.time()\n",
    "    assert t2 - t1 > 2, \"睡眠时间不足\"\n",
    "    print(\"         working on small step\")\n",
    "    return 123"
   ]
  },
  {
   "cell_type": "code",
   "execution_count": 15,
   "metadata": {},
   "outputs": [],
   "source": [
    "async def big_step():\n",
    "    \"\"\"一个大步骤\"\"\"\n",
    "    ... # 其他小步骤\n",
    "    print(\"     begin small_step\")\n",
    "\n",
    "    small_result = await small_step()\n",
    "\n",
    "    print(\"     end small_step\")\n",
    "    return small_result * 1000"
   ]
  },
  {
   "cell_type": "code",
   "execution_count": 16,
   "metadata": {},
   "outputs": [],
   "source": [
    "async def one_task():\n",
    "    \"\"\"一个任务例子\"\"\"\n",
    "    print(\"begin task\")\n",
    "    ... # 其他步骤\n",
    "    print(\"     begin big_step\")\n",
    "\n",
    "    big_result = await big_step()\n",
    "\n",
    "    print(f\"     end big_step with {big_result}\")\n",
    "    ... # 其他步骤\n",
    "    print(\"end task\")"
   ]
  },
  {
   "cell_type": "code",
   "execution_count": 19,
   "metadata": {},
   "outputs": [],
   "source": [
    "class Task:\n",
    "    def __init__(self, coro) -> None:\n",
    "        self.coro = coro\n",
    "        self._done = False\n",
    "        self._result = None\n",
    "\n",
    "    def run(self):\n",
    "        print(\"----------\")\n",
    "        if not self._done:\n",
    "            try:\n",
    "                x = self.coro.send(None)\n",
    "            except StopIteration as e:\n",
    "                # 处理协程返回值\n",
    "                self.result = e.value\n",
    "                self._done = True\n",
    "            else:\n",
    "                print(f\"     got {x}\")\n",
    "                # 上面改造 Awaitable yield self 之后，可以保证这里的 x 一定是 Awaitable 类型\n",
    "                assert isinstance(x, Awaitable)\n",
    "\n",
    "        else:\n",
    "            print(\"Task is done\")\n",
    "        print(\"----------\")\n"
   ]
  },
  {
   "cell_type": "code",
   "execution_count": 20,
   "metadata": {},
   "outputs": [
    {
     "name": "stdout",
     "output_type": "stream",
     "text": [
      "----------\n",
      "begin task\n",
      "     begin big_step\n",
      "     begin small_step\n",
      "         sleeping for 2 seconds\n",
      "     got <__main__.Awaitable object at 0x000001C6DA72EBD0>\n",
      "----------\n",
      "do something ...\n",
      "do something ...\n",
      "do something ...\n",
      "do something ...\n",
      "do something ...\n",
      "do something ...\n",
      "do something ...\n",
      "do something ...\n",
      "do something ...\n",
      "do something ...\n",
      "----------\n",
      "         working on small step\n",
      "     end small_step\n",
      "     end big_step with 123000\n",
      "end task\n",
      "----------\n"
     ]
    }
   ],
   "source": [
    "t = Task(one_task())\n",
    "t.run()\n",
    "\n",
    "# 在这里等待2秒\n",
    "# 这里调用返回的函数\n",
    "for _ in range(10):\n",
    "    print(\"do something ...\")\n",
    "    time.sleep(0.2)\n",
    "\n",
    "t.run()\n"
   ]
  },
  {
   "cell_type": "code",
   "execution_count": null,
   "metadata": {},
   "outputs": [],
   "source": []
  },
  {
   "cell_type": "code",
   "execution_count": null,
   "metadata": {},
   "outputs": [],
   "source": []
  },
  {
   "cell_type": "code",
   "execution_count": null,
   "metadata": {},
   "outputs": [],
   "source": []
  },
  {
   "cell_type": "code",
   "execution_count": null,
   "metadata": {},
   "outputs": [],
   "source": []
  }
 ],
 "metadata": {
  "kernelspec": {
   "display_name": "pytorch",
   "language": "python",
   "name": "python3"
  },
  "language_info": {
   "codemirror_mode": {
    "name": "ipython",
    "version": 3
   },
   "file_extension": ".py",
   "mimetype": "text/x-python",
   "name": "python",
   "nbconvert_exporter": "python",
   "pygments_lexer": "ipython3",
   "version": "3.12.4"
  }
 },
 "nbformat": 4,
 "nbformat_minor": 2
}
