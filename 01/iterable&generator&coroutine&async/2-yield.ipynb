{
 "cells": [
  {
   "cell_type": "markdown",
   "metadata": {},
   "source": [
    "# 生成器\n",
    "\n",
    "- 只能在函数内\n",
    "- 函数内任何地方只要出现了 `yield` 关键字，哪怕永远无法被执行到，函数就变成了一个生成器\n",
    "\n",
    "\n",
    "通常，把含有 `yield` 的函数称之为 **生成器函数**，把调用生成器函数返回给的结果称之为 **生成器**。\n",
    "\n",
    "但是 python 文档中把这个函数称之为 **生成器**，返回的对象称之为 **生成器迭代器**。\n",
    "\n",
    "这里分别叫做：**生成器函数**，**生成器对象**。"
   ]
  },
  {
   "cell_type": "markdown",
   "metadata": {},
   "source": [
    "生成器对象就是迭代器，因此它的运行方式和迭代器是一致的：\n",
    "\n",
    "- 通过 `next()` 方法调用\n",
    "- 每次 `next()` 方法调用都会返回生成器函数中 `yield` 表达式后面的值\n",
    "- 直到生成器函数中没有 `yield` 表达式，或者 `yield` 表达式后面没有值，则抛出 `StopIteration` 异常"
   ]
  },
  {
   "cell_type": "markdown",
   "metadata": {},
   "source": [
    "`yield` 关键字最根本的作用是改变了函数的性质：\n",
    "\n",
    "1. 调用生成器函数不是直接执行其中的代码，而是返回一个对象。\n",
    "2. 生成器内的代码，需要通过生成器对象来执行。\n",
    "\n",
    "从这一点上来讲，生成器函数的作用和类差不多。"
   ]
  },
  {
   "cell_type": "code",
   "execution_count": 18,
   "metadata": {},
   "outputs": [
    {
     "name": "stdout",
     "output_type": "stream",
     "text": [
      "<class 'function'>\n",
      "<class 'generator'>\n"
     ]
    }
   ],
   "source": [
    "def my_generator():\n",
    "    for i in range(10):\n",
    "        yield i\n",
    "\n",
    "print(type(my_generator))\n",
    "print(type(my_generator()))\n"
   ]
  },
  {
   "cell_type": "code",
   "execution_count": 19,
   "metadata": {},
   "outputs": [],
   "source": [
    "import inspect"
   ]
  },
  {
   "cell_type": "code",
   "execution_count": 20,
   "metadata": {},
   "outputs": [
    {
     "name": "stdout",
     "output_type": "stream",
     "text": [
      "True\n",
      "True\n"
     ]
    }
   ],
   "source": [
    "# 是函数，也是生成器函数\n",
    "print(inspect.isfunction(my_generator))\n",
    "print(inspect.isgeneratorfunction(my_generator))"
   ]
  },
  {
   "cell_type": "code",
   "execution_count": 21,
   "metadata": {},
   "outputs": [
    {
     "name": "stdout",
     "output_type": "stream",
     "text": [
      "False\n",
      "True\n"
     ]
    }
   ],
   "source": [
    "# 生成器函数不是生成器\n",
    "print(inspect.isgenerator(my_generator))\n",
    "print(inspect.isgenerator(my_generator()))"
   ]
  },
  {
   "cell_type": "markdown",
   "metadata": {},
   "source": [
    "# demo"
   ]
  },
  {
   "cell_type": "code",
   "execution_count": 22,
   "metadata": {},
   "outputs": [],
   "source": [
    "def gen_666(meet_yield: bool = False):\n",
    "    print(\"hello\")\n",
    "    if meet_yield:\n",
    "        print(\"yield\")\n",
    "        yield 666\n",
    "        print(\"back\")\n",
    "    print(\"bye\")\n",
    "    return \"result\""
   ]
  },
  {
   "cell_type": "code",
   "execution_count": null,
   "metadata": {},
   "outputs": [
    {
     "name": "stdout",
     "output_type": "stream",
     "text": [
      "hello\n",
      "bye\n"
     ]
    },
    {
     "ename": "StopIteration",
     "evalue": "result",
     "output_type": "error",
     "traceback": [
      "\u001b[1;31m---------------------------------------------------------------------------\u001b[0m",
      "\u001b[1;31mStopIteration\u001b[0m                             Traceback (most recent call last)",
      "Cell \u001b[1;32mIn[23], line 2\u001b[0m\n\u001b[0;32m      1\u001b[0m g1 \u001b[38;5;241m=\u001b[39m gen_666()\n\u001b[1;32m----> 2\u001b[0m \u001b[38;5;28;43mnext\u001b[39;49m\u001b[43m(\u001b[49m\u001b[43mg1\u001b[49m\u001b[43m)\u001b[49m\n\u001b[0;32m      3\u001b[0m \u001b[38;5;66;03m# return \u001b[39;00m\n",
      "\u001b[1;31mStopIteration\u001b[0m: result"
     ]
    }
   ],
   "source": [
    "g1 = gen_666()\n",
    "next(g1)\n",
    "# return"
   ]
  },
  {
   "cell_type": "code",
   "execution_count": 24,
   "metadata": {},
   "outputs": [
    {
     "name": "stdout",
     "output_type": "stream",
     "text": [
      "hello\n",
      "yield\n"
     ]
    },
    {
     "data": {
      "text/plain": [
       "666"
      ]
     },
     "execution_count": 24,
     "metadata": {},
     "output_type": "execute_result"
    }
   ],
   "source": [
    "g2 = gen_666(True)\n",
    "next(g2)\n"
   ]
  },
  {
   "cell_type": "code",
   "execution_count": 25,
   "metadata": {},
   "outputs": [
    {
     "name": "stdout",
     "output_type": "stream",
     "text": [
      "back\n",
      "bye\n"
     ]
    },
    {
     "ename": "StopIteration",
     "evalue": "result",
     "output_type": "error",
     "traceback": [
      "\u001b[1;31m---------------------------------------------------------------------------\u001b[0m",
      "\u001b[1;31mStopIteration\u001b[0m                             Traceback (most recent call last)",
      "Cell \u001b[1;32mIn[25], line 1\u001b[0m\n\u001b[1;32m----> 1\u001b[0m \u001b[38;5;28;43mnext\u001b[39;49m\u001b[43m(\u001b[49m\u001b[43mg2\u001b[49m\u001b[43m)\u001b[49m\n",
      "\u001b[1;31mStopIteration\u001b[0m: result"
     ]
    }
   ],
   "source": [
    "next(g2)"
   ]
  },
  {
   "cell_type": "code",
   "execution_count": 27,
   "metadata": {},
   "outputs": [
    {
     "name": "stdout",
     "output_type": "stream",
     "text": [
      "10\n",
      "12\n",
      "14\n",
      "16\n",
      "18\n",
      "20\n",
      "22\n"
     ]
    }
   ],
   "source": [
    "# 一般 yield 是搭配 for 循环使用的，但是它也可以用于生成器表达式。\n",
    "def count(start=0, step=1):\n",
    "    n = start\n",
    "    while True:\n",
    "        yield n\n",
    "        n += step\n",
    "\n",
    "for i in count(10, 2):\n",
    "    print(i)\n",
    "    if i > 20:\n",
    "        break\n"
   ]
  },
  {
   "cell_type": "markdown",
   "metadata": {},
   "source": [
    "# 生成器的4个状态\n",
    "\n",
    "- 当调用生成器函数得到生成器对象时\n",
    "    - 此时的生成器对象可以理解为初始状态\n",
    "- 通过 `next()` 调用生成器对象，对应的生成器函数代码开始运行\n",
    "    - 此时生成器对象进入运行状态\n",
    "- 如果遇到了 `yield` 语句，`next()` 返回时\n",
    "    - `yield` 语句右边的值会被作为 `next()` 的返回值\n",
    "    - 生成器在 `yield` 语句处暂停，并保存当前状态，等待下一次 `next()` 调用\n",
    "- 如果生成器函数运行结束，抛出 `StopIteration` 异常\n",
    "    - 不管是使用了 `return` 语句显示返回值，还是默认返回 `None`，返回值都只能作为异常的值被抛出\n",
    "    - 此时生成器对象进入结束状态\n",
    "    - 对于已经结束的生成器对象，再调用 `next()` 会抛出 `StopIteration` 异常，且没有返回值"
   ]
  },
  {
   "cell_type": "markdown",
   "metadata": {},
   "source": [
    "# 生成器的三种应用场景\n",
    "\n",
    "- 定义一个容器类的可迭代对象，为该对象实现 `__iter__()` 方法，返回一个生成器对象。\n",
    "- 定义一个处理其他可迭代对象的迭代器\n",
    "- 定义一个不依赖数据存储的数据生成器"
   ]
  },
  {
   "cell_type": "markdown",
   "metadata": {},
   "source": [
    "## 定义一个容器类的可迭代对象，为该对象实现 `__iter__()` 方法，返回一个生成器对象。"
   ]
  },
  {
   "cell_type": "code",
   "execution_count": null,
   "metadata": {},
   "outputs": [],
   "source": [
    "class MyCustomIterator:\n",
    "    def __init__(self, data):\n",
    "        self.data = data\n",
    "        self.index = -1\n",
    "\n",
    "    def __iter__(self):\n",
    "        return self\n",
    "\n",
    "    def __next__(self):\n",
    "        self.index += 1\n",
    "        if self.index < self.data.size:\n",
    "            return self.data.get(self.index)\n",
    "        else:\n",
    "            raise StopIteration\n",
    "\n",
    "# 可迭代数据类\n",
    "class MyCustonData:\n",
    "    ...\n",
    "\n",
    "    @property\n",
    "    def size(self):\n",
    "        return self.size\n",
    "\n",
    "    def get(self, index):\n",
    "        return self.data[index]\n",
    "\n",
    "    def __iter__(self):\n",
    "        return MyCustomIterator(self)"
   ]
  },
  {
   "cell_type": "code",
   "execution_count": null,
   "metadata": {},
   "outputs": [],
   "source": [
    "# 使用 yield 关键字简化上述步骤\n",
    "# 可迭代数据类\n",
    "class MyCustonData1:\n",
    "    ...\n",
    "\n",
    "    @property\n",
    "    def size(self):\n",
    "        return self.size\n",
    "\n",
    "    def get(self, index):\n",
    "        return self.data[index]\n",
    "\n",
    "    def __iter__(self):\n",
    "        # index 必须是局部变量\n",
    "        index = 0\n",
    "        while index < self.size:\n",
    "            yield self.data[index]\n",
    "            index += 1"
   ]
  },
  {
   "cell_type": "markdown",
   "metadata": {},
   "source": [
    "## 定义一个处理其他可迭代对象的迭代器"
   ]
  },
  {
   "cell_type": "code",
   "execution_count": 3,
   "metadata": {},
   "outputs": [
    {
     "name": "stdout",
     "output_type": "stream",
     "text": [
      "点赞\n",
      "收藏\n",
      "转发\n",
      "评论\n",
      "投币投币\n"
     ]
    }
   ],
   "source": [
    "BLACK_LIST = [\"白嫖\", \"取关\"]\n",
    "def shuzi_filter(actions):\n",
    "    index = 0\n",
    "    while index < len(actions):\n",
    "        action = actions[index]\n",
    "        index += 1\n",
    "        if action in BLACK_LIST:\n",
    "            continue\n",
    "        elif \"币\" in action:\n",
    "            yield action * 2\n",
    "        else:\n",
    "            yield action\n",
    "\n",
    "\n",
    "actions = [\"点赞\", \"收藏\", \"转发\", \"评论\", \"投币\", \"白嫖\", \"取关\"]\n",
    "sz_iterator = shuzi_filter(actions)\n",
    "for action in sz_iterator:\n",
    "    print(action)"
   ]
  },
  {
   "cell_type": "markdown",
   "metadata": {},
   "source": [
    "## 定义一个不依赖数据存储的数据生成器"
   ]
  },
  {
   "cell_type": "code",
   "execution_count": 4,
   "metadata": {},
   "outputs": [
    {
     "name": "stdout",
     "output_type": "stream",
     "text": [
      "5\n",
      "4\n",
      "3\n",
      "2\n",
      "1\n"
     ]
    }
   ],
   "source": [
    "def count_down(n):\n",
    "    while n > 0:\n",
    "        yield n\n",
    "        n -= 1\n",
    "\n",
    "for i in count_down(5):\n",
    "    print(i)"
   ]
  },
  {
   "cell_type": "code",
   "execution_count": null,
   "metadata": {},
   "outputs": [],
   "source": []
  }
 ],
 "metadata": {
  "kernelspec": {
   "display_name": "pytorch",
   "language": "python",
   "name": "python3"
  },
  "language_info": {
   "codemirror_mode": {
    "name": "ipython",
    "version": 3
   },
   "file_extension": ".py",
   "mimetype": "text/x-python",
   "name": "python",
   "nbconvert_exporter": "python",
   "pygments_lexer": "ipython3",
   "version": "3.12.4"
  }
 },
 "nbformat": 4,
 "nbformat_minor": 2
}
