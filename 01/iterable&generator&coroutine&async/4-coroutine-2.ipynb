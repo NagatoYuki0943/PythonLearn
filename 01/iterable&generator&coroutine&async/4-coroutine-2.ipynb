{
 "cells": [
  {
   "cell_type": "markdown",
   "metadata": {
    "vscode": {
     "languageId": "plaintext"
    }
   },
   "source": [
    "# 基于生成器的协程(快被淘汰)\n",
    "\n",
    "按照 Python文档的描述，所谓的「基于生成器的协程」指的是用 `yield from创` 创建建的生成器，并且还要搭配 `asyncio.coroutine 装饰器来使用。\n",
    "\n",
    "讲的原因是新的 async 方法和原来的 yield 方法的接口基本一模一样"
   ]
  },
  {
   "cell_type": "code",
   "execution_count": null,
   "metadata": {},
   "outputs": [
    {
     "name": "stdout",
     "output_type": "stream",
     "text": [
      "<generator object generator_func at 0x000001FC86A24BF0>\n",
      "['__del__', '__iter__', '__name__', '__next__', '__qualname__', 'close', 'gi_code', 'gi_frame', 'gi_running', 'gi_suspended', 'gi_yieldfrom', 'send', 'throw']\n"
     ]
    }
   ],
   "source": [
    "def generator_func():\n",
    "    yield 1\n",
    "\n",
    "gen = generator_func()\n",
    "\n",
    "print(gen)\n",
    "print(sorted(set(dir(gen)) - set(dir(object))))"
   ]
  },
  {
   "cell_type": "code",
   "execution_count": null,
   "metadata": {},
   "outputs": [
    {
     "name": "stdout",
     "output_type": "stream",
     "text": [
      "<coroutine object coroutine_func at 0x000001FC8640AF80>\n",
      "['__await__', '__del__', '__name__', '__qualname__', 'close', 'cr_await', 'cr_code', 'cr_frame', 'cr_origin', 'cr_running', 'cr_suspended', 'send', 'throw']\n"
     ]
    }
   ],
   "source": [
    "async def coroutine_func():\n",
    "    await coroutine_func()\n",
    "\n",
    "coro = coroutine_func()\n",
    "\n",
    "print(coro)\n",
    "print(sorted(set(dir(coro)) - set(dir(object))))"
   ]
  },
  {
   "cell_type": "markdown",
   "metadata": {},
   "source": [
    "![](./协程发展时间.png)"
   ]
  },
  {
   "cell_type": "markdown",
   "metadata": {},
   "source": [
    "# `yield` 是一个表达式"
   ]
  },
  {
   "cell_type": "code",
   "execution_count": null,
   "metadata": {},
   "outputs": [],
   "source": [
    "def show_yield_value():\n",
    "    x = yield\n",
    "    print(f\"x is {x}\")\n",
    "\n",
    "g = show_yield_value()\n",
    "next(g)"
   ]
  },
  {
   "cell_type": "code",
   "execution_count": null,
   "metadata": {},
   "outputs": [
    {
     "name": "stdout",
     "output_type": "stream",
     "text": [
      "x is None\n"
     ]
    },
    {
     "ename": "StopIteration",
     "evalue": "",
     "output_type": "error",
     "traceback": [
      "\u001b[1;31m---------------------------------------------------------------------------\u001b[0m",
      "\u001b[1;31mStopIteration\u001b[0m                             Traceback (most recent call last)",
      "Cell \u001b[1;32mIn[12], line 1\u001b[0m\n\u001b[1;32m----> 1\u001b[0m \u001b[38;5;28;43mnext\u001b[39;49m\u001b[43m(\u001b[49m\u001b[43mg\u001b[49m\u001b[43m)\u001b[49m\n",
      "\u001b[1;31mStopIteration\u001b[0m: "
     ]
    }
   ],
   "source": [
    "next(g)"
   ]
  },
  {
   "cell_type": "markdown",
   "metadata": {},
   "source": [
    "为生成器增加一个 `send()` 方法，该方法可以接受一个入参。\n",
    "\n",
    "`send()` 方法顾名思义，将该参数发送给生成器，使生成器恢复运行的同时，将该入参作为 `yield` 表达式的值。"
   ]
  },
  {
   "cell_type": "code",
   "execution_count": null,
   "metadata": {},
   "outputs": [
    {
     "name": "stdout",
     "output_type": "stream",
     "text": [
      "start\n"
     ]
    }
   ],
   "source": [
    "def show_yield_value():\n",
    "    print(\"start\")\n",
    "    x = yield\n",
    "    print(f\"x is {x}\")\n",
    "\n",
    "g = show_yield_value()\n",
    "g.send(None) # 第一次只能传递 None 值"
   ]
  },
  {
   "cell_type": "code",
   "execution_count": null,
   "metadata": {},
   "outputs": [
    {
     "name": "stdout",
     "output_type": "stream",
     "text": [
      "x is hello\n"
     ]
    },
    {
     "ename": "StopIteration",
     "evalue": "",
     "output_type": "error",
     "traceback": [
      "\u001b[1;31m---------------------------------------------------------------------------\u001b[0m",
      "\u001b[1;31mStopIteration\u001b[0m                             Traceback (most recent call last)",
      "Cell \u001b[1;32mIn[17], line 1\u001b[0m\n\u001b[1;32m----> 1\u001b[0m \u001b[43mg\u001b[49m\u001b[38;5;241;43m.\u001b[39;49m\u001b[43msend\u001b[49m\u001b[43m(\u001b[49m\u001b[38;5;124;43m\"\u001b[39;49m\u001b[38;5;124;43mhello\u001b[39;49m\u001b[38;5;124;43m\"\u001b[39;49m\u001b[43m)\u001b[49m\n",
      "\u001b[1;31mStopIteration\u001b[0m: "
     ]
    }
   ],
   "source": [
    "g.send(\"hello\")"
   ]
  },
  {
   "cell_type": "markdown",
   "metadata": {},
   "source": [
    "关于prime\n",
    "\n",
    "对于刚创建好的生成器，总是需要在第一次的时候 `send(None)` 值，使其运行到 `yield` 的地方暂停，这个步骤术语称为prime。\n",
    "\n",
    "这里prime做动词解的意思：PREPARESOMEBODYtopreparesomeoneford situationsothattheyknowwhattodo←一使准备好【应付某个情况】\n",
    "\n",
    "prime在《流畅的Python》中文版被翻译为「预激」，感觉有点过于专业口其实这个步骤后续并没有那么重要（后面会解释），所以我就直接称为/激活，大家明白是什么意思就好"
   ]
  },
  {
   "cell_type": "markdown",
   "metadata": {},
   "source": [
    "# `yield` 表达式的优先级"
   ]
  },
  {
   "cell_type": "code",
   "execution_count": null,
   "metadata": {},
   "outputs": [],
   "source": [
    "def add_yield_value():\n",
    "    # x = yield + 1 # 这种写法有 bug， 因为 yield 的原有的语法是 yield 后面的值，因此这一行等同于 yield 1\n",
    "    # 这样写才行\n",
    "    x = (yield) + 1\n",
    "    print(f\"x is {x}\")"
   ]
  },
  {
   "cell_type": "code",
   "execution_count": null,
   "metadata": {},
   "outputs": [],
   "source": [
    "g = add_yield_value()\n",
    "g.send(None)"
   ]
  },
  {
   "cell_type": "code",
   "execution_count": null,
   "metadata": {},
   "outputs": [
    {
     "name": "stdout",
     "output_type": "stream",
     "text": [
      "x is 2\n"
     ]
    },
    {
     "ename": "StopIteration",
     "evalue": "",
     "output_type": "error",
     "traceback": [
      "\u001b[1;31m---------------------------------------------------------------------------\u001b[0m",
      "\u001b[1;31mStopIteration\u001b[0m                             Traceback (most recent call last)",
      "Cell \u001b[1;32mIn[24], line 1\u001b[0m\n\u001b[1;32m----> 1\u001b[0m \u001b[43mg\u001b[49m\u001b[38;5;241;43m.\u001b[39;49m\u001b[43msend\u001b[49m\u001b[43m(\u001b[49m\u001b[38;5;241;43m1\u001b[39;49m\u001b[43m)\u001b[49m\n",
      "\u001b[1;31mStopIteration\u001b[0m: "
     ]
    }
   ],
   "source": [
    "g.send(1)"
   ]
  },
  {
   "cell_type": "markdown",
   "metadata": {},
   "source": [
    "# `send()` 用法总结\n",
    "\n",
    "- `send()` 是生成器对象的方法\n",
    "- 对于生成器对象 `g`，`next(g)` 等价于 `g.send(None)`\n",
    "- 只有当生成器处在「暂停」状态时，才能传入非 `None` 的值\n",
    "- `send()` 方法是为了协程而增加的APl，所以：\n",
    "    - 如果将生成器视作协程，就应该只用 `send` 方法\n",
    "    - 如果视作迭代器，就仍用 `next`\n",
    "\n",
    "所以，后面我们统一都使用 `g.send(None)` 的方式，而不再采用 next(g) 的方式"
   ]
  },
  {
   "cell_type": "code",
   "execution_count": null,
   "metadata": {},
   "outputs": [],
   "source": [
    "# 一个极简的echo\n",
    "def gen_echo():\n",
    "    while True:\n",
    "        print((yield))\n",
    "\n",
    "echo = gen_echo()\n",
    "echo.send(None)"
   ]
  },
  {
   "cell_type": "code",
   "execution_count": null,
   "metadata": {},
   "outputs": [
    {
     "name": "stdout",
     "output_type": "stream",
     "text": [
      "一\n",
      "键\n",
      "三\n",
      "连\n"
     ]
    }
   ],
   "source": [
    "for i in \"一键三连\":\n",
    "    echo.send(i)"
   ]
  },
  {
   "cell_type": "code",
   "execution_count": null,
   "metadata": {},
   "outputs": [
    {
     "name": "stdout",
     "output_type": "stream",
     "text": [
      "stop\n"
     ]
    }
   ],
   "source": [
    "# 直接传入 StopIteration 异常没有用,无法停止生成器\n",
    "echo.send(StopIteration(\"stop\"))"
   ]
  },
  {
   "cell_type": "markdown",
   "metadata": {},
   "source": [
    "# 使用 `close()` 结束生成器\n",
    "\n",
    "当生成器作为迭代器来用的时候，它的生命周期取决于有多少元素可以迭代\n",
    "\n",
    "而当作协程来用的时候，通常可以视作是在执行一个任务，我们希望任务的终止能够变得可控\n",
    "\n",
    "新增的 `close()` 方法就是用来结束一个协程"
   ]
  },
  {
   "cell_type": "code",
   "execution_count": null,
   "metadata": {},
   "outputs": [
    {
     "ename": "StopIteration",
     "evalue": "",
     "output_type": "error",
     "traceback": [
      "\u001b[1;31m---------------------------------------------------------------------------\u001b[0m",
      "\u001b[1;31mStopIteration\u001b[0m                             Traceback (most recent call last)",
      "Cell \u001b[1;32mIn[34], line 2\u001b[0m\n\u001b[0;32m      1\u001b[0m echo\u001b[38;5;241m.\u001b[39mclose()\n\u001b[1;32m----> 2\u001b[0m \u001b[43mecho\u001b[49m\u001b[38;5;241;43m.\u001b[39;49m\u001b[43msend\u001b[49m\u001b[43m(\u001b[49m\u001b[38;5;241;43m1\u001b[39;49m\u001b[43m)\u001b[49m\n",
      "\u001b[1;31mStopIteration\u001b[0m: "
     ]
    }
   ],
   "source": [
    "echo.close()\n",
    "echo.send(1)"
   ]
  },
  {
   "cell_type": "markdown",
   "metadata": {},
   "source": [
    "由于echo协程的内容非常简单，所以可以直接结束。\n",
    "\n",
    "如果协程的代码比较复杂，它可能需要在结束的时候做一些善后处理，比如释放资源等。\n",
    "\n",
    "类似于StopIteration的实现机制，结束协程也是靠异常来实现的："
   ]
  },
  {
   "cell_type": "code",
   "execution_count": null,
   "metadata": {},
   "outputs": [],
   "source": [
    "def gen_echo_v2():\n",
    "    while True:\n",
    "        try:\n",
    "            x = yield\n",
    "        except GeneratorExit:\n",
    "            print(\"Exit, bye\")\n",
    "            return # `GeneratorExit` 异常要求强制退出\n",
    "        else:\n",
    "            print(x)\n",
    "\n",
    "echo_v2 = gen_echo_v2()\n",
    "echo_v2.send(None)"
   ]
  },
  {
   "cell_type": "code",
   "execution_count": null,
   "metadata": {},
   "outputs": [
    {
     "name": "stdout",
     "output_type": "stream",
     "text": [
      "一\n",
      "键\n",
      "三\n",
      "连\n"
     ]
    }
   ],
   "source": [
    "for i in \"一键三连\":\n",
    "    echo_v2.send(i)"
   ]
  },
  {
   "cell_type": "code",
   "execution_count": null,
   "metadata": {},
   "outputs": [
    {
     "name": "stdout",
     "output_type": "stream",
     "text": [
      "Exit, bye\n"
     ]
    }
   ],
   "source": [
    "echo_v2.close()"
   ]
  },
  {
   "cell_type": "markdown",
   "metadata": {},
   "source": [
    "# 使用 `throw` 将异常抛给 `yield`"
   ]
  },
  {
   "cell_type": "code",
   "execution_count": null,
   "metadata": {},
   "outputs": [],
   "source": [
    "def gen_echo_v3():\n",
    "    while True:\n",
    "        try:\n",
    "            x = yield\n",
    "        except GeneratorExit:\n",
    "            print(\"Exit, bye\")\n",
    "            return # `GeneratorExit` 异常要求强制退出\n",
    "        except KeyboardInterrupt:\n",
    "            print(\"Ctrl+C, bye\")\n",
    "            # 注意这里没有 return，因为只有 `GeneratorExit` 异常要求强制退出\n",
    "        else:\n",
    "            print(x)\n",
    "\n",
    "echo_v3 = gen_echo_v3()\n",
    "echo_v3.send(None)"
   ]
  },
  {
   "cell_type": "code",
   "execution_count": null,
   "metadata": {},
   "outputs": [
    {
     "name": "stdout",
     "output_type": "stream",
     "text": [
      "一\n",
      "键\n",
      "三\n",
      "连\n"
     ]
    }
   ],
   "source": [
    "for i in \"一键三连\":\n",
    "    echo_v3.send(i)"
   ]
  },
  {
   "cell_type": "code",
   "execution_count": null,
   "metadata": {},
   "outputs": [
    {
     "name": "stdout",
     "output_type": "stream",
     "text": [
      "Ctrl+C, bye\n"
     ]
    }
   ],
   "source": [
    "echo_v3.throw(KeyboardInterrupt)"
   ]
  },
  {
   "cell_type": "code",
   "execution_count": null,
   "metadata": {},
   "outputs": [
    {
     "name": "stdout",
     "output_type": "stream",
     "text": [
      "一\n",
      "键\n",
      "三\n",
      "连\n"
     ]
    }
   ],
   "source": [
    "for i in \"一键三连\":\n",
    "    echo_v3.send(i)"
   ]
  },
  {
   "cell_type": "code",
   "execution_count": null,
   "metadata": {},
   "outputs": [
    {
     "ename": "RuntimeError",
     "evalue": "error",
     "output_type": "error",
     "traceback": [
      "\u001b[1;31m---------------------------------------------------------------------------\u001b[0m",
      "\u001b[1;31mRuntimeError\u001b[0m                              Traceback (most recent call last)",
      "Cell \u001b[1;32mIn[51], line 3\u001b[0m\n\u001b[0;32m      1\u001b[0m \u001b[38;5;66;03m# 如果传递了协程没法处理的异常，会向上抛出，导致协程退出\u001b[39;00m\n\u001b[1;32m----> 3\u001b[0m \u001b[43mecho_v3\u001b[49m\u001b[38;5;241;43m.\u001b[39;49m\u001b[43mthrow\u001b[49m\u001b[43m(\u001b[49m\u001b[38;5;167;43;01mRuntimeError\u001b[39;49;00m\u001b[43m(\u001b[49m\u001b[38;5;124;43m'\u001b[39;49m\u001b[38;5;124;43merror\u001b[39;49m\u001b[38;5;124;43m'\u001b[39;49m\u001b[43m)\u001b[49m\u001b[43m)\u001b[49m\n",
      "Cell \u001b[1;32mIn[47], line 4\u001b[0m, in \u001b[0;36mgen_echo_v3\u001b[1;34m()\u001b[0m\n\u001b[0;32m      2\u001b[0m \u001b[38;5;28;01mwhile\u001b[39;00m \u001b[38;5;28;01mTrue\u001b[39;00m:\n\u001b[0;32m      3\u001b[0m     \u001b[38;5;28;01mtry\u001b[39;00m:\n\u001b[1;32m----> 4\u001b[0m         x \u001b[38;5;241m=\u001b[39m \u001b[38;5;28;01myield\u001b[39;00m\n\u001b[0;32m      5\u001b[0m     \u001b[38;5;28;01mexcept\u001b[39;00m \u001b[38;5;167;01mGeneratorExit\u001b[39;00m:\n\u001b[0;32m      6\u001b[0m         \u001b[38;5;28mprint\u001b[39m(\u001b[38;5;124m\"\u001b[39m\u001b[38;5;124mExit, bye\u001b[39m\u001b[38;5;124m\"\u001b[39m)\n",
      "\u001b[1;31mRuntimeError\u001b[0m: error"
     ]
    }
   ],
   "source": [
    "# 如果传递了协程没法处理的异常，会向上抛出，导致协程退出\n",
    "\n",
    "echo_v3.throw(RuntimeError('error'))"
   ]
  },
  {
   "cell_type": "code",
   "execution_count": null,
   "metadata": {},
   "outputs": [
    {
     "ename": "StopIteration",
     "evalue": "",
     "output_type": "error",
     "traceback": [
      "\u001b[1;31m---------------------------------------------------------------------------\u001b[0m",
      "\u001b[1;31mStopIteration\u001b[0m                             Traceback (most recent call last)",
      "Cell \u001b[1;32mIn[52], line 1\u001b[0m\n\u001b[1;32m----> 1\u001b[0m \u001b[43mecho_v3\u001b[49m\u001b[38;5;241;43m.\u001b[39;49m\u001b[43msend\u001b[49m\u001b[43m(\u001b[49m\u001b[38;5;241;43m1\u001b[39;49m\u001b[43m)\u001b[49m\n",
      "\u001b[1;31mStopIteration\u001b[0m: "
     ]
    }
   ],
   "source": [
    "echo_v3.send(1)"
   ]
  },
  {
   "cell_type": "markdown",
   "metadata": {},
   "source": [
    "# 总结协程的几个功能点"
   ]
  },
  {
   "cell_type": "code",
   "execution_count": null,
   "metadata": {},
   "outputs": [],
   "source": [
    "def coro_averager():\n",
    "    \"\"\"计算移动平均值\"\"\"\n",
    "    count = 0\n",
    "    total = 0\n",
    "    avg = None\n",
    "    while True:\n",
    "        try:\n",
    "            # yield 将 avg 返回回去，同时将 send() 的值保存到 value 中\n",
    "            value = yield avg\n",
    "        except GeneratorExit:\n",
    "            print(\"Exit, bye\")\n",
    "            return total, count, avg\n",
    "        else:\n",
    "            total += value\n",
    "            count += 1\n",
    "            avg = total / count"
   ]
  },
  {
   "cell_type": "markdown",
   "metadata": {},
   "source": [
    "1. 在 `yield` 的位置产出数据\n",
    "2. 在 `yield` 的位置暂停\n",
    "3. 在 `yield` 的位置恢复，并接受新的参数\n",
    "4. 在 `yield` 的位置传入结束信号\n",
    "5. 在 `yield` 的位置传入其它异常"
   ]
  },
  {
   "cell_type": "code",
   "execution_count": null,
   "metadata": {},
   "outputs": [
    {
     "name": "stdout",
     "output_type": "stream",
     "text": [
      "1.0\n",
      "1.5\n",
      "2.0\n",
      "2.5\n",
      "3.0\n",
      "3.5\n",
      "4.0\n",
      "4.5\n",
      "5.0\n"
     ]
    }
   ],
   "source": [
    "aver = coro_averager()\n",
    "aver.send(None)\n",
    "\n",
    "for i in range(1, 10):\n",
    "    print(aver.send(i))"
   ]
  },
  {
   "cell_type": "code",
   "execution_count": null,
   "metadata": {},
   "outputs": [
    {
     "name": "stdout",
     "output_type": "stream",
     "text": [
      "Exit, bye\n",
      "None\n"
     ]
    }
   ],
   "source": [
    "print(aver.close())"
   ]
  },
  {
   "cell_type": "code",
   "execution_count": null,
   "metadata": {},
   "outputs": [],
   "source": []
  }
 ],
 "metadata": {
  "kernelspec": {
   "display_name": "pytorch",
   "language": "python",
   "name": "python3"
  },
  "language_info": {
   "codemirror_mode": {
    "name": "ipython",
    "version": 3
   },
   "file_extension": ".py",
   "mimetype": "text/x-python",
   "name": "python",
   "nbconvert_exporter": "python",
   "pygments_lexer": "ipython3",
   "version": "3.12.4"
  }
 },
 "nbformat": 4,
 "nbformat_minor": 2
}
