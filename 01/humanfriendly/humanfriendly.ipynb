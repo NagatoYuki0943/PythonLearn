{
 "cells": [
  {
   "cell_type": "markdown",
   "metadata": {},
   "source": [
    "https://humanfriendly.readthedocs.io/en/latest/index.html"
   ]
  },
  {
   "cell_type": "code",
   "execution_count": 1,
   "metadata": {},
   "outputs": [],
   "source": [
    "import humanfriendly"
   ]
  },
  {
   "cell_type": "code",
   "execution_count": 2,
   "metadata": {},
   "outputs": [
    {
     "data": {
      "text/plain": [
       "['__doc__',\n",
       " '__loader__',\n",
       " '__name__',\n",
       " '__package__',\n",
       " '__spec__',\n",
       " 'aliases',\n",
       " 'module']"
      ]
     },
     "execution_count": 2,
     "metadata": {},
     "output_type": "execute_result"
    }
   ],
   "source": [
    "dir(humanfriendly)"
   ]
  },
  {
   "cell_type": "markdown",
   "metadata": {},
   "source": [
    "## coerce"
   ]
  },
  {
   "cell_type": "code",
   "execution_count": 3,
   "metadata": {},
   "outputs": [
    {
     "name": "stdout",
     "output_type": "stream",
     "text": [
      "True\n",
      "False\n",
      "True\n",
      "True\n",
      "False\n",
      "False\n"
     ]
    }
   ],
   "source": [
    "print(humanfriendly.coerce_boolean(1))\n",
    "print(humanfriendly.coerce_boolean(0))\n",
    "print(humanfriendly.coerce_boolean(0.1))\n",
    "print(humanfriendly.coerce_boolean(True))\n",
    "print(humanfriendly.coerce_boolean(False))\n",
    "print(humanfriendly.coerce_boolean(\"\"))"
   ]
  },
  {
   "cell_type": "code",
   "execution_count": 4,
   "metadata": {},
   "outputs": [
    {
     "data": {
      "text/plain": [
       "re.compile(r'abc', re.UNICODE)"
      ]
     },
     "execution_count": 4,
     "metadata": {},
     "output_type": "execute_result"
    }
   ],
   "source": [
    "humanfriendly.coerce_pattern(\"abc\")"
   ]
  },
  {
   "cell_type": "code",
   "execution_count": 5,
   "metadata": {},
   "outputs": [
    {
     "data": {
      "text/plain": [
       "100.5"
      ]
     },
     "execution_count": 5,
     "metadata": {},
     "output_type": "execute_result"
    }
   ],
   "source": [
    "humanfriendly.coerce_seconds(100.5)"
   ]
  },
  {
   "cell_type": "markdown",
   "metadata": {},
   "source": [
    "## number"
   ]
  },
  {
   "cell_type": "code",
   "execution_count": 6,
   "metadata": {},
   "outputs": [
    {
     "data": {
      "text/plain": [
       "'1,486,439.56'"
      ]
     },
     "execution_count": 6,
     "metadata": {},
     "output_type": "execute_result"
    }
   ],
   "source": [
    "humanfriendly.format_number(1486439.5654, num_decimals=2)"
   ]
  },
  {
   "cell_type": "code",
   "execution_count": 7,
   "metadata": {},
   "outputs": [
    {
     "data": {
      "text/plain": [
       "'5.15'"
      ]
     },
     "execution_count": 7,
     "metadata": {},
     "output_type": "execute_result"
    }
   ],
   "source": [
    "humanfriendly.round_number(5.152)"
   ]
  },
  {
   "cell_type": "markdown",
   "metadata": {},
   "source": [
    "## length"
   ]
  },
  {
   "cell_type": "code",
   "execution_count": 8,
   "metadata": {},
   "outputs": [
    {
     "data": {
      "text/plain": [
       "'10 metres'"
      ]
     },
     "execution_count": 8,
     "metadata": {},
     "output_type": "execute_result"
    }
   ],
   "source": [
    "humanfriendly.format_length(10)"
   ]
  },
  {
   "cell_type": "code",
   "execution_count": 9,
   "metadata": {},
   "outputs": [
    {
     "data": {
      "text/plain": [
       "'1 km'"
      ]
     },
     "execution_count": 9,
     "metadata": {},
     "output_type": "execute_result"
    }
   ],
   "source": [
    "humanfriendly.format_length(1000)"
   ]
  },
  {
   "cell_type": "code",
   "execution_count": 10,
   "metadata": {},
   "outputs": [
    {
     "data": {
      "text/plain": [
       "10"
      ]
     },
     "execution_count": 10,
     "metadata": {},
     "output_type": "execute_result"
    }
   ],
   "source": [
    "humanfriendly.parse_length(\"10 metres\")"
   ]
  },
  {
   "cell_type": "code",
   "execution_count": 11,
   "metadata": {},
   "outputs": [
    {
     "data": {
      "text/plain": [
       "1000"
      ]
     },
     "execution_count": 11,
     "metadata": {},
     "output_type": "execute_result"
    }
   ],
   "source": [
    "humanfriendly.parse_length(\"1 km\")"
   ]
  },
  {
   "cell_type": "code",
   "execution_count": 12,
   "metadata": {},
   "outputs": [
    {
     "data": {
      "text/plain": [
       "({'prefix': 'nm', 'divider': 1e-09, 'singular': 'nm', 'plural': 'nm'},\n",
       " {'prefix': 'mm', 'divider': 0.001, 'singular': 'mm', 'plural': 'mm'},\n",
       " {'prefix': 'cm', 'divider': 0.01, 'singular': 'cm', 'plural': 'cm'},\n",
       " {'prefix': 'm', 'divider': 1, 'singular': 'metre', 'plural': 'metres'},\n",
       " {'prefix': 'km', 'divider': 1000, 'singular': 'km', 'plural': 'km'})"
      ]
     },
     "execution_count": 12,
     "metadata": {},
     "output_type": "execute_result"
    }
   ],
   "source": [
    "humanfriendly.length_size_units"
   ]
  },
  {
   "cell_type": "markdown",
   "metadata": {},
   "source": [
    "## timespan"
   ]
  },
  {
   "cell_type": "code",
   "execution_count": 13,
   "metadata": {},
   "outputs": [
    {
     "data": {
      "text/plain": [
       "'1 minute and 40 seconds'"
      ]
     },
     "execution_count": 13,
     "metadata": {},
     "output_type": "execute_result"
    }
   ],
   "source": [
    "# 格式化时间长度\n",
    "humanfriendly.format_timespan(100)"
   ]
  },
  {
   "cell_type": "code",
   "execution_count": 14,
   "metadata": {},
   "outputs": [
    {
     "data": {
      "text/plain": [
       "3600.0"
      ]
     },
     "execution_count": 14,
     "metadata": {},
     "output_type": "execute_result"
    }
   ],
   "source": [
    "# 解析时间长度\n",
    "humanfriendly.parse_timespan(\"1h\")"
   ]
  },
  {
   "cell_type": "code",
   "execution_count": 15,
   "metadata": {},
   "outputs": [
    {
     "data": {
      "text/plain": [
       "({'divider': 1e-09,\n",
       "  'singular': 'nanosecond',\n",
       "  'plural': 'nanoseconds',\n",
       "  'abbreviations': ['ns']},\n",
       " {'divider': 1e-06,\n",
       "  'singular': 'microsecond',\n",
       "  'plural': 'microseconds',\n",
       "  'abbreviations': ['us']},\n",
       " {'divider': 0.001,\n",
       "  'singular': 'millisecond',\n",
       "  'plural': 'milliseconds',\n",
       "  'abbreviations': ['ms']},\n",
       " {'divider': 1,\n",
       "  'singular': 'second',\n",
       "  'plural': 'seconds',\n",
       "  'abbreviations': ['s', 'sec', 'secs']},\n",
       " {'divider': 60,\n",
       "  'singular': 'minute',\n",
       "  'plural': 'minutes',\n",
       "  'abbreviations': ['m', 'min', 'mins']},\n",
       " {'divider': 3600,\n",
       "  'singular': 'hour',\n",
       "  'plural': 'hours',\n",
       "  'abbreviations': ['h']},\n",
       " {'divider': 86400,\n",
       "  'singular': 'day',\n",
       "  'plural': 'days',\n",
       "  'abbreviations': ['d']},\n",
       " {'divider': 604800,\n",
       "  'singular': 'week',\n",
       "  'plural': 'weeks',\n",
       "  'abbreviations': ['w']},\n",
       " {'divider': 31449600,\n",
       "  'singular': 'year',\n",
       "  'plural': 'years',\n",
       "  'abbreviations': ['y']})"
      ]
     },
     "execution_count": 15,
     "metadata": {},
     "output_type": "execute_result"
    }
   ],
   "source": [
    "humanfriendly.time_units"
   ]
  },
  {
   "cell_type": "markdown",
   "metadata": {},
   "source": [
    "## date"
   ]
  },
  {
   "cell_type": "code",
   "execution_count": 16,
   "metadata": {},
   "outputs": [
    {
     "data": {
      "text/plain": [
       "(2013, 6, 17, 0, 0, 0)"
      ]
     },
     "execution_count": 16,
     "metadata": {},
     "output_type": "execute_result"
    }
   ],
   "source": [
    "humanfriendly.parse_date(\"2013-06-17\")"
   ]
  },
  {
   "cell_type": "code",
   "execution_count": 17,
   "metadata": {},
   "outputs": [
    {
     "data": {
      "text/plain": [
       "(2013, 6, 17, 2, 47, 42)"
      ]
     },
     "execution_count": 17,
     "metadata": {},
     "output_type": "execute_result"
    }
   ],
   "source": [
    "humanfriendly.parse_date(\"2013-06-17 02:47:42\")"
   ]
  },
  {
   "cell_type": "markdown",
   "metadata": {},
   "source": [
    "## size"
   ]
  },
  {
   "cell_type": "code",
   "execution_count": 18,
   "metadata": {},
   "outputs": [
    {
     "data": {
      "text/plain": [
       "'1 MB'"
      ]
     },
     "execution_count": 18,
     "metadata": {},
     "output_type": "execute_result"
    }
   ],
   "source": [
    "# 格式化文件大小\n",
    "humanfriendly.format_size(1000 * 1000)"
   ]
  },
  {
   "cell_type": "code",
   "execution_count": 19,
   "metadata": {},
   "outputs": [
    {
     "data": {
      "text/plain": [
       "'1 MiB'"
      ]
     },
     "execution_count": 19,
     "metadata": {},
     "output_type": "execute_result"
    }
   ],
   "source": [
    "# 格式化文件大小\n",
    "humanfriendly.format_size(1024 * 1024, binary=True)"
   ]
  },
  {
   "cell_type": "code",
   "execution_count": 20,
   "metadata": {},
   "outputs": [
    {
     "data": {
      "text/plain": [
       "5000000"
      ]
     },
     "execution_count": 20,
     "metadata": {},
     "output_type": "execute_result"
    }
   ],
   "source": [
    "# 解析文件大小\n",
    "humanfriendly.parse_size(\"5 MB\")"
   ]
  },
  {
   "cell_type": "code",
   "execution_count": 21,
   "metadata": {},
   "outputs": [
    {
     "data": {
      "text/plain": [
       "5242880"
      ]
     },
     "execution_count": 21,
     "metadata": {},
     "output_type": "execute_result"
    }
   ],
   "source": [
    "# 解析文件大小\n",
    "humanfriendly.parse_size(\"5 MB\", binary=True)"
   ]
  },
  {
   "cell_type": "code",
   "execution_count": 22,
   "metadata": {},
   "outputs": [
    {
     "data": {
      "text/plain": [
       "(CombinedUnit(decimal=SizeUnit(divider=1000, symbol='KB', name='kilobyte'), binary=SizeUnit(divider=1024, symbol='KiB', name='kibibyte')),\n",
       " CombinedUnit(decimal=SizeUnit(divider=1000000, symbol='MB', name='megabyte'), binary=SizeUnit(divider=1048576, symbol='MiB', name='mebibyte')),\n",
       " CombinedUnit(decimal=SizeUnit(divider=1000000000, symbol='GB', name='gigabyte'), binary=SizeUnit(divider=1073741824, symbol='GiB', name='gibibyte')),\n",
       " CombinedUnit(decimal=SizeUnit(divider=1000000000000, symbol='TB', name='terabyte'), binary=SizeUnit(divider=1099511627776, symbol='TiB', name='tebibyte')),\n",
       " CombinedUnit(decimal=SizeUnit(divider=1000000000000000, symbol='PB', name='petabyte'), binary=SizeUnit(divider=1125899906842624, symbol='PiB', name='pebibyte')),\n",
       " CombinedUnit(decimal=SizeUnit(divider=1000000000000000000, symbol='EB', name='exabyte'), binary=SizeUnit(divider=1152921504606846976, symbol='EiB', name='exbibyte')),\n",
       " CombinedUnit(decimal=SizeUnit(divider=1000000000000000000000, symbol='ZB', name='zettabyte'), binary=SizeUnit(divider=1180591620717411303424, symbol='ZiB', name='zebibyte')),\n",
       " CombinedUnit(decimal=SizeUnit(divider=1000000000000000000000000, symbol='YB', name='yottabyte'), binary=SizeUnit(divider=1208925819614629174706176, symbol='YiB', name='yobibyte')))"
      ]
     },
     "execution_count": 22,
     "metadata": {},
     "output_type": "execute_result"
    }
   ],
   "source": [
    "humanfriendly.disk_size_units"
   ]
  },
  {
   "cell_type": "markdown",
   "metadata": {},
   "source": [
    "## path"
   ]
  },
  {
   "cell_type": "code",
   "execution_count": 23,
   "metadata": {},
   "outputs": [
    {
     "data": {
      "text/plain": [
       "'c:\\\\Users\\\\Administrator'"
      ]
     },
     "execution_count": 23,
     "metadata": {},
     "output_type": "execute_result"
    }
   ],
   "source": [
    "humanfriendly.format_path(\"c:/Users/Administrator/\")"
   ]
  },
  {
   "cell_type": "code",
   "execution_count": 24,
   "metadata": {},
   "outputs": [
    {
     "data": {
      "text/plain": [
       "'c:\\\\Users\\\\Administrator'"
      ]
     },
     "execution_count": 24,
     "metadata": {},
     "output_type": "execute_result"
    }
   ],
   "source": [
    "humanfriendly.parse_path(\"c:/Users/Administrator/\")"
   ]
  },
  {
   "cell_type": "markdown",
   "metadata": {},
   "source": [
    "# tables"
   ]
  },
  {
   "cell_type": "code",
   "execution_count": 25,
   "metadata": {},
   "outputs": [],
   "source": [
    "from humanfriendly import tables"
   ]
  },
  {
   "cell_type": "code",
   "execution_count": 26,
   "metadata": {},
   "outputs": [],
   "source": [
    "column_names = [\"Version\", \"Uploaded on\", \"Downloads\"]\n",
    "humanfriendly_releases = [\n",
    "    [\"1.23\", \"2015-05-25\", \"218\"],\n",
    "    [\"1.23.1\", \"2015-05-26\", \"1354\"],\n",
    "    [\"1.24\", \"2015-05-26\", \"223\"],\n",
    "    [\"1.25\", \"2015-05-26\", \"4319\"],\n",
    "    [\"1.25.1\", \"2015-06-02\", \"197\"],\n",
    "]"
   ]
  },
  {
   "cell_type": "code",
   "execution_count": 27,
   "metadata": {},
   "outputs": [
    {
     "name": "stdout",
     "output_type": "stream",
     "text": [
      "-----------------------\n",
      "Version: 1.23\n",
      "Uploaded on: 2015-05-25\n",
      "Downloads: 218\n",
      "-----------------------\n",
      "Version: 1.23.1\n",
      "Uploaded on: 2015-05-26\n",
      "Downloads: 1354\n",
      "-----------------------\n",
      "Version: 1.24\n",
      "Uploaded on: 2015-05-26\n",
      "Downloads: 223\n",
      "-----------------------\n",
      "Version: 1.25\n",
      "Uploaded on: 2015-05-26\n",
      "Downloads: 4319\n",
      "-----------------------\n",
      "Version: 1.25.1\n",
      "Uploaded on: 2015-06-02\n",
      "Downloads: 197\n",
      "-----------------------\n"
     ]
    }
   ],
   "source": [
    "print(\n",
    "    tables.format_robust_table(data=humanfriendly_releases, column_names=column_names)\n",
    ")"
   ]
  },
  {
   "cell_type": "code",
   "execution_count": 28,
   "metadata": {},
   "outputs": [
    {
     "name": "stdout",
     "output_type": "stream",
     "text": [
      "-------------------------------------\n",
      "| Version | Uploaded on | Downloads |\n",
      "-------------------------------------\n",
      "| 1.23    | 2015-05-25  |       218 |\n",
      "| 1.23.1  | 2015-05-26  |      1354 |\n",
      "| 1.24    | 2015-05-26  |       223 |\n",
      "| 1.25    | 2015-05-26  |      4319 |\n",
      "| 1.25.1  | 2015-06-02  |       197 |\n",
      "-------------------------------------\n"
     ]
    }
   ],
   "source": [
    "print(\n",
    "    tables.format_pretty_table(data=humanfriendly_releases, column_names=column_names)\n",
    ")"
   ]
  },
  {
   "cell_type": "code",
   "execution_count": 29,
   "metadata": {},
   "outputs": [
    {
     "name": "stdout",
     "output_type": "stream",
     "text": [
      "=======  ===========  =========\n",
      "Version  Uploaded on  Downloads\n",
      "=======  ===========  =========\n",
      "1.23     2015-05-25   218\n",
      "1.23.1   2015-05-26   1354\n",
      "1.24     2015-05-26   223\n",
      "1.25     2015-05-26   4319\n",
      "1.25.1   2015-06-02   197\n",
      "=======  ===========  =========\n"
     ]
    }
   ],
   "source": [
    "print(tables.format_rst_table(data=humanfriendly_releases, column_names=column_names))"
   ]
  },
  {
   "cell_type": "code",
   "execution_count": 30,
   "metadata": {},
   "outputs": [
    {
     "name": "stdout",
     "output_type": "stream",
     "text": [
      "-------------------------------------\n",
      "| Version | Uploaded on | Downloads |\n",
      "-------------------------------------\n",
      "| 1.23    | 2015-05-25  |       218 |\n",
      "| 1.23.1  | 2015-05-26  |      1354 |\n",
      "| 1.24    | 2015-05-26  |       223 |\n",
      "| 1.25    | 2015-05-26  |      4319 |\n",
      "| 1.25.1  | 2015-06-02  |       197 |\n",
      "-------------------------------------\n"
     ]
    }
   ],
   "source": [
    "print(tables.format_smart_table(data=humanfriendly_releases, column_names=column_names))"
   ]
  },
  {
   "cell_type": "code",
   "execution_count": null,
   "metadata": {},
   "outputs": [],
   "source": []
  }
 ],
 "metadata": {
  "kernelspec": {
   "display_name": "pytorch",
   "language": "python",
   "name": "python3"
  },
  "language_info": {
   "codemirror_mode": {
    "name": "ipython",
    "version": 3
   },
   "file_extension": ".py",
   "mimetype": "text/x-python",
   "name": "python",
   "nbconvert_exporter": "python",
   "pygments_lexer": "ipython3",
   "version": "3.11.4"
  }
 },
 "nbformat": 4,
 "nbformat_minor": 2
}
