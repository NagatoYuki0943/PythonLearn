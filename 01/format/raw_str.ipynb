{
 "cells": [
  {
   "cell_type": "code",
   "execution_count": 2,
   "metadata": {},
   "outputs": [
    {
     "data": {
      "text/plain": [
       "'C:\\\\Users\\\\Frostbite\\\\Downloads'"
      ]
     },
     "execution_count": 2,
     "metadata": {},
     "output_type": "execute_result"
    }
   ],
   "source": [
    "# r代表原始字符串\n",
    "path: str = r\"C:\\Users\\Frostbite\\Downloads\"\n",
    "path"
   ]
  },
  {
   "cell_type": "code",
   "execution_count": 3,
   "metadata": {},
   "outputs": [
    {
     "data": {
      "text/plain": [
       "'C:\\\\Users\\\\Frostbite\\\\Downloads\\\\custom'"
      ]
     },
     "execution_count": 3,
     "metadata": {},
     "output_type": "execute_result"
    }
   ],
   "source": [
    "custom_folder: str = \"custom\"\n",
    "## ft rf 都能将f字符串和r字符串同时使用\n",
    "path: str = rf\"C:\\Users\\Frostbite\\Downloads\\{custom_folder}\"\n",
    "path"
   ]
  },
  {
   "cell_type": "code",
   "execution_count": 6,
   "metadata": {},
   "outputs": [
    {
     "name": "stdout",
     "output_type": "stream",
     "text": [
      "C:\\Users\\Frostbite\\Downloads\\custom\n",
      "'C:\\\\Users\\\\Frostbite\\\\Downloads\\\\custom'\n",
      "'C:\\\\Users\\\\Frostbite\\\\Downloads\\\\custom'\n"
     ]
    }
   ],
   "source": [
    "print(f\"{path!s}\")\n",
    "print(f\"{path!r}\")\n",
    "print(f\"{path!a}\")"
   ]
  },
  {
   "cell_type": "code",
   "execution_count": null,
   "metadata": {},
   "outputs": [],
   "source": []
  }
 ],
 "metadata": {
  "kernelspec": {
   "display_name": "pytorch",
   "language": "python",
   "name": "python3"
  },
  "language_info": {
   "codemirror_mode": {
    "name": "ipython",
    "version": 3
   },
   "file_extension": ".py",
   "mimetype": "text/x-python",
   "name": "python",
   "nbconvert_exporter": "python",
   "pygments_lexer": "ipython3",
   "version": "3.11.3"
  }
 },
 "nbformat": 4,
 "nbformat_minor": 2
}
