{
 "cells": [
  {
   "cell_type": "markdown",
   "id": "8c166e75",
   "metadata": {},
   "source": [
    "# 数字格式化"
   ]
  },
  {
   "cell_type": "markdown",
   "id": "e60cb41f",
   "metadata": {},
   "source": [
    "## 整数进制转换"
   ]
  },
  {
   "cell_type": "code",
   "execution_count": 26,
   "id": "646cc32d",
   "metadata": {},
   "outputs": [],
   "source": [
    "num = 10"
   ]
  },
  {
   "cell_type": "code",
   "execution_count": 27,
   "id": "7d9efb08",
   "metadata": {},
   "outputs": [
    {
     "data": {
      "text/plain": [
       "'1010'"
      ]
     },
     "execution_count": 27,
     "metadata": {},
     "output_type": "execute_result"
    }
   ],
   "source": [
    "# 转换为二进制\n",
    "format(num, 'b')"
   ]
  },
  {
   "cell_type": "code",
   "execution_count": 28,
   "id": "40b867d9",
   "metadata": {},
   "outputs": [
    {
     "data": {
      "text/plain": [
       "'12'"
      ]
     },
     "execution_count": 28,
     "metadata": {},
     "output_type": "execute_result"
    }
   ],
   "source": [
    "# 转换为八进制\n",
    "format(num, 'o')"
   ]
  },
  {
   "cell_type": "code",
   "execution_count": 29,
   "id": "5c3b439c",
   "metadata": {},
   "outputs": [
    {
     "data": {
      "text/plain": [
       "'a'"
      ]
     },
     "execution_count": 29,
     "metadata": {},
     "output_type": "execute_result"
    }
   ],
   "source": [
    "# 转换为十六进制\n",
    "format(num, 'x')"
   ]
  },
  {
   "cell_type": "markdown",
   "id": "e817c02b",
   "metadata": {},
   "source": [
    "## 浮点数格式化"
   ]
  },
  {
   "cell_type": "code",
   "execution_count": 10,
   "id": "d07e61ac",
   "metadata": {},
   "outputs": [
    {
     "data": {
      "text/plain": [
       "'3.14'"
      ]
     },
     "execution_count": 10,
     "metadata": {},
     "output_type": "execute_result"
    }
   ],
   "source": [
    "# 保留两位小数\n",
    "pi = 3.1415926\n",
    "format(pi, '.2f')"
   ]
  },
  {
   "cell_type": "code",
   "execution_count": 11,
   "id": "ea866a90",
   "metadata": {},
   "outputs": [
    {
     "data": {
      "text/plain": [
       "'1.23e+09'"
      ]
     },
     "execution_count": 11,
     "metadata": {},
     "output_type": "execute_result"
    }
   ],
   "source": [
    "# 科学计数法\n",
    "large_num = 1234500000.0\n",
    "format(large_num, '.2e')"
   ]
  },
  {
   "cell_type": "code",
   "execution_count": 13,
   "id": "74d69af3",
   "metadata": {},
   "outputs": [
    {
     "data": {
      "text/plain": [
       "'85.0%'"
      ]
     },
     "execution_count": 13,
     "metadata": {},
     "output_type": "execute_result"
    }
   ],
   "source": [
    "# 百分比\n",
    "ratio = 0.85\n",
    "format(ratio, '.1%')"
   ]
  },
  {
   "cell_type": "markdown",
   "id": "46665508",
   "metadata": {},
   "source": [
    "## 对齐、填充与宽度"
   ]
  },
  {
   "cell_type": "code",
   "execution_count": 42,
   "id": "adf4af13",
   "metadata": {},
   "outputs": [
    {
     "data": {
      "text/plain": [
       "'       123'"
      ]
     },
     "execution_count": 42,
     "metadata": {},
     "output_type": "execute_result"
    }
   ],
   "source": [
    "# 右对齐，总宽度为10\n",
    "format(123, '10')"
   ]
  },
  {
   "cell_type": "code",
   "execution_count": null,
   "id": "ba8858b6",
   "metadata": {},
   "outputs": [
    {
     "data": {
      "text/plain": [
       "'       123'"
      ]
     },
     "metadata": {},
     "output_type": "display_data"
    }
   ],
   "source": [
    "# 右对齐，总宽度为10\n",
    "format(123, '>10')"
   ]
  },
  {
   "cell_type": "code",
   "execution_count": 33,
   "id": "cf7dd7f7",
   "metadata": {},
   "outputs": [
    {
     "data": {
      "text/plain": [
       "'0000000123'"
      ]
     },
     "execution_count": 33,
     "metadata": {},
     "output_type": "execute_result"
    }
   ],
   "source": [
    "# 用0填充\n",
    "format(123, '010')"
   ]
  },
  {
   "cell_type": "code",
   "execution_count": 38,
   "id": "f517abe7",
   "metadata": {},
   "outputs": [
    {
     "data": {
      "text/plain": [
       "'0001111011'"
      ]
     },
     "execution_count": 38,
     "metadata": {},
     "output_type": "execute_result"
    }
   ],
   "source": [
    "# 转换为二进制, 用0填充\n",
    "format(123, '010b')"
   ]
  },
  {
   "cell_type": "code",
   "execution_count": 19,
   "id": "d16bb523",
   "metadata": {},
   "outputs": [
    {
     "data": {
      "text/plain": [
       "'*****hello*****'"
      ]
     },
     "execution_count": 19,
     "metadata": {},
     "output_type": "execute_result"
    }
   ],
   "source": [
    "# 居中对齐，总宽度为15，用 '*' 填充\n",
    "format('hello', '*^15')"
   ]
  },
  {
   "cell_type": "code",
   "execution_count": 20,
   "id": "b688df96",
   "metadata": {},
   "outputs": [
    {
     "data": {
      "text/plain": [
       "'-000000123'"
      ]
     },
     "execution_count": 20,
     "metadata": {},
     "output_type": "execute_result"
    }
   ],
   "source": [
    "# 数字符号处理，用 0 填充\n",
    "format(-123, '=010')"
   ]
  },
  {
   "cell_type": "markdown",
   "id": "0e9f728d",
   "metadata": {},
   "source": [
    "## 千位分隔符"
   ]
  },
  {
   "cell_type": "code",
   "execution_count": 21,
   "id": "8d8a34f7",
   "metadata": {},
   "outputs": [
    {
     "data": {
      "text/plain": [
       "'1,234,567,890'"
      ]
     },
     "execution_count": 21,
     "metadata": {},
     "output_type": "execute_result"
    }
   ],
   "source": [
    "# 带分隔符的数字\n",
    "big_number = 1234567890\n",
    "format(big_number, ',')"
   ]
  },
  {
   "cell_type": "code",
   "execution_count": 22,
   "id": "dae6eed0",
   "metadata": {},
   "outputs": [
    {
     "data": {
      "text/plain": [
       "'9,876,543.21'"
      ]
     },
     "execution_count": 22,
     "metadata": {},
     "output_type": "execute_result"
    }
   ],
   "source": [
    "# 也可以用于浮点数\n",
    "money = 9876543.21\n",
    "format(money, ',.2f')"
   ]
  },
  {
   "cell_type": "markdown",
   "id": "a3743eb4",
   "metadata": {},
   "source": [
    "# 日期和时间格式化"
   ]
  },
  {
   "cell_type": "code",
   "execution_count": 23,
   "id": "1823908d",
   "metadata": {},
   "outputs": [
    {
     "data": {
      "text/plain": [
       "datetime.datetime(2025, 9, 5, 12, 0, 27, 355614)"
      ]
     },
     "execution_count": 23,
     "metadata": {},
     "output_type": "execute_result"
    }
   ],
   "source": [
    "from datetime import datetime\n",
    "\n",
    "now = datetime.now()\n",
    "now"
   ]
  },
  {
   "cell_type": "code",
   "execution_count": 24,
   "id": "87385a43",
   "metadata": {},
   "outputs": [
    {
     "data": {
      "text/plain": [
       "'2025-09-05'"
      ]
     },
     "execution_count": 24,
     "metadata": {},
     "output_type": "execute_result"
    }
   ],
   "source": [
    "# datetime 对象也支持 format() 函数，其格式说明符遵循 strftime() 的规则。\n",
    "\n",
    "# 格式化为 年-月-日\n",
    "format(now, '%Y-%m-%d')"
   ]
  },
  {
   "cell_type": "code",
   "execution_count": 25,
   "id": "f2cdbc22",
   "metadata": {},
   "outputs": [
    {
     "data": {
      "text/plain": [
       "'2025-09-05 12:00:27'"
      ]
     },
     "execution_count": 25,
     "metadata": {},
     "output_type": "execute_result"
    }
   ],
   "source": [
    "# 格式化为完整的日期和时间\n",
    "format(now, '%Y-%m-%d %H:%M:%S')"
   ]
  },
  {
   "cell_type": "code",
   "execution_count": null,
   "id": "a8639917",
   "metadata": {},
   "outputs": [],
   "source": []
  }
 ],
 "metadata": {
  "kernelspec": {
   "display_name": "cv",
   "language": "python",
   "name": "python3"
  },
  "language_info": {
   "codemirror_mode": {
    "name": "ipython",
    "version": 3
   },
   "file_extension": ".py",
   "mimetype": "text/x-python",
   "name": "python",
   "nbconvert_exporter": "python",
   "pygments_lexer": "ipython3",
   "version": "3.13.5"
  }
 },
 "nbformat": 4,
 "nbformat_minor": 5
}
