{
 "cells": [
  {
   "cell_type": "markdown",
   "metadata": {},
   "source": [
    "# % 变量赋值"
   ]
  },
  {
   "cell_type": "code",
   "execution_count": 1,
   "metadata": {},
   "outputs": [
    {
     "name": "stdout",
     "output_type": "stream",
     "text": [
      "1\n"
     ]
    }
   ],
   "source": [
    "print(\"%d\" % 1)"
   ]
  },
  {
   "cell_type": "code",
   "execution_count": 2,
   "metadata": {},
   "outputs": [
    {
     "name": "stdout",
     "output_type": "stream",
     "text": [
      "1, 1.300000\n"
     ]
    }
   ],
   "source": [
    "print(\"%d, %f\" % (1, 1.3))"
   ]
  },
  {
   "cell_type": "markdown",
   "metadata": {},
   "source": [
    "# format 变量赋值"
   ]
  },
  {
   "cell_type": "code",
   "execution_count": 3,
   "metadata": {},
   "outputs": [
    {
     "name": "stdout",
     "output_type": "stream",
     "text": [
      "1,a\n"
     ]
    }
   ],
   "source": [
    "print(\"{},{}\".format(1, \"a\"))"
   ]
  },
  {
   "cell_type": "code",
   "execution_count": 4,
   "metadata": {},
   "outputs": [
    {
     "name": "stdout",
     "output_type": "stream",
     "text": [
      "1,a\n"
     ]
    }
   ],
   "source": [
    "print(\"{n},{m}\".format(n=1, m=\"a\"))"
   ]
  },
  {
   "cell_type": "code",
   "execution_count": 13,
   "metadata": {},
   "outputs": [
    {
     "name": "stdout",
     "output_type": "stream",
     "text": [
      "3,2\n"
     ]
    }
   ],
   "source": [
    "# format字符串可以转换为f字符串\n",
    "n = 3\n",
    "m = 2\n",
    "print(f\"{n},{m}\")"
   ]
  },
  {
   "cell_type": "markdown",
   "metadata": {},
   "source": [
    "# 显示有效数字"
   ]
  },
  {
   "cell_type": "code",
   "execution_count": 14,
   "metadata": {},
   "outputs": [],
   "source": [
    "n = 1234.5678"
   ]
  },
  {
   "cell_type": "code",
   "execution_count": null,
   "metadata": {},
   "outputs": [
    {
     "name": "stdout",
     "output_type": "stream",
     "text": [
      "1.2e+03\n"
     ]
    }
   ],
   "source": [
    "# 保留2位数字\n",
    "print(f\"{n:.2}\")"
   ]
  },
  {
   "cell_type": "code",
   "execution_count": null,
   "metadata": {},
   "outputs": [
    {
     "name": "stdout",
     "output_type": "stream",
     "text": [
      "1235\n"
     ]
    }
   ],
   "source": [
    "# 忽略小数\n",
    "print(f\"{n:.0f}\")"
   ]
  },
  {
   "cell_type": "code",
   "execution_count": 16,
   "metadata": {},
   "outputs": [
    {
     "name": "stdout",
     "output_type": "stream",
     "text": [
      "1234.57\n"
     ]
    }
   ],
   "source": [
    "# 保留2位小数\n",
    "print(f\"{n:.2f}\")"
   ]
  },
  {
   "cell_type": "code",
   "execution_count": 17,
   "metadata": {},
   "outputs": [
    {
     "name": "stdout",
     "output_type": "stream",
     "text": [
      "   1234.57\n"
     ]
    }
   ],
   "source": [
    "# 右对齐10位,切保留2为小数\n",
    "print(f\"{n:10.2f}\")"
   ]
  },
  {
   "cell_type": "code",
   "execution_count": 19,
   "metadata": {},
   "outputs": [
    {
     "name": "stdout",
     "output_type": "stream",
     "text": [
      "1,234.57\n"
     ]
    }
   ],
   "source": [
    "# 使用 `,` 分隔千位并保留2位小数\n",
    "print(f\"{n:,.2f}\")"
   ]
  },
  {
   "cell_type": "code",
   "execution_count": 20,
   "metadata": {},
   "outputs": [
    {
     "name": "stdout",
     "output_type": "stream",
     "text": [
      "1_234.57\n"
     ]
    }
   ],
   "source": [
    "# 使用 `_` 分隔千位并保留2位小数\n",
    "print(f\"{n:_.2f}\")"
   ]
  },
  {
   "cell_type": "code",
   "execution_count": 21,
   "metadata": {},
   "outputs": [
    {
     "name": "stdout",
     "output_type": "stream",
     "text": [
      "1_234.57\n"
     ]
    }
   ],
   "source": [
    "# 用变量表示格式\n",
    "spec: str = \"_.2f\"\n",
    "print(f\"{n:{spec}}\")"
   ]
  },
  {
   "cell_type": "markdown",
   "metadata": {},
   "source": [
    "# 大数字分隔符"
   ]
  },
  {
   "cell_type": "code",
   "execution_count": 3,
   "metadata": {},
   "outputs": [
    {
     "name": "stdout",
     "output_type": "stream",
     "text": [
      "1650000000\n"
     ]
    }
   ],
   "source": [
    "# 使用 `_` 分隔大数字\n",
    "n = 1_650_000_000\n",
    "print(n)"
   ]
  },
  {
   "cell_type": "code",
   "execution_count": 4,
   "metadata": {},
   "outputs": [
    {
     "name": "stdout",
     "output_type": "stream",
     "text": [
      "1,650,000,000\n"
     ]
    }
   ],
   "source": [
    "# 使用 `,` 分隔千位符号\n",
    "print(f\"{n:,}\")"
   ]
  },
  {
   "cell_type": "code",
   "execution_count": 5,
   "metadata": {},
   "outputs": [
    {
     "name": "stdout",
     "output_type": "stream",
     "text": [
      "1_650_000_000\n"
     ]
    }
   ],
   "source": [
    "# 使用 `_` 分隔千位符号\n",
    "print(f\"{n:_}\")"
   ]
  },
  {
   "cell_type": "code",
   "execution_count": 7,
   "metadata": {},
   "outputs": [
    {
     "name": "stdout",
     "output_type": "stream",
     "text": [
      "1.650000e+09\n"
     ]
    }
   ],
   "source": [
    "# 科学计数法\n",
    "print(f\"{n:e}\")"
   ]
  },
  {
   "cell_type": "code",
   "execution_count": 11,
   "metadata": {},
   "outputs": [
    {
     "name": "stdout",
     "output_type": "stream",
     "text": [
      "1.65e+09\n"
     ]
    }
   ],
   "source": [
    "# 保留2为有效数字的科学计数法\n",
    "print(f\"{n:.2e}\")"
   ]
  },
  {
   "cell_type": "code",
   "execution_count": null,
   "metadata": {},
   "outputs": [],
   "source": []
  },
  {
   "cell_type": "markdown",
   "metadata": {},
   "source": [
    "# 对齐"
   ]
  },
  {
   "cell_type": "code",
   "execution_count": 19,
   "metadata": {},
   "outputs": [
    {
     "name": "stdout",
     "output_type": "stream",
     "text": [
      "52.1  :\n",
      "52.115123:\n"
     ]
    }
   ],
   "source": [
    "# ':<6' 指定字符串应左对齐，最小宽度填充为 6 个空格\n",
    "print(f\"{52.1:<6}:\")\n",
    "print(f\"{52.115123:<6}:\")  # 超出长度没影响"
   ]
  },
  {
   "cell_type": "code",
   "execution_count": 40,
   "metadata": {},
   "outputs": [
    {
     "name": "stdout",
     "output_type": "stream",
     "text": [
      "52.1______\n"
     ]
    }
   ],
   "source": [
    "# 使用 `_` 填充\n",
    "print(f\"{52.1:_<10}\")"
   ]
  },
  {
   "cell_type": "code",
   "execution_count": 33,
   "metadata": {},
   "outputs": [
    {
     "name": "stdout",
     "output_type": "stream",
     "text": [
      "  52.1\n",
      "52.115123\n"
     ]
    }
   ],
   "source": [
    "# ':>6' 指定字符串应右对齐，最小宽度填充为 6 个空格\n",
    "print(f\"{52.1:>6}\")\n",
    "print(f\"{52.115123:>6}\")  # 超出长度没影响"
   ]
  },
  {
   "cell_type": "code",
   "execution_count": 12,
   "metadata": {},
   "outputs": [
    {
     "name": "stdout",
     "output_type": "stream",
     "text": [
      "  52.1\n",
      "52.115123\n"
     ]
    }
   ],
   "source": [
    "# 忽略 `>` 也是右对齐\n",
    "print(f\"{52.1:6}\")\n",
    "print(f\"{52.115123:6}\")  # 超出长度没影响"
   ]
  },
  {
   "cell_type": "code",
   "execution_count": 41,
   "metadata": {},
   "outputs": [
    {
     "name": "stdout",
     "output_type": "stream",
     "text": [
      "######52.1\n"
     ]
    }
   ],
   "source": [
    "# 使用 `#` 填充\n",
    "print(f\"{52.1:#>10}\")"
   ]
  },
  {
   "cell_type": "code",
   "execution_count": 35,
   "metadata": {},
   "outputs": [
    {
     "name": "stdout",
     "output_type": "stream",
     "text": [
      "  52.1  \n",
      "                                                 52.115123                                                  \n"
     ]
    }
   ],
   "source": [
    "# 中间对齐\n",
    "print(f\"{52.1:^8}\")\n",
    "print(f\"{52.115123:^108}\")  # 超出长度没影响"
   ]
  },
  {
   "cell_type": "code",
   "execution_count": 37,
   "metadata": {},
   "outputs": [
    {
     "name": "stdout",
     "output_type": "stream",
     "text": [
      "|||52.1|||\n"
     ]
    }
   ],
   "source": [
    "print(f\"{52.1:|^10}\")"
   ]
  },
  {
   "cell_type": "markdown",
   "metadata": {},
   "source": [
    "# 简化计算写法"
   ]
  },
  {
   "cell_type": "code",
   "execution_count": 12,
   "metadata": {},
   "outputs": [],
   "source": [
    "a = 1\n",
    "b = 2"
   ]
  },
  {
   "cell_type": "code",
   "execution_count": 13,
   "metadata": {},
   "outputs": [
    {
     "name": "stdout",
     "output_type": "stream",
     "text": [
      "a + b = 3\n"
     ]
    }
   ],
   "source": [
    "print(f\"a + b = {a + b}\")"
   ]
  },
  {
   "cell_type": "code",
   "execution_count": 14,
   "metadata": {},
   "outputs": [
    {
     "name": "stdout",
     "output_type": "stream",
     "text": [
      "a + b = 3\n"
     ]
    }
   ],
   "source": [
    "# 简化写法\n",
    "print(f\"{a + b = }\")"
   ]
  },
  {
   "cell_type": "code",
   "execution_count": 15,
   "metadata": {},
   "outputs": [
    {
     "name": "stdout",
     "output_type": "stream",
     "text": [
      "bool(a + b) = True\n"
     ]
    }
   ],
   "source": [
    "print(f\"{bool(a + b) = }\")"
   ]
  },
  {
   "cell_type": "code",
   "execution_count": 16,
   "metadata": {},
   "outputs": [
    {
     "name": "stdout",
     "output_type": "stream",
     "text": [
      "bool(a) = True\n"
     ]
    }
   ],
   "source": [
    "print(f\"{bool(a) = }\")"
   ]
  },
  {
   "cell_type": "code",
   "execution_count": 17,
   "metadata": {},
   "outputs": [
    {
     "name": "stdout",
     "output_type": "stream",
     "text": [
      "a + b = 0.30000000000000004\n"
     ]
    }
   ],
   "source": [
    "a = 0.1\n",
    "b = 0.2\n",
    "print(f\"{a + b = }\")"
   ]
  },
  {
   "cell_type": "code",
   "execution_count": 18,
   "metadata": {},
   "outputs": [
    {
     "name": "stdout",
     "output_type": "stream",
     "text": [
      "a + b = 0.30\n"
     ]
    }
   ],
   "source": [
    "# 格式化输出\n",
    "print(f\"{a + b = :.2f}\")"
   ]
  },
  {
   "cell_type": "code",
   "execution_count": 21,
   "metadata": {},
   "outputs": [
    {
     "name": "stdout",
     "output_type": "stream",
     "text": [
      "name = Bob\n",
      "name = 'Bob'\n"
     ]
    }
   ],
   "source": [
    "name = \"Bob\"\n",
    "# 解释为字符串\n",
    "print(f\"{name = !s}\")\n",
    "print(f\"{name = }\")"
   ]
  },
  {
   "cell_type": "code",
   "execution_count": 2,
   "metadata": {},
   "outputs": [
    {
     "name": "stdout",
     "output_type": "stream",
     "text": [
      "a\n",
      "'a'\n",
      "'a'\n"
     ]
    }
   ],
   "source": [
    "str1 = \"a\"\n",
    "print(f\"{str1!s}\")\n",
    "print(f\"{str1!r}\")\n",
    "print(f\"{str1!a}\")"
   ]
  },
  {
   "cell_type": "code",
   "execution_count": 3,
   "metadata": {},
   "outputs": [
    {
     "name": "stdout",
     "output_type": "stream",
     "text": [
      "Hello\n",
      "'Hello'\n",
      "'Hello'\n"
     ]
    }
   ],
   "source": [
    "str1 = \"Hello\"\n",
    "print(f\"{str1!s}\")\n",
    "print(f\"{str1!r}\")\n",
    "print(f\"{str1!a}\")"
   ]
  },
  {
   "cell_type": "code",
   "execution_count": null,
   "metadata": {},
   "outputs": [],
   "source": []
  }
 ],
 "metadata": {
  "kernelspec": {
   "display_name": "pytorch",
   "language": "python",
   "name": "python3"
  },
  "language_info": {
   "codemirror_mode": {
    "name": "ipython",
    "version": 3
   },
   "file_extension": ".py",
   "mimetype": "text/x-python",
   "name": "python",
   "nbconvert_exporter": "python",
   "pygments_lexer": "ipython3",
   "version": "3.11.3"
  },
  "orig_nbformat": 4
 },
 "nbformat": 4,
 "nbformat_minor": 2
}
