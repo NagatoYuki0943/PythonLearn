{
 "cells": [
  {
   "cell_type": "code",
   "execution_count": 2,
   "metadata": {},
   "outputs": [],
   "source": [
    "from typing import Any"
   ]
  },
  {
   "cell_type": "code",
   "execution_count": 9,
   "metadata": {},
   "outputs": [],
   "source": [
    "class Book:\n",
    "    def __init__(self, title: str, pages: int) -> None:\n",
    "        self.title = title\n",
    "        self.pages = pages\n",
    "\n",
    "    def __format__(self, format_spec: Any) -> str:\n",
    "        \"\"\"格式化输出\"\"\"\n",
    "        match format_spec:\n",
    "            case 'time':\n",
    "                return f\"{self.pages / 60:.2f}h\"\n",
    "            case 'caps':\n",
    "                return self.title.upper()\n",
    "            case _:\n",
    "                raise ValueError(f\"Unkonwn format for Book()\")"
   ]
  },
  {
   "cell_type": "code",
   "execution_count": 10,
   "metadata": {},
   "outputs": [
    {
     "data": {
      "text/plain": [
       "(<__main__.Book at 0x162c3e4fd10>, <__main__.Book at 0x162c3de0d10>)"
      ]
     },
     "execution_count": 10,
     "metadata": {},
     "output_type": "execute_result"
    }
   ],
   "source": [
    "hairy_potter: Book = Book(\"Very Hairy Potter\", 300)\n",
    "python_daily: Book = Book(\"Python Daily\", 20)\n",
    "hairy_potter, python_daily\n"
   ]
  },
  {
   "cell_type": "code",
   "execution_count": 11,
   "metadata": {},
   "outputs": [
    {
     "name": "stdout",
     "output_type": "stream",
     "text": [
      "VERY HAIRY POTTER\n",
      "5.00h\n"
     ]
    }
   ],
   "source": [
    "# 指定 __format__ 中的内容\n",
    "print(f\"{hairy_potter:caps}\")\n",
    "print(f\"{hairy_potter:time}\")"
   ]
  },
  {
   "cell_type": "code",
   "execution_count": 12,
   "metadata": {},
   "outputs": [
    {
     "name": "stdout",
     "output_type": "stream",
     "text": [
      "PYTHON DAILY\n",
      "0.33h\n"
     ]
    }
   ],
   "source": [
    "# 指定 __format__ 中的内容\n",
    "print(f\"{python_daily:caps}\")\n",
    "print(f\"{python_daily:time}\")"
   ]
  },
  {
   "cell_type": "code",
   "execution_count": null,
   "metadata": {},
   "outputs": [],
   "source": []
  }
 ],
 "metadata": {
  "kernelspec": {
   "display_name": "pytorch",
   "language": "python",
   "name": "python3"
  },
  "language_info": {
   "codemirror_mode": {
    "name": "ipython",
    "version": 3
   },
   "file_extension": ".py",
   "mimetype": "text/x-python",
   "name": "python",
   "nbconvert_exporter": "python",
   "pygments_lexer": "ipython3",
   "version": "3.11.3"
  }
 },
 "nbformat": 4,
 "nbformat_minor": 2
}
