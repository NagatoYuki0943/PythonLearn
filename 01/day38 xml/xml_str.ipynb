{
 "cells": [
  {
   "cell_type": "code",
   "execution_count": 23,
   "metadata": {},
   "outputs": [],
   "source": [
    "import xml.etree.ElementTree as ET\n",
    "from xml.etree.ElementTree import fromstring"
   ]
  },
  {
   "cell_type": "code",
   "execution_count": 24,
   "metadata": {},
   "outputs": [],
   "source": [
    "xml_string = \"\"\"\n",
    "<annotation>\n",
    "\t<folder>VOC2007</folder>\n",
    "\t<filename>000001.jpg</filename>\n",
    "\t<source>\n",
    "\t\t<database>The VOC2007 Database</database>\n",
    "\t\t<annotation>PASCAL VOC2007</annotation>\n",
    "\t\t<image>flickr</image>\n",
    "\t\t<flickrid>341012865</flickrid>\n",
    "\t</source>\n",
    "\t<owner>\n",
    "\t\t<flickrid>Fried Camels</flickrid>\n",
    "\t\t<name>Jinky the Fruit Bat</name>\n",
    "\t</owner>\n",
    "\t<size>\n",
    "\t\t<width>353</width>\n",
    "\t\t<height>500</height>\n",
    "\t\t<depth>3</depth>\n",
    "\t</size>\n",
    "\t<segmented>0</segmented>\n",
    "\t<object>\n",
    "\t\t<name>dog</name>\n",
    "\t\t<pose>Left</pose>\n",
    "\t\t<truncated>1</truncated>\n",
    "\t\t<difficult>0</difficult>\n",
    "\t\t<bndbox>\n",
    "\t\t\t<xmin>48</xmin>\n",
    "\t\t\t<ymin>240</ymin>\n",
    "\t\t\t<xmax>195</xmax>\n",
    "\t\t\t<ymax>371</ymax>\n",
    "\t\t</bndbox>\n",
    "\t</object>\n",
    "</annotation>\n",
    "\"\"\""
   ]
  },
  {
   "cell_type": "code",
   "execution_count": 25,
   "metadata": {},
   "outputs": [
    {
     "data": {
      "text/plain": [
       "<Element 'annotation' at 0x000002596233CC20>"
      ]
     },
     "execution_count": 25,
     "metadata": {},
     "output_type": "execute_result"
    }
   ],
   "source": [
    "fromstring(xml_string) # 相当于tree.getroot()"
   ]
  },
  {
   "cell_type": "code",
   "execution_count": 28,
   "metadata": {},
   "outputs": [
    {
     "name": "stdout",
     "output_type": "stream",
     "text": [
      "<xml.etree.ElementTree.ElementTree object at 0x0000025962056230>\n",
      "<Element 'annotation' at 0x000002596234D3A0>\n"
     ]
    }
   ],
   "source": [
    "with open(\"base.xml\", mode=\"r\", encoding=\"utf-8\") as f:\n",
    "    tree = ET.parse(f)\n",
    "    root = tree.getroot()\n",
    "    print(tree)\n",
    "    print(root)"
   ]
  },
  {
   "cell_type": "code",
   "execution_count": null,
   "metadata": {},
   "outputs": [],
   "source": []
  }
 ],
 "metadata": {
  "kernelspec": {
   "display_name": "pytorch",
   "language": "python",
   "name": "python3"
  },
  "language_info": {
   "codemirror_mode": {
    "name": "ipython",
    "version": 3
   },
   "file_extension": ".py",
   "mimetype": "text/x-python",
   "name": "python",
   "nbconvert_exporter": "python",
   "pygments_lexer": "ipython3",
   "version": "3.10.9"
  },
  "orig_nbformat": 4
 },
 "nbformat": 4,
 "nbformat_minor": 2
}
