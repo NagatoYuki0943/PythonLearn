{
 "cells": [
  {
   "cell_type": "code",
   "execution_count": 1,
   "metadata": {},
   "outputs": [],
   "source": [
    "import os\n",
    "import xml.etree.ElementTree as ET\n",
    "import copy\n",
    "import math\n",
    "import random"
   ]
  },
  {
   "cell_type": "markdown",
   "metadata": {},
   "source": [
    "# 读取标准xml"
   ]
  },
  {
   "cell_type": "code",
   "execution_count": 2,
   "metadata": {},
   "outputs": [
    {
     "data": {
      "text/plain": [
       "<xml.etree.ElementTree.ElementTree at 0x218dfeedc40>"
      ]
     },
     "execution_count": 2,
     "metadata": {},
     "output_type": "execute_result"
    }
   ],
   "source": [
    "with open(\"base.xml\", mode=\"r\", encoding=\"utf-8\") as f:\n",
    "    tree = ET.parse(f)\n",
    "tree"
   ]
  },
  {
   "cell_type": "markdown",
   "metadata": {},
   "source": [
    "## 获取root"
   ]
  },
  {
   "cell_type": "code",
   "execution_count": 3,
   "metadata": {},
   "outputs": [
    {
     "data": {
      "text/plain": [
       "<Element 'annotation' at 0x00000218DFF2D310>"
      ]
     },
     "execution_count": 3,
     "metadata": {},
     "output_type": "execute_result"
    }
   ],
   "source": [
    "root = tree.getroot()\n",
    "root"
   ]
  },
  {
   "cell_type": "markdown",
   "metadata": {},
   "source": [
    "## 查看root属性"
   ]
  },
  {
   "cell_type": "code",
   "execution_count": 4,
   "metadata": {},
   "outputs": [
    {
     "data": {
      "text/plain": [
       "'annotation'"
      ]
     },
     "execution_count": 4,
     "metadata": {},
     "output_type": "execute_result"
    }
   ],
   "source": [
    "root.tag"
   ]
  },
  {
   "cell_type": "code",
   "execution_count": 5,
   "metadata": {},
   "outputs": [
    {
     "data": {
      "text/plain": [
       "{}"
      ]
     },
     "execution_count": 5,
     "metadata": {},
     "output_type": "execute_result"
    }
   ],
   "source": [
    "root.attrib"
   ]
  },
  {
   "cell_type": "markdown",
   "metadata": {},
   "source": [
    "## 查看root的子属性"
   ]
  },
  {
   "cell_type": "code",
   "execution_count": 6,
   "metadata": {},
   "outputs": [
    {
     "data": {
      "text/plain": [
       "'000001.jpg'"
      ]
     },
     "execution_count": 6,
     "metadata": {},
     "output_type": "execute_result"
    }
   ],
   "source": [
    "root.find(\"filename\").text"
   ]
  },
  {
   "cell_type": "markdown",
   "metadata": {},
   "source": [
    "## 查看多级属性"
   ]
  },
  {
   "cell_type": "code",
   "execution_count": 7,
   "metadata": {},
   "outputs": [
    {
     "name": "stdout",
     "output_type": "stream",
     "text": [
      "353\n",
      "500\n",
      "3\n"
     ]
    }
   ],
   "source": [
    "print(root.find(\"size\").find('width').text)\n",
    "print(root.find(\"size\").find('height').text)\n",
    "print(root.find(\"size\").find('depth').text)"
   ]
  },
  {
   "attachments": {},
   "cell_type": "markdown",
   "metadata": {},
   "source": [
    "## 通过 `root.findall()` 或者 `root.iter()` 获取迭代器"
   ]
  },
  {
   "cell_type": "code",
   "execution_count": 8,
   "metadata": {},
   "outputs": [],
   "source": [
    "def find_childrens(root):\n",
    "    # findall和iter效果类似\n",
    "    for obj in root.findall('object'):\n",
    "        print(obj.find(\"name\").text, obj.find(\"bndbox\").find(\"xmin\").text, \\\n",
    "              obj.find(\"bndbox\").find(\"ymin\").text, obj.find(\"bndbox\").find(\"xmax\").text, \\\n",
    "              obj.find(\"bndbox\").find(\"ymax\").text)"
   ]
  },
  {
   "cell_type": "code",
   "execution_count": 9,
   "metadata": {},
   "outputs": [
    {
     "name": "stdout",
     "output_type": "stream",
     "text": [
      "dog 48 240 195 371\n"
     ]
    }
   ],
   "source": [
    "find_childrens(root)"
   ]
  },
  {
   "attachments": {},
   "cell_type": "markdown",
   "metadata": {},
   "source": [
    "## 保存子节点"
   ]
  },
  {
   "cell_type": "code",
   "execution_count": 10,
   "metadata": {},
   "outputs": [
    {
     "name": "stdout",
     "output_type": "stream",
     "text": [
      "dog\n",
      "48\n",
      "240\n",
      "195\n",
      "371\n"
     ]
    }
   ],
   "source": [
    "base_object = copy.deepcopy(root.find(\"object\"))\n",
    "\n",
    "print(base_object.find(\"name\").text)\n",
    "print(base_object.find(\"bndbox\").find(\"xmin\").text)\n",
    "print(base_object.find(\"bndbox\").find(\"ymin\").text)\n",
    "print(base_object.find(\"bndbox\").find(\"xmax\").text)\n",
    "print(base_object.find(\"bndbox\").find(\"ymax\").text)"
   ]
  },
  {
   "cell_type": "markdown",
   "metadata": {},
   "source": [
    "## 删除子节点"
   ]
  },
  {
   "cell_type": "code",
   "execution_count": 11,
   "metadata": {},
   "outputs": [],
   "source": [
    "# 注意: 如果需要多次使用root添加object，每次都要remove，不然就会产生多余的object(之前的全部object)\n",
    "for o in root.findall(\"object\"):\n",
    "    root.remove(o)"
   ]
  },
  {
   "cell_type": "markdown",
   "metadata": {},
   "source": [
    "## 缩进xml"
   ]
  },
  {
   "cell_type": "code",
   "execution_count": 12,
   "metadata": {},
   "outputs": [],
   "source": [
    "def indent(elem, level=0):\n",
    "    \"\"\"缩进xml\n",
    "    https://www.cnblogs.com/muffled/p/3462157.html\n",
    "    \"\"\"\n",
    "    i = \"\\n\" + level*\"\\t\"\n",
    "    if len(elem):\n",
    "        if not elem.text or not elem.text.strip():\n",
    "            elem.text = i + \"\\t\"\n",
    "        if not elem.tail or not elem.tail.strip():\n",
    "            elem.tail = i\n",
    "        for elem in elem:\n",
    "            indent(elem, level+1)\n",
    "        if not elem.tail or not elem.tail.strip():\n",
    "            elem.tail = i\n",
    "    else:\n",
    "        if level and (not elem.tail or not elem.tail.strip()):\n",
    "            elem.tail = i"
   ]
  },
  {
   "cell_type": "markdown",
   "metadata": {},
   "source": [
    "## 插入多个相同的子节点，注意使用deepcopy，不然插入的总是最后一个"
   ]
  },
  {
   "cell_type": "code",
   "execution_count": 13,
   "metadata": {},
   "outputs": [
    {
     "name": "stdout",
     "output_type": "stream",
     "text": [
      "stu_0_0 11.509278080496228 -4.879700884122333 3.9897202079244276 8.327216385083045\n",
      "stu_0_1 8.163189254323486 1.7444920181936343 7.488525272420946 4.9143500677160965\n",
      "stu_1_0 13.632433870883888 0.33280132462587986 13.07772831935247 3.4828325364739374\n",
      "stu_1_1 11.221862206525984 -2.645012626159044 14.39651948625655 5.072257749627924\n",
      "stu_2_0 17.535726234613662 -0.25957426445520415 10.98757110408636 4.534452398453864\n",
      "stu_2_1 15.481282178068444 2.305244587682415 17.42240426988318 1.5139120978798501\n"
     ]
    }
   ],
   "source": [
    "for i in range(3):\n",
    "    # 注意: 如果需要多次使用root添加object，每次都要remove，不然就会产生多余的object(之前的全部object)\n",
    "    for o in root.findall(\"object\"):\n",
    "        root.remove(o)\n",
    "\n",
    "    for j in range(2):\n",
    "        # 防止保存多个object时只保存最后一个\n",
    "        temp_object = copy.deepcopy(base_object) # important!!!\n",
    "\n",
    "        temp_object.find(\"name\").text = \"stu_\" + str(i) + \"_\" + str(j)\n",
    "        temp_object.find(\"bndbox\").find(\"xmin\").text = str(i + math.pi + j + math.pi + random.random() * 10)\n",
    "        temp_object.find(\"bndbox\").find(\"ymin\").text = str(i - math.pi + j - math.pi + random.random() * 10)\n",
    "        temp_object.find(\"bndbox\").find(\"xmax\").text = str(i * math.pi + j * math.pi + random.random() * 10)\n",
    "        temp_object.find(\"bndbox\").find(\"ymax\").text = str(i / math.pi + j / math.pi + random.random() * 10)\n",
    "        root.append(temp_object)\n",
    "\n",
    "    find_childrens(root)\n",
    "\n",
    "    indent(root)\n",
    "\n",
    "    new_tree = ET.ElementTree(root)\n",
    "\n",
    "    new_tree.write(f\"test_{i}.xml\")"
   ]
  },
  {
   "cell_type": "code",
   "execution_count": null,
   "metadata": {},
   "outputs": [],
   "source": []
  }
 ],
 "metadata": {
  "kernelspec": {
   "display_name": "pytorch",
   "language": "python",
   "name": "python3"
  },
  "language_info": {
   "codemirror_mode": {
    "name": "ipython",
    "version": 3
   },
   "file_extension": ".py",
   "mimetype": "text/x-python",
   "name": "python",
   "nbconvert_exporter": "python",
   "pygments_lexer": "ipython3",
   "version": "3.9.15"
  },
  "orig_nbformat": 4,
  "vscode": {
   "interpreter": {
    "hash": "9cf8428aa180ee23632ed7df20f7a595edda7c60e668686876baf89d702ea1cf"
   }
  }
 },
 "nbformat": 4,
 "nbformat_minor": 2
}
