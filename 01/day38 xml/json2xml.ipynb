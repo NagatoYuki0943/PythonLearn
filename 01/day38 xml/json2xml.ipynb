{
 "cells": [
  {
   "cell_type": "code",
   "execution_count": 1,
   "metadata": {},
   "outputs": [],
   "source": [
    "import json\n",
    "import os\n",
    "import xml.etree.ElementTree as ET\n",
    "import copy\n",
    "from tqdm import tqdm\n",
    "from collections import Counter"
   ]
  },
  {
   "cell_type": "code",
   "execution_count": 2,
   "metadata": {},
   "outputs": [],
   "source": [
    "def indent(elem, level=0):\n",
    "    \"\"\"缩进xml\n",
    "    https://www.cnblogs.com/muffled/p/3462157.html\n",
    "    \"\"\"\n",
    "    i = \"\\n\" + level*\"\\t\"\n",
    "    if len(elem):\n",
    "        if not elem.text or not elem.text.strip():\n",
    "            elem.text = i + \"\\t\"\n",
    "        if not elem.tail or not elem.tail.strip():\n",
    "            elem.tail = i\n",
    "        for elem in elem:\n",
    "            indent(elem, level+1)\n",
    "        if not elem.tail or not elem.tail.strip():\n",
    "            elem.tail = i\n",
    "    else:\n",
    "        if level and (not elem.tail or not elem.tail.strip()):\n",
    "            elem.tail = i"
   ]
  },
  {
   "cell_type": "code",
   "execution_count": 3,
   "metadata": {},
   "outputs": [],
   "source": [
    "\n",
    "def json2xml(json_dir: str, xml_dir: str):\n",
    "    # 获取json列表\n",
    "    json_list = os.listdir(json_dir)\n",
    "    json_list = [i for i in json_list if i.endswith(\".json\")]\n",
    "    json_list = sorted(json_list)\n",
    "\n",
    "    # 获取img列表\n",
    "    # img_list = os.listdir(img_dir)\n",
    "    # img_list = [i for i in img_list if i.endswith((\".jpg\", \".jpeg\", \".JPG\", \".JPEG\"))]\n",
    "    # img_list = sorted(img_list)\n",
    "\n",
    "    # assert len(json_list) == len(img_list), \"json文件数量与图片数量不同\"\n",
    "\n",
    "    if not os.path.exists(\"xml\"):\n",
    "        os.makedirs(\"xml\")\n",
    "        print(\"make `xml` dir\")\n",
    "\n",
    "\n",
    "    with open(\"base.xml\", mode=\"r\", encoding=\"utf-8\") as f:\n",
    "        tree = ET.parse(f)\n",
    "    root = tree.getroot()\n",
    "    # 获取临时object\n",
    "    base_object = copy.deepcopy(root.find(\"object\"))\n",
    "\n",
    "    labels = []\n",
    "\n",
    "    # 遍历每个json和图片\n",
    "    # for js, img in tqdm(zip(json_list, img_list), total=len(json_list)):\n",
    "    for js in tqdm(json_list, total=len(json_list)):\n",
    "        # assert js[:-5] == img[:-4], \"json文件数量与图片名字不匹配\"\n",
    "\n",
    "        # 删除全部的object\n",
    "        for o in root.findall(\"object\"):\n",
    "            root.remove(o)\n",
    "\n",
    "        # 保存图片名称\n",
    "        # root.find(\"filename\").text = img\n",
    "\n",
    "        file_path = os.path.join(\"json\", js)\n",
    "        with open(file_path) as f:\n",
    "            d: dict = json.load(f)\n",
    "\n",
    "        root.find(\"filename\").text = d[\"imagePath\"]\n",
    "\n",
    "        # 保存图片大小通道\n",
    "        root.find(\"size\").find('width').text = str(d[\"imageWidth\"])\n",
    "        root.find(\"size\").find('height').text = str(d[\"imageHeight\"])\n",
    "        root.find(\"size\").find('depth').text = str(3)\n",
    "\n",
    "        # 循环遍历保存框\n",
    "        rectangles = d[\"shapes\"]\n",
    "        for rectange in rectangles:\n",
    "            # 将坐标调整为左上角右下角形式\n",
    "            x1 = rectange[\"points\"][0][0]\n",
    "            y1 = rectange[\"points\"][0][1]\n",
    "            x2 = rectange[\"points\"][1][0]\n",
    "            y2 = rectange[\"points\"][1][1]\n",
    "\n",
    "            xmin = round(min(x1, x2))\n",
    "            ymin = round(min(y1, y2))\n",
    "            xmax = round(max(x1, x2))\n",
    "            ymax = round(max(y1, y2))\n",
    "            # print(xmin, ymin, xmax, ymax)\n",
    "\n",
    "            # 需要重新copy,不然多个框只会保存最后一个\n",
    "            temp_object = copy.deepcopy(base_object)\n",
    "            # 保存类别名称和坐标\n",
    "            temp_object.find(\"name\").text = rectange[\"label\"]\n",
    "            # 记录label\n",
    "            labels.append(rectange[\"label\"])\n",
    "\n",
    "            temp_object.find(\"bndbox\").find(\"xmin\").text = str(xmin)\n",
    "            temp_object.find(\"bndbox\").find(\"ymin\").text = str(ymin)\n",
    "            temp_object.find(\"bndbox\").find(\"xmax\").text = str(xmax)\n",
    "            temp_object.find(\"bndbox\").find(\"ymax\").text = str(ymax)\n",
    "\n",
    "            # 将框保存起来\n",
    "            root.append(temp_object)\n",
    "\n",
    "        # for o in root.findall(\"object\"):\n",
    "        #     print(o.find(\"bndbox\").find(\"xmin\").text, o.find(\"bndbox\").find(\"ymin\").text, o.find(\"bndbox\").find(\"xmax\").text, o.find(\"bndbox\").find(\"ymax\").text)\n",
    "\n",
    "        # 缩进root\n",
    "        indent(root)\n",
    "        new_tree = ET.ElementTree(root)\n",
    "        xml_path = os.path.join(xml_dir, js[:-5]+\".xml\")\n",
    "        new_tree.write(xml_path)\n",
    "\n",
    "    # label\n",
    "    counter = Counter(labels)\n",
    "    # return counter list\n",
    "    counter = sorted(counter.items(), key=lambda x:x[0])\n",
    "\n",
    "    for k, v in counter:\n",
    "        print(k, \"=>\", v)\n",
    "\n",
    "    with open(\"label.txt\", \"w\", encoding=\"utf-8\") as f:\n",
    "        for k, v in counter:\n",
    "            f.write(k+\"\\n\")\n",
    "    return counter\n"
   ]
  },
  {
   "cell_type": "code",
   "execution_count": 4,
   "metadata": {},
   "outputs": [
    {
     "name": "stderr",
     "output_type": "stream",
     "text": [
      "100%|██████████| 10/10 [00:00<00:00, 232.55it/s]"
     ]
    },
    {
     "name": "stdout",
     "output_type": "stream",
     "text": [
      "mian_hua_lao_ye_huang_hua => 3\n",
      "mian_hua_ye_pian_lao_hua => 16\n"
     ]
    },
    {
     "name": "stderr",
     "output_type": "stream",
     "text": [
      "\n"
     ]
    }
   ],
   "source": [
    "counter = json2xml(\"json\", \"xml\")"
   ]
  },
  {
   "cell_type": "code",
   "execution_count": 5,
   "metadata": {},
   "outputs": [
    {
     "data": {
      "text/plain": [
       "[('mian_hua_lao_ye_huang_hua', 3), ('mian_hua_ye_pian_lao_hua', 16)]"
      ]
     },
     "execution_count": 5,
     "metadata": {},
     "output_type": "execute_result"
    }
   ],
   "source": [
    "counter"
   ]
  }
 ],
 "metadata": {
  "kernelspec": {
   "display_name": "pytorch",
   "language": "python",
   "name": "python3"
  },
  "language_info": {
   "codemirror_mode": {
    "name": "ipython",
    "version": 3
   },
   "file_extension": ".py",
   "mimetype": "text/x-python",
   "name": "python",
   "nbconvert_exporter": "python",
   "pygments_lexer": "ipython3",
   "version": "3.9.15"
  },
  "orig_nbformat": 4,
  "vscode": {
   "interpreter": {
    "hash": "9cf8428aa180ee23632ed7df20f7a595edda7c60e668686876baf89d702ea1cf"
   }
  }
 },
 "nbformat": 4,
 "nbformat_minor": 2
}
