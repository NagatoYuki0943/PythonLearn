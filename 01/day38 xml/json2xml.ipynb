{
 "cells": [
  {
   "cell_type": "code",
   "execution_count": 48,
   "metadata": {},
   "outputs": [],
   "source": [
    "import json\n",
    "import os\n",
    "import xml.etree.ElementTree as ET\n",
    "import copy\n",
    "from tqdm import tqdm\n",
    "from collections import Counter"
   ]
  },
  {
   "cell_type": "markdown",
   "metadata": {},
   "source": [
    "# json2xml"
   ]
  },
  {
   "cell_type": "code",
   "execution_count": 49,
   "metadata": {},
   "outputs": [],
   "source": [
    "def indent(elem, level=0):\n",
    "    \"\"\"缩进xml\n",
    "    https://www.cnblogs.com/muffled/p/3462157.html\n",
    "    \"\"\"\n",
    "    i = \"\\n\" + level*\"\\t\"\n",
    "    if len(elem):\n",
    "        if not elem.text or not elem.text.strip():\n",
    "            elem.text = i + \"\\t\"\n",
    "        if not elem.tail or not elem.tail.strip():\n",
    "            elem.tail = i\n",
    "        for elem in elem:\n",
    "            indent(elem, level+1)\n",
    "        if not elem.tail or not elem.tail.strip():\n",
    "            elem.tail = i\n",
    "    else:\n",
    "        if level and (not elem.tail or not elem.tail.strip()):\n",
    "            elem.tail = i"
   ]
  },
  {
   "cell_type": "code",
   "execution_count": 50,
   "metadata": {},
   "outputs": [],
   "source": [
    "def json2xml(json_dir: str, xml_dir: str):\n",
    "    # 获取json列表\n",
    "    json_list = os.listdir(json_dir)\n",
    "    json_list = [i for i in json_list if i.endswith(\".json\")]\n",
    "    json_list = sorted(json_list)\n",
    "\n",
    "    # 获取img列表\n",
    "    # img_list = os.listdir(img_dir)\n",
    "    # img_list = [i for i in img_list if i.endswith((\".jpg\", \".jpeg\", \".JPG\", \".JPEG\"))]\n",
    "    # img_list = sorted(img_list)\n",
    "\n",
    "    # assert len(json_list) == len(img_list), \"json文件数量与图片数量不同\"\n",
    "\n",
    "    if not os.path.exists(\"xml\"):\n",
    "        os.makedirs(\"xml\")\n",
    "        print(\"make `xml` dir\")\n",
    "\n",
    "    zero_boxes = []\n",
    "\n",
    "    with open(\"base.xml\", mode=\"r\", encoding=\"utf-8\") as f:\n",
    "        tree = ET.parse(f)\n",
    "    root = tree.getroot()\n",
    "    # 获取临时object\n",
    "    base_object = copy.deepcopy(root.find(\"object\"))\n",
    "\n",
    "    labels = []\n",
    "\n",
    "    # 遍历每个json和图片\n",
    "    # for js, img in tqdm(zip(json_list, img_list), total=len(json_list)):\n",
    "    for js in tqdm(json_list, total=len(json_list)):\n",
    "        # assert js[:-5] == img[:-4], \"json文件数量与图片名字不匹配\"\n",
    "\n",
    "        # 删除全部的object\n",
    "        for o in root.findall(\"object\"):\n",
    "            root.remove(o)\n",
    "\n",
    "        # 保存图片名称\n",
    "        # root.find(\"filename\").text = img\n",
    "\n",
    "        file_path = os.path.join(\"json\", js)\n",
    "\n",
    "        with open(file_path, mode=\"r\", encoding=\"utf-8\") as f:\n",
    "            d: dict = json.load(f)\n",
    "\n",
    "        root.find(\"filename\").text = d[\"imagePath\"]\n",
    "\n",
    "        # 保存图片大小通道\n",
    "        root.find(\"size\").find('width').text = str(d[\"imageWidth\"])\n",
    "        root.find(\"size\").find('height').text = str(d[\"imageHeight\"])\n",
    "        root.find(\"size\").find('depth').text = str(3)\n",
    "\n",
    "        # 循环遍历保存框\n",
    "        rectangles = d[\"shapes\"]\n",
    "        # 没有框记录图片\n",
    "        if len(rectangles) == 0:\n",
    "            zero_boxes.append(js)\n",
    "            continue\n",
    "        for rectange in rectangles:\n",
    "            # 将坐标调整为左上角右下角形式\n",
    "            x1 = rectange[\"points\"][0][0]\n",
    "            y1 = rectange[\"points\"][0][1]\n",
    "            x2 = rectange[\"points\"][1][0]\n",
    "            y2 = rectange[\"points\"][1][1]\n",
    "\n",
    "            xmin = round(min(x1, x2))\n",
    "            ymin = round(min(y1, y2))\n",
    "            xmax = round(max(x1, x2))\n",
    "            ymax = round(max(y1, y2))\n",
    "            # print(xmin, ymin, xmax, ymax)\n",
    "\n",
    "            # 需要重新copy,不然多个框只会保存最后一个\n",
    "            temp_object = copy.deepcopy(base_object)\n",
    "            # 保存类别名称和坐标\n",
    "            temp_object.find(\"name\").text = rectange[\"label\"]\n",
    "            # 记录label\n",
    "            labels.append(rectange[\"label\"])\n",
    "\n",
    "            temp_object.find(\"bndbox\").find(\"xmin\").text = str(xmin)\n",
    "            temp_object.find(\"bndbox\").find(\"ymin\").text = str(ymin)\n",
    "            temp_object.find(\"bndbox\").find(\"xmax\").text = str(xmax)\n",
    "            temp_object.find(\"bndbox\").find(\"ymax\").text = str(ymax)\n",
    "\n",
    "            # 将框保存起来\n",
    "            root.append(temp_object)\n",
    "\n",
    "        # for o in root.findall(\"object\"):\n",
    "        #     print(o.find(\"bndbox\").find(\"xmin\").text, o.find(\"bndbox\").find(\"ymin\").text, o.find(\"bndbox\").find(\"xmax\").text, o.find(\"bndbox\").find(\"ymax\").text)\n",
    "\n",
    "        # 缩进root\n",
    "        indent(root)\n",
    "        new_tree = ET.ElementTree(root)\n",
    "        xml_path = os.path.join(xml_dir, js[:-5]+\".xml\")\n",
    "        new_tree.write(xml_path)\n",
    "\n",
    "    # label\n",
    "    counter = Counter(labels)\n",
    "    # return counter list\n",
    "    counter = sorted(counter.items(), key=lambda x:x[0])\n",
    "\n",
    "    with open(\"label.txt\", \"w\", encoding=\"utf-8\") as f:\n",
    "        for k, v in counter:\n",
    "            f.write(k+\"\\n\")\n",
    "    return counter, zero_boxes\n"
   ]
  },
  {
   "cell_type": "code",
   "execution_count": 51,
   "metadata": {},
   "outputs": [
    {
     "name": "stderr",
     "output_type": "stream",
     "text": [
      "100%|██████████| 5852/5852 [00:19<00:00, 302.67it/s]\n"
     ]
    }
   ],
   "source": [
    "counter, zero_boxes = json2xml(\"json\", \"xml\")"
   ]
  },
  {
   "cell_type": "code",
   "execution_count": 52,
   "metadata": {},
   "outputs": [
    {
     "data": {
      "text/plain": [
       "20"
      ]
     },
     "execution_count": 52,
     "metadata": {},
     "output_type": "execute_result"
    }
   ],
   "source": [
    "len(counter)"
   ]
  },
  {
   "cell_type": "code",
   "execution_count": 53,
   "metadata": {},
   "outputs": [
    {
     "data": {
      "text/plain": [
       "[]"
      ]
     },
     "execution_count": 53,
     "metadata": {},
     "output_type": "execute_result"
    }
   ],
   "source": [
    "zero_boxes"
   ]
  },
  {
   "cell_type": "code",
   "execution_count": 54,
   "metadata": {},
   "outputs": [
    {
     "name": "stdout",
     "output_type": "stream",
     "text": [
      "cao_ling_you_chong => 38\n",
      "hua_ji_ma => 70\n",
      "long_kui => 54\n",
      "ma_chi_xian => 52\n",
      "mian_hua_he_ban_bing => 211\n",
      "mian_hua_huang_wei_bing => 681\n",
      "mian_hua_lao_ye_huang_hua => 52\n",
      "mian_hua_ye_pian_lao_hua => 378\n",
      "mian_ling_chong => 100\n",
      "mian_ling_chong_yezi => 163\n",
      "mian_ya => 4319\n",
      "mian_ye_man => 117\n",
      "piao_chong_cheng_chong => 1182\n",
      "piao_chong_luan => 83\n",
      "piao_chong_yong => 370\n",
      "piao_chong_you_chong => 854\n",
      "shi_ya_ying => 29\n",
      "tian_xuan_hua => 123\n",
      "yan_fen_shi => 40\n",
      "ye_xi_gua_miao => 26\n"
     ]
    }
   ],
   "source": [
    "for k, v in counter:\n",
    "    print(k, \"=>\", v)"
   ]
  },
  {
   "cell_type": "markdown",
   "metadata": {},
   "source": [
    "# 找加密的文件"
   ]
  },
  {
   "cell_type": "code",
   "execution_count": 55,
   "metadata": {},
   "outputs": [
    {
     "name": "stderr",
     "output_type": "stream",
     "text": [
      "100%|██████████| 5852/5852 [00:15<00:00, 365.86it/s] \n"
     ]
    }
   ],
   "source": [
    "def json2xml(json_dir: str):\n",
    "    # 获取json列表\n",
    "    json_list = os.listdir(json_dir)\n",
    "    json_list = [i for i in json_list if i.endswith(\".json\")]\n",
    "    json_list = sorted(json_list)\n",
    "\n",
    "    err_list = []\n",
    "\n",
    "    for js in tqdm(json_list, total=len(json_list)):\n",
    "        file_path = os.path.join(\"json\", js)\n",
    "        try:\n",
    "            with open(file_path, mode=\"r\", encoding=\"utf-8\") as f:\n",
    "                json.load(f)\n",
    "        except:\n",
    "            err_list.append(js)\n",
    "    return err_list\n",
    "err_list = json2xml(\"json\")\n"
   ]
  },
  {
   "cell_type": "code",
   "execution_count": 56,
   "metadata": {},
   "outputs": [
    {
     "data": {
      "text/plain": [
       "0"
      ]
     },
     "execution_count": 56,
     "metadata": {},
     "output_type": "execute_result"
    }
   ],
   "source": [
    "len(err_list)"
   ]
  },
  {
   "cell_type": "code",
   "execution_count": null,
   "metadata": {},
   "outputs": [],
   "source": []
  }
 ],
 "metadata": {
  "kernelspec": {
   "display_name": "pytorch",
   "language": "python",
   "name": "python3"
  },
  "language_info": {
   "codemirror_mode": {
    "name": "ipython",
    "version": 3
   },
   "file_extension": ".py",
   "mimetype": "text/x-python",
   "name": "python",
   "nbconvert_exporter": "python",
   "pygments_lexer": "ipython3",
   "version": "3.9.15"
  },
  "orig_nbformat": 4,
  "vscode": {
   "interpreter": {
    "hash": "9cf8428aa180ee23632ed7df20f7a595edda7c60e668686876baf89d702ea1cf"
   }
  }
 },
 "nbformat": 4,
 "nbformat_minor": 2
}
