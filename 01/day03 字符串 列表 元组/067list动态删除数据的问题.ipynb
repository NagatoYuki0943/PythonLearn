{
 "cells": [
  {
   "cell_type": "markdown",
   "metadata": {},
   "source": [
    "# 测试python动态删除数据"
   ]
  },
  {
   "cell_type": "code",
   "execution_count": 1,
   "metadata": {},
   "outputs": [
    {
     "name": "stdout",
     "output_type": "stream",
     "text": [
      "0 A\n",
      "5\n",
      "1 B\n",
      "5\n",
      "2 C\n",
      "3 E\n",
      "4\n"
     ]
    },
    {
     "data": {
      "text/plain": [
       "[{'name': 'A'}, {'name': 'B'}, {'name': 'E'}]"
      ]
     },
     "execution_count": 1,
     "metadata": {},
     "output_type": "execute_result"
    }
   ],
   "source": [
    "test_data = [\n",
    "    {\"name\": \"A\"},\n",
    "    {\"name\": \"B\"},\n",
    "    {\"name\": \"C\"},\n",
    "    {\"name\": \"D\"},\n",
    "    {\"name\": \"E\"},\n",
    "]\n",
    "\n",
    "new_test_data = []\n",
    "for i, d in enumerate(test_data):\n",
    "    print(i, d[\"name\"])\n",
    "    if d[\"name\"] == \"C\":\n",
    "        test_data.remove(d)\n",
    "        continue\n",
    "    new_test_data.append(d)\n",
    "    print(len(test_data))\n",
    "# name == c 时\n",
    "# 会pop掉自己,长度变短,但是索引累加,会导致跳过数据\n",
    "# ABCDE index=2 => C\n",
    "# index += 1\n",
    "# ABDE  index=3 => E 这一次就是E了,直接跳过了D,动态删除C会导致下一个D被忽略\n",
    "new_test_data  # 可以看到虽然只删除了C,D也被跳过了"
   ]
  },
  {
   "attachments": {},
   "cell_type": "markdown",
   "metadata": {},
   "source": [
    "# 解决办法1: 倒序删除,删除一个数据,其他数据向前移动,不影响前面的数据"
   ]
  },
  {
   "cell_type": "code",
   "execution_count": null,
   "metadata": {},
   "outputs": [
    {
     "name": "stdout",
     "output_type": "stream",
     "text": [
      "0 E\n",
      "5\n",
      "1 D\n",
      "5\n",
      "2 C\n",
      "3 B\n",
      "4\n",
      "4 A\n",
      "4\n"
     ]
    },
    {
     "data": {
      "text/plain": [
       "[{'name': 'A'}, {'name': 'B'}, {'name': 'D'}, {'name': 'E'}]"
      ]
     },
     "metadata": {},
     "output_type": "display_data"
    }
   ],
   "source": [
    "test_data = [\n",
    "    {\"name\": \"A\"},\n",
    "    {\"name\": \"B\"},\n",
    "    {\"name\": \"C\"},\n",
    "    {\"name\": \"D\"},\n",
    "    {\"name\": \"E\"},\n",
    "]\n",
    "\n",
    "new_test_data = []\n",
    "for i, d in enumerate(test_data[::-1]):\n",
    "    print(i, d[\"name\"])\n",
    "    if d[\"name\"] == \"C\":\n",
    "        test_data.remove(d)\n",
    "        continue\n",
    "    new_test_data.append(d)\n",
    "    print(len(test_data))\n",
    "new_test_data[::-1]"
   ]
  },
  {
   "cell_type": "markdown",
   "metadata": {},
   "source": [
    "# 解决办法2: 使用新数组存放新数据,不删除旧数据"
   ]
  },
  {
   "cell_type": "code",
   "execution_count": null,
   "metadata": {},
   "outputs": [
    {
     "name": "stdout",
     "output_type": "stream",
     "text": [
      "0 A\n",
      "1 B\n",
      "2 C\n",
      "3 D\n",
      "4 E\n"
     ]
    },
    {
     "data": {
      "text/plain": [
       "[{'name': 'A'}, {'name': 'B'}, {'name': 'D'}, {'name': 'E'}]"
      ]
     },
     "metadata": {},
     "output_type": "display_data"
    }
   ],
   "source": [
    "test_data = [\n",
    "    {\"name\": \"A\"},\n",
    "    {\"name\": \"B\"},\n",
    "    {\"name\": \"C\"},\n",
    "    {\"name\": \"D\"},\n",
    "    {\"name\": \"E\"},\n",
    "]\n",
    "new_test_data = []\n",
    "for i, d in enumerate(test_data):\n",
    "    print(i, d[\"name\"])\n",
    "    if d[\"name\"] == \"C\":\n",
    "        continue\n",
    "    new_test_data.append(d)\n",
    "new_test_data"
   ]
  }
 ],
 "metadata": {
  "kernelspec": {
   "display_name": "pytorch",
   "language": "python",
   "name": "python3"
  },
  "language_info": {
   "codemirror_mode": {
    "name": "ipython",
    "version": 3
   },
   "file_extension": ".py",
   "mimetype": "text/x-python",
   "name": "python",
   "nbconvert_exporter": "python",
   "pygments_lexer": "ipython3",
   "version": "3.10.9"
  },
  "orig_nbformat": 4
 },
 "nbformat": 4,
 "nbformat_minor": 2
}
