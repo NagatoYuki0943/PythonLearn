{
 "cells": [
  {
   "cell_type": "code",
   "execution_count": 138,
   "metadata": {},
   "outputs": [],
   "source": [
    "import os\n",
    "import xml.etree.ElementTree as ET\n",
    "import copy\n",
    "import math\n",
    "import random"
   ]
  },
  {
   "cell_type": "markdown",
   "metadata": {},
   "source": [
    "# 读取标准xml"
   ]
  },
  {
   "cell_type": "code",
   "execution_count": 139,
   "metadata": {},
   "outputs": [
    {
     "data": {
      "text/plain": [
       "<xml.etree.ElementTree.ElementTree at 0x1250918de70>"
      ]
     },
     "execution_count": 139,
     "metadata": {},
     "output_type": "execute_result"
    }
   ],
   "source": [
    "with open(\"base.xml\", mode=\"r\", encoding=\"utf-8\") as f:\n",
    "    tree = ET.parse(f)\n",
    "tree"
   ]
  },
  {
   "cell_type": "markdown",
   "metadata": {},
   "source": [
    "## 获取root"
   ]
  },
  {
   "cell_type": "code",
   "execution_count": 140,
   "metadata": {},
   "outputs": [
    {
     "data": {
      "text/plain": [
       "<Element 'annotation' at 0x000001250A5E93A0>"
      ]
     },
     "execution_count": 140,
     "metadata": {},
     "output_type": "execute_result"
    }
   ],
   "source": [
    "root = tree.getroot()\n",
    "root"
   ]
  },
  {
   "cell_type": "markdown",
   "metadata": {},
   "source": [
    "## 查看root属性"
   ]
  },
  {
   "cell_type": "code",
   "execution_count": 141,
   "metadata": {},
   "outputs": [
    {
     "data": {
      "text/plain": [
       "'annotation'"
      ]
     },
     "execution_count": 141,
     "metadata": {},
     "output_type": "execute_result"
    }
   ],
   "source": [
    "root.tag"
   ]
  },
  {
   "cell_type": "code",
   "execution_count": 142,
   "metadata": {},
   "outputs": [
    {
     "data": {
      "text/plain": [
       "{}"
      ]
     },
     "execution_count": 142,
     "metadata": {},
     "output_type": "execute_result"
    }
   ],
   "source": [
    "root.attrib"
   ]
  },
  {
   "cell_type": "markdown",
   "metadata": {},
   "source": [
    "## 查看root的子属性"
   ]
  },
  {
   "cell_type": "code",
   "execution_count": 143,
   "metadata": {},
   "outputs": [
    {
     "data": {
      "text/plain": [
       "'000001.jpg'"
      ]
     },
     "execution_count": 143,
     "metadata": {},
     "output_type": "execute_result"
    }
   ],
   "source": [
    "root.find(\"filename\").text"
   ]
  },
  {
   "cell_type": "markdown",
   "metadata": {},
   "source": [
    "## 查看多级属性"
   ]
  },
  {
   "cell_type": "code",
   "execution_count": 144,
   "metadata": {},
   "outputs": [
    {
     "name": "stdout",
     "output_type": "stream",
     "text": [
      "353\n",
      "500\n",
      "3\n"
     ]
    }
   ],
   "source": [
    "print(root.find(\"size\").find(\"width\").text)\n",
    "print(root.find(\"size\").find(\"height\").text)\n",
    "print(root.find(\"size\").find(\"depth\").text)"
   ]
  },
  {
   "attachments": {},
   "cell_type": "markdown",
   "metadata": {},
   "source": [
    "## 通过 `root.findall()` 或者 `root.iter()` 获取迭代器"
   ]
  },
  {
   "cell_type": "code",
   "execution_count": 145,
   "metadata": {},
   "outputs": [],
   "source": [
    "def find_childrens(root):\n",
    "    # findall和iter效果类似\n",
    "    for obj in root.findall(\"object\"):\n",
    "        print(\n",
    "            obj.find(\"name\").text,\n",
    "            obj.find(\"bndbox\").find(\"xmin\").text,\n",
    "            obj.find(\"bndbox\").find(\"ymin\").text,\n",
    "            obj.find(\"bndbox\").find(\"xmax\").text,\n",
    "            obj.find(\"bndbox\").find(\"ymax\").text,\n",
    "        )"
   ]
  },
  {
   "cell_type": "code",
   "execution_count": 146,
   "metadata": {},
   "outputs": [
    {
     "name": "stdout",
     "output_type": "stream",
     "text": [
      "dog 48 240 195 371\n"
     ]
    }
   ],
   "source": [
    "find_childrens(root)"
   ]
  },
  {
   "attachments": {},
   "cell_type": "markdown",
   "metadata": {},
   "source": [
    "## 保存子节点"
   ]
  },
  {
   "cell_type": "code",
   "execution_count": 151,
   "metadata": {},
   "outputs": [
    {
     "name": "stdout",
     "output_type": "stream",
     "text": [
      "stu_2_0\n",
      "13.64582799630811\n",
      "0.9198220949309999\n",
      "9.596629207656255\n",
      "0.8828784201296501\n"
     ]
    }
   ],
   "source": [
    "base_object = copy.deepcopy(root.find(\"object\"))\n",
    "\n",
    "print(base_object.find(\"name\").text)\n",
    "print(base_object.find(\"bndbox\").find(\"xmin\").text)\n",
    "print(base_object.find(\"bndbox\").find(\"ymin\").text)\n",
    "print(base_object.find(\"bndbox\").find(\"xmax\").text)\n",
    "print(base_object.find(\"bndbox\").find(\"ymax\").text)"
   ]
  },
  {
   "cell_type": "markdown",
   "metadata": {},
   "source": [
    "## 删除子节点"
   ]
  },
  {
   "cell_type": "code",
   "execution_count": 152,
   "metadata": {},
   "outputs": [],
   "source": [
    "# 注意: 如果需要多次使用root添加object，每次都要remove，不然就会产生多余的object(之前的全部object)\n",
    "for o in root.findall(\"object\"):\n",
    "    root.remove(o)"
   ]
  },
  {
   "cell_type": "markdown",
   "metadata": {},
   "source": [
    "## 缩进xml"
   ]
  },
  {
   "cell_type": "code",
   "execution_count": 153,
   "metadata": {},
   "outputs": [],
   "source": [
    "def indent(elem, level=0):\n",
    "    \"\"\"缩进xml\n",
    "    https://www.cnblogs.com/muffled/p/3462157.html\n",
    "    \"\"\"\n",
    "    i = \"\\n\" + level * \"\\t\"\n",
    "    if len(elem):\n",
    "        if not elem.text or not elem.text.strip():\n",
    "            elem.text = i + \"\\t\"\n",
    "        if not elem.tail or not elem.tail.strip():\n",
    "            elem.tail = i\n",
    "        for elem in elem:\n",
    "            indent(elem, level + 1)\n",
    "        if not elem.tail or not elem.tail.strip():\n",
    "            elem.tail = i\n",
    "    else:\n",
    "        if level and (not elem.tail or not elem.tail.strip()):\n",
    "            elem.tail = i"
   ]
  },
  {
   "cell_type": "markdown",
   "metadata": {},
   "source": [
    "## 插入多个相同的子节点，注意使用deepcopy，不然插入的总是最后一个"
   ]
  },
  {
   "cell_type": "code",
   "execution_count": 154,
   "metadata": {},
   "outputs": [
    {
     "name": "stdout",
     "output_type": "stream",
     "text": [
      "stu_0_0 14.860877940180245 -3.7586029538221966 7.6231615404153334 8.00178765220383\n",
      "stu_0_1 16.02661609888373 -2.8661137597596893 11.822194914544196 3.748405527621662\n",
      "stu_1_0 14.26848849722007 -1.8457651451677943 6.608109819598996 6.649595938427941\n",
      "stu_1_1 14.420674818930102 -2.2090090325481744 10.560970399808085 7.055940078607612\n",
      "stu_2_0 10.859530520468994 -2.819998182621188 10.801228099068194 2.2750233133030493\n",
      "stu_2_1 12.123431800682674 3.6021312169864963 10.688701881391488 4.695713928190694\n"
     ]
    }
   ],
   "source": [
    "for i in range(3):\n",
    "    # 注意: 如果需要多次使用root添加object，每次都要remove，不然就会产生多余的object(之前的全部object)\n",
    "    for o in root.findall(\"object\"):\n",
    "        root.remove(o)\n",
    "\n",
    "    for j in range(2):\n",
    "        # 防止保存多个object时只保存最后一个\n",
    "        temp_object = copy.deepcopy(base_object)  # important!!!\n",
    "\n",
    "        temp_object.find(\"name\").text = \"stu_\" + str(i) + \"_\" + str(j)\n",
    "        temp_object.find(\"bndbox\").find(\"xmin\").text = str(\n",
    "            i + math.pi + j + math.pi + random.random() * 10\n",
    "        )\n",
    "        temp_object.find(\"bndbox\").find(\"ymin\").text = str(\n",
    "            i - math.pi + j - math.pi + random.random() * 10\n",
    "        )\n",
    "        temp_object.find(\"bndbox\").find(\"xmax\").text = str(\n",
    "            i * math.pi + j * math.pi + random.random() * 10\n",
    "        )\n",
    "        temp_object.find(\"bndbox\").find(\"ymax\").text = str(\n",
    "            i / math.pi + j / math.pi + random.random() * 10\n",
    "        )\n",
    "        root.append(temp_object)\n",
    "\n",
    "    find_childrens(root)\n",
    "\n",
    "    indent(root)\n",
    "\n",
    "    new_tree = ET.ElementTree(root)\n",
    "\n",
    "    # 打开使用utf-8,写入时也需要utf-8\n",
    "    new_tree.write(f\"test_{i}.xml\", encoding=\"utf-8\")"
   ]
  },
  {
   "cell_type": "code",
   "execution_count": null,
   "metadata": {},
   "outputs": [],
   "source": []
  }
 ],
 "metadata": {
  "kernelspec": {
   "display_name": "pytorch",
   "language": "python",
   "name": "python3"
  },
  "language_info": {
   "codemirror_mode": {
    "name": "ipython",
    "version": 3
   },
   "file_extension": ".py",
   "mimetype": "text/x-python",
   "name": "python",
   "nbconvert_exporter": "python",
   "pygments_lexer": "ipython3",
   "version": "3.10.9"
  },
  "orig_nbformat": 4,
  "vscode": {
   "interpreter": {
    "hash": "9cf8428aa180ee23632ed7df20f7a595edda7c60e668686876baf89d702ea1cf"
   }
  }
 },
 "nbformat": 4,
 "nbformat_minor": 2
}
