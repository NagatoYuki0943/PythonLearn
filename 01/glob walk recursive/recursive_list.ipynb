{
 "cells": [
  {
   "cell_type": "markdown",
   "metadata": {},
   "source": [
    "# 创建文件"
   ]
  },
  {
   "cell_type": "code",
   "execution_count": 1,
   "metadata": {},
   "outputs": [],
   "source": [
    "from pathlib import Path"
   ]
  },
  {
   "cell_type": "code",
   "execution_count": 2,
   "metadata": {},
   "outputs": [
    {
     "data": {
      "text/plain": [
       "27"
      ]
     },
     "execution_count": 2,
     "metadata": {},
     "output_type": "execute_result"
    }
   ],
   "source": [
    "# 创建一个 Path 对象代表主文件夹\n",
    "folder = Path(\"dataset\")\n",
    "folder.mkdir(exist_ok=True, parents=True)\n",
    "\n",
    "(folder / \"zoom.txt\").write_text(\"Zoom meeting recording\")\n",
    "\n",
    "# 使用 '/' 操作符构建子文件夹路径\n",
    "flowers_folder = folder / \"flowers\"\n",
    "flowers_folder.mkdir(exist_ok=True, parents=True)\n",
    "rose_folder = flowers_folder / \"rose\"\n",
    "rose_folder.mkdir(exist_ok=True, parents=True)\n",
    "(rose_folder / \"rose1.txt\").write_text(\"Rose blooming in May\")\n",
    "(rose_folder / \"rose2.txt\").write_text(\"Rose blooming in June\")\n",
    "violet_folder = flowers_folder / \"violet\"\n",
    "violet_folder.mkdir(exist_ok=True, parents=True)\n",
    "(violet_folder / \"violet1.txt\").write_text(\"Violet blooming in July\")\n",
    "(violet_folder / \"violet2.txt\").write_text(\"Violet blooming in August\")\n",
    "\n",
    "trees_folder = folder / \"trees\"\n",
    "trees_folder.mkdir(exist_ok=True, parents=True)\n",
    "poplar_folder = trees_folder / \"poplar\"\n",
    "poplar_folder.mkdir(exist_ok=True, parents=True)\n",
    "(poplar_folder / \"poplar1.txt\").write_text(\"Poplar blooming in September\")\n",
    "(poplar_folder / \"poplar2.txt\").write_text(\"Poplar blooming in October\")\n",
    "willow_folder = trees_folder / \"willow\"\n",
    "willow_folder.mkdir(exist_ok=True, parents=True)\n",
    "(willow_folder / \"willow1.txt\").write_text(\"Willow blooming in November\")\n",
    "(willow_folder / \"willow2.txt\").write_text(\"Willow blooming in December\")"
   ]
  },
  {
   "attachments": {},
   "cell_type": "markdown",
   "metadata": {},
   "source": [
    "# glob\n",
    "\n",
    "glob中支持的通配符有三种：\n",
    "- \"*\" 匹配0个或多个字符\n",
    "- \"?\" 仅匹配一个字符\n",
    "- \"[]\" 匹配指定范围内的字符，如[0-9]匹配数字"
   ]
  },
  {
   "cell_type": "code",
   "execution_count": 5,
   "metadata": {},
   "outputs": [],
   "source": [
    "from glob import glob"
   ]
  },
  {
   "cell_type": "code",
   "execution_count": 6,
   "metadata": {},
   "outputs": [
    {
     "data": {
      "text/plain": [
       "['dataset\\\\flowers', 'dataset\\\\trees', 'dataset\\\\zoom.txt']"
      ]
     },
     "execution_count": 6,
     "metadata": {},
     "output_type": "execute_result"
    }
   ],
   "source": [
    "glob(\"dataset/*\")"
   ]
  },
  {
   "cell_type": "code",
   "execution_count": 7,
   "metadata": {},
   "outputs": [
    {
     "data": {
      "text/plain": [
       "['dataset\\\\flowers', 'dataset\\\\trees', 'dataset\\\\zoom.txt']"
      ]
     },
     "execution_count": 7,
     "metadata": {},
     "output_type": "execute_result"
    }
   ],
   "source": [
    "glob(\"dataset/**\")"
   ]
  },
  {
   "cell_type": "code",
   "execution_count": 8,
   "metadata": {},
   "outputs": [
    {
     "data": {
      "text/plain": [
       "['dataset\\\\flowers\\\\rose',\n",
       " 'dataset\\\\flowers\\\\violet',\n",
       " 'dataset\\\\trees\\\\poplar',\n",
       " 'dataset\\\\trees\\\\willow']"
      ]
     },
     "execution_count": 8,
     "metadata": {},
     "output_type": "execute_result"
    }
   ],
   "source": [
    "glob(\"dataset/*/*\")"
   ]
  },
  {
   "cell_type": "code",
   "execution_count": 9,
   "metadata": {},
   "outputs": [
    {
     "data": {
      "text/plain": [
       "['dataset\\\\flowers\\\\rose',\n",
       " 'dataset\\\\flowers\\\\violet',\n",
       " 'dataset\\\\trees\\\\poplar',\n",
       " 'dataset\\\\trees\\\\willow']"
      ]
     },
     "execution_count": 9,
     "metadata": {},
     "output_type": "execute_result"
    }
   ],
   "source": [
    "glob(\"dataset/**/**\")"
   ]
  },
  {
   "cell_type": "code",
   "execution_count": 10,
   "metadata": {},
   "outputs": [
    {
     "data": {
      "text/plain": [
       "['dataset\\\\flowers\\\\rose\\\\rose1.txt',\n",
       " 'dataset\\\\flowers\\\\rose\\\\rose2.txt',\n",
       " 'dataset\\\\flowers\\\\violet\\\\violet1.txt',\n",
       " 'dataset\\\\flowers\\\\violet\\\\violet2.txt',\n",
       " 'dataset\\\\trees\\\\poplar\\\\poplar1.txt',\n",
       " 'dataset\\\\trees\\\\poplar\\\\poplar2.txt',\n",
       " 'dataset\\\\trees\\\\willow\\\\willow1.txt',\n",
       " 'dataset\\\\trees\\\\willow\\\\willow2.txt']"
      ]
     },
     "execution_count": 10,
     "metadata": {},
     "output_type": "execute_result"
    }
   ],
   "source": [
    "glob(\"dataset/*/*/*.txt\")"
   ]
  },
  {
   "cell_type": "code",
   "execution_count": 11,
   "metadata": {},
   "outputs": [
    {
     "data": {
      "text/plain": [
       "['dataset\\\\flowers\\\\rose\\\\rose1.txt',\n",
       " 'dataset\\\\flowers\\\\rose\\\\rose2.txt',\n",
       " 'dataset\\\\flowers\\\\violet\\\\violet1.txt',\n",
       " 'dataset\\\\flowers\\\\violet\\\\violet2.txt',\n",
       " 'dataset\\\\trees\\\\poplar\\\\poplar1.txt',\n",
       " 'dataset\\\\trees\\\\poplar\\\\poplar2.txt',\n",
       " 'dataset\\\\trees\\\\willow\\\\willow1.txt',\n",
       " 'dataset\\\\trees\\\\willow\\\\willow2.txt']"
      ]
     },
     "execution_count": 11,
     "metadata": {},
     "output_type": "execute_result"
    }
   ],
   "source": [
    "glob(\"dataset/**/**/*.txt\")"
   ]
  },
  {
   "cell_type": "code",
   "execution_count": 12,
   "metadata": {},
   "outputs": [
    {
     "data": {
      "text/plain": [
       "[]"
      ]
     },
     "execution_count": 12,
     "metadata": {},
     "output_type": "execute_result"
    }
   ],
   "source": [
    "# 不能用 ** 代替多级别目录\n",
    "glob(\"dataset/**/*.txt\")"
   ]
  },
  {
   "cell_type": "markdown",
   "metadata": {},
   "source": [
    "# Path"
   ]
  },
  {
   "cell_type": "code",
   "execution_count": 7,
   "metadata": {},
   "outputs": [],
   "source": [
    "from pathlib import Path"
   ]
  },
  {
   "cell_type": "code",
   "execution_count": 8,
   "metadata": {},
   "outputs": [
    {
     "data": {
      "text/plain": [
       "WindowsPath('dataset')"
      ]
     },
     "execution_count": 8,
     "metadata": {},
     "output_type": "execute_result"
    }
   ],
   "source": [
    "path = Path(\"dataset\")\n",
    "path"
   ]
  },
  {
   "attachments": {},
   "cell_type": "markdown",
   "metadata": {},
   "source": [
    "## Path.glob"
   ]
  },
  {
   "cell_type": "code",
   "execution_count": 15,
   "metadata": {},
   "outputs": [
    {
     "name": "stdout",
     "output_type": "stream",
     "text": [
      "dataset\\flowers\\rose\\rose1.txt\n",
      "dataset\\flowers\\rose\\rose2.txt\n",
      "dataset\\flowers\\violet\\violet1.txt\n",
      "dataset\\flowers\\violet\\violet2.txt\n",
      "dataset\\trees\\poplar\\poplar1.txt\n",
      "dataset\\trees\\poplar\\poplar2.txt\n",
      "dataset\\trees\\willow\\willow1.txt\n",
      "dataset\\trees\\willow\\willow2.txt\n"
     ]
    }
   ],
   "source": [
    "gl = path.glob(\"*/*/*.txt\")\n",
    "for g in gl:\n",
    "    print(g)"
   ]
  },
  {
   "cell_type": "code",
   "execution_count": 16,
   "metadata": {},
   "outputs": [
    {
     "name": "stdout",
     "output_type": "stream",
     "text": [
      "dataset\\zoom.txt\n",
      "dataset\\flowers\\rose\\rose1.txt\n",
      "dataset\\flowers\\rose\\rose2.txt\n",
      "dataset\\flowers\\violet\\violet1.txt\n",
      "dataset\\flowers\\violet\\violet2.txt\n",
      "dataset\\trees\\poplar\\poplar1.txt\n",
      "dataset\\trees\\poplar\\poplar2.txt\n",
      "dataset\\trees\\willow\\willow1.txt\n",
      "dataset\\trees\\willow\\willow2.txt\n"
     ]
    }
   ],
   "source": [
    "# pathlib glob ** 用于匹配任意层级的目录\n",
    "gl = path.glob(\"**/**/*.txt\")\n",
    "for g in gl:\n",
    "    print(g)"
   ]
  },
  {
   "cell_type": "code",
   "execution_count": 17,
   "metadata": {},
   "outputs": [
    {
     "name": "stdout",
     "output_type": "stream",
     "text": [
      "dataset\\zoom.txt\n",
      "dataset\\flowers\\rose\\rose1.txt\n",
      "dataset\\flowers\\rose\\rose2.txt\n",
      "dataset\\flowers\\violet\\violet1.txt\n",
      "dataset\\flowers\\violet\\violet2.txt\n",
      "dataset\\trees\\poplar\\poplar1.txt\n",
      "dataset\\trees\\poplar\\poplar2.txt\n",
      "dataset\\trees\\willow\\willow1.txt\n",
      "dataset\\trees\\willow\\willow2.txt\n"
     ]
    }
   ],
   "source": [
    "# pathlib glob ** 用于匹配任意层级的目录\n",
    "gl = path.glob(\"**/*.txt\")\n",
    "for g in gl:\n",
    "    print(g)"
   ]
  },
  {
   "cell_type": "markdown",
   "metadata": {},
   "source": [
    "## Path.rglob method is used to recursively list all files and directories in a directory."
   ]
  },
  {
   "cell_type": "code",
   "execution_count": 19,
   "metadata": {},
   "outputs": [
    {
     "name": "stdout",
     "output_type": "stream",
     "text": [
      "dataset\\zoom.txt\n",
      "dataset\\flowers\\rose\\rose1.txt\n",
      "dataset\\flowers\\rose\\rose2.txt\n",
      "dataset\\flowers\\violet\\violet1.txt\n",
      "dataset\\flowers\\violet\\violet2.txt\n",
      "dataset\\trees\\poplar\\poplar1.txt\n",
      "dataset\\trees\\poplar\\poplar2.txt\n",
      "dataset\\trees\\willow\\willow1.txt\n",
      "dataset\\trees\\willow\\willow2.txt\n"
     ]
    }
   ],
   "source": [
    "gl = path.rglob(\"*.txt\")\n",
    "for g in gl:\n",
    "    print(g)"
   ]
  },
  {
   "cell_type": "markdown",
   "metadata": {},
   "source": [
    "## Path.walk"
   ]
  },
  {
   "cell_type": "code",
   "execution_count": 9,
   "metadata": {},
   "outputs": [
    {
     "name": "stdout",
     "output_type": "stream",
     "text": [
      "filepath: dataset, dirnames: ['flowers', 'trees'], filenames: ['zoom.txt']\n",
      "filepath: dataset\\flowers, dirnames: ['rose', 'violet'], filenames: []\n",
      "filepath: dataset\\flowers\\rose, dirnames: [], filenames: ['rose1.txt', 'rose2.txt']\n",
      "filepath: dataset\\flowers\\violet, dirnames: [], filenames: ['violet1.txt', 'violet2.txt']\n",
      "filepath: dataset\\trees, dirnames: ['poplar', 'willow'], filenames: []\n",
      "filepath: dataset\\trees\\poplar, dirnames: [], filenames: ['poplar1.txt', 'poplar2.txt']\n",
      "filepath: dataset\\trees\\willow, dirnames: [], filenames: ['willow1.txt', 'willow2.txt']\n"
     ]
    }
   ],
   "source": [
    "for filepath, dirnames, filenames in path.walk(\n",
    "    top_down=True, on_error=None, follow_symlinks=False\n",
    "):\n",
    "    # 遍历的路径, 路径内的目录,  路径内的文件\n",
    "    print(f\"filepath: {filepath}, dirnames: {dirnames}, filenames: {filenames}\")"
   ]
  },
  {
   "cell_type": "markdown",
   "metadata": {},
   "source": [
    "# os.walk"
   ]
  },
  {
   "cell_type": "code",
   "execution_count": null,
   "metadata": {},
   "outputs": [],
   "source": [
    "import os"
   ]
  },
  {
   "cell_type": "code",
   "execution_count": null,
   "metadata": {},
   "outputs": [
    {
     "name": "stdout",
     "output_type": "stream",
     "text": [
      "filepath: ./, dirnames: ['dataset'], filenames: ['recursive_list.ipynb']\n",
      "filepath: ./dataset, dirnames: ['flowers', 'trees'], filenames: ['zoom.txt']\n",
      "filepath: ./dataset\\flowers, dirnames: ['rose', 'violet'], filenames: []\n",
      "filepath: ./dataset\\flowers\\rose, dirnames: [], filenames: ['rose1.txt', 'rose2.txt']\n",
      "filepath: ./dataset\\flowers\\violet, dirnames: [], filenames: ['violet1.txt', 'violet2.txt']\n",
      "filepath: ./dataset\\trees, dirnames: ['poplar', 'willow'], filenames: []\n",
      "filepath: ./dataset\\trees\\poplar, dirnames: [], filenames: ['poplar1.txt', 'poplar2.txt']\n",
      "filepath: ./dataset\\trees\\willow, dirnames: [], filenames: ['willow1.txt', 'willow2.txt']\n"
     ]
    }
   ],
   "source": [
    "for filepath, dirnames, filenames in os.walk(\"./\"):\n",
    "    # 遍历的路径, 路径内的目录,  路径内的文件\n",
    "    print(f\"filepath: {filepath}, dirnames: {dirnames}, filenames: {filenames}\")"
   ]
  },
  {
   "cell_type": "code",
   "execution_count": null,
   "metadata": {},
   "outputs": [],
   "source": []
  }
 ],
 "metadata": {
  "kernelspec": {
   "display_name": "pytorch",
   "language": "python",
   "name": "python3"
  },
  "language_info": {
   "codemirror_mode": {
    "name": "ipython",
    "version": 3
   },
   "file_extension": ".py",
   "mimetype": "text/x-python",
   "name": "python",
   "nbconvert_exporter": "python",
   "pygments_lexer": "ipython3",
   "version": "3.12.11"
  },
  "orig_nbformat": 4
 },
 "nbformat": 4,
 "nbformat_minor": 2
}
