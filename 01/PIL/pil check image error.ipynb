{
 "cells": [
  {
   "cell_type": "code",
   "execution_count": 1,
   "metadata": {},
   "outputs": [],
   "source": [
    "import os\n",
    "from PIL import Image\n",
    "from tqdm import tqdm\n",
    "from shutil import copy, move"
   ]
  },
  {
   "cell_type": "code",
   "execution_count": 2,
   "metadata": {},
   "outputs": [],
   "source": [
    "image_dir = \"BingWallpapers\"\n",
    "error_image_dir = \"error_images\"\n",
    "os.makedirs(error_image_dir, exist_ok=True)"
   ]
  },
  {
   "cell_type": "code",
   "execution_count": 3,
   "metadata": {},
   "outputs": [
    {
     "data": {
      "text/plain": [
       "['20180210.jpg',\n",
       " '20180214.jpg',\n",
       " '20180221.jpg',\n",
       " '20180224.jpg',\n",
       " '20180225.jpg',\n",
       " '20180226.jpg',\n",
       " '20180227.jpg',\n",
       " '20180301.jpg',\n",
       " '20180303.jpg',\n",
       " '20180304.jpg']"
      ]
     },
     "execution_count": 3,
     "metadata": {},
     "output_type": "execute_result"
    }
   ],
   "source": [
    "images = os.listdir(image_dir)\n",
    "images = [image for image in images if image.endswith((\"jpg\", \"jpeg\", \"png\", \"bmp\", \"gif\"))]\n",
    "images[:10]"
   ]
  },
  {
   "cell_type": "code",
   "execution_count": 4,
   "metadata": {},
   "outputs": [
    {
     "name": "stderr",
     "output_type": "stream",
     "text": [
      "100%|██████████| 1751/1751 [01:09<00:00, 25.26it/s]\n"
     ]
    }
   ],
   "source": [
    "error_images = []\n",
    "for image in tqdm(images):\n",
    "    image_path = os.path.join(image_dir, image)\n",
    "    try:\n",
    "        # 通过载入或改变图片查看图片错误\n",
    "        img = Image.open(image_path)\n",
    "        img.convert(\"RGB\")\n",
    "        img.close()\n",
    "    except:\n",
    "        error_images.append(image)"
   ]
  },
  {
   "cell_type": "code",
   "execution_count": 5,
   "metadata": {},
   "outputs": [
    {
     "name": "stdout",
     "output_type": "stream",
     "text": [
      "20191217.jpg\n",
      "20200314.jpg\n",
      "20200713.jpg\n",
      "20200714.jpg\n",
      "20200717.jpg\n",
      "20200718.jpg\n",
      "20200719.jpg\n",
      "20200727.jpg\n",
      "20200728.jpg\n",
      "20210308.jpg\n"
     ]
    }
   ],
   "source": [
    "for e in error_images:\n",
    "    print(e)\n",
    "    # 移动错误图片\n",
    "    ori_path = os.path.join(image_dir, e)\n",
    "    dst_path = os.path.join(error_image_dir, image)\n",
    "    move(ori_path, dst_path)"
   ]
  },
  {
   "cell_type": "code",
   "execution_count": null,
   "metadata": {},
   "outputs": [],
   "source": []
  }
 ],
 "metadata": {
  "kernelspec": {
   "display_name": "pytorch",
   "language": "python",
   "name": "python3"
  },
  "language_info": {
   "codemirror_mode": {
    "name": "ipython",
    "version": 3
   },
   "file_extension": ".py",
   "mimetype": "text/x-python",
   "name": "python",
   "nbconvert_exporter": "python",
   "pygments_lexer": "ipython3",
   "version": "3.10.10"
  },
  "orig_nbformat": 4
 },
 "nbformat": 4,
 "nbformat_minor": 2
}
