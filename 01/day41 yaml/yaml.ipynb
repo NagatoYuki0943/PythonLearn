{
 "cells": [
  {
   "cell_type": "code",
   "execution_count": 1,
   "metadata": {},
   "outputs": [],
   "source": [
    "import yaml"
   ]
  },
  {
   "cell_type": "code",
   "execution_count": 2,
   "metadata": {},
   "outputs": [
    {
     "data": {
      "text/plain": [
       "{'One': 1,\n",
       " 'one': 2,\n",
       " 'indent': {'a': 1, 'indent1': {'b': 2, 'c': 3}},\n",
       " 'key1': {'child-key1': 'value1', 'child-key2': 'value2'},\n",
       " 'key2': {'child-key1': 'value1', 'child-key2': 'value2'},\n",
       " 'array1': [1, 2, 3],\n",
       " 'array2': [2, 3, 4],\n",
       " 'array3': [[1, 2, 3], [4, 5, 6]],\n",
       " 'array4': [[2, 3, 4], [5, 6, 7]],\n",
       " 'strings': ['Hello without quote',\n",
       "  'Hello world',\n",
       "  'Hello with single quotes',\n",
       "  'Hello with double quotes',\n",
       "  'I am fine. ☺',\n",
       "  '\\r\\n is \\r\\n',\n",
       "  'He said: \"Hello!\"'],\n",
       " 'lines': '我是第一行 我也是第一行 我仍是第一行 我依旧是第一行\\n我是第二行 这么巧我也是第二行\\n',\n",
       " 'boolean': [True, True, True, True, False, False, False, False],\n",
       " 'int': [666, 4096],\n",
       " 'float': [3.14, 685230.15],\n",
       " 'nulls': [None, None, None, None],\n",
       " 'a': 666.0,\n",
       " 'b': '666',\n",
       " 'c': '666',\n",
       " 'd': '666.66',\n",
       " 'e': 'true',\n",
       " 'f': 'yes',\n",
       " 'g': 'false',\n",
       " 'h': 'no',\n",
       " 'date1': datetime.date(2020, 5, 26),\n",
       " 'date2': datetime.datetime(2020, 5, 26, 1, 0, tzinfo=datetime.timezone(datetime.timedelta(seconds=28800))),\n",
       " 'dete3': datetime.datetime(2020, 5, 26, 2, 0, 0, 100000, tzinfo=datetime.timezone(datetime.timedelta(seconds=28800))),\n",
       " 'date4': datetime.datetime(2020, 5, 26, 3, 0, 0, 100000, tzinfo=datetime.timezone(datetime.timedelta(seconds=28800))),\n",
       " 'anchor1': {'one': 1, 'two': 2, 'three': 3},\n",
       " 'link1': {'one': 1, 'two': 2, 'three': 3},\n",
       " 'human': {'body': 1, 'hair': 999},\n",
       " 'singer': {'body': 1, 'hair': 999, 'skill': 'sing'},\n",
       " 'programmer': {'body': 1, 'hair': 6, 'skill': 'code'}}"
      ]
     },
     "execution_count": 2,
     "metadata": {},
     "output_type": "execute_result"
    }
   ],
   "source": [
    "with open(\"test.yaml\", mode=\"r\", encoding=\"utf-8\") as f:\n",
    "    data = yaml.load(f, Loader=yaml.FullLoader)\n",
    "data"
   ]
  },
  {
   "cell_type": "code",
   "execution_count": 3,
   "metadata": {},
   "outputs": [
    {
     "data": {
      "text/plain": [
       "{'One': 1,\n",
       " 'one': 2,\n",
       " 'indent': {'a': 1, 'indent1': {'b': 2, 'c': 3}},\n",
       " 'key1': {'child-key1': 'value1', 'child-key2': 'value2'},\n",
       " 'key2': {'child-key1': 'value1', 'child-key2': 'value2'},\n",
       " 'array1': [1, 2, 3],\n",
       " 'array2': [2, 3, 4],\n",
       " 'array3': [[1, 2, 3], [4, 5, 6]],\n",
       " 'array4': [[2, 3, 4], [5, 6, 7]],\n",
       " 'strings': ['Hello without quote',\n",
       "  'Hello world',\n",
       "  'Hello with single quotes',\n",
       "  'Hello with double quotes',\n",
       "  'I am fine. ☺',\n",
       "  '\\r\\n is \\r\\n',\n",
       "  'He said: \"Hello!\"'],\n",
       " 'lines': '我是第一行 我也是第一行 我仍是第一行 我依旧是第一行\\n我是第二行 这么巧我也是第二行\\n',\n",
       " 'boolean': [True, True, True, True, False, False, False, False],\n",
       " 'int': [666, 4096],\n",
       " 'float': [3.14, 685230.15],\n",
       " 'nulls': [None, None, None, None],\n",
       " 'a': 666.0,\n",
       " 'b': '666',\n",
       " 'c': '666',\n",
       " 'd': '666.66',\n",
       " 'e': 'true',\n",
       " 'f': 'yes',\n",
       " 'g': 'false',\n",
       " 'h': 'no',\n",
       " 'date1': datetime.date(2020, 5, 26),\n",
       " 'date2': datetime.datetime(2020, 5, 26, 1, 0, tzinfo=datetime.timezone(datetime.timedelta(seconds=28800))),\n",
       " 'dete3': datetime.datetime(2020, 5, 26, 2, 0, 0, 100000, tzinfo=datetime.timezone(datetime.timedelta(seconds=28800))),\n",
       " 'date4': datetime.datetime(2020, 5, 26, 3, 0, 0, 100000, tzinfo=datetime.timezone(datetime.timedelta(seconds=28800))),\n",
       " 'anchor1': {'one': 1, 'two': 2, 'three': 3},\n",
       " 'link1': {'one': 1, 'two': 2, 'three': 3},\n",
       " 'human': {'body': 1, 'hair': 999},\n",
       " 'singer': {'body': 1, 'hair': 999, 'skill': 'sing'},\n",
       " 'programmer': {'body': 1, 'hair': 6, 'skill': 'code'}}"
      ]
     },
     "execution_count": 3,
     "metadata": {},
     "output_type": "execute_result"
    }
   ],
   "source": [
    "with open(\"test.yaml\", mode=\"r\", encoding=\"utf-8\") as f:\n",
    "    data = yaml.safe_load(f)\n",
    "data"
   ]
  },
  {
   "cell_type": "code",
   "execution_count": null,
   "metadata": {},
   "outputs": [],
   "source": []
  }
 ],
 "metadata": {
  "kernelspec": {
   "display_name": "pytorch",
   "language": "python",
   "name": "python3"
  },
  "language_info": {
   "codemirror_mode": {
    "name": "ipython",
    "version": 3
   },
   "file_extension": ".py",
   "mimetype": "text/x-python",
   "name": "python",
   "nbconvert_exporter": "python",
   "pygments_lexer": "ipython3",
   "version": "3.10.9"
  },
  "orig_nbformat": 4
 },
 "nbformat": 4,
 "nbformat_minor": 2
}
