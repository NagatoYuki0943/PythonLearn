{
 "cells": [
  {
   "cell_type": "markdown",
   "metadata": {
    "vscode": {
     "languageId": "plaintext"
    }
   },
   "source": [
    "# `yield from` 语法介绍\n",
    "\n",
    "https://peps.python.org/pep-0380/\n",
    "\n",
    "\n",
    "```Python\n",
    "# EXPR 指的是任意表达式，它的值必须是一个可迭代对象\n",
    "RESULT = yield from EXPR\n",
    "```"
   ]
  },
  {
   "cell_type": "code",
   "execution_count": null,
   "metadata": {},
   "outputs": [],
   "source": [
    "# 简化1\n",
    "\n",
    "_i = iter(EXPR)  # __iter__ -> __await__\n",
    "try:\n",
    "    _y = _i.send(None) # prime\n",
    "except StopIteration as _e: # 直接结束，一次 yield 都没遇到\n",
    "    _r = _e.value\n",
    "else:\n",
    "    while 1: # 不遇到 StopIteration 就一直循环\n",
    "        try:\n",
    "            _s = yield _y # 招原样 yield 回去，并接受 send 传入的值，保存到 _s\n",
    "        except GeneratorExit as _e: # 处理 close\n",
    "            _i.close\n",
    "            raise _e\n",
    "        except BaseException as _e: # 处理其他异常\n",
    "            _x = sys.exc_info()\n",
    "            try:\n",
    "                _y = _i.throw(*_x)\n",
    "            except StopIteration as _e:\n",
    "                _r = _e.value\n",
    "                break\n",
    "        else:\n",
    "            try:\n",
    "                _y = _i.send(_s)  # 接受到的值原样再 send 下去\n",
    "            except StopIteration as _e:\n",
    "                _r = _e.value\n",
    "                break\n",
    "RESULT = _r  # StopIteration 后的值就是结果"
   ]
  },
  {
   "cell_type": "code",
   "execution_count": null,
   "metadata": {},
   "outputs": [],
   "source": [
    "# 简化2\n",
    "\n",
    "_i = iter(EXPR)  # __iter__ -> __await__\n",
    "while 1: # 不遇到 StopIteration 就一直循环\n",
    "    try:\n",
    "        _y = _i.send(None) # 总是 None\n",
    "    except StopIteration as _e: # 直接结束，一次 yield 都没遇到\n",
    "        _r = _e.value\n",
    "        break\n",
    "    else:\n",
    "        try:\n",
    "            yield _y # 照原样 yield 回去，因为传入的是 None, 因此不保存\n",
    "        except GeneratorExit as _e: # 处理 close\n",
    "            _i.close\n",
    "            raise _e\n",
    "        except BaseException as _e: # 处理其他异常\n",
    "            _x = sys.exc_info()\n",
    "            try:\n",
    "                _y = _i.throw(*_x)\n",
    "            except StopIteration as _e:\n",
    "                _r = _e.value\n",
    "                break\n",
    "RESULT = _r  # StopIteration 后的值就是结果"
   ]
  },
  {
   "cell_type": "code",
   "execution_count": null,
   "metadata": {},
   "outputs": [],
   "source": [
    "# 简化3\n",
    "\n",
    "_i = iter(EXPR)  # __iter__ -> __await__\n",
    "while 1: # 不遇到 StopIteration 就一直循环\n",
    "    try:\n",
    "        _y = _i.send(None) # 总是 None\n",
    "    except StopIteration as _e: # 直接结束，一次 yield 都没遇到\n",
    "        _r = _e.value\n",
    "        break\n",
    "    else:\n",
    "        yield _y # 照原样 yield 回去，因为传入的是 None, 因此不保存\n",
    "\n",
    "RESULT = _r  # StopIteration 后的值就是结果"
   ]
  },
  {
   "cell_type": "markdown",
   "metadata": {},
   "source": [
    "# 例子"
   ]
  },
  {
   "cell_type": "markdown",
   "metadata": {},
   "source": [
    "## 一个同步模式的简单任务"
   ]
  },
  {
   "cell_type": "code",
   "execution_count": 40,
   "metadata": {},
   "outputs": [],
   "source": [
    "def one_task():\n",
    "    \"\"\"一个任务例子\"\"\"\n",
    "    print(\"begin task\")\n",
    "    ... # 其他步骤\n",
    "    print(\"     begin big_step\")\n",
    "\n",
    "    big_result = big_step()\n",
    "\n",
    "    print(f\"     end big_step with {big_result}\")\n",
    "    ... # 其他步骤\n",
    "    print(\"end task\")"
   ]
  },
  {
   "cell_type": "code",
   "execution_count": 41,
   "metadata": {},
   "outputs": [],
   "source": [
    "def big_step():\n",
    "    \"\"\"一个大步骤\"\"\"\n",
    "    ... # 其他小步骤\n",
    "    print(\"     begin small_step\")\n",
    "    small_result = small_step()\n",
    "    print(\"     end small_step\")\n",
    "    return small_result * 1000"
   ]
  },
  {
   "cell_type": "code",
   "execution_count": 42,
   "metadata": {},
   "outputs": [],
   "source": [
    "def small_step():\n",
    "    print(\"         working on small step\")\n",
    "    return 123"
   ]
  },
  {
   "cell_type": "code",
   "execution_count": 43,
   "metadata": {},
   "outputs": [
    {
     "name": "stdout",
     "output_type": "stream",
     "text": [
      "begin task\n",
      "     begin big_step\n",
      "     begin small_step\n",
      "         working on small step\n",
      "     end small_step\n",
      "     end big_step with 123000\n",
      "end task\n"
     ]
    }
   ],
   "source": [
    "# 执行任务\n",
    "one_task()"
   ]
  },
  {
   "cell_type": "markdown",
   "metadata": {},
   "source": [
    "## 遇到阻塞了"
   ]
  },
  {
   "cell_type": "code",
   "execution_count": 44,
   "metadata": {},
   "outputs": [],
   "source": [
    "import time\n",
    "\n",
    "def small_step():\n",
    "    print(\"         sleeping for 2 seconds\")\n",
    "    time.sleep(2)\n",
    "    print(\"         working on small step\")\n",
    "    return 123"
   ]
  },
  {
   "cell_type": "code",
   "execution_count": 45,
   "metadata": {},
   "outputs": [
    {
     "name": "stdout",
     "output_type": "stream",
     "text": [
      "begin task\n",
      "     begin big_step\n",
      "     begin small_step\n",
      "         sleeping for 2 seconds\n",
      "         working on small step\n",
      "     end small_step\n",
      "     end big_step with 123000\n",
      "end task\n"
     ]
    }
   ],
   "source": [
    "# 执行任务\n",
    "one_task()"
   ]
  },
  {
   "cell_type": "markdown",
   "metadata": {},
   "source": [
    "## 听说 `yeild` 变协程可以不阻塞"
   ]
  },
  {
   "cell_type": "code",
   "execution_count": 46,
   "metadata": {},
   "outputs": [],
   "source": [
    "import time\n",
    "\n",
    "def small_step():\n",
    "    print(\"         sleeping for 2 seconds\")\n",
    "    yield time.sleep(2)\n",
    "    print(\"         working on small step\")\n",
    "    return 123"
   ]
  },
  {
   "cell_type": "code",
   "execution_count": 47,
   "metadata": {},
   "outputs": [
    {
     "name": "stdout",
     "output_type": "stream",
     "text": [
      "begin task\n",
      "     begin big_step\n",
      "     begin small_step\n",
      "     end small_step\n"
     ]
    },
    {
     "ename": "TypeError",
     "evalue": "unsupported operand type(s) for *: 'generator' and 'int'",
     "output_type": "error",
     "traceback": [
      "\u001b[1;31m---------------------------------------------------------------------------\u001b[0m",
      "\u001b[1;31mTypeError\u001b[0m                                 Traceback (most recent call last)",
      "Cell \u001b[1;32mIn[47], line 1\u001b[0m\n\u001b[1;32m----> 1\u001b[0m \u001b[43mone_task\u001b[49m\u001b[43m(\u001b[49m\u001b[43m)\u001b[49m\n\u001b[0;32m      2\u001b[0m \u001b[38;5;66;03m# 会报错，因为 yield 的函数是生成器，没法直接相乘\u001b[39;00m\n",
      "Cell \u001b[1;32mIn[40], line 7\u001b[0m, in \u001b[0;36mone_task\u001b[1;34m()\u001b[0m\n\u001b[0;32m      4\u001b[0m \u001b[38;5;241m.\u001b[39m\u001b[38;5;241m.\u001b[39m\u001b[38;5;241m.\u001b[39m \u001b[38;5;66;03m# 其他步骤\u001b[39;00m\n\u001b[0;32m      5\u001b[0m \u001b[38;5;28mprint\u001b[39m(\u001b[38;5;124m\"\u001b[39m\u001b[38;5;124m     begin big_step\u001b[39m\u001b[38;5;124m\"\u001b[39m)\n\u001b[1;32m----> 7\u001b[0m big_result \u001b[38;5;241m=\u001b[39m \u001b[43mbig_step\u001b[49m\u001b[43m(\u001b[49m\u001b[43m)\u001b[49m\n\u001b[0;32m      9\u001b[0m \u001b[38;5;28mprint\u001b[39m(\u001b[38;5;124mf\u001b[39m\u001b[38;5;124m\"\u001b[39m\u001b[38;5;124m     end big_step with \u001b[39m\u001b[38;5;132;01m{\u001b[39;00mbig_result\u001b[38;5;132;01m}\u001b[39;00m\u001b[38;5;124m\"\u001b[39m)\n\u001b[0;32m     10\u001b[0m \u001b[38;5;241m.\u001b[39m\u001b[38;5;241m.\u001b[39m\u001b[38;5;241m.\u001b[39m \u001b[38;5;66;03m# 其他步骤\u001b[39;00m\n",
      "Cell \u001b[1;32mIn[41], line 7\u001b[0m, in \u001b[0;36mbig_step\u001b[1;34m()\u001b[0m\n\u001b[0;32m      5\u001b[0m small_result \u001b[38;5;241m=\u001b[39m small_step()\n\u001b[0;32m      6\u001b[0m \u001b[38;5;28mprint\u001b[39m(\u001b[38;5;124m\"\u001b[39m\u001b[38;5;124m     end small_step\u001b[39m\u001b[38;5;124m\"\u001b[39m)\n\u001b[1;32m----> 7\u001b[0m \u001b[38;5;28;01mreturn\u001b[39;00m \u001b[43msmall_result\u001b[49m\u001b[43m \u001b[49m\u001b[38;5;241;43m*\u001b[39;49m\u001b[43m \u001b[49m\u001b[38;5;241;43m1000\u001b[39;49m\n",
      "\u001b[1;31mTypeError\u001b[0m: unsupported operand type(s) for *: 'generator' and 'int'"
     ]
    }
   ],
   "source": [
    "one_task()\n",
    "# 会报错，因为 yield 的函数是生成器，没法直接相乘"
   ]
  },
  {
   "cell_type": "markdown",
   "metadata": {},
   "source": [
    "## `yield` 有传染性"
   ]
  },
  {
   "cell_type": "code",
   "execution_count": 48,
   "metadata": {},
   "outputs": [],
   "source": [
    "def big_step():\n",
    "    \"\"\"一个大步骤\"\"\"\n",
    "    ... # 其他小步骤\n",
    "    print(\"     begin small_step\")\n",
    "    # small_result = small_step()\n",
    "    # 因为 small_step 是一个协程，因此要这样处理\n",
    "    small_coro = small_step()\n",
    "    while True:\n",
    "        try:\n",
    "            x = small_coro.send(None)\n",
    "        except StopIteration as e:\n",
    "            # 处理协程返回值\n",
    "            small_result = e.value\n",
    "            break\n",
    "        else:\n",
    "            ...\n",
    "    print(\"     end small_step\")\n",
    "    return small_result * 1000"
   ]
  },
  {
   "cell_type": "code",
   "execution_count": 49,
   "metadata": {},
   "outputs": [
    {
     "name": "stdout",
     "output_type": "stream",
     "text": [
      "begin task\n",
      "     begin big_step\n",
      "     begin small_step\n",
      "         sleeping for 2 seconds\n",
      "         working on small step\n",
      "     end small_step\n",
      "     end big_step with 123000\n",
      "end task\n"
     ]
    }
   ],
   "source": [
    "one_task()"
   ]
  },
  {
   "cell_type": "markdown",
   "metadata": {},
   "source": [
    "## 将阻塞从下游传到上游"
   ]
  },
  {
   "cell_type": "code",
   "execution_count": 50,
   "metadata": {},
   "outputs": [],
   "source": [
    "def small_step():\n",
    "    print(\"         sleeping for 2 seconds\")\n",
    "    # 不在这里执行 sleep，而是将阻塞从下游传递到上游\n",
    "    t1 = time.time()\n",
    "    yield time.sleep, 2\n",
    "    t2 = time.time()\n",
    "    assert t2 - t1 >= 2, \"睡眠时间不足\"\n",
    "    print(\"         working on small step\")\n",
    "    return 123"
   ]
  },
  {
   "cell_type": "code",
   "execution_count": 51,
   "metadata": {},
   "outputs": [
    {
     "name": "stdout",
     "output_type": "stream",
     "text": [
      "begin task\n",
      "     begin big_step\n",
      "     begin small_step\n",
      "         sleeping for 2 seconds\n"
     ]
    },
    {
     "ename": "AssertionError",
     "evalue": "睡眠时间不足",
     "output_type": "error",
     "traceback": [
      "\u001b[1;31m---------------------------------------------------------------------------\u001b[0m",
      "\u001b[1;31mAssertionError\u001b[0m                            Traceback (most recent call last)",
      "Cell \u001b[1;32mIn[51], line 1\u001b[0m\n\u001b[1;32m----> 1\u001b[0m \u001b[43mone_task\u001b[49m\u001b[43m(\u001b[49m\u001b[43m)\u001b[49m\n",
      "Cell \u001b[1;32mIn[40], line 7\u001b[0m, in \u001b[0;36mone_task\u001b[1;34m()\u001b[0m\n\u001b[0;32m      4\u001b[0m \u001b[38;5;241m.\u001b[39m\u001b[38;5;241m.\u001b[39m\u001b[38;5;241m.\u001b[39m \u001b[38;5;66;03m# 其他步骤\u001b[39;00m\n\u001b[0;32m      5\u001b[0m \u001b[38;5;28mprint\u001b[39m(\u001b[38;5;124m\"\u001b[39m\u001b[38;5;124m     begin big_step\u001b[39m\u001b[38;5;124m\"\u001b[39m)\n\u001b[1;32m----> 7\u001b[0m big_result \u001b[38;5;241m=\u001b[39m \u001b[43mbig_step\u001b[49m\u001b[43m(\u001b[49m\u001b[43m)\u001b[49m\n\u001b[0;32m      9\u001b[0m \u001b[38;5;28mprint\u001b[39m(\u001b[38;5;124mf\u001b[39m\u001b[38;5;124m\"\u001b[39m\u001b[38;5;124m     end big_step with \u001b[39m\u001b[38;5;132;01m{\u001b[39;00mbig_result\u001b[38;5;132;01m}\u001b[39;00m\u001b[38;5;124m\"\u001b[39m)\n\u001b[0;32m     10\u001b[0m \u001b[38;5;241m.\u001b[39m\u001b[38;5;241m.\u001b[39m\u001b[38;5;241m.\u001b[39m \u001b[38;5;66;03m# 其他步骤\u001b[39;00m\n",
      "Cell \u001b[1;32mIn[48], line 10\u001b[0m, in \u001b[0;36mbig_step\u001b[1;34m()\u001b[0m\n\u001b[0;32m      8\u001b[0m \u001b[38;5;28;01mwhile\u001b[39;00m \u001b[38;5;28;01mTrue\u001b[39;00m:\n\u001b[0;32m      9\u001b[0m     \u001b[38;5;28;01mtry\u001b[39;00m:\n\u001b[1;32m---> 10\u001b[0m         x \u001b[38;5;241m=\u001b[39m \u001b[43msmall_coro\u001b[49m\u001b[38;5;241;43m.\u001b[39;49m\u001b[43msend\u001b[49m\u001b[43m(\u001b[49m\u001b[38;5;28;43;01mNone\u001b[39;49;00m\u001b[43m)\u001b[49m\n\u001b[0;32m     11\u001b[0m     \u001b[38;5;28;01mexcept\u001b[39;00m \u001b[38;5;167;01mStopIteration\u001b[39;00m \u001b[38;5;28;01mas\u001b[39;00m e:\n\u001b[0;32m     12\u001b[0m         \u001b[38;5;66;03m# 处理协程返回值\u001b[39;00m\n\u001b[0;32m     13\u001b[0m         small_result \u001b[38;5;241m=\u001b[39m e\u001b[38;5;241m.\u001b[39mvalue\n",
      "Cell \u001b[1;32mIn[50], line 7\u001b[0m, in \u001b[0;36msmall_step\u001b[1;34m()\u001b[0m\n\u001b[0;32m      5\u001b[0m \u001b[38;5;28;01myield\u001b[39;00m time\u001b[38;5;241m.\u001b[39msleep, \u001b[38;5;241m2\u001b[39m\n\u001b[0;32m      6\u001b[0m t2 \u001b[38;5;241m=\u001b[39m time\u001b[38;5;241m.\u001b[39mtime()\n\u001b[1;32m----> 7\u001b[0m \u001b[38;5;28;01massert\u001b[39;00m t2 \u001b[38;5;241m-\u001b[39m t1 \u001b[38;5;241m>\u001b[39m\u001b[38;5;241m=\u001b[39m \u001b[38;5;241m2\u001b[39m, \u001b[38;5;124m\"\u001b[39m\u001b[38;5;124m睡眠时间不足\u001b[39m\u001b[38;5;124m\"\u001b[39m\n\u001b[0;32m      8\u001b[0m \u001b[38;5;28mprint\u001b[39m(\u001b[38;5;124m\"\u001b[39m\u001b[38;5;124m         working on small step\u001b[39m\u001b[38;5;124m\"\u001b[39m)\n\u001b[0;32m      9\u001b[0m \u001b[38;5;28;01mreturn\u001b[39;00m \u001b[38;5;241m123\u001b[39m\n",
      "\u001b[1;31mAssertionError\u001b[0m: 睡眠时间不足"
     ]
    }
   ],
   "source": [
    "one_task()"
   ]
  },
  {
   "cell_type": "code",
   "execution_count": 52,
   "metadata": {},
   "outputs": [],
   "source": [
    "def big_step():\n",
    "    \"\"\"一个大步骤\"\"\"\n",
    "    ... # 其他小步骤\n",
    "    print(\"     begin small_step\")\n",
    "    # small_result = small_step()\n",
    "    # 因为 small_step 是一个协程，因此要这样处理\n",
    "    small_coro = small_step()\n",
    "    while True:\n",
    "        try:\n",
    "            x = small_coro.send(None)\n",
    "        except StopIteration as e:\n",
    "            # 处理协程返回值\n",
    "            small_result = e.value\n",
    "            break\n",
    "        else:\n",
    "            # 将 small_coro 的值向上传递\n",
    "            yield x\n",
    "    print(\"     end small_step\")\n",
    "    return small_result * 1000"
   ]
  },
  {
   "cell_type": "code",
   "execution_count": 53,
   "metadata": {},
   "outputs": [
    {
     "name": "stdout",
     "output_type": "stream",
     "text": [
      "begin task\n",
      "     begin big_step\n",
      "     end big_step with <generator object big_step at 0x0000017D00B065E0>\n",
      "end task\n"
     ]
    }
   ],
   "source": [
    "one_task()\n",
    "# 由于 big_step 中使用了 yield, 因此 big_step 是一个生成器函数, 因此 one_task 函数也要做如下修改"
   ]
  },
  {
   "cell_type": "code",
   "execution_count": 54,
   "metadata": {},
   "outputs": [],
   "source": [
    "def one_task():\n",
    "    \"\"\"一个任务例子\"\"\"\n",
    "    print(\"begin task\")\n",
    "    ... # 其他步骤\n",
    "    print(\"     begin big_step\")\n",
    "\n",
    "    big_coro = big_step()\n",
    "    while True:\n",
    "        try:\n",
    "            x = big_coro.send(None)\n",
    "        except StopIteration as e:\n",
    "            # 处理协程返回值\n",
    "            big_result = e.value\n",
    "            break\n",
    "        else:\n",
    "            print(f\"     got {x}\")\n",
    "            # 这里调用返回的函数\n",
    "            func, args = x\n",
    "            func(args)\n",
    "\n",
    "    print(f\"     end big_step with {big_result}\")\n",
    "    ... # 其他步骤\n",
    "    print(\"end task\")"
   ]
  },
  {
   "cell_type": "code",
   "execution_count": 55,
   "metadata": {},
   "outputs": [
    {
     "name": "stdout",
     "output_type": "stream",
     "text": [
      "begin task\n",
      "     begin big_step\n",
      "     begin small_step\n",
      "         sleeping for 2 seconds\n",
      "     got (<built-in function sleep>, 2)\n",
      "         working on small step\n",
      "     end small_step\n",
      "     end big_step with 123000\n",
      "end task\n"
     ]
    }
   ],
   "source": [
    "one_task()"
   ]
  },
  {
   "cell_type": "markdown",
   "metadata": {},
   "source": [
    "## 阶段总结\n",
    "\n",
    "- 协程自己并不能消除阻塞\n",
    "- 协程具有传染性\n",
    "- 协程通过yield把阻塞换个方式传递给了上游\n",
    "- 最终阻塞仍然需要被解决"
   ]
  },
  {
   "cell_type": "markdown",
   "metadata": {},
   "source": [
    "## `yield from` 来帮忙"
   ]
  },
  {
   "cell_type": "code",
   "execution_count": null,
   "metadata": {},
   "outputs": [],
   "source": []
  },
  {
   "cell_type": "code",
   "execution_count": null,
   "metadata": {},
   "outputs": [],
   "source": []
  },
  {
   "cell_type": "markdown",
   "metadata": {},
   "source": [
    "## 阶段总结2"
   ]
  },
  {
   "cell_type": "markdown",
   "metadata": {},
   "source": [
    "## `yield from` 一统江湖"
   ]
  },
  {
   "cell_type": "code",
   "execution_count": null,
   "metadata": {},
   "outputs": [],
   "source": []
  },
  {
   "cell_type": "code",
   "execution_count": null,
   "metadata": {},
   "outputs": [],
   "source": []
  },
  {
   "cell_type": "markdown",
   "metadata": {},
   "source": [
    "## 阶段总结3"
   ]
  },
  {
   "cell_type": "markdown",
   "metadata": {},
   "source": [
    "## 将任务彻底协程化"
   ]
  },
  {
   "cell_type": "code",
   "execution_count": null,
   "metadata": {},
   "outputs": [],
   "source": []
  },
  {
   "cell_type": "code",
   "execution_count": null,
   "metadata": {},
   "outputs": [],
   "source": []
  },
  {
   "cell_type": "markdown",
   "metadata": {},
   "source": [
    "## 一个通用的任务驱动器"
   ]
  },
  {
   "cell_type": "code",
   "execution_count": null,
   "metadata": {},
   "outputs": [],
   "source": []
  },
  {
   "cell_type": "code",
   "execution_count": null,
   "metadata": {},
   "outputs": [],
   "source": []
  },
  {
   "cell_type": "markdown",
   "metadata": {},
   "source": [
    "## 完成了整个任务的协程化改造"
   ]
  },
  {
   "cell_type": "code",
   "execution_count": null,
   "metadata": {},
   "outputs": [],
   "source": []
  },
  {
   "cell_type": "code",
   "execution_count": null,
   "metadata": {},
   "outputs": [],
   "source": []
  },
  {
   "cell_type": "markdown",
   "metadata": {},
   "source": [
    "## 阶段总结4"
   ]
  },
  {
   "cell_type": "code",
   "execution_count": null,
   "metadata": {},
   "outputs": [],
   "source": []
  }
 ],
 "metadata": {
  "kernelspec": {
   "display_name": "pytorch",
   "language": "python",
   "name": "python3"
  },
  "language_info": {
   "codemirror_mode": {
    "name": "ipython",
    "version": 3
   },
   "file_extension": ".py",
   "mimetype": "text/x-python",
   "name": "python",
   "nbconvert_exporter": "python",
   "pygments_lexer": "ipython3",
   "version": "3.12.4"
  }
 },
 "nbformat": 4,
 "nbformat_minor": 2
}
