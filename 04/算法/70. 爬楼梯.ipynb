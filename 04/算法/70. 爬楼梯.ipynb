{
 "cells": [
  {
   "cell_type": "markdown",
   "metadata": {},
   "source": [
    "假设你正在爬楼梯。需要 n 阶你才能到达楼顶。\n",
    "\n",
    "每次你可以爬 1 或 2 个台阶。你有多少种不同的方法可以爬到楼顶呢？\n",
    "\n",
    "示例 1：\n",
    "\n",
    "输入：n = 2 </br>\n",
    "输出：2 </br>\n",
    "解释：有两种方法可以爬到楼顶。 </br>\n",
    "1. 1 阶 + 1 阶\n",
    "2. 2 阶\n",
    "\n",
    "示例 2：\n",
    "\n",
    "输入：n = 3 </br>\n",
    "输出：3 </br>\n",
    "解释：有三种方法可以爬到楼顶。\n",
    "1. 1 阶 + 1 阶 + 1 阶\n",
    "2. 1 阶 + 2 阶\n",
    "3. 2 阶 + 1 阶\n"
   ]
  },
  {
   "cell_type": "markdown",
   "metadata": {},
   "source": [
    "这个爬楼梯算法是经典的动态规划问题。它要解决的问题是:假设有一个n级的楼梯,每次可以爬1个或2个台阶,求有多少种不同的爬法。\n",
    "\n",
    "这个算法的核心思路如下:\n",
    "\n",
    "- 对于楼梯数n=1,显然只有1种爬法,即走1步,所以返回1。\n",
    "- 对于楼梯数n=2,有2种爬法,一种是先走1步再走1步,另一种是直接走2步,所以返回2。\n",
    "- 对于n>2的情况,爬到第n层楼梯的方法数,等于爬到第n-1层楼梯的方法数加上爬到第n-2层楼梯的方法数。原因是如果从第n-1层再走1步就可以到第n层,或者从第n-2层再走2步就可以到第n层。\n"
   ]
  },
  {
   "cell_type": "code",
   "execution_count": 12,
   "metadata": {},
   "outputs": [
    {
     "data": {
      "text/plain": [
       "13"
      ]
     },
     "execution_count": 12,
     "metadata": {},
     "output_type": "execute_result"
    }
   ],
   "source": [
    "# 爬楼梯\n",
    "def climb_stairs(n: int) -> int:\n",
    "    if n == 1:\n",
    "        return 1\n",
    "    if n == 2:\n",
    "        return 2\n",
    "    return climb_stairs(n - 1) + climb_stairs(n - 2)\n",
    "\n",
    "\n",
    "climb_stairs(6)"
   ]
  },
  {
   "cell_type": "code",
   "execution_count": 14,
   "metadata": {},
   "outputs": [
    {
     "data": {
      "text/plain": [
       "13"
      ]
     },
     "execution_count": 14,
     "metadata": {},
     "output_type": "execute_result"
    }
   ],
   "source": [
    "def climb_stairs(n: int) -> int:\n",
    "    if n == 1:\n",
    "        return 1\n",
    "    if n == 2:\n",
    "        return 2\n",
    "\n",
    "    dp = [1, 2]\n",
    "\n",
    "    # 从第3层开始计算\n",
    "    for i in range(2, n):\n",
    "        dp.append(dp[i - 1] + dp[i - 2])\n",
    "\n",
    "    return dp[n - 1]\n",
    "\n",
    "\n",
    "climb_stairs(6)"
   ]
  },
  {
   "cell_type": "code",
   "execution_count": null,
   "metadata": {},
   "outputs": [],
   "source": []
  }
 ],
 "metadata": {
  "kernelspec": {
   "display_name": "pytorch",
   "language": "python",
   "name": "python3"
  },
  "language_info": {
   "codemirror_mode": {
    "name": "ipython",
    "version": 3
   },
   "file_extension": ".py",
   "mimetype": "text/x-python",
   "name": "python",
   "nbconvert_exporter": "python",
   "pygments_lexer": "ipython3",
   "version": "3.11.3"
  }
 },
 "nbformat": 4,
 "nbformat_minor": 2
}
