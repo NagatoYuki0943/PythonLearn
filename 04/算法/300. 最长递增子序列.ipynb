{
 "cells": [
  {
   "cell_type": "markdown",
   "metadata": {},
   "source": [
    "给你一个整数数组 nums ，找到其中最长严格递增子序列的长度。\n",
    "\n",
    "子序列 是由数组派生而来的序列，删除（或不删除）数组中的元素而不改变其余元素的顺序。例如，[3,6,2,7] 是数组 [0,3,1,6,2,2,7] 的子序列。\n",
    "\n",
    "示例 1：\n",
    "\n",
    "输入：nums = [10,9,2,5,3,7,101,18] </br>\n",
    "输出：4 </br>\n",
    "解释：最长递增子序列是 [2,3,7,101]，因此长度为 4 。\n",
    "\n",
    "示例 2：\n",
    "\n",
    "输入：nums = [0,1,0,3,2,3] </br>\n",
    "输出：4\n",
    "\n",
    "示例 3：\n",
    "\n",
    "输入：nums = [7,7,7,7,7,7,7] </br>\n",
    "输出：1\n"
   ]
  },
  {
   "cell_type": "code",
   "execution_count": 2,
   "metadata": {},
   "outputs": [],
   "source": [
    "def lengthOfLIS(nums: list[int]) -> int:\n",
    "    if not nums:\n",
    "        return 0\n",
    "    dp = []\n",
    "    for i in range(len(nums)):\n",
    "        # 每次初始长度都为1\n",
    "        dp.append(1)\n",
    "        # 遍历i之前的元素\n",
    "        for j in range(i):\n",
    "            # 如果i之前的元素有小于i的元素,就计算长度\n",
    "            if nums[i] > nums[j]:\n",
    "                # i的长度比j的最大长度多1\n",
    "                # 2 3 1 5,5一次和2 3 1 比,2 3 1 的dp为 1 2 1\n",
    "                dp[i] = max(dp[i], dp[j] + 1)\n",
    "    print(dp)\n",
    "    return max(dp)"
   ]
  },
  {
   "cell_type": "code",
   "execution_count": 3,
   "metadata": {},
   "outputs": [
    {
     "name": "stdout",
     "output_type": "stream",
     "text": [
      "[1, 2, 3, 2, 3, 4, 4, 5, 6]\n"
     ]
    },
    {
     "data": {
      "text/plain": [
       "6"
      ]
     },
     "execution_count": 3,
     "metadata": {},
     "output_type": "execute_result"
    }
   ],
   "source": [
    "lengthOfLIS([-24, 12, 13, 2, 3, 12, 5, 6, 35])"
   ]
  },
  {
   "cell_type": "code",
   "execution_count": 4,
   "metadata": {},
   "outputs": [
    {
     "name": "stdout",
     "output_type": "stream",
     "text": [
      "[1, 1, 1, 2, 2, 3, 4, 4]\n"
     ]
    },
    {
     "data": {
      "text/plain": [
       "4"
      ]
     },
     "execution_count": 4,
     "metadata": {},
     "output_type": "execute_result"
    }
   ],
   "source": [
    "lengthOfLIS([10, 9, 2, 5, 3, 7, 101, 18])\n",
    "# 4"
   ]
  },
  {
   "cell_type": "code",
   "execution_count": 6,
   "metadata": {},
   "outputs": [
    {
     "data": {
      "text/plain": [
       "4"
      ]
     },
     "execution_count": 6,
     "metadata": {},
     "output_type": "execute_result"
    }
   ],
   "source": [
    "lengthOfLIS([0, 1, 0, 3, 2, 3])\n",
    "# 4"
   ]
  },
  {
   "cell_type": "code",
   "execution_count": 7,
   "metadata": {},
   "outputs": [
    {
     "data": {
      "text/plain": [
       "1"
      ]
     },
     "execution_count": 7,
     "metadata": {},
     "output_type": "execute_result"
    }
   ],
   "source": [
    "lengthOfLIS([7, 7, 7, 7, 7, 7, 7])\n",
    "# 1"
   ]
  },
  {
   "cell_type": "code",
   "execution_count": null,
   "metadata": {},
   "outputs": [],
   "source": []
  }
 ],
 "metadata": {
  "kernelspec": {
   "display_name": "pytorch",
   "language": "python",
   "name": "python3"
  },
  "language_info": {
   "codemirror_mode": {
    "name": "ipython",
    "version": 3
   },
   "file_extension": ".py",
   "mimetype": "text/x-python",
   "name": "python",
   "nbconvert_exporter": "python",
   "pygments_lexer": "ipython3",
   "version": "3.11.3"
  }
 },
 "nbformat": 4,
 "nbformat_minor": 2
}
