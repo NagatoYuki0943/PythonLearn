{
 "cells": [
  {
   "cell_type": "markdown",
   "metadata": {},
   "source": [
    "给你一个由 n 个整数组成的数组 nums ，和一个目标值 target 。请你找出并返回满足下述全部条件且不重复的四元组 [nums[a], nums[b], nums[c], nums[d]] （若两个四元组元素一一对应，则认为两个四元组重复）：\n",
    "\n",
    "    0 <= a, b, c, d <br n </br>\n",
    "    a、b、c 和 d 互不相同 </br>\n",
    "    nums[a] + nums[b] + nums[c] + nums[d] == target </br>\n",
    "\n",
    "你可以按 任意顺序 返回答案 。\n",
    "\n",
    "\n",
    "示例 1：\n",
    "\n",
    "输入：nums = [1,0,-1,0,-2,2], target = 0 </br>\n",
    "输出：[[-2,-1,1,2],[-2,0,0,2],[-1,0,0,1]]\n",
    "\n",
    "示例 2：\n",
    "\n",
    "输入：nums = [2,2,2,2,2], target = 8 </br>\n",
    "输出：[[2,2,2,2]]"
   ]
  },
  {
   "cell_type": "code",
   "execution_count": 44,
   "metadata": {},
   "outputs": [],
   "source": [
    "def fourSum(nums: list[int], target: int) -> list[list[int]]:\n",
    "    # combinations(iterable,r) 返回的是可迭代对象所有的长度为 r 的子序列\n",
    "    from itertools import combinations\n",
    "\n",
    "    result = []\n",
    "    #                        这里排序是为了去重\n",
    "    for comb in combinations(sorted(nums), 4):\n",
    "        if sum(comb) == target:\n",
    "            result.append(comb)\n",
    "    # set 去重\n",
    "    result = [list(res) for res in set(result)]\n",
    "    return result"
   ]
  },
  {
   "cell_type": "code",
   "execution_count": 45,
   "metadata": {},
   "outputs": [
    {
     "data": {
      "text/plain": [
       "[[-2, -1, 1, 2], [-1, 0, 0, 1], [-2, 0, 0, 2]]"
      ]
     },
     "execution_count": 45,
     "metadata": {},
     "output_type": "execute_result"
    }
   ],
   "source": [
    "nums = [1, 0, -1, 0, -2, 2]\n",
    "target = 0\n",
    "fourSum(nums, target)"
   ]
  },
  {
   "cell_type": "code",
   "execution_count": 46,
   "metadata": {},
   "outputs": [
    {
     "data": {
      "text/plain": [
       "[[2, 2, 2, 2]]"
      ]
     },
     "execution_count": 46,
     "metadata": {},
     "output_type": "execute_result"
    }
   ],
   "source": [
    "nums = [2, 2, 2, 2, 2]\n",
    "target = 8\n",
    "fourSum(nums, target)"
   ]
  },
  {
   "cell_type": "code",
   "execution_count": null,
   "metadata": {},
   "outputs": [],
   "source": []
  }
 ],
 "metadata": {
  "kernelspec": {
   "display_name": "pytorch",
   "language": "python",
   "name": "python3"
  },
  "language_info": {
   "codemirror_mode": {
    "name": "ipython",
    "version": 3
   },
   "file_extension": ".py",
   "mimetype": "text/x-python",
   "name": "python",
   "nbconvert_exporter": "python",
   "pygments_lexer": "ipython3",
   "version": "3.11.3"
  }
 },
 "nbformat": 4,
 "nbformat_minor": 2
}
