{
 "cells": [
  {
   "cell_type": "markdown",
   "metadata": {},
   "source": [
    "泰波那契序列 $T_n$ 定义如下：\n",
    "\n",
    "$$\n",
    "T_0 = 0, T_1 = 1, T_2 = 1, 且在 n >= 0 的条件下 T_{n+3} = T_n + T_{n+1} + T_{n+2}\n",
    "$$\n",
    "\n",
    "给你整数 $n$，请返回第 $n$ 个泰波那契数 $T_n$ 的值。"
   ]
  },
  {
   "cell_type": "code",
   "execution_count": 1,
   "metadata": {},
   "outputs": [],
   "source": [
    "def tribonacci(n: int) -> int:\n",
    "    arr = [0, 1, 1]\n",
    "    for i in range(3, n+1):\n",
    "        arr.append(arr[i-1] + arr[i-2] + arr[i-3])\n",
    "    return arr[n]"
   ]
  },
  {
   "cell_type": "code",
   "execution_count": null,
   "metadata": {},
   "outputs": [],
   "source": [
    "def tribonacci(n: int) -> int:\n",
    "    if n == 0:\n",
    "        return 0\n",
    "    elif n == 1 or n == 2:\n",
    "        return 1\n",
    "    return tribonacci(n-1) + tribonacci(n-2) + tribonacci(n-3)"
   ]
  }
 ],
 "metadata": {
  "kernelspec": {
   "display_name": "pytorch",
   "language": "python",
   "name": "python3"
  },
  "language_info": {
   "codemirror_mode": {
    "name": "ipython",
    "version": 3
   },
   "file_extension": ".py",
   "mimetype": "text/x-python",
   "name": "python",
   "nbconvert_exporter": "python",
   "pygments_lexer": "ipython3",
   "version": "3.11.3"
  }
 },
 "nbformat": 4,
 "nbformat_minor": 2
}
