{
 "cells": [
  {
   "cell_type": "markdown",
   "metadata": {},
   "source": [
    "斐波那契数 （通常用 F(n) 表示）形成的序列称为 斐波那契数列 。该数列由 0 和 1 开始，后面的每一项数字都是前面两项数字的和。也就是：\n",
    "\n",
    "F(0) = 0，F(1) = 1 </br>\n",
    "F(n) = F(n - 1) + F(n - 2)，其中 n > 1 </br>\n",
    "\n",
    "给定 n ，请计算 F(n) 。\n",
    "\n",
    "\n",
    "示例 1：\n",
    "\n",
    "输入：n = 2 </br>\n",
    "输出：1 </br>\n",
    "解释：F(2) = F(1) + F(0) = 1 + 0 = 1\n",
    "\n",
    "示例 2：\n",
    "\n",
    "输入：n = 3 </br>\n",
    "输出：2 </br>\n",
    "解释：F(3) = F(2) + F(1) = 1 + 1 = 2\n",
    "\n",
    "示例 3：\n",
    "\n",
    "输入：n = 4 </br>\n",
    "输出：3 </br>\n",
    "解释：F(4) = F(3) + F(2) = 2 + 1 = 3\n"
   ]
  },
  {
   "cell_type": "code",
   "execution_count": null,
   "metadata": {},
   "outputs": [],
   "source": [
    "def fib(n: int) -> int:\n",
    "    if n == 0:\n",
    "        return 0\n",
    "    elif n == 1:\n",
    "        return 1\n",
    "    return fib(n - 1) + fib(n - 2)"
   ]
  },
  {
   "cell_type": "code",
   "execution_count": null,
   "metadata": {},
   "outputs": [],
   "source": [
    "def fib(n: int) -> int:\n",
    "    if n == 0:\n",
    "        return 0\n",
    "    elif n == 1:\n",
    "        return 1\n",
    "    arr = [0, 1]\n",
    "    for i in range(2, n + 1):\n",
    "        arr.append(arr[i - 1] + arr[i - 2])\n",
    "    return arr[n]"
   ]
  }
 ],
 "metadata": {
  "language_info": {
   "name": "python"
  }
 },
 "nbformat": 4,
 "nbformat_minor": 2
}
