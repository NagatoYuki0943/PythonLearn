{
 "cells": [
  {
   "cell_type": "markdown",
   "metadata": {},
   "source": [
    "给你两个 非空 的链表，表示两个非负的整数。它们每位数字都是按照 逆序 的方式存储的，并且每个节点只能存储 一位 数字。\n",
    "\n",
    "请你将两个数相加，并以相同形式返回一个表示和的链表。\n",
    "\n",
    "你可以假设除了数字 0 之外，这两个数都不会以 0 开头。\n",
    "\n",
    "示例 1：\n",
    "\n",
    "\n",
    "输入：l1 = [2,4,3], l2 = [5,6,4] </br>\n",
    "输出：[7,0,8] </br>\n",
    "解释：342 + 465 = 807.\n",
    "\n",
    "示例 2：\n",
    "\n",
    "输入：l1 = [0], l2 = [0] </br>\n",
    "输出：[0]\n"
   ]
  },
  {
   "cell_type": "code",
   "execution_count": 1,
   "metadata": {},
   "outputs": [],
   "source": [
    "# Definition for singly-linked list.\n",
    "class ListNode:\n",
    "    def __init__(self, val=0, next=None):\n",
    "        self.val = val\n",
    "        self.next = next"
   ]
  },
  {
   "cell_type": "code",
   "execution_count": 78,
   "metadata": {},
   "outputs": [],
   "source": [
    "def addTwoNumbers(l1: ListNode, l2: ListNode) -> ListNode:\n",
    "    a = 0\n",
    "    i = 0\n",
    "    while True:\n",
    "        a += l1.val * 10**i\n",
    "        i += 1\n",
    "        if l1.next:\n",
    "            l1 = l1.next\n",
    "        else:\n",
    "            break\n",
    "\n",
    "    b = 0\n",
    "    i = 0\n",
    "    while True:\n",
    "        b += l2.val * 10**i\n",
    "        i += 1\n",
    "        if l2.next:\n",
    "            l2 = l2.next\n",
    "        else:\n",
    "            break\n",
    "\n",
    "    result = a + b\n",
    "\n",
    "    # 先找出个位数\n",
    "    temp = ListNode(result % 10)\n",
    "    l3 = temp\n",
    "    # 忽略个位数倒叙\n",
    "    for s in str(result)[-2::-1]:\n",
    "        temp.next = ListNode(int(s))\n",
    "        temp = temp.next\n",
    "\n",
    "    return l3"
   ]
  },
  {
   "cell_type": "code",
   "execution_count": 79,
   "metadata": {},
   "outputs": [
    {
     "name": "stdout",
     "output_type": "stream",
     "text": [
      "708"
     ]
    }
   ],
   "source": [
    "l1 = ListNode(2)\n",
    "l1.next = ListNode(4)\n",
    "l1.next.next = ListNode(3)\n",
    "\n",
    "l2 = ListNode(5)\n",
    "l2.next = ListNode(6)\n",
    "l2.next.next = ListNode(4)\n",
    "node = addTwoNumbers(l1=l1, l2=l2)\n",
    "while True:\n",
    "    print(node.val, end=\"\")\n",
    "    if node.next:\n",
    "        node = node.next\n",
    "    else:\n",
    "        break"
   ]
  },
  {
   "cell_type": "code",
   "execution_count": 80,
   "metadata": {},
   "outputs": [
    {
     "name": "stdout",
     "output_type": "stream",
     "text": [
      "0"
     ]
    }
   ],
   "source": [
    "node = addTwoNumbers(l1=ListNode(0), l2=ListNode(0))\n",
    "while True:\n",
    "    print(node.val, end=\"\")\n",
    "    if node.next:\n",
    "        node = node.next\n",
    "    else:\n",
    "        break"
   ]
  },
  {
   "cell_type": "code",
   "execution_count": null,
   "metadata": {},
   "outputs": [],
   "source": []
  },
  {
   "cell_type": "code",
   "execution_count": null,
   "metadata": {},
   "outputs": [],
   "source": []
  }
 ],
 "metadata": {
  "kernelspec": {
   "display_name": "pytorch",
   "language": "python",
   "name": "python3"
  },
  "language_info": {
   "codemirror_mode": {
    "name": "ipython",
    "version": 3
   },
   "file_extension": ".py",
   "mimetype": "text/x-python",
   "name": "python",
   "nbconvert_exporter": "python",
   "pygments_lexer": "ipython3",
   "version": "3.11.3"
  }
 },
 "nbformat": 4,
 "nbformat_minor": 2
}
