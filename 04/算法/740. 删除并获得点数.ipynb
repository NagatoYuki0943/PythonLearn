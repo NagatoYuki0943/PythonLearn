{
 "cells": [
  {
   "cell_type": "markdown",
   "metadata": {},
   "source": [
    "给你一个整数数组 nums ，你可以对它进行一些操作。\n",
    "\n",
    "每次操作中，选择任意一个 nums[i] ，删除它并获得 nums[i] 的点数。之后，你必须删除 所有 等于 nums[i] - 1 和 nums[i] + 1 的元素。\n",
    "\n",
    "开始你拥有 0 个点数。返回你能通过这些操作获得的最大点数。\n",
    "\n",
    "\n",
    "示例 1：\n",
    "\n",
    "输入：nums = [3,4,2] </br>\n",
    "输出：6 </br>\n",
    "解释： </br>\n",
    "删除 4 获得 4 个点数，因此 3 也被删除。 </br>\n",
    "之后，删除 2 获得 2 个点数。总共获得 6 个点数。\n",
    "\n",
    "示例 2：\n",
    "\n",
    "输入：nums = [2,2,3,3,3,4] </br>\n",
    "输出：9 </br>\n",
    "解释： </br>\n",
    "删除 3 获得 3 个点数，接着要删除两个 2 和 4 。 </br>\n",
    "之后，再次删除 3 获得 3 个点数，再次删除 3 获得 3 个点数。 </br>\n",
    "总共获得 9 个点数。\n"
   ]
  },
  {
   "cell_type": "markdown",
   "metadata": {},
   "source": [
    "算法思路:\n",
    "\n",
    "1. 统计每个数字出现的次数。\n",
    "2. 遍历所有可能的数字x,计算在最优解中选择它的分数值。\n",
    "3. 如果选择x,则需要删除x, x - 1和x + 1(如果存在的话)。\n",
    "4. 对于x,它的分数值就是x * count(x),再加上如果不选择x - 1和x + 1所能获得的最大分数。\n",
    "5. 我们可以使用动态规划来避免重复计算。令dp[x]表示选择x时的最大分数。\n",
    "6. 最后,我们遍历所有可能的x,取最大的dp[x]即为答案。\n",
    "\n",
    "复杂度分析:\n",
    "\n",
    "- 时间复杂度: O(n + m)，其中n是nums的长度,m是nums中的最大值。需要遍历nums统计每个数字出现的次数,还需要遍历dp数组计算最大分数。\n",
    "- 空间复杂度: O(m)，dp数组的空间开销。\n"
   ]
  },
  {
   "cell_type": "code",
   "execution_count": 28,
   "metadata": {},
   "outputs": [],
   "source": [
    "from collections import Counter\n",
    "\n",
    "\n",
    "def deleteAndEarn(nums: list[int]) -> int:\n",
    "    # 统计每个数字出现的次数\n",
    "    count = Counter(nums)\n",
    "\n",
    "    # 创建dp数组\n",
    "    dp = [0] * (max(nums) + 1)\n",
    "\n",
    "    # 计算dp数组\n",
    "    for i in range(max(nums) + 1):\n",
    "        print(i)\n",
    "        score = i * count[i]\n",
    "        if i == 0:\n",
    "            dp[i] = score\n",
    "        elif i == 1:\n",
    "            dp[i] = max(score, dp[0])\n",
    "        else:\n",
    "            dp[i] = max(score + dp[i - 2], dp[i - 1])\n",
    "\n",
    "    return dp[-1]"
   ]
  },
  {
   "cell_type": "code",
   "execution_count": 29,
   "metadata": {},
   "outputs": [
    {
     "name": "stdout",
     "output_type": "stream",
     "text": [
      "0\n",
      "1\n",
      "2\n",
      "3\n",
      "4\n"
     ]
    },
    {
     "data": {
      "text/plain": [
       "6"
      ]
     },
     "execution_count": 29,
     "metadata": {},
     "output_type": "execute_result"
    }
   ],
   "source": [
    "deleteAndEarn([3, 4, 2])"
   ]
  },
  {
   "cell_type": "code",
   "execution_count": 27,
   "metadata": {},
   "outputs": [
    {
     "data": {
      "text/plain": [
       "9"
      ]
     },
     "execution_count": 27,
     "metadata": {},
     "output_type": "execute_result"
    }
   ],
   "source": [
    "deleteAndEarn([2, 2, 3, 3, 3, 4])"
   ]
  },
  {
   "cell_type": "code",
   "execution_count": null,
   "metadata": {},
   "outputs": [],
   "source": []
  }
 ],
 "metadata": {
  "kernelspec": {
   "display_name": "pytorch",
   "language": "python",
   "name": "python3"
  },
  "language_info": {
   "codemirror_mode": {
    "name": "ipython",
    "version": 3
   },
   "file_extension": ".py",
   "mimetype": "text/x-python",
   "name": "python",
   "nbconvert_exporter": "python",
   "pygments_lexer": "ipython3",
   "version": "3.11.3"
  }
 },
 "nbformat": 4,
 "nbformat_minor": 2
}
