{
 "cells": [
  {
   "cell_type": "markdown",
   "metadata": {},
   "source": [
    "给你一个整数数组 cost ，其中 cost[i] 是从楼梯第 i 个台阶向上爬需要支付的费用。一旦你支付此费用，即可选择向上爬一个或者两个台阶。\n",
    "\n",
    "你可以选择从下标为 0 或下标为 1 的台阶开始爬楼梯。\n",
    "\n",
    "请你计算并返回达到楼梯顶部的最低花费。\n",
    "\n",
    "\n",
    "示例 1：\n",
    "\n",
    "输入：cost = [10,15,20] </br>\n",
    "输出：15 </br>\n",
    "解释：你将从下标为 1 的台阶开始。 </br>\n",
    "\n",
    "- 支付 15 ，向上爬两个台阶，到达楼梯顶部。\n",
    "\n",
    "总花费为 15 。 </br>\n",
    "\n",
    "示例 2：\n",
    "\n",
    "输入：cost = [1,100,1,1,1,100,1,1,100,1] </br>\n",
    "输出：6 </br>\n",
    "解释：你将从下标为 0 的台阶开始。 </br>\n",
    "\n",
    "- 支付 1 ，向上爬两个台阶，到达下标为 2 的台阶。\n",
    "- 支付 1 ，向上爬两个台阶，到达下标为 4 的台阶。\n",
    "- 支付 1 ，向上爬两个台阶，到达下标为 6 的台阶。\n",
    "- 支付 1 ，向上爬一个台阶，到达下标为 7 的台阶。\n",
    "- 支付 1 ，向上爬两个台阶，到达下标为 9 的台阶。\n",
    "- 支付 1 ，向上爬一个台阶，到达楼梯顶部。\n",
    "\n",
    "总花费为 6 。\n"
   ]
  },
  {
   "cell_type": "code",
   "execution_count": 1,
   "metadata": {},
   "outputs": [],
   "source": [
    "# 该算法的时间复杂度为 O(n),空间复杂度为 O(n),其中 n 是 cost 数组的长度。\n",
    "def minCostClimbingStairs(cost: list[int]) -> int:\n",
    "    # 从0开始爬\n",
    "    # 从1开始爬\n",
    "    dp = [cost[0], cost[1]]\n",
    "    # 从n开始计算是从n-1或者n-2开始爬划算\n",
    "    for i in range(2, len(cost)):\n",
    "        dp.append(cost[i] + min(dp[i - 1], dp[i - 2]))\n",
    "    return min(dp[-1], dp[-2])"
   ]
  },
  {
   "cell_type": "code",
   "execution_count": 2,
   "metadata": {},
   "outputs": [
    {
     "data": {
      "text/plain": [
       "15"
      ]
     },
     "execution_count": 2,
     "metadata": {},
     "output_type": "execute_result"
    }
   ],
   "source": [
    "minCostClimbingStairs([10, 15, 20])"
   ]
  },
  {
   "cell_type": "code",
   "execution_count": 3,
   "metadata": {},
   "outputs": [
    {
     "data": {
      "text/plain": [
       "6"
      ]
     },
     "execution_count": 3,
     "metadata": {},
     "output_type": "execute_result"
    }
   ],
   "source": [
    "minCostClimbingStairs([1,100,1,1,1,100,1,1,100,1])"
   ]
  },
  {
   "cell_type": "code",
   "execution_count": 4,
   "metadata": {},
   "outputs": [],
   "source": [
    "# 该算法的时间复杂度为 O(n),空间复杂度为 O(1)。\n",
    "def minCostClimbingStairs(cost):\n",
    "    n = len(cost)\n",
    "    prev2 = 0\n",
    "    prev1 = 0\n",
    "\n",
    "    for i in range(2, n + 1):\n",
    "        curr = min(prev1 + cost[i - 1], prev2 + cost[i - 2])\n",
    "        prev2 = prev1\n",
    "        prev1 = curr\n",
    "\n",
    "    return prev1"
   ]
  },
  {
   "cell_type": "code",
   "execution_count": 5,
   "metadata": {},
   "outputs": [
    {
     "data": {
      "text/plain": [
       "15"
      ]
     },
     "execution_count": 5,
     "metadata": {},
     "output_type": "execute_result"
    }
   ],
   "source": [
    "minCostClimbingStairs([10, 15, 20])"
   ]
  },
  {
   "cell_type": "code",
   "execution_count": 6,
   "metadata": {},
   "outputs": [
    {
     "data": {
      "text/plain": [
       "6"
      ]
     },
     "execution_count": 6,
     "metadata": {},
     "output_type": "execute_result"
    }
   ],
   "source": [
    "minCostClimbingStairs([1,100,1,1,1,100,1,1,100,1])"
   ]
  },
  {
   "cell_type": "code",
   "execution_count": null,
   "metadata": {},
   "outputs": [],
   "source": []
  }
 ],
 "metadata": {
  "kernelspec": {
   "display_name": "pytorch",
   "language": "python",
   "name": "python3"
  },
  "language_info": {
   "codemirror_mode": {
    "name": "ipython",
    "version": 3
   },
   "file_extension": ".py",
   "mimetype": "text/x-python",
   "name": "python",
   "nbconvert_exporter": "python",
   "pygments_lexer": "ipython3",
   "version": "3.11.3"
  }
 },
 "nbformat": 4,
 "nbformat_minor": 2
}
