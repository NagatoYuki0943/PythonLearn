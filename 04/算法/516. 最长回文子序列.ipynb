{
 "cells": [
  {
   "cell_type": "markdown",
   "metadata": {},
   "source": [
    "给你一个字符串 s ，找出其中最长的回文子序列，并返回该序列的长度。\n",
    "\n",
    "子序列定义为：不改变剩余字符顺序的情况下，删除某些字符或者不删除任何字符形成的一个序列。\n",
    "\n",
    "\n",
    "示例 1：\n",
    "\n",
    "输入：s = \"bbbab\" </br>\n",
    "输出：4 </br>\n",
    "解释：一个可能的最长回文子序列为 \"bbbb\" 。\n",
    "\n",
    "示例 2：\n",
    "\n",
    "输入：s = \"cbbd\" </br>\n",
    "输出：2 </br>\n",
    "解释：一个可能的最长回文子序列为 \"bb\" 。\n"
   ]
  },
  {
   "cell_type": "code",
   "execution_count": 20,
   "metadata": {},
   "outputs": [],
   "source": [
    "def longestPalindromeSubseq(s: str) -> int:\n",
    "    ..."
   ]
  },
  {
   "cell_type": "code",
   "execution_count": 21,
   "metadata": {},
   "outputs": [
    {
     "name": "stdout",
     "output_type": "stream",
     "text": [
      "[True, True, True, True, True]\n"
     ]
    }
   ],
   "source": [
    "s = \"bbbab\"\n",
    "longestPalindromeSubseq(s)"
   ]
  },
  {
   "cell_type": "code",
   "execution_count": 22,
   "metadata": {},
   "outputs": [
    {
     "name": "stdout",
     "output_type": "stream",
     "text": [
      "[True, True, True, True]\n"
     ]
    }
   ],
   "source": [
    "s = \"cbbd\"\n",
    "longestPalindromeSubseq(s)"
   ]
  },
  {
   "cell_type": "code",
   "execution_count": null,
   "metadata": {},
   "outputs": [],
   "source": []
  }
 ],
 "metadata": {
  "kernelspec": {
   "display_name": "pytorch",
   "language": "python",
   "name": "python3"
  },
  "language_info": {
   "codemirror_mode": {
    "name": "ipython",
    "version": 3
   },
   "file_extension": ".py",
   "mimetype": "text/x-python",
   "name": "python",
   "nbconvert_exporter": "python",
   "pygments_lexer": "ipython3",
   "version": "3.11.3"
  }
 },
 "nbformat": 4,
 "nbformat_minor": 2
}
